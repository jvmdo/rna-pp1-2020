{
 "cells": [
  {
   "cell_type": "code",
   "execution_count": 38,
   "metadata": {},
   "outputs": [],
   "source": [
    "import pandas as pd\n",
    "import seaborn as sbn\n",
    "import numpy as np\n",
    "from matplotlib import pyplot as plt"
   ]
  },
  {
   "cell_type": "markdown",
   "metadata": {},
   "source": [
    "#### Reading dataset"
   ]
  },
  {
   "cell_type": "code",
   "execution_count": 39,
   "metadata": {},
   "outputs": [],
   "source": [
    "df = pd.read_csv(\"dataset_covid_manaus.csv\", delimiter = ';', encoding = 'ISO-8859-1', low_memory=False)"
   ]
  },
  {
   "cell_type": "code",
   "execution_count": 40,
   "metadata": {},
   "outputs": [
    {
     "data": {
      "text/html": [
       "<div>\n",
       "<style scoped>\n",
       "    .dataframe tbody tr th:only-of-type {\n",
       "        vertical-align: middle;\n",
       "    }\n",
       "\n",
       "    .dataframe tbody tr th {\n",
       "        vertical-align: top;\n",
       "    }\n",
       "\n",
       "    .dataframe thead th {\n",
       "        text-align: right;\n",
       "    }\n",
       "</style>\n",
       "<table border=\"1\" class=\"dataframe\">\n",
       "  <thead>\n",
       "    <tr style=\"text-align: right;\">\n",
       "      <th></th>\n",
       "      <th>_idade</th>\n",
       "      <th>_faixa etária</th>\n",
       "      <th>_sexo</th>\n",
       "      <th>_bairro</th>\n",
       "      <th>_classificacao</th>\n",
       "      <th>_comorb_renal</th>\n",
       "      <th>_comorb_diabetes</th>\n",
       "      <th>_comorb_imuno</th>\n",
       "      <th>_comorb_cardio</th>\n",
       "      <th>_conclusao</th>\n",
       "      <th>...</th>\n",
       "      <th>_distrito</th>\n",
       "      <th>_bairro_mapa</th>\n",
       "      <th>_comorb_respiratoria</th>\n",
       "      <th>_comorb_cromossomica</th>\n",
       "      <th>_comorb_hepatica</th>\n",
       "      <th>_comorb_neurologica</th>\n",
       "      <th>_comorb_hemato</th>\n",
       "      <th>_comorb_obessidade</th>\n",
       "      <th>_origem</th>\n",
       "      <th>_evolução</th>\n",
       "    </tr>\n",
       "  </thead>\n",
       "  <tbody>\n",
       "    <tr>\n",
       "      <th>63698</th>\n",
       "      <td>49.0</td>\n",
       "      <td>40a - 49a</td>\n",
       "      <td>M</td>\n",
       "      <td>NOVO ALEIXO</td>\n",
       "      <td>Descartado</td>\n",
       "      <td>Não</td>\n",
       "      <td>Não</td>\n",
       "      <td>Não</td>\n",
       "      <td>Não</td>\n",
       "      <td>NaN</td>\n",
       "      <td>...</td>\n",
       "      <td>NORTE</td>\n",
       "      <td>NOVO ALEIXO</td>\n",
       "      <td>Não</td>\n",
       "      <td>Não</td>\n",
       "      <td>NaN</td>\n",
       "      <td>NaN</td>\n",
       "      <td>NaN</td>\n",
       "      <td>NaN</td>\n",
       "      <td>eSUS VE,</td>\n",
       "      <td>NaN</td>\n",
       "    </tr>\n",
       "    <tr>\n",
       "      <th>75840</th>\n",
       "      <td>60.0</td>\n",
       "      <td>60a - 69a</td>\n",
       "      <td>F</td>\n",
       "      <td>CENTRO</td>\n",
       "      <td>Descartado</td>\n",
       "      <td>Não</td>\n",
       "      <td>Não</td>\n",
       "      <td>Não</td>\n",
       "      <td>Não</td>\n",
       "      <td>Recuperado</td>\n",
       "      <td>...</td>\n",
       "      <td>SUL</td>\n",
       "      <td>CENTRO</td>\n",
       "      <td>Não</td>\n",
       "      <td>Não</td>\n",
       "      <td>NaN</td>\n",
       "      <td>NaN</td>\n",
       "      <td>NaN</td>\n",
       "      <td>NaN</td>\n",
       "      <td>eSUS VE,</td>\n",
       "      <td>NaN</td>\n",
       "    </tr>\n",
       "    <tr>\n",
       "      <th>53612</th>\n",
       "      <td>38.0</td>\n",
       "      <td>30a - 39a</td>\n",
       "      <td>F</td>\n",
       "      <td>CENTRO</td>\n",
       "      <td>Confirmado</td>\n",
       "      <td>Não</td>\n",
       "      <td>Não</td>\n",
       "      <td>Não</td>\n",
       "      <td>Não</td>\n",
       "      <td>NaN</td>\n",
       "      <td>...</td>\n",
       "      <td>SUL</td>\n",
       "      <td>CENTRO</td>\n",
       "      <td>Não</td>\n",
       "      <td>Não</td>\n",
       "      <td>NaN</td>\n",
       "      <td>NaN</td>\n",
       "      <td>NaN</td>\n",
       "      <td>NaN</td>\n",
       "      <td>eSUS VE,</td>\n",
       "      <td>NaN</td>\n",
       "    </tr>\n",
       "    <tr>\n",
       "      <th>23317</th>\n",
       "      <td>48.0</td>\n",
       "      <td>40a - 49a</td>\n",
       "      <td>F</td>\n",
       "      <td>CACHOEIRINHA</td>\n",
       "      <td>Descartado</td>\n",
       "      <td>Não</td>\n",
       "      <td>Não</td>\n",
       "      <td>Não</td>\n",
       "      <td>Não</td>\n",
       "      <td>Recuperado</td>\n",
       "      <td>...</td>\n",
       "      <td>SUL</td>\n",
       "      <td>CACHOEIRINHA</td>\n",
       "      <td>Não</td>\n",
       "      <td>Não</td>\n",
       "      <td>NaN</td>\n",
       "      <td>NaN</td>\n",
       "      <td>NaN</td>\n",
       "      <td>NaN</td>\n",
       "      <td>eSUS VE,</td>\n",
       "      <td>NaN</td>\n",
       "    </tr>\n",
       "    <tr>\n",
       "      <th>81427</th>\n",
       "      <td>36.0</td>\n",
       "      <td>30a - 39a</td>\n",
       "      <td>F</td>\n",
       "      <td>SAO JOSE I</td>\n",
       "      <td>Descartado</td>\n",
       "      <td>Não</td>\n",
       "      <td>Não</td>\n",
       "      <td>Não</td>\n",
       "      <td>Não</td>\n",
       "      <td>NaN</td>\n",
       "      <td>...</td>\n",
       "      <td>LESTE</td>\n",
       "      <td>SÃO JOSÉ OPERÁRIO</td>\n",
       "      <td>Não</td>\n",
       "      <td>Não</td>\n",
       "      <td>NaN</td>\n",
       "      <td>NaN</td>\n",
       "      <td>NaN</td>\n",
       "      <td>NaN</td>\n",
       "      <td>eSUS VE,</td>\n",
       "      <td>NaN</td>\n",
       "    </tr>\n",
       "    <tr>\n",
       "      <th>102603</th>\n",
       "      <td>71.0</td>\n",
       "      <td>70a - 79a</td>\n",
       "      <td>F</td>\n",
       "      <td>FLORES</td>\n",
       "      <td>Descartado</td>\n",
       "      <td>Não</td>\n",
       "      <td>Não</td>\n",
       "      <td>Não</td>\n",
       "      <td>Sim</td>\n",
       "      <td>Recuperado</td>\n",
       "      <td>...</td>\n",
       "      <td>SUL</td>\n",
       "      <td>FLORES</td>\n",
       "      <td>Sim</td>\n",
       "      <td>Não</td>\n",
       "      <td>Não</td>\n",
       "      <td>Não</td>\n",
       "      <td>Não</td>\n",
       "      <td>Não</td>\n",
       "      <td>SIVEP,</td>\n",
       "      <td>Internado em UTI</td>\n",
       "    </tr>\n",
       "    <tr>\n",
       "      <th>16841</th>\n",
       "      <td>42.0</td>\n",
       "      <td>40a - 49a</td>\n",
       "      <td>M</td>\n",
       "      <td>PARQUE 10 DE NOVEMBRO</td>\n",
       "      <td>Descartado</td>\n",
       "      <td>Não</td>\n",
       "      <td>Não</td>\n",
       "      <td>Não</td>\n",
       "      <td>Sim</td>\n",
       "      <td>Recuperado</td>\n",
       "      <td>...</td>\n",
       "      <td>SUL</td>\n",
       "      <td>PARQUE 10 DE NOVEMBRO</td>\n",
       "      <td>Não</td>\n",
       "      <td>Não</td>\n",
       "      <td>NaN</td>\n",
       "      <td>NaN</td>\n",
       "      <td>NaN</td>\n",
       "      <td>NaN</td>\n",
       "      <td>eSUS VE,</td>\n",
       "      <td>NaN</td>\n",
       "    </tr>\n",
       "    <tr>\n",
       "      <th>44544</th>\n",
       "      <td>42.0</td>\n",
       "      <td>40a - 49a</td>\n",
       "      <td>F</td>\n",
       "      <td>PQ  DE NOVEMBRO</td>\n",
       "      <td>Em análise</td>\n",
       "      <td>Não</td>\n",
       "      <td>Não</td>\n",
       "      <td>Não</td>\n",
       "      <td>Não</td>\n",
       "      <td>Recuperado</td>\n",
       "      <td>...</td>\n",
       "      <td>SUL</td>\n",
       "      <td>PARQUE 10 DE NOVEMBRO</td>\n",
       "      <td>Não</td>\n",
       "      <td>Não</td>\n",
       "      <td>NaN</td>\n",
       "      <td>NaN</td>\n",
       "      <td>NaN</td>\n",
       "      <td>NaN</td>\n",
       "      <td>eSUS VE,</td>\n",
       "      <td>NaN</td>\n",
       "    </tr>\n",
       "    <tr>\n",
       "      <th>47114</th>\n",
       "      <td>32.0</td>\n",
       "      <td>30a - 39a</td>\n",
       "      <td>F</td>\n",
       "      <td>S JORGE</td>\n",
       "      <td>Confirmado</td>\n",
       "      <td>Não</td>\n",
       "      <td>Não</td>\n",
       "      <td>Não</td>\n",
       "      <td>Não</td>\n",
       "      <td>NaN</td>\n",
       "      <td>...</td>\n",
       "      <td>OESTE</td>\n",
       "      <td>SÃO JORGE</td>\n",
       "      <td>Não</td>\n",
       "      <td>Não</td>\n",
       "      <td>NaN</td>\n",
       "      <td>NaN</td>\n",
       "      <td>NaN</td>\n",
       "      <td>NaN</td>\n",
       "      <td>eSUS VE,</td>\n",
       "      <td>NaN</td>\n",
       "    </tr>\n",
       "    <tr>\n",
       "      <th>77033</th>\n",
       "      <td>25.0</td>\n",
       "      <td>20a - 29a</td>\n",
       "      <td>M</td>\n",
       "      <td>MAUAZINHO</td>\n",
       "      <td>Em análise</td>\n",
       "      <td>Não</td>\n",
       "      <td>Não</td>\n",
       "      <td>Não</td>\n",
       "      <td>Não</td>\n",
       "      <td>Recuperado</td>\n",
       "      <td>...</td>\n",
       "      <td>LESTE</td>\n",
       "      <td>MAUAZINHO</td>\n",
       "      <td>Não</td>\n",
       "      <td>Não</td>\n",
       "      <td>NaN</td>\n",
       "      <td>NaN</td>\n",
       "      <td>NaN</td>\n",
       "      <td>NaN</td>\n",
       "      <td>eSUS VE,</td>\n",
       "      <td>NaN</td>\n",
       "    </tr>\n",
       "  </tbody>\n",
       "</table>\n",
       "<p>10 rows × 36 columns</p>\n",
       "</div>"
      ],
      "text/plain": [
       "        _idade _faixa etária _sexo                _bairro _classificacao  \\\n",
       "63698     49.0     40a - 49a     M            NOVO ALEIXO     Descartado   \n",
       "75840     60.0     60a - 69a     F                 CENTRO     Descartado   \n",
       "53612     38.0     30a - 39a     F                 CENTRO     Confirmado   \n",
       "23317     48.0     40a - 49a     F           CACHOEIRINHA     Descartado   \n",
       "81427     36.0     30a - 39a     F             SAO JOSE I     Descartado   \n",
       "102603    71.0     70a - 79a     F                 FLORES     Descartado   \n",
       "16841     42.0     40a - 49a     M  PARQUE 10 DE NOVEMBRO     Descartado   \n",
       "44544     42.0     40a - 49a     F        PQ  DE NOVEMBRO     Em análise   \n",
       "47114     32.0     30a - 39a     F                S JORGE     Confirmado   \n",
       "77033     25.0     20a - 29a     M              MAUAZINHO     Em análise   \n",
       "\n",
       "       _comorb_renal _comorb_diabetes _comorb_imuno _comorb_cardio  \\\n",
       "63698            Não              Não           Não            Não   \n",
       "75840            Não              Não           Não            Não   \n",
       "53612            Não              Não           Não            Não   \n",
       "23317            Não              Não           Não            Não   \n",
       "81427            Não              Não           Não            Não   \n",
       "102603           Não              Não           Não            Sim   \n",
       "16841            Não              Não           Não            Sim   \n",
       "44544            Não              Não           Não            Não   \n",
       "47114            Não              Não           Não            Não   \n",
       "77033            Não              Não           Não            Não   \n",
       "\n",
       "        _conclusao  ... _distrito           _bairro_mapa _comorb_respiratoria  \\\n",
       "63698          NaN  ...     NORTE            NOVO ALEIXO                  Não   \n",
       "75840   Recuperado  ...       SUL                 CENTRO                  Não   \n",
       "53612          NaN  ...       SUL                 CENTRO                  Não   \n",
       "23317   Recuperado  ...       SUL           CACHOEIRINHA                  Não   \n",
       "81427          NaN  ...     LESTE      SÃO JOSÉ OPERÁRIO                  Não   \n",
       "102603  Recuperado  ...       SUL                 FLORES                  Sim   \n",
       "16841   Recuperado  ...       SUL  PARQUE 10 DE NOVEMBRO                  Não   \n",
       "44544   Recuperado  ...       SUL  PARQUE 10 DE NOVEMBRO                  Não   \n",
       "47114          NaN  ...     OESTE              SÃO JORGE                  Não   \n",
       "77033   Recuperado  ...     LESTE              MAUAZINHO                  Não   \n",
       "\n",
       "       _comorb_cromossomica _comorb_hepatica _comorb_neurologica  \\\n",
       "63698                   Não              NaN                 NaN   \n",
       "75840                   Não              NaN                 NaN   \n",
       "53612                   Não              NaN                 NaN   \n",
       "23317                   Não              NaN                 NaN   \n",
       "81427                   Não              NaN                 NaN   \n",
       "102603                  Não              Não                 Não   \n",
       "16841                   Não              NaN                 NaN   \n",
       "44544                   Não              NaN                 NaN   \n",
       "47114                   Não              NaN                 NaN   \n",
       "77033                   Não              NaN                 NaN   \n",
       "\n",
       "       _comorb_hemato _comorb_obessidade    _origem         _evolução  \n",
       "63698             NaN                NaN  eSUS VE,                NaN  \n",
       "75840             NaN                NaN  eSUS VE,                NaN  \n",
       "53612             NaN                NaN  eSUS VE,                NaN  \n",
       "23317             NaN                NaN  eSUS VE,                NaN  \n",
       "81427             NaN                NaN  eSUS VE,                NaN  \n",
       "102603            Não                Não    SIVEP,   Internado em UTI  \n",
       "16841             NaN                NaN  eSUS VE,                NaN  \n",
       "44544             NaN                NaN  eSUS VE,                NaN  \n",
       "47114             NaN                NaN  eSUS VE,                NaN  \n",
       "77033             NaN                NaN  eSUS VE,                NaN  \n",
       "\n",
       "[10 rows x 36 columns]"
      ]
     },
     "execution_count": 40,
     "metadata": {},
     "output_type": "execute_result"
    }
   ],
   "source": [
    "df.sample(10)"
   ]
  },
  {
   "cell_type": "markdown",
   "metadata": {},
   "source": [
    "#### 2.1.1 How many attributes per row? Which are its names?"
   ]
  },
  {
   "cell_type": "code",
   "execution_count": 41,
   "metadata": {},
   "outputs": [
    {
     "data": {
      "text/plain": [
       "Index(['_idade', '_faixa etária', '_sexo', '_bairro', '_classificacao',\n",
       "       '_comorb_renal', '_comorb_diabetes', '_comorb_imuno', '_comorb_cardio',\n",
       "       '_conclusao', '_dt_notificacao', '_taxa', '_dt_evolucao', '_raca',\n",
       "       '_dt_sintomas', '_criterio', '_tipo_teste', '_sintoma_garganta',\n",
       "       '_sintoma_dispneia', '_sintoma_febre', '_sintoma_tosse',\n",
       "       '_sintoma_outros', '_etnia', '_profiss_saude', '_srag',\n",
       "       '_se_notificacao', '_distrito', '_bairro_mapa', '_comorb_respiratoria',\n",
       "       '_comorb_cromossomica', '_comorb_hepatica', '_comorb_neurologica',\n",
       "       '_comorb_hemato', '_comorb_obessidade', '_origem', '_evolução'],\n",
       "      dtype='object')"
      ]
     },
     "execution_count": 41,
     "metadata": {},
     "output_type": "execute_result"
    }
   ],
   "source": [
    "df.columns"
   ]
  },
  {
   "cell_type": "code",
   "execution_count": 42,
   "metadata": {},
   "outputs": [
    {
     "name": "stdout",
     "output_type": "stream",
     "text": [
      "36\n"
     ]
    }
   ],
   "source": [
    "print(len(df.columns))"
   ]
  },
  {
   "cell_type": "markdown",
   "metadata": {},
   "source": [
    "#### 2.1.2 How many confirmed cases are show in the table?"
   ]
  },
  {
   "cell_type": "code",
   "execution_count": 43,
   "metadata": {},
   "outputs": [
    {
     "data": {
      "text/plain": [
       "36947"
      ]
     },
     "execution_count": 43,
     "metadata": {},
     "output_type": "execute_result"
    }
   ],
   "source": [
    "df[df._classificacao == 'Confirmado'].shape[0]"
   ]
  },
  {
   "cell_type": "markdown",
   "metadata": {},
   "source": [
    "#### 2.1.3 What is the oldest case. And the newest?"
   ]
  },
  {
   "cell_type": "code",
   "execution_count": 44,
   "metadata": {},
   "outputs": [
    {
     "data": {
      "text/plain": [
       "0         04/05/2020\n",
       "1         01/05/2020\n",
       "2         04/05/2020\n",
       "3         04/05/2020\n",
       "4         04/05/2020\n",
       "             ...    \n",
       "108346    01/06/2020\n",
       "108347    25/05/2020\n",
       "108348    04/05/2020\n",
       "108349    05/06/2020\n",
       "108350    03/04/2020\n",
       "Name: _dt_notificacao, Length: 108351, dtype: object"
      ]
     },
     "execution_count": 44,
     "metadata": {},
     "output_type": "execute_result"
    }
   ],
   "source": [
    "df['_dt_notificacao']"
   ]
  },
  {
   "cell_type": "code",
   "execution_count": 45,
   "metadata": {},
   "outputs": [],
   "source": [
    "sorted_dates = np.array(df['_dt_notificacao'].sort_values(na_position='first'))"
   ]
  },
  {
   "cell_type": "code",
   "execution_count": 46,
   "metadata": {},
   "outputs": [],
   "source": [
    "sorted_dates_no_nan = np.array([e for e in sorted_dates if pd.isnull(e) is False])"
   ]
  },
  {
   "cell_type": "code",
   "execution_count": 47,
   "metadata": {},
   "outputs": [
    {
     "data": {
      "text/plain": [
       "'01/03/2020'"
      ]
     },
     "execution_count": 47,
     "metadata": {},
     "output_type": "execute_result"
    }
   ],
   "source": [
    "sorted_dates_no_nan[0]"
   ]
  },
  {
   "cell_type": "code",
   "execution_count": 48,
   "metadata": {},
   "outputs": [
    {
     "data": {
      "text/plain": [
       "'31/07/2020'"
      ]
     },
     "execution_count": 48,
     "metadata": {},
     "output_type": "execute_result"
    }
   ],
   "source": [
    "sorted_dates_no_nan[len(sorted_dates_no_nan)-1]"
   ]
  },
  {
   "cell_type": "markdown",
   "metadata": {},
   "source": [
    "#### Deleting rows and columns which are not useful for our purposes"
   ]
  },
  {
   "cell_type": "code",
   "execution_count": 49,
   "metadata": {},
   "outputs": [],
   "source": [
    "attributes_we_want = ['_idade', '_sexo', '_bairro', '_classificacao', '_dt_notificacao', '_tipo_teste', '_conclusao']"
   ]
  },
  {
   "cell_type": "code",
   "execution_count": 50,
   "metadata": {
    "scrolled": true
   },
   "outputs": [
    {
     "name": "stdout",
     "output_type": "stream",
     "text": [
      "['_faixa etária', '_comorb_renal', '_comorb_diabetes', '_comorb_imuno', '_comorb_cardio', '_taxa', '_dt_evolucao', '_raca', '_dt_sintomas', '_criterio', '_sintoma_garganta', '_sintoma_dispneia', '_sintoma_febre', '_sintoma_tosse', '_sintoma_outros', '_etnia', '_profiss_saude', '_srag', '_se_notificacao', '_distrito', '_bairro_mapa', '_comorb_respiratoria', '_comorb_cromossomica', '_comorb_hepatica', '_comorb_neurologica', '_comorb_hemato', '_comorb_obessidade', '_origem', '_evolução']\n"
     ]
    }
   ],
   "source": [
    "supp = []\n",
    "\n",
    "for a in list(df.columns):\n",
    "    if a in attributes_we_want:\n",
    "        continue\n",
    "    else:\n",
    "        supp.append(a)\n",
    "        \n",
    "print(supp)"
   ]
  },
  {
   "cell_type": "code",
   "execution_count": 51,
   "metadata": {},
   "outputs": [],
   "source": [
    "clean_df = df.drop(['_faixa etária', '_comorb_renal', '_comorb_diabetes', '_comorb_imuno', '_comorb_cardio', '_taxa', '_dt_evolucao', '_raca', '_dt_sintomas', '_criterio', '_sintoma_garganta', '_sintoma_dispneia', '_sintoma_febre', '_sintoma_tosse', '_sintoma_outros', '_etnia', '_profiss_saude', '_srag', '_se_notificacao', '_distrito', '_bairro_mapa', '_comorb_respiratoria', '_comorb_cromossomica', '_comorb_hepatica', '_comorb_neurologica', '_comorb_hemato', '_comorb_obessidade', '_origem', '_evolução'], axis=1)"
   ]
  },
  {
   "cell_type": "code",
   "execution_count": 52,
   "metadata": {},
   "outputs": [
    {
     "data": {
      "text/html": [
       "<div>\n",
       "<style scoped>\n",
       "    .dataframe tbody tr th:only-of-type {\n",
       "        vertical-align: middle;\n",
       "    }\n",
       "\n",
       "    .dataframe tbody tr th {\n",
       "        vertical-align: top;\n",
       "    }\n",
       "\n",
       "    .dataframe thead th {\n",
       "        text-align: right;\n",
       "    }\n",
       "</style>\n",
       "<table border=\"1\" class=\"dataframe\">\n",
       "  <thead>\n",
       "    <tr style=\"text-align: right;\">\n",
       "      <th></th>\n",
       "      <th>_idade</th>\n",
       "      <th>_sexo</th>\n",
       "      <th>_bairro</th>\n",
       "      <th>_classificacao</th>\n",
       "      <th>_conclusao</th>\n",
       "      <th>_dt_notificacao</th>\n",
       "      <th>_tipo_teste</th>\n",
       "    </tr>\n",
       "  </thead>\n",
       "  <tbody>\n",
       "    <tr>\n",
       "      <th>0</th>\n",
       "      <td>37.0</td>\n",
       "      <td>F</td>\n",
       "      <td>CONJ. CIDADAO 10</td>\n",
       "      <td>Confirmado</td>\n",
       "      <td>NaN</td>\n",
       "      <td>04/05/2020</td>\n",
       "      <td>TESTE RÁPIDO - ANTÍGENO</td>\n",
       "    </tr>\n",
       "    <tr>\n",
       "      <th>1</th>\n",
       "      <td>46.0</td>\n",
       "      <td>F</td>\n",
       "      <td>MORADA DO SOL</td>\n",
       "      <td>Descartado</td>\n",
       "      <td>Recuperado</td>\n",
       "      <td>01/05/2020</td>\n",
       "      <td>TESTE RÁPIDO - ANTÍGENO</td>\n",
       "    </tr>\n",
       "    <tr>\n",
       "      <th>2</th>\n",
       "      <td>51.0</td>\n",
       "      <td>F</td>\n",
       "      <td>NaN</td>\n",
       "      <td>Confirmado</td>\n",
       "      <td>NaN</td>\n",
       "      <td>04/05/2020</td>\n",
       "      <td>TESTE RÁPIDO - ANTICORPO</td>\n",
       "    </tr>\n",
       "    <tr>\n",
       "      <th>3</th>\n",
       "      <td>74.0</td>\n",
       "      <td>M</td>\n",
       "      <td>NaN</td>\n",
       "      <td>Confirmado</td>\n",
       "      <td>NaN</td>\n",
       "      <td>04/05/2020</td>\n",
       "      <td>TESTE RÁPIDO - ANTICORPO</td>\n",
       "    </tr>\n",
       "    <tr>\n",
       "      <th>4</th>\n",
       "      <td>51.0</td>\n",
       "      <td>F</td>\n",
       "      <td>ALEIXO</td>\n",
       "      <td>Confirmado</td>\n",
       "      <td>NaN</td>\n",
       "      <td>04/05/2020</td>\n",
       "      <td>TESTE RÁPIDO - ANTICORPO</td>\n",
       "    </tr>\n",
       "  </tbody>\n",
       "</table>\n",
       "</div>"
      ],
      "text/plain": [
       "   _idade _sexo           _bairro _classificacao  _conclusao _dt_notificacao  \\\n",
       "0    37.0     F  CONJ. CIDADAO 10     Confirmado         NaN      04/05/2020   \n",
       "1    46.0     F     MORADA DO SOL     Descartado  Recuperado      01/05/2020   \n",
       "2    51.0     F               NaN     Confirmado         NaN      04/05/2020   \n",
       "3    74.0     M               NaN     Confirmado         NaN      04/05/2020   \n",
       "4    51.0     F            ALEIXO     Confirmado         NaN      04/05/2020   \n",
       "\n",
       "                _tipo_teste  \n",
       "0   TESTE RÁPIDO - ANTÍGENO  \n",
       "1   TESTE RÁPIDO - ANTÍGENO  \n",
       "2  TESTE RÁPIDO - ANTICORPO  \n",
       "3  TESTE RÁPIDO - ANTICORPO  \n",
       "4  TESTE RÁPIDO - ANTICORPO  "
      ]
     },
     "execution_count": 52,
     "metadata": {},
     "output_type": "execute_result"
    }
   ],
   "source": [
    "clean_df.head()"
   ]
  },
  {
   "cell_type": "code",
   "execution_count": 53,
   "metadata": {},
   "outputs": [],
   "source": [
    "clean_df = clean_df.dropna()"
   ]
  },
  {
   "cell_type": "code",
   "execution_count": 54,
   "metadata": {},
   "outputs": [
    {
     "data": {
      "text/html": [
       "<div>\n",
       "<style scoped>\n",
       "    .dataframe tbody tr th:only-of-type {\n",
       "        vertical-align: middle;\n",
       "    }\n",
       "\n",
       "    .dataframe tbody tr th {\n",
       "        vertical-align: top;\n",
       "    }\n",
       "\n",
       "    .dataframe thead th {\n",
       "        text-align: right;\n",
       "    }\n",
       "</style>\n",
       "<table border=\"1\" class=\"dataframe\">\n",
       "  <thead>\n",
       "    <tr style=\"text-align: right;\">\n",
       "      <th></th>\n",
       "      <th>_idade</th>\n",
       "      <th>_sexo</th>\n",
       "      <th>_bairro</th>\n",
       "      <th>_classificacao</th>\n",
       "      <th>_conclusao</th>\n",
       "      <th>_dt_notificacao</th>\n",
       "      <th>_tipo_teste</th>\n",
       "    </tr>\n",
       "  </thead>\n",
       "  <tbody>\n",
       "    <tr>\n",
       "      <th>1</th>\n",
       "      <td>46.0</td>\n",
       "      <td>F</td>\n",
       "      <td>MORADA DO SOL</td>\n",
       "      <td>Descartado</td>\n",
       "      <td>Recuperado</td>\n",
       "      <td>01/05/2020</td>\n",
       "      <td>TESTE RÁPIDO - ANTÍGENO</td>\n",
       "    </tr>\n",
       "    <tr>\n",
       "      <th>10</th>\n",
       "      <td>40.0</td>\n",
       "      <td>F</td>\n",
       "      <td>BETHANIA</td>\n",
       "      <td>Descartado</td>\n",
       "      <td>Recuperado</td>\n",
       "      <td>03/05/2020</td>\n",
       "      <td>TESTE RÁPIDO - ANTICORPO</td>\n",
       "    </tr>\n",
       "    <tr>\n",
       "      <th>14</th>\n",
       "      <td>35.0</td>\n",
       "      <td>F</td>\n",
       "      <td>CACHOEIRINHA</td>\n",
       "      <td>Descartado</td>\n",
       "      <td>Recuperado</td>\n",
       "      <td>03/05/2020</td>\n",
       "      <td>TESTE RÁPIDO - ANTICORPO</td>\n",
       "    </tr>\n",
       "    <tr>\n",
       "      <th>36</th>\n",
       "      <td>43.0</td>\n",
       "      <td>M</td>\n",
       "      <td>CHAPADA</td>\n",
       "      <td>Descartado</td>\n",
       "      <td>Recuperado</td>\n",
       "      <td>03/05/2020</td>\n",
       "      <td>RT-PCR</td>\n",
       "    </tr>\n",
       "    <tr>\n",
       "      <th>67</th>\n",
       "      <td>44.0</td>\n",
       "      <td>M</td>\n",
       "      <td>CHAPADA</td>\n",
       "      <td>Descartado</td>\n",
       "      <td>Recuperado</td>\n",
       "      <td>03/05/2020</td>\n",
       "      <td>TESTE RÁPIDO - ANTICORPO</td>\n",
       "    </tr>\n",
       "    <tr>\n",
       "      <th>...</th>\n",
       "      <td>...</td>\n",
       "      <td>...</td>\n",
       "      <td>...</td>\n",
       "      <td>...</td>\n",
       "      <td>...</td>\n",
       "      <td>...</td>\n",
       "      <td>...</td>\n",
       "    </tr>\n",
       "    <tr>\n",
       "      <th>108341</th>\n",
       "      <td>14.0</td>\n",
       "      <td>F</td>\n",
       "      <td>DA PAZ</td>\n",
       "      <td>Confirmado</td>\n",
       "      <td>Recuperado</td>\n",
       "      <td>25/06/2020</td>\n",
       "      <td>TESTE RÁPIDO - ANTÍGENO</td>\n",
       "    </tr>\n",
       "    <tr>\n",
       "      <th>108344</th>\n",
       "      <td>81.0</td>\n",
       "      <td>M</td>\n",
       "      <td>SANTA LUZIA</td>\n",
       "      <td>Descartado</td>\n",
       "      <td>Óbito</td>\n",
       "      <td>09/05/2020</td>\n",
       "      <td>RT-PCR</td>\n",
       "    </tr>\n",
       "    <tr>\n",
       "      <th>108346</th>\n",
       "      <td>68.0</td>\n",
       "      <td>M</td>\n",
       "      <td>JORGE TEIXEIRA</td>\n",
       "      <td>Confirmado</td>\n",
       "      <td>Recuperado</td>\n",
       "      <td>01/06/2020</td>\n",
       "      <td>RT-PCR</td>\n",
       "    </tr>\n",
       "    <tr>\n",
       "      <th>108349</th>\n",
       "      <td>45.0</td>\n",
       "      <td>F</td>\n",
       "      <td>TARUMA</td>\n",
       "      <td>Confirmado</td>\n",
       "      <td>Recuperado</td>\n",
       "      <td>05/06/2020</td>\n",
       "      <td>TESTE RÁPIDO - ANTICORPO</td>\n",
       "    </tr>\n",
       "    <tr>\n",
       "      <th>108350</th>\n",
       "      <td>68.0</td>\n",
       "      <td>M</td>\n",
       "      <td>NOVA ESPERANCA</td>\n",
       "      <td>Descartado</td>\n",
       "      <td>Recuperado</td>\n",
       "      <td>03/04/2020</td>\n",
       "      <td>RT-PCR</td>\n",
       "    </tr>\n",
       "  </tbody>\n",
       "</table>\n",
       "<p>33925 rows × 7 columns</p>\n",
       "</div>"
      ],
      "text/plain": [
       "        _idade _sexo         _bairro _classificacao  _conclusao  \\\n",
       "1         46.0     F   MORADA DO SOL     Descartado  Recuperado   \n",
       "10        40.0     F        BETHANIA     Descartado  Recuperado   \n",
       "14        35.0     F    CACHOEIRINHA     Descartado  Recuperado   \n",
       "36        43.0     M         CHAPADA     Descartado  Recuperado   \n",
       "67        44.0     M         CHAPADA     Descartado  Recuperado   \n",
       "...        ...   ...             ...            ...         ...   \n",
       "108341    14.0     F          DA PAZ     Confirmado  Recuperado   \n",
       "108344    81.0     M     SANTA LUZIA     Descartado       Óbito   \n",
       "108346    68.0     M  JORGE TEIXEIRA     Confirmado  Recuperado   \n",
       "108349    45.0     F          TARUMA     Confirmado  Recuperado   \n",
       "108350    68.0     M  NOVA ESPERANCA     Descartado  Recuperado   \n",
       "\n",
       "       _dt_notificacao               _tipo_teste  \n",
       "1           01/05/2020   TESTE RÁPIDO - ANTÍGENO  \n",
       "10          03/05/2020  TESTE RÁPIDO - ANTICORPO  \n",
       "14          03/05/2020  TESTE RÁPIDO - ANTICORPO  \n",
       "36          03/05/2020                    RT-PCR  \n",
       "67          03/05/2020  TESTE RÁPIDO - ANTICORPO  \n",
       "...                ...                       ...  \n",
       "108341      25/06/2020   TESTE RÁPIDO - ANTÍGENO  \n",
       "108344      09/05/2020                    RT-PCR  \n",
       "108346      01/06/2020                    RT-PCR  \n",
       "108349      05/06/2020  TESTE RÁPIDO - ANTICORPO  \n",
       "108350      03/04/2020                    RT-PCR  \n",
       "\n",
       "[33925 rows x 7 columns]"
      ]
     },
     "execution_count": 54,
     "metadata": {},
     "output_type": "execute_result"
    }
   ],
   "source": [
    "clean_df"
   ]
  },
  {
   "cell_type": "markdown",
   "metadata": {},
   "source": [
    "#### 2.1.1 How many rows and columns last after cleaning?"
   ]
  },
  {
   "cell_type": "code",
   "execution_count": 55,
   "metadata": {},
   "outputs": [
    {
     "data": {
      "text/plain": [
       "(33925, 7)"
      ]
     },
     "execution_count": 55,
     "metadata": {},
     "output_type": "execute_result"
    }
   ],
   "source": [
    "clean_df.shape"
   ]
  },
  {
   "cell_type": "markdown",
   "metadata": {},
   "source": [
    "#### 2.1.2 How many recovered people in percentage?"
   ]
  },
  {
   "cell_type": "code",
   "execution_count": 56,
   "metadata": {},
   "outputs": [
    {
     "name": "stdout",
     "output_type": "stream",
     "text": [
      "99.94104642593958\n"
     ]
    }
   ],
   "source": [
    "rec_series = clean_df[clean_df._conclusao == 'Recuperado']\n",
    "rec = len(rec_series)\n",
    "total = 33925\n",
    "ans = rec/total * 100.0\n",
    "print(ans)"
   ]
  },
  {
   "cell_type": "markdown",
   "metadata": {},
   "source": [
    "#### 2.1.3 Which genre had most confirmed cases?"
   ]
  },
  {
   "cell_type": "code",
   "execution_count": 57,
   "metadata": {},
   "outputs": [
    {
     "name": "stdout",
     "output_type": "stream",
     "text": [
      "Female cases: 3645\n",
      "Male cases: 2777\n"
     ]
    }
   ],
   "source": [
    "conf_cases = clean_df[clean_df._classificacao == 'Confirmado']\n",
    "\n",
    "male = conf_cases[conf_cases._sexo == 'M']\n",
    "fale = conf_cases[conf_cases._sexo == 'F']\n",
    "\n",
    "print(f\"Female cases: {len(fale)}\")\n",
    "print(f\"Male cases: {len(male)}\")"
   ]
  },
  {
   "cell_type": "markdown",
   "metadata": {},
   "source": [
    "#### 2.1.4 What is the youngest and oldest person who had a confirmed case? What is the mean and standard deviation of all confirmed cases?"
   ]
  },
  {
   "cell_type": "code",
   "execution_count": 58,
   "metadata": {},
   "outputs": [
    {
     "name": "stdout",
     "output_type": "stream",
     "text": [
      "Yougest: 0.0\n",
      "Oldest: 99.0\n"
     ]
    }
   ],
   "source": [
    "ages = np.sort(conf_cases._idade)\n",
    "print(f\"Yougest: {ages[0]}\")\n",
    "print(f\"Oldest: {ages[len(ages)-1]}\")"
   ]
  },
  {
   "cell_type": "code",
   "execution_count": 59,
   "metadata": {},
   "outputs": [
    {
     "name": "stdout",
     "output_type": "stream",
     "text": [
      "Mean: 41.433821239489255\n"
     ]
    }
   ],
   "source": [
    "print(f\"Mean: {np.mean(ages)}\")"
   ]
  },
  {
   "cell_type": "code",
   "execution_count": 60,
   "metadata": {},
   "outputs": [
    {
     "name": "stdout",
     "output_type": "stream",
     "text": [
      "Std: 14.155360848072508\n"
     ]
    }
   ],
   "source": [
    "print(f\"Std: {np.std(ages)}\")"
   ]
  },
  {
   "cell_type": "markdown",
   "metadata": {},
   "source": [
    "#### 2.1.5 Which neighbourhood had more confirmed cases?"
   ]
  },
  {
   "cell_type": "code",
   "execution_count": 61,
   "metadata": {},
   "outputs": [],
   "source": [
    "neigh_cases = conf_cases.groupby('_bairro')['_classificacao'].count()"
   ]
  },
  {
   "cell_type": "code",
   "execution_count": 62,
   "metadata": {},
   "outputs": [
    {
     "data": {
      "text/plain": [
       "_bairro\n",
       "CIDADE NOVA            301\n",
       "FLORES                 266\n",
       "TARUMA                 225\n",
       "PETROPOLIS             193\n",
       "ALEIXO                 172\n",
       "                      ... \n",
       "PAQUE 10                 1\n",
       "PAR DAS LARANJEIRA       1\n",
       "PARQ. DEZ DE NOVEMB      1\n",
       "PARQ. LARANJEIRAS        1\n",
       "ADRIANOPOLES             1\n",
       "Name: _classificacao, Length: 506, dtype: int64"
      ]
     },
     "execution_count": 62,
     "metadata": {},
     "output_type": "execute_result"
    }
   ],
   "source": [
    "neigh_cases.sort_values(ascending=False)"
   ]
  },
  {
   "cell_type": "markdown",
   "metadata": {},
   "source": [
    "#### 2.1.6 Which are top 3 neibourhood that had more recovered cases?"
   ]
  },
  {
   "cell_type": "code",
   "execution_count": 63,
   "metadata": {},
   "outputs": [],
   "source": [
    "neigh_cases_rec = conf_cases.groupby(['_bairro', '_conclusao'])['_classificacao'].count()"
   ]
  },
  {
   "cell_type": "code",
   "execution_count": 64,
   "metadata": {},
   "outputs": [
    {
     "data": {
      "text/plain": [
       "_bairro              _conclusao\n",
       "CIDADE NOVA          Recuperado    301\n",
       "FLORES               Recuperado    266\n",
       "TARUMA               Recuperado    225\n",
       "PETROPOLIS           Recuperado    192\n",
       "ALEIXO               Recuperado    171\n",
       "                                  ... \n",
       "PAQUE 10             Recuperado      1\n",
       "PAR DAS LARANJEIRA   Recuperado      1\n",
       "PARQ. DEZ DE NOVEMB  Recuperado      1\n",
       "PARQ. LARANJEIRAS    Recuperado      1\n",
       "ADRIANOPOLES         Recuperado      1\n",
       "Name: _classificacao, Length: 516, dtype: int64"
      ]
     },
     "execution_count": 64,
     "metadata": {},
     "output_type": "execute_result"
    }
   ],
   "source": [
    "neigh_cases_rec.sort_values(ascending=False)"
   ]
  },
  {
   "cell_type": "markdown",
   "metadata": {},
   "source": [
    "#### 2.1.7 What is the test applied types by name? Display the absolute and percetage values."
   ]
  },
  {
   "cell_type": "code",
   "execution_count": 65,
   "metadata": {},
   "outputs": [],
   "source": [
    "test_types = clean_df.groupby('_tipo_teste')['_tipo_teste'].count()"
   ]
  },
  {
   "cell_type": "code",
   "execution_count": 66,
   "metadata": {},
   "outputs": [
    {
     "data": {
      "text/plain": [
       "_tipo_teste\n",
       "ECLIA IgG                      11\n",
       "ELISA IgM                      27\n",
       "RT-PCR                       4720\n",
       "TESTE RÁPIDO - ANTICORPO    24756\n",
       "TESTE RÁPIDO - ANTÍGENO      4411\n",
       "Name: _tipo_teste, dtype: int64"
      ]
     },
     "execution_count": 66,
     "metadata": {},
     "output_type": "execute_result"
    }
   ],
   "source": [
    "test_types"
   ]
  },
  {
   "cell_type": "code",
   "execution_count": 67,
   "metadata": {},
   "outputs": [],
   "source": [
    "total_tests = np.sum(test_types)\n",
    "test_name = ['ECLIA IgG', 'ELISA IgM', 'RT-PCR', 'TESTE RÁPIDO - ANTICORPO', 'TESTE RÁPIDO - ANTÍGENO']"
   ]
  },
  {
   "cell_type": "code",
   "execution_count": 68,
   "metadata": {},
   "outputs": [],
   "source": [
    "perc_test = [(t/total_tests * 100) for t in test_types]"
   ]
  },
  {
   "cell_type": "code",
   "execution_count": 69,
   "metadata": {},
   "outputs": [],
   "source": [
    "arrado = np.array([test_name, test_types, perc_test])\n",
    "arrado = arrado.transpose()"
   ]
  },
  {
   "cell_type": "code",
   "execution_count": 70,
   "metadata": {},
   "outputs": [
    {
     "data": {
      "text/html": [
       "<div>\n",
       "<style scoped>\n",
       "    .dataframe tbody tr th:only-of-type {\n",
       "        vertical-align: middle;\n",
       "    }\n",
       "\n",
       "    .dataframe tbody tr th {\n",
       "        vertical-align: top;\n",
       "    }\n",
       "\n",
       "    .dataframe thead th {\n",
       "        text-align: right;\n",
       "    }\n",
       "</style>\n",
       "<table border=\"1\" class=\"dataframe\">\n",
       "  <thead>\n",
       "    <tr style=\"text-align: right;\">\n",
       "      <th></th>\n",
       "      <th>test_name</th>\n",
       "      <th>abs values</th>\n",
       "      <th>perc (%) values</th>\n",
       "    </tr>\n",
       "  </thead>\n",
       "  <tbody>\n",
       "    <tr>\n",
       "      <th>0</th>\n",
       "      <td>ECLIA IgG</td>\n",
       "      <td>11</td>\n",
       "      <td>0.032424465733235076</td>\n",
       "    </tr>\n",
       "    <tr>\n",
       "      <th>1</th>\n",
       "      <td>ELISA IgM</td>\n",
       "      <td>27</td>\n",
       "      <td>0.079587324981577</td>\n",
       "    </tr>\n",
       "    <tr>\n",
       "      <th>2</th>\n",
       "      <td>RT-PCR</td>\n",
       "      <td>4720</td>\n",
       "      <td>13.91304347826087</td>\n",
       "    </tr>\n",
       "    <tr>\n",
       "      <th>3</th>\n",
       "      <td>TESTE RÁPIDO - ANTICORPO</td>\n",
       "      <td>24756</td>\n",
       "      <td>72.97273397199704</td>\n",
       "    </tr>\n",
       "    <tr>\n",
       "      <th>4</th>\n",
       "      <td>TESTE RÁPIDO - ANTÍGENO</td>\n",
       "      <td>4411</td>\n",
       "      <td>13.002210759027266</td>\n",
       "    </tr>\n",
       "  </tbody>\n",
       "</table>\n",
       "</div>"
      ],
      "text/plain": [
       "                  test_name abs values       perc (%) values\n",
       "0                 ECLIA IgG         11  0.032424465733235076\n",
       "1                 ELISA IgM         27     0.079587324981577\n",
       "2                    RT-PCR       4720     13.91304347826087\n",
       "3  TESTE RÁPIDO - ANTICORPO      24756     72.97273397199704\n",
       "4   TESTE RÁPIDO - ANTÍGENO       4411    13.002210759027266"
      ]
     },
     "execution_count": 70,
     "metadata": {},
     "output_type": "execute_result"
    }
   ],
   "source": [
    "pd.DataFrame(arrado, columns=['test_name', 'abs values', 'perc (%) values'])"
   ]
  },
  {
   "cell_type": "markdown",
   "metadata": {},
   "source": [
    "#### 2.1.8 What is death rate?"
   ]
  },
  {
   "cell_type": "code",
   "execution_count": 97,
   "metadata": {},
   "outputs": [],
   "source": [
    "deaths = conf_cases[conf_cases._conclusao == 'Óbito'].count()\n",
    "total = conf_cases.count()"
   ]
  },
  {
   "cell_type": "code",
   "execution_count": 100,
   "metadata": {},
   "outputs": [
    {
     "data": {
      "text/plain": [
       "0.20242914979757085"
      ]
     },
     "execution_count": 100,
     "metadata": {},
     "output_type": "execute_result"
    }
   ],
   "source": [
    "deaths[0]/total[0] * 100.0"
   ]
  },
  {
   "cell_type": "markdown",
   "metadata": {},
   "source": [
    "#### 2.1.9 What is the Pearson correlation between age and number os cases?"
   ]
  },
  {
   "cell_type": "code",
   "execution_count": 205,
   "metadata": {},
   "outputs": [],
   "source": [
    "age_cases = conf_cases.groupby(['_idade']).count()"
   ]
  },
  {
   "cell_type": "code",
   "execution_count": 206,
   "metadata": {},
   "outputs": [
    {
     "data": {
      "text/html": [
       "<div>\n",
       "<style scoped>\n",
       "    .dataframe tbody tr th:only-of-type {\n",
       "        vertical-align: middle;\n",
       "    }\n",
       "\n",
       "    .dataframe tbody tr th {\n",
       "        vertical-align: top;\n",
       "    }\n",
       "\n",
       "    .dataframe thead th {\n",
       "        text-align: right;\n",
       "    }\n",
       "</style>\n",
       "<table border=\"1\" class=\"dataframe\">\n",
       "  <thead>\n",
       "    <tr style=\"text-align: right;\">\n",
       "      <th></th>\n",
       "      <th>_sexo</th>\n",
       "      <th>_bairro</th>\n",
       "      <th>_classificacao</th>\n",
       "      <th>_conclusao</th>\n",
       "      <th>_dt_notificacao</th>\n",
       "      <th>_tipo_teste</th>\n",
       "    </tr>\n",
       "    <tr>\n",
       "      <th>_idade</th>\n",
       "      <th></th>\n",
       "      <th></th>\n",
       "      <th></th>\n",
       "      <th></th>\n",
       "      <th></th>\n",
       "      <th></th>\n",
       "    </tr>\n",
       "  </thead>\n",
       "  <tbody>\n",
       "    <tr>\n",
       "      <th>0.0</th>\n",
       "      <td>48</td>\n",
       "      <td>48</td>\n",
       "      <td>48</td>\n",
       "      <td>48</td>\n",
       "      <td>48</td>\n",
       "      <td>48</td>\n",
       "    </tr>\n",
       "    <tr>\n",
       "      <th>1.0</th>\n",
       "      <td>19</td>\n",
       "      <td>19</td>\n",
       "      <td>19</td>\n",
       "      <td>19</td>\n",
       "      <td>19</td>\n",
       "      <td>19</td>\n",
       "    </tr>\n",
       "    <tr>\n",
       "      <th>2.0</th>\n",
       "      <td>11</td>\n",
       "      <td>11</td>\n",
       "      <td>11</td>\n",
       "      <td>11</td>\n",
       "      <td>11</td>\n",
       "      <td>11</td>\n",
       "    </tr>\n",
       "    <tr>\n",
       "      <th>3.0</th>\n",
       "      <td>14</td>\n",
       "      <td>14</td>\n",
       "      <td>14</td>\n",
       "      <td>14</td>\n",
       "      <td>14</td>\n",
       "      <td>14</td>\n",
       "    </tr>\n",
       "    <tr>\n",
       "      <th>4.0</th>\n",
       "      <td>10</td>\n",
       "      <td>10</td>\n",
       "      <td>10</td>\n",
       "      <td>10</td>\n",
       "      <td>10</td>\n",
       "      <td>10</td>\n",
       "    </tr>\n",
       "    <tr>\n",
       "      <th>5.0</th>\n",
       "      <td>11</td>\n",
       "      <td>11</td>\n",
       "      <td>11</td>\n",
       "      <td>11</td>\n",
       "      <td>11</td>\n",
       "      <td>11</td>\n",
       "    </tr>\n",
       "    <tr>\n",
       "      <th>6.0</th>\n",
       "      <td>6</td>\n",
       "      <td>6</td>\n",
       "      <td>6</td>\n",
       "      <td>6</td>\n",
       "      <td>6</td>\n",
       "      <td>6</td>\n",
       "    </tr>\n",
       "    <tr>\n",
       "      <th>7.0</th>\n",
       "      <td>11</td>\n",
       "      <td>11</td>\n",
       "      <td>11</td>\n",
       "      <td>11</td>\n",
       "      <td>11</td>\n",
       "      <td>11</td>\n",
       "    </tr>\n",
       "    <tr>\n",
       "      <th>8.0</th>\n",
       "      <td>5</td>\n",
       "      <td>5</td>\n",
       "      <td>5</td>\n",
       "      <td>5</td>\n",
       "      <td>5</td>\n",
       "      <td>5</td>\n",
       "    </tr>\n",
       "    <tr>\n",
       "      <th>9.0</th>\n",
       "      <td>6</td>\n",
       "      <td>6</td>\n",
       "      <td>6</td>\n",
       "      <td>6</td>\n",
       "      <td>6</td>\n",
       "      <td>6</td>\n",
       "    </tr>\n",
       "  </tbody>\n",
       "</table>\n",
       "</div>"
      ],
      "text/plain": [
       "        _sexo  _bairro  _classificacao  _conclusao  _dt_notificacao  \\\n",
       "_idade                                                                \n",
       "0.0        48       48              48          48               48   \n",
       "1.0        19       19              19          19               19   \n",
       "2.0        11       11              11          11               11   \n",
       "3.0        14       14              14          14               14   \n",
       "4.0        10       10              10          10               10   \n",
       "5.0        11       11              11          11               11   \n",
       "6.0         6        6               6           6                6   \n",
       "7.0        11       11              11          11               11   \n",
       "8.0         5        5               5           5                5   \n",
       "9.0         6        6               6           6                6   \n",
       "\n",
       "        _tipo_teste  \n",
       "_idade               \n",
       "0.0              48  \n",
       "1.0              19  \n",
       "2.0              11  \n",
       "3.0              14  \n",
       "4.0              10  \n",
       "5.0              11  \n",
       "6.0               6  \n",
       "7.0              11  \n",
       "8.0               5  \n",
       "9.0               6  "
      ]
     },
     "execution_count": 206,
     "metadata": {},
     "output_type": "execute_result"
    }
   ],
   "source": [
    "age_cases.head(10)"
   ]
  },
  {
   "cell_type": "code",
   "execution_count": 203,
   "metadata": {},
   "outputs": [
    {
     "data": {
      "text/plain": [
       "Float64Index([ 0.0,  1.0,  2.0,  3.0,  4.0,  5.0,  6.0,  7.0,  8.0,  9.0, 10.0,\n",
       "              11.0, 12.0, 13.0, 14.0, 15.0, 16.0, 17.0, 18.0, 19.0, 20.0, 21.0,\n",
       "              22.0, 23.0, 24.0, 25.0, 26.0, 27.0, 28.0, 29.0, 30.0, 31.0, 32.0,\n",
       "              33.0, 34.0, 35.0, 36.0, 37.0, 38.0, 39.0, 40.0, 41.0, 42.0, 43.0,\n",
       "              44.0, 45.0, 46.0, 47.0, 48.0, 49.0, 50.0, 51.0, 52.0, 53.0, 54.0,\n",
       "              55.0, 56.0, 57.0, 58.0, 59.0, 60.0, 61.0, 62.0, 63.0, 64.0, 65.0,\n",
       "              66.0, 67.0, 68.0, 69.0, 70.0, 71.0, 72.0, 73.0, 74.0, 75.0, 76.0,\n",
       "              77.0, 78.0, 79.0, 80.0, 81.0, 82.0, 83.0, 84.0, 85.0, 86.0, 87.0,\n",
       "              88.0, 89.0, 90.0, 92.0, 93.0, 94.0, 96.0, 97.0, 99.0],\n",
       "             dtype='float64', name='_idade')"
      ]
     },
     "execution_count": 203,
     "metadata": {},
     "output_type": "execute_result"
    }
   ],
   "source": [
    "age_cases.index"
   ]
  },
  {
   "cell_type": "code",
   "execution_count": 217,
   "metadata": {},
   "outputs": [
    {
     "data": {
      "text/plain": [
       "array([ 48,  19,  11,  14,  10,  11,   6,  11,   5,   6,   8,   5,   9,\n",
       "        12,  15,  14,  15,  27,  26,  16,  43,  50,  55,  70,  92, 112,\n",
       "        95, 114, 134, 126, 123, 145, 155, 149, 149, 170, 179, 185, 213,\n",
       "       213, 215, 205, 202, 198, 196, 192, 212, 170, 169, 141, 143, 119,\n",
       "       128, 135, 113, 108,  92,  92,  76,  68,  64,  49,  49,  50,  32,\n",
       "        43,  33,  31,  24,  22,  20,  19,  17,  14,   8,  12,  15,   7,\n",
       "        10,   6,   8,  10,   8,   2,   7,   5,   4,   4,   3,   4,   1,\n",
       "         2,   1,   1,   1,   1,   1], dtype=int64)"
      ]
     },
     "execution_count": 217,
     "metadata": {},
     "output_type": "execute_result"
    }
   ],
   "source": [
    "age_cases.values.transpose()[0]"
   ]
  },
  {
   "cell_type": "code",
   "execution_count": 223,
   "metadata": {},
   "outputs": [],
   "source": [
    "age_case_corr = pd.DataFrame(data=np.array([age_cases.index, age_cases.values.transpose()[0]]).transpose(), columns=['idade', 'casos'])"
   ]
  },
  {
   "cell_type": "code",
   "execution_count": 225,
   "metadata": {},
   "outputs": [
    {
     "data": {
      "text/plain": [
       "-0.2258984278924331"
      ]
     },
     "execution_count": 225,
     "metadata": {},
     "output_type": "execute_result"
    }
   ],
   "source": [
    "age_case_corr['idade'].corr(age_case_corr['casos'])"
   ]
  },
  {
   "cell_type": "code",
   "execution_count": 226,
   "metadata": {},
   "outputs": [],
   "source": [
    "# O resultado é um valor negativo próximo de zero.\n",
    "# Isso demonstra que as variáveis possuem uma leve relação inversamente proporcional."
   ]
  },
  {
   "cell_type": "markdown",
   "metadata": {},
   "source": [
    "#### 2.2.1 Plot a histogram of top 10 cases number by districts. The remaning districts must be in a bar denoted by \"others\". The information must be in percentages."
   ]
  },
  {
   "cell_type": "code",
   "execution_count": 269,
   "metadata": {},
   "outputs": [
    {
     "data": {
      "text/plain": [
       "_bairro\n",
       "CIDADE NOVA          301\n",
       "FLORES               266\n",
       "TARUMA               225\n",
       "PETROPOLIS           193\n",
       "ALEIXO               172\n",
       "NOVO ALEIXO          170\n",
       "JORGE TEIXEIRA       169\n",
       "SAO JOSE OPERARIO    169\n",
       "COROADO              168\n",
       "COMPENSA             166\n",
       "Name: _classificacao, dtype: int64"
      ]
     },
     "execution_count": 269,
     "metadata": {},
     "output_type": "execute_result"
    }
   ],
   "source": [
    "neigh_cases.sort_values(ascending=False).head(10)"
   ]
  },
  {
   "cell_type": "code",
   "execution_count": 270,
   "metadata": {},
   "outputs": [
    {
     "name": "stdout",
     "output_type": "stream",
     "text": [
      "[301, 266, 225, 193, 172, 170, 169, 169, 168, 166]\n"
     ]
    }
   ],
   "source": [
    "hist = list(neigh_cases.sort_values(ascending=False).head(10))\n",
    "print(hist)"
   ]
  },
  {
   "cell_type": "code",
   "execution_count": 280,
   "metadata": {},
   "outputs": [],
   "source": [
    "nbs = ['CN', 'FL', 'TA', 'PT', 'AL', 'NAL', 'JT', 'SJO', 'COR', 'COM', 'Others']"
   ]
  },
  {
   "cell_type": "code",
   "execution_count": 272,
   "metadata": {},
   "outputs": [
    {
     "name": "stdout",
     "output_type": "stream",
     "text": [
      "4423\n"
     ]
    }
   ],
   "source": [
    "others = np.sum(neigh_cases.sort_values(ascending=False).tail(496))\n",
    "print(others)"
   ]
  },
  {
   "cell_type": "code",
   "execution_count": 273,
   "metadata": {},
   "outputs": [
    {
     "name": "stdout",
     "output_type": "stream",
     "text": [
      "[301, 266, 225, 193, 172, 170, 169, 169, 168, 166, 4423]\n"
     ]
    }
   ],
   "source": [
    "hist.append(others)\n",
    "print(hist)"
   ]
  },
  {
   "cell_type": "code",
   "execution_count": 275,
   "metadata": {},
   "outputs": [
    {
     "name": "stdout",
     "output_type": "stream",
     "text": [
      "6422\n"
     ]
    }
   ],
   "source": [
    "total = sum(hist)\n",
    "print(total)"
   ]
  },
  {
   "cell_type": "code",
   "execution_count": 281,
   "metadata": {},
   "outputs": [
    {
     "data": {
      "text/plain": [
       "Text(0.5, 1.0, 'Distribution of confirmed cases per district')"
      ]
     },
     "execution_count": 281,
     "metadata": {},
     "output_type": "execute_result"
    },
    {
     "data": {
      "image/png": "[encoded data removed]",
      "text/plain": [
       "<Figure size 432x288 with 1 Axes>"
      ]
     },
     "metadata": {
      "needs_background": "light"
     },
     "output_type": "display_data"
    }
   ],
   "source": [
    "plt.bar(nbs, [x/total * 100 for x in hist])\n",
    "plt.xlabel(\"District\")\n",
    "plt.ylabel(\"% of Cases\")\n",
    "plt.title(\"Distribution of confirmed cases per district\")"
   ]
  },
  {
   "cell_type": "markdown",
   "metadata": {},
   "source": [
    "#### 2.2.2 Plot a boxplot of ages of confirmed cases per genre. Is there any outlier?"
   ]
  },
  {
   "cell_type": "code",
   "execution_count": 301,
   "metadata": {},
   "outputs": [],
   "source": [
    "male_age = conf_cases[conf_cases._sexo == 'M'][['_idade']]\n",
    "fale_age = conf_cases[conf_cases._sexo == 'F'][['_idade']]"
   ]
  },
  {
   "cell_type": "code",
   "execution_count": 308,
   "metadata": {},
   "outputs": [],
   "source": [
    "male_age = male_age.values.flatten()\n",
    "fale_age = fale_age.values.flatten()"
   ]
  },
  {
   "cell_type": "code",
   "execution_count": 314,
   "metadata": {},
   "outputs": [],
   "source": [
    "data = np.concatenate((male_age, fale_age))"
   ]
  },
  {
   "cell_type": "code",
   "execution_count": 326,
   "metadata": {},
   "outputs": [
    {
     "name": "stderr",
     "output_type": "stream",
     "text": [
      "C:\\Users\\joutv\\Anaconda3\\envs\\rna_pp1\\lib\\site-packages\\numpy\\core\\_asarray.py:83: VisibleDeprecationWarning: Creating an ndarray from ragged nested sequences (which is a list-or-tuple of lists-or-tuples-or ndarrays with different lengths or shapes) is deprecated. If you meant to do this, you must specify 'dtype=object' when creating the ndarray\n",
      "  return array(a, dtype, copy=False, order=order)\n"
     ]
    },
    {
     "data": {
      "text/plain": [
       "{'whiskers': [<matplotlib.lines.Line2D at 0x1fbb88748c8>,\n",
       "  <matplotlib.lines.Line2D at 0x1fbb8874208>,\n",
       "  <matplotlib.lines.Line2D at 0x1fbb8cddb88>,\n",
       "  <matplotlib.lines.Line2D at 0x1fbb895e5c8>],\n",
       " 'caps': [<matplotlib.lines.Line2D at 0x1fbb87e72c8>,\n",
       "  <matplotlib.lines.Line2D at 0x1fbb8c6af48>,\n",
       "  <matplotlib.lines.Line2D at 0x1fbb8922d48>,\n",
       "  <matplotlib.lines.Line2D at 0x1fbb8939c48>],\n",
       " 'boxes': [<matplotlib.lines.Line2D at 0x1fbb897ce48>,\n",
       "  <matplotlib.lines.Line2D at 0x1fbb88b2a48>],\n",
       " 'medians': [<matplotlib.lines.Line2D at 0x1fbb895e188>,\n",
       "  <matplotlib.lines.Line2D at 0x1fbb8939508>],\n",
       " 'fliers': [<matplotlib.lines.Line2D at 0x1fbb895e708>,\n",
       "  <matplotlib.lines.Line2D at 0x1fbb885ac48>],\n",
       " 'means': []}"
      ]
     },
     "execution_count": 326,
     "metadata": {},
     "output_type": "execute_result"
    },
    {
     "data": {
      "image/png": "[encoded data removed]",
      "text/plain": [
       "<Figure size 432x288 with 1 Axes>"
      ]
     },
     "metadata": {
      "needs_background": "light"
     },
     "output_type": "display_data"
    }
   ],
   "source": [
    "plt.boxplot((male_age, fale_age), sym=\"o\", labels=[\"Male\", \"Female\"])"
   ]
  },
  {
   "cell_type": "markdown",
   "metadata": {},
   "source": [
    "#### 2.2.3 Plot the number of new cases per day (on the last 10 days)."
   ]
  },
  {
   "cell_type": "code",
   "execution_count": 507,
   "metadata": {},
   "outputs": [
    {
     "data": {
      "text/html": [
       "<div>\n",
       "<style scoped>\n",
       "    .dataframe tbody tr th:only-of-type {\n",
       "        vertical-align: middle;\n",
       "    }\n",
       "\n",
       "    .dataframe tbody tr th {\n",
       "        vertical-align: top;\n",
       "    }\n",
       "\n",
       "    .dataframe thead th {\n",
       "        text-align: right;\n",
       "    }\n",
       "</style>\n",
       "<table border=\"1\" class=\"dataframe\">\n",
       "  <thead>\n",
       "    <tr style=\"text-align: right;\">\n",
       "      <th></th>\n",
       "      <th>_idade</th>\n",
       "      <th>_sexo</th>\n",
       "      <th>_bairro</th>\n",
       "      <th>_classificacao</th>\n",
       "      <th>_conclusao</th>\n",
       "      <th>_dt_notificacao</th>\n",
       "      <th>_tipo_teste</th>\n",
       "    </tr>\n",
       "  </thead>\n",
       "  <tbody>\n",
       "    <tr>\n",
       "      <th>1</th>\n",
       "      <td>46.0</td>\n",
       "      <td>F</td>\n",
       "      <td>MORADA DO SOL</td>\n",
       "      <td>Descartado</td>\n",
       "      <td>Recuperado</td>\n",
       "      <td>01/05/2020</td>\n",
       "      <td>TESTE RÁPIDO - ANTÍGENO</td>\n",
       "    </tr>\n",
       "    <tr>\n",
       "      <th>10</th>\n",
       "      <td>40.0</td>\n",
       "      <td>F</td>\n",
       "      <td>BETHANIA</td>\n",
       "      <td>Descartado</td>\n",
       "      <td>Recuperado</td>\n",
       "      <td>03/05/2020</td>\n",
       "      <td>TESTE RÁPIDO - ANTICORPO</td>\n",
       "    </tr>\n",
       "    <tr>\n",
       "      <th>14</th>\n",
       "      <td>35.0</td>\n",
       "      <td>F</td>\n",
       "      <td>CACHOEIRINHA</td>\n",
       "      <td>Descartado</td>\n",
       "      <td>Recuperado</td>\n",
       "      <td>03/05/2020</td>\n",
       "      <td>TESTE RÁPIDO - ANTICORPO</td>\n",
       "    </tr>\n",
       "    <tr>\n",
       "      <th>36</th>\n",
       "      <td>43.0</td>\n",
       "      <td>M</td>\n",
       "      <td>CHAPADA</td>\n",
       "      <td>Descartado</td>\n",
       "      <td>Recuperado</td>\n",
       "      <td>03/05/2020</td>\n",
       "      <td>RT-PCR</td>\n",
       "    </tr>\n",
       "    <tr>\n",
       "      <th>67</th>\n",
       "      <td>44.0</td>\n",
       "      <td>M</td>\n",
       "      <td>CHAPADA</td>\n",
       "      <td>Descartado</td>\n",
       "      <td>Recuperado</td>\n",
       "      <td>03/05/2020</td>\n",
       "      <td>TESTE RÁPIDO - ANTICORPO</td>\n",
       "    </tr>\n",
       "    <tr>\n",
       "      <th>...</th>\n",
       "      <td>...</td>\n",
       "      <td>...</td>\n",
       "      <td>...</td>\n",
       "      <td>...</td>\n",
       "      <td>...</td>\n",
       "      <td>...</td>\n",
       "      <td>...</td>\n",
       "    </tr>\n",
       "    <tr>\n",
       "      <th>108341</th>\n",
       "      <td>14.0</td>\n",
       "      <td>F</td>\n",
       "      <td>DA PAZ</td>\n",
       "      <td>Confirmado</td>\n",
       "      <td>Recuperado</td>\n",
       "      <td>25/06/2020</td>\n",
       "      <td>TESTE RÁPIDO - ANTÍGENO</td>\n",
       "    </tr>\n",
       "    <tr>\n",
       "      <th>108344</th>\n",
       "      <td>81.0</td>\n",
       "      <td>M</td>\n",
       "      <td>SANTA LUZIA</td>\n",
       "      <td>Descartado</td>\n",
       "      <td>Óbito</td>\n",
       "      <td>09/05/2020</td>\n",
       "      <td>RT-PCR</td>\n",
       "    </tr>\n",
       "    <tr>\n",
       "      <th>108346</th>\n",
       "      <td>68.0</td>\n",
       "      <td>M</td>\n",
       "      <td>JORGE TEIXEIRA</td>\n",
       "      <td>Confirmado</td>\n",
       "      <td>Recuperado</td>\n",
       "      <td>01/06/2020</td>\n",
       "      <td>RT-PCR</td>\n",
       "    </tr>\n",
       "    <tr>\n",
       "      <th>108349</th>\n",
       "      <td>45.0</td>\n",
       "      <td>F</td>\n",
       "      <td>TARUMA</td>\n",
       "      <td>Confirmado</td>\n",
       "      <td>Recuperado</td>\n",
       "      <td>05/06/2020</td>\n",
       "      <td>TESTE RÁPIDO - ANTICORPO</td>\n",
       "    </tr>\n",
       "    <tr>\n",
       "      <th>108350</th>\n",
       "      <td>68.0</td>\n",
       "      <td>M</td>\n",
       "      <td>NOVA ESPERANCA</td>\n",
       "      <td>Descartado</td>\n",
       "      <td>Recuperado</td>\n",
       "      <td>03/04/2020</td>\n",
       "      <td>RT-PCR</td>\n",
       "    </tr>\n",
       "  </tbody>\n",
       "</table>\n",
       "<p>33925 rows × 7 columns</p>\n",
       "</div>"
      ],
      "text/plain": [
       "        _idade _sexo         _bairro _classificacao  _conclusao  \\\n",
       "1         46.0     F   MORADA DO SOL     Descartado  Recuperado   \n",
       "10        40.0     F        BETHANIA     Descartado  Recuperado   \n",
       "14        35.0     F    CACHOEIRINHA     Descartado  Recuperado   \n",
       "36        43.0     M         CHAPADA     Descartado  Recuperado   \n",
       "67        44.0     M         CHAPADA     Descartado  Recuperado   \n",
       "...        ...   ...             ...            ...         ...   \n",
       "108341    14.0     F          DA PAZ     Confirmado  Recuperado   \n",
       "108344    81.0     M     SANTA LUZIA     Descartado       Óbito   \n",
       "108346    68.0     M  JORGE TEIXEIRA     Confirmado  Recuperado   \n",
       "108349    45.0     F          TARUMA     Confirmado  Recuperado   \n",
       "108350    68.0     M  NOVA ESPERANCA     Descartado  Recuperado   \n",
       "\n",
       "       _dt_notificacao               _tipo_teste  \n",
       "1           01/05/2020   TESTE RÁPIDO - ANTÍGENO  \n",
       "10          03/05/2020  TESTE RÁPIDO - ANTICORPO  \n",
       "14          03/05/2020  TESTE RÁPIDO - ANTICORPO  \n",
       "36          03/05/2020                    RT-PCR  \n",
       "67          03/05/2020  TESTE RÁPIDO - ANTICORPO  \n",
       "...                ...                       ...  \n",
       "108341      25/06/2020   TESTE RÁPIDO - ANTÍGENO  \n",
       "108344      09/05/2020                    RT-PCR  \n",
       "108346      01/06/2020                    RT-PCR  \n",
       "108349      05/06/2020  TESTE RÁPIDO - ANTICORPO  \n",
       "108350      03/04/2020                    RT-PCR  \n",
       "\n",
       "[33925 rows x 7 columns]"
      ]
     },
     "execution_count": 507,
     "metadata": {},
     "output_type": "execute_result"
    }
   ],
   "source": [
    "clean_df"
   ]
  },
  {
   "cell_type": "code",
   "execution_count": 508,
   "metadata": {},
   "outputs": [],
   "source": [
    "cases_per_day = clean_df.drop(columns=['_idade', '_sexo', '_bairro', '_conclusao', '_tipo_teste'])"
   ]
  },
  {
   "cell_type": "code",
   "execution_count": 509,
   "metadata": {},
   "outputs": [
    {
     "data": {
      "text/html": [
       "<div>\n",
       "<style scoped>\n",
       "    .dataframe tbody tr th:only-of-type {\n",
       "        vertical-align: middle;\n",
       "    }\n",
       "\n",
       "    .dataframe tbody tr th {\n",
       "        vertical-align: top;\n",
       "    }\n",
       "\n",
       "    .dataframe thead th {\n",
       "        text-align: right;\n",
       "    }\n",
       "</style>\n",
       "<table border=\"1\" class=\"dataframe\">\n",
       "  <thead>\n",
       "    <tr style=\"text-align: right;\">\n",
       "      <th></th>\n",
       "      <th>_classificacao</th>\n",
       "      <th>_dt_notificacao</th>\n",
       "    </tr>\n",
       "  </thead>\n",
       "  <tbody>\n",
       "    <tr>\n",
       "      <th>1</th>\n",
       "      <td>Descartado</td>\n",
       "      <td>01/05/2020</td>\n",
       "    </tr>\n",
       "    <tr>\n",
       "      <th>10</th>\n",
       "      <td>Descartado</td>\n",
       "      <td>03/05/2020</td>\n",
       "    </tr>\n",
       "    <tr>\n",
       "      <th>14</th>\n",
       "      <td>Descartado</td>\n",
       "      <td>03/05/2020</td>\n",
       "    </tr>\n",
       "    <tr>\n",
       "      <th>36</th>\n",
       "      <td>Descartado</td>\n",
       "      <td>03/05/2020</td>\n",
       "    </tr>\n",
       "    <tr>\n",
       "      <th>67</th>\n",
       "      <td>Descartado</td>\n",
       "      <td>03/05/2020</td>\n",
       "    </tr>\n",
       "    <tr>\n",
       "      <th>68</th>\n",
       "      <td>Descartado</td>\n",
       "      <td>03/05/2020</td>\n",
       "    </tr>\n",
       "    <tr>\n",
       "      <th>69</th>\n",
       "      <td>Descartado</td>\n",
       "      <td>03/05/2020</td>\n",
       "    </tr>\n",
       "    <tr>\n",
       "      <th>70</th>\n",
       "      <td>Descartado</td>\n",
       "      <td>03/05/2020</td>\n",
       "    </tr>\n",
       "    <tr>\n",
       "      <th>71</th>\n",
       "      <td>Descartado</td>\n",
       "      <td>03/05/2020</td>\n",
       "    </tr>\n",
       "    <tr>\n",
       "      <th>143</th>\n",
       "      <td>Descartado</td>\n",
       "      <td>27/04/2020</td>\n",
       "    </tr>\n",
       "    <tr>\n",
       "      <th>281</th>\n",
       "      <td>Descartado</td>\n",
       "      <td>30/04/2020</td>\n",
       "    </tr>\n",
       "    <tr>\n",
       "      <th>282</th>\n",
       "      <td>Descartado</td>\n",
       "      <td>30/04/2020</td>\n",
       "    </tr>\n",
       "    <tr>\n",
       "      <th>283</th>\n",
       "      <td>Descartado</td>\n",
       "      <td>30/04/2020</td>\n",
       "    </tr>\n",
       "    <tr>\n",
       "      <th>297</th>\n",
       "      <td>Descartado</td>\n",
       "      <td>30/04/2020</td>\n",
       "    </tr>\n",
       "    <tr>\n",
       "      <th>299</th>\n",
       "      <td>Descartado</td>\n",
       "      <td>29/04/2020</td>\n",
       "    </tr>\n",
       "    <tr>\n",
       "      <th>300</th>\n",
       "      <td>Descartado</td>\n",
       "      <td>30/04/2020</td>\n",
       "    </tr>\n",
       "    <tr>\n",
       "      <th>303</th>\n",
       "      <td>Descartado</td>\n",
       "      <td>30/04/2020</td>\n",
       "    </tr>\n",
       "    <tr>\n",
       "      <th>304</th>\n",
       "      <td>Descartado</td>\n",
       "      <td>14/04/2020</td>\n",
       "    </tr>\n",
       "    <tr>\n",
       "      <th>314</th>\n",
       "      <td>Descartado</td>\n",
       "      <td>30/04/2020</td>\n",
       "    </tr>\n",
       "    <tr>\n",
       "      <th>325</th>\n",
       "      <td>Descartado</td>\n",
       "      <td>29/04/2020</td>\n",
       "    </tr>\n",
       "  </tbody>\n",
       "</table>\n",
       "</div>"
      ],
      "text/plain": [
       "    _classificacao _dt_notificacao\n",
       "1       Descartado      01/05/2020\n",
       "10      Descartado      03/05/2020\n",
       "14      Descartado      03/05/2020\n",
       "36      Descartado      03/05/2020\n",
       "67      Descartado      03/05/2020\n",
       "68      Descartado      03/05/2020\n",
       "69      Descartado      03/05/2020\n",
       "70      Descartado      03/05/2020\n",
       "71      Descartado      03/05/2020\n",
       "143     Descartado      27/04/2020\n",
       "281     Descartado      30/04/2020\n",
       "282     Descartado      30/04/2020\n",
       "283     Descartado      30/04/2020\n",
       "297     Descartado      30/04/2020\n",
       "299     Descartado      29/04/2020\n",
       "300     Descartado      30/04/2020\n",
       "303     Descartado      30/04/2020\n",
       "304     Descartado      14/04/2020\n",
       "314     Descartado      30/04/2020\n",
       "325     Descartado      29/04/2020"
      ]
     },
     "execution_count": 509,
     "metadata": {},
     "output_type": "execute_result"
    }
   ],
   "source": [
    "cases_per_day.head(20)"
   ]
  },
  {
   "cell_type": "code",
   "execution_count": 510,
   "metadata": {},
   "outputs": [],
   "source": [
    "cases_per_day['_dt_notificacao'] = pd.to_datetime(cases_per_day['_dt_notificacao'], dayfirst=True)"
   ]
  },
  {
   "cell_type": "code",
   "execution_count": 511,
   "metadata": {},
   "outputs": [
    {
     "data": {
      "text/html": [
       "<div>\n",
       "<style scoped>\n",
       "    .dataframe tbody tr th:only-of-type {\n",
       "        vertical-align: middle;\n",
       "    }\n",
       "\n",
       "    .dataframe tbody tr th {\n",
       "        vertical-align: top;\n",
       "    }\n",
       "\n",
       "    .dataframe thead th {\n",
       "        text-align: right;\n",
       "    }\n",
       "</style>\n",
       "<table border=\"1\" class=\"dataframe\">\n",
       "  <thead>\n",
       "    <tr style=\"text-align: right;\">\n",
       "      <th></th>\n",
       "      <th>_classificacao</th>\n",
       "      <th>_dt_notificacao</th>\n",
       "    </tr>\n",
       "  </thead>\n",
       "  <tbody>\n",
       "    <tr>\n",
       "      <th>1</th>\n",
       "      <td>Descartado</td>\n",
       "      <td>2020-05-01</td>\n",
       "    </tr>\n",
       "    <tr>\n",
       "      <th>10</th>\n",
       "      <td>Descartado</td>\n",
       "      <td>2020-05-03</td>\n",
       "    </tr>\n",
       "    <tr>\n",
       "      <th>14</th>\n",
       "      <td>Descartado</td>\n",
       "      <td>2020-05-03</td>\n",
       "    </tr>\n",
       "    <tr>\n",
       "      <th>36</th>\n",
       "      <td>Descartado</td>\n",
       "      <td>2020-05-03</td>\n",
       "    </tr>\n",
       "    <tr>\n",
       "      <th>67</th>\n",
       "      <td>Descartado</td>\n",
       "      <td>2020-05-03</td>\n",
       "    </tr>\n",
       "    <tr>\n",
       "      <th>...</th>\n",
       "      <td>...</td>\n",
       "      <td>...</td>\n",
       "    </tr>\n",
       "    <tr>\n",
       "      <th>108341</th>\n",
       "      <td>Confirmado</td>\n",
       "      <td>2020-06-25</td>\n",
       "    </tr>\n",
       "    <tr>\n",
       "      <th>108344</th>\n",
       "      <td>Descartado</td>\n",
       "      <td>2020-05-09</td>\n",
       "    </tr>\n",
       "    <tr>\n",
       "      <th>108346</th>\n",
       "      <td>Confirmado</td>\n",
       "      <td>2020-06-01</td>\n",
       "    </tr>\n",
       "    <tr>\n",
       "      <th>108349</th>\n",
       "      <td>Confirmado</td>\n",
       "      <td>2020-06-05</td>\n",
       "    </tr>\n",
       "    <tr>\n",
       "      <th>108350</th>\n",
       "      <td>Descartado</td>\n",
       "      <td>2020-04-03</td>\n",
       "    </tr>\n",
       "  </tbody>\n",
       "</table>\n",
       "<p>33925 rows × 2 columns</p>\n",
       "</div>"
      ],
      "text/plain": [
       "       _classificacao _dt_notificacao\n",
       "1          Descartado      2020-05-01\n",
       "10         Descartado      2020-05-03\n",
       "14         Descartado      2020-05-03\n",
       "36         Descartado      2020-05-03\n",
       "67         Descartado      2020-05-03\n",
       "...               ...             ...\n",
       "108341     Confirmado      2020-06-25\n",
       "108344     Descartado      2020-05-09\n",
       "108346     Confirmado      2020-06-01\n",
       "108349     Confirmado      2020-06-05\n",
       "108350     Descartado      2020-04-03\n",
       "\n",
       "[33925 rows x 2 columns]"
      ]
     },
     "execution_count": 511,
     "metadata": {},
     "output_type": "execute_result"
    }
   ],
   "source": [
    "cases_per_day"
   ]
  },
  {
   "cell_type": "code",
   "execution_count": 521,
   "metadata": {},
   "outputs": [
    {
     "name": "stdout",
     "output_type": "stream",
     "text": [
      "4\n"
     ]
    }
   ],
   "source": [
    "porra = 0\n",
    "for i in cases_per_day._dt_notificacao.dt.month:\n",
    "    if i == 2:\n",
    "        porra += 1\n",
    "print(porra)"
   ]
  },
  {
   "cell_type": "code",
   "execution_count": 518,
   "metadata": {},
   "outputs": [
    {
     "data": {
      "text/html": [
       "<div>\n",
       "<style scoped>\n",
       "    .dataframe tbody tr th:only-of-type {\n",
       "        vertical-align: middle;\n",
       "    }\n",
       "\n",
       "    .dataframe tbody tr th {\n",
       "        vertical-align: top;\n",
       "    }\n",
       "\n",
       "    .dataframe thead th {\n",
       "        text-align: right;\n",
       "    }\n",
       "</style>\n",
       "<table border=\"1\" class=\"dataframe\">\n",
       "  <thead>\n",
       "    <tr style=\"text-align: right;\">\n",
       "      <th></th>\n",
       "      <th>_classificacao</th>\n",
       "      <th>_dt_notificacao</th>\n",
       "    </tr>\n",
       "  </thead>\n",
       "  <tbody>\n",
       "    <tr>\n",
       "      <th>1</th>\n",
       "      <td>Descartado</td>\n",
       "      <td>2020-05-01</td>\n",
       "    </tr>\n",
       "    <tr>\n",
       "      <th>10</th>\n",
       "      <td>Descartado</td>\n",
       "      <td>2020-05-03</td>\n",
       "    </tr>\n",
       "    <tr>\n",
       "      <th>14</th>\n",
       "      <td>Descartado</td>\n",
       "      <td>2020-05-03</td>\n",
       "    </tr>\n",
       "    <tr>\n",
       "      <th>36</th>\n",
       "      <td>Descartado</td>\n",
       "      <td>2020-05-03</td>\n",
       "    </tr>\n",
       "    <tr>\n",
       "      <th>67</th>\n",
       "      <td>Descartado</td>\n",
       "      <td>2020-05-03</td>\n",
       "    </tr>\n",
       "    <tr>\n",
       "      <th>...</th>\n",
       "      <td>...</td>\n",
       "      <td>...</td>\n",
       "    </tr>\n",
       "    <tr>\n",
       "      <th>108341</th>\n",
       "      <td>Confirmado</td>\n",
       "      <td>2020-06-25</td>\n",
       "    </tr>\n",
       "    <tr>\n",
       "      <th>108344</th>\n",
       "      <td>Descartado</td>\n",
       "      <td>2020-05-09</td>\n",
       "    </tr>\n",
       "    <tr>\n",
       "      <th>108346</th>\n",
       "      <td>Confirmado</td>\n",
       "      <td>2020-06-01</td>\n",
       "    </tr>\n",
       "    <tr>\n",
       "      <th>108349</th>\n",
       "      <td>Confirmado</td>\n",
       "      <td>2020-06-05</td>\n",
       "    </tr>\n",
       "    <tr>\n",
       "      <th>108350</th>\n",
       "      <td>Descartado</td>\n",
       "      <td>2020-04-03</td>\n",
       "    </tr>\n",
       "  </tbody>\n",
       "</table>\n",
       "<p>33925 rows × 2 columns</p>\n",
       "</div>"
      ],
      "text/plain": [
       "       _classificacao _dt_notificacao\n",
       "1          Descartado      2020-05-01\n",
       "10         Descartado      2020-05-03\n",
       "14         Descartado      2020-05-03\n",
       "36         Descartado      2020-05-03\n",
       "67         Descartado      2020-05-03\n",
       "...               ...             ...\n",
       "108341     Confirmado      2020-06-25\n",
       "108344     Descartado      2020-05-09\n",
       "108346     Confirmado      2020-06-01\n",
       "108349     Confirmado      2020-06-05\n",
       "108350     Descartado      2020-04-03\n",
       "\n",
       "[33925 rows x 2 columns]"
      ]
     },
     "execution_count": 518,
     "metadata": {},
     "output_type": "execute_result"
    }
   ],
   "source": [
    "cases_per_day"
   ]
  },
  {
   "cell_type": "code",
   "execution_count": 519,
   "metadata": {},
   "outputs": [],
   "source": [
    "caralhos = cases_per_day.sort_values(by='_dt_notificacao')"
   ]
  },
  {
   "cell_type": "code",
   "execution_count": 520,
   "metadata": {},
   "outputs": [
    {
     "data": {
      "text/html": [
       "<div>\n",
       "<style scoped>\n",
       "    .dataframe tbody tr th:only-of-type {\n",
       "        vertical-align: middle;\n",
       "    }\n",
       "\n",
       "    .dataframe tbody tr th {\n",
       "        vertical-align: top;\n",
       "    }\n",
       "\n",
       "    .dataframe thead th {\n",
       "        text-align: right;\n",
       "    }\n",
       "</style>\n",
       "<table border=\"1\" class=\"dataframe\">\n",
       "  <thead>\n",
       "    <tr style=\"text-align: right;\">\n",
       "      <th></th>\n",
       "      <th>_classificacao</th>\n",
       "      <th>_dt_notificacao</th>\n",
       "    </tr>\n",
       "  </thead>\n",
       "  <tbody>\n",
       "    <tr>\n",
       "      <th>107318</th>\n",
       "      <td>Confirmado</td>\n",
       "      <td>2020-01-30</td>\n",
       "    </tr>\n",
       "    <tr>\n",
       "      <th>107538</th>\n",
       "      <td>Descartado</td>\n",
       "      <td>2020-02-04</td>\n",
       "    </tr>\n",
       "    <tr>\n",
       "      <th>77211</th>\n",
       "      <td>Confirmado</td>\n",
       "      <td>2020-02-16</td>\n",
       "    </tr>\n",
       "    <tr>\n",
       "      <th>107435</th>\n",
       "      <td>Descartado</td>\n",
       "      <td>2020-02-28</td>\n",
       "    </tr>\n",
       "    <tr>\n",
       "      <th>34841</th>\n",
       "      <td>Descartado</td>\n",
       "      <td>2020-02-28</td>\n",
       "    </tr>\n",
       "    <tr>\n",
       "      <th>...</th>\n",
       "      <td>...</td>\n",
       "      <td>...</td>\n",
       "    </tr>\n",
       "    <tr>\n",
       "      <th>108023</th>\n",
       "      <td>Descartado</td>\n",
       "      <td>2020-07-21</td>\n",
       "    </tr>\n",
       "    <tr>\n",
       "      <th>107433</th>\n",
       "      <td>Confirmado</td>\n",
       "      <td>2020-07-24</td>\n",
       "    </tr>\n",
       "    <tr>\n",
       "      <th>108123</th>\n",
       "      <td>Confirmado</td>\n",
       "      <td>2020-07-24</td>\n",
       "    </tr>\n",
       "    <tr>\n",
       "      <th>107461</th>\n",
       "      <td>Confirmado</td>\n",
       "      <td>2020-07-30</td>\n",
       "    </tr>\n",
       "    <tr>\n",
       "      <th>107995</th>\n",
       "      <td>Confirmado</td>\n",
       "      <td>2020-07-31</td>\n",
       "    </tr>\n",
       "  </tbody>\n",
       "</table>\n",
       "<p>33925 rows × 2 columns</p>\n",
       "</div>"
      ],
      "text/plain": [
       "       _classificacao _dt_notificacao\n",
       "107318     Confirmado      2020-01-30\n",
       "107538     Descartado      2020-02-04\n",
       "77211      Confirmado      2020-02-16\n",
       "107435     Descartado      2020-02-28\n",
       "34841      Descartado      2020-02-28\n",
       "...               ...             ...\n",
       "108023     Descartado      2020-07-21\n",
       "107433     Confirmado      2020-07-24\n",
       "108123     Confirmado      2020-07-24\n",
       "107461     Confirmado      2020-07-30\n",
       "107995     Confirmado      2020-07-31\n",
       "\n",
       "[33925 rows x 2 columns]"
      ]
     },
     "execution_count": 520,
     "metadata": {},
     "output_type": "execute_result"
    }
   ],
   "source": [
    "caralhos"
   ]
  },
  {
   "cell_type": "code",
   "execution_count": 522,
   "metadata": {},
   "outputs": [],
   "source": [
    "days_group = caralhos.groupby('_dt_notificacao').count()"
   ]
  },
  {
   "cell_type": "code",
   "execution_count": 525,
   "metadata": {},
   "outputs": [
    {
     "data": {
      "text/html": [
       "<div>\n",
       "<style scoped>\n",
       "    .dataframe tbody tr th:only-of-type {\n",
       "        vertical-align: middle;\n",
       "    }\n",
       "\n",
       "    .dataframe tbody tr th {\n",
       "        vertical-align: top;\n",
       "    }\n",
       "\n",
       "    .dataframe thead th {\n",
       "        text-align: right;\n",
       "    }\n",
       "</style>\n",
       "<table border=\"1\" class=\"dataframe\">\n",
       "  <thead>\n",
       "    <tr style=\"text-align: right;\">\n",
       "      <th></th>\n",
       "      <th>_classificacao</th>\n",
       "    </tr>\n",
       "    <tr>\n",
       "      <th>_dt_notificacao</th>\n",
       "      <th></th>\n",
       "    </tr>\n",
       "  </thead>\n",
       "  <tbody>\n",
       "    <tr>\n",
       "      <th>2020-06-24</th>\n",
       "      <td>573</td>\n",
       "    </tr>\n",
       "    <tr>\n",
       "      <th>2020-06-25</th>\n",
       "      <td>628</td>\n",
       "    </tr>\n",
       "    <tr>\n",
       "      <th>2020-06-26</th>\n",
       "      <td>657</td>\n",
       "    </tr>\n",
       "    <tr>\n",
       "      <th>2020-06-27</th>\n",
       "      <td>260</td>\n",
       "    </tr>\n",
       "    <tr>\n",
       "      <th>2020-06-28</th>\n",
       "      <td>42</td>\n",
       "    </tr>\n",
       "    <tr>\n",
       "      <th>2020-06-29</th>\n",
       "      <td>628</td>\n",
       "    </tr>\n",
       "    <tr>\n",
       "      <th>2020-06-30</th>\n",
       "      <td>598</td>\n",
       "    </tr>\n",
       "    <tr>\n",
       "      <th>2020-07-01</th>\n",
       "      <td>373</td>\n",
       "    </tr>\n",
       "    <tr>\n",
       "      <th>2020-07-02</th>\n",
       "      <td>488</td>\n",
       "    </tr>\n",
       "    <tr>\n",
       "      <th>2020-07-03</th>\n",
       "      <td>555</td>\n",
       "    </tr>\n",
       "    <tr>\n",
       "      <th>2020-07-04</th>\n",
       "      <td>136</td>\n",
       "    </tr>\n",
       "    <tr>\n",
       "      <th>2020-07-05</th>\n",
       "      <td>36</td>\n",
       "    </tr>\n",
       "    <tr>\n",
       "      <th>2020-07-06</th>\n",
       "      <td>494</td>\n",
       "    </tr>\n",
       "    <tr>\n",
       "      <th>2020-07-08</th>\n",
       "      <td>1</td>\n",
       "    </tr>\n",
       "    <tr>\n",
       "      <th>2020-07-16</th>\n",
       "      <td>1</td>\n",
       "    </tr>\n",
       "    <tr>\n",
       "      <th>2020-07-20</th>\n",
       "      <td>1</td>\n",
       "    </tr>\n",
       "    <tr>\n",
       "      <th>2020-07-21</th>\n",
       "      <td>1</td>\n",
       "    </tr>\n",
       "    <tr>\n",
       "      <th>2020-07-24</th>\n",
       "      <td>2</td>\n",
       "    </tr>\n",
       "    <tr>\n",
       "      <th>2020-07-30</th>\n",
       "      <td>1</td>\n",
       "    </tr>\n",
       "    <tr>\n",
       "      <th>2020-07-31</th>\n",
       "      <td>1</td>\n",
       "    </tr>\n",
       "  </tbody>\n",
       "</table>\n",
       "</div>"
      ],
      "text/plain": [
       "                 _classificacao\n",
       "_dt_notificacao                \n",
       "2020-06-24                  573\n",
       "2020-06-25                  628\n",
       "2020-06-26                  657\n",
       "2020-06-27                  260\n",
       "2020-06-28                   42\n",
       "2020-06-29                  628\n",
       "2020-06-30                  598\n",
       "2020-07-01                  373\n",
       "2020-07-02                  488\n",
       "2020-07-03                  555\n",
       "2020-07-04                  136\n",
       "2020-07-05                   36\n",
       "2020-07-06                  494\n",
       "2020-07-08                    1\n",
       "2020-07-16                    1\n",
       "2020-07-20                    1\n",
       "2020-07-21                    1\n",
       "2020-07-24                    2\n",
       "2020-07-30                    1\n",
       "2020-07-31                    1"
      ]
     },
     "execution_count": 525,
     "metadata": {},
     "output_type": "execute_result"
    }
   ],
   "source": [
    "days_group.tail(20)"
   ]
  },
  {
   "cell_type": "code",
   "execution_count": 538,
   "metadata": {},
   "outputs": [],
   "source": [
    "bar_days = days_group.tail(17).values"
   ]
  },
  {
   "cell_type": "code",
   "execution_count": 539,
   "metadata": {},
   "outputs": [],
   "source": [
    "bar_days = bar_days.flatten()"
   ]
  },
  {
   "cell_type": "code",
   "execution_count": 540,
   "metadata": {},
   "outputs": [
    {
     "data": {
      "text/plain": [
       "array([260,  42, 628, 598, 373, 488, 555, 136,  36, 494,   1,   1,   1,\n",
       "         1,   2,   1,   1], dtype=int64)"
      ]
     },
     "execution_count": 540,
     "metadata": {},
     "output_type": "execute_result"
    }
   ],
   "source": [
    "bar_days"
   ]
  },
  {
   "cell_type": "code",
   "execution_count": 547,
   "metadata": {},
   "outputs": [],
   "source": [
    "bar_days = np.delete(bar_days, [i for i in range(10,17)])"
   ]
  },
  {
   "cell_type": "code",
   "execution_count": 559,
   "metadata": {},
   "outputs": [],
   "source": [
    "days = ['2020-06-27', '2020-06-28', '2020-06-29', '2020-06-30', '2020-07-01', '2020-07-02', '2020-07-03', '2020-07-04', '2020-07-05', '2020-07-06']"
   ]
  },
  {
   "cell_type": "code",
   "execution_count": 550,
   "metadata": {},
   "outputs": [],
   "source": [
    "bar_days = list(bar_days)"
   ]
  },
  {
   "cell_type": "code",
   "execution_count": 551,
   "metadata": {},
   "outputs": [
    {
     "data": {
      "text/plain": [
       "[260, 42, 628, 598, 373, 488, 555, 136, 36, 494]"
      ]
     },
     "execution_count": 551,
     "metadata": {},
     "output_type": "execute_result"
    }
   ],
   "source": [
    "bar_days"
   ]
  },
  {
   "cell_type": "code",
   "execution_count": 564,
   "metadata": {},
   "outputs": [
    {
     "name": "stdout",
     "output_type": "stream",
     "text": [
      "[-218, 586, -30, -225, 115, 67, -419, -100, 458]\n"
     ]
    }
   ],
   "source": [
    "diff = []\n",
    "\n",
    "for i in range(1, len(bar_days)):\n",
    "    diff.append(bar_days[i] - bar_days[i-1])\n",
    "    \n",
    "print(diff)"
   ]
  },
  {
   "cell_type": "code",
   "execution_count": 597,
   "metadata": {},
   "outputs": [
    {
     "data": {
      "text/plain": [
       "Text(0, 0.5, 'Date')"
      ]
     },
     "execution_count": 597,
     "metadata": {},
     "output_type": "execute_result"
    },
    {
     "data": {
      "image/png": "[encoded data removed]",
      "text/plain": [
       "<Figure size 864x432 with 1 Axes>"
      ]
     },
     "metadata": {
      "needs_background": "light"
     },
     "output_type": "display_data"
    }
   ],
   "source": [
    "y_axis = days \n",
    "x_axis = bar_days\n",
    "  \n",
    "# Figure Size \n",
    "fig, ax = plt.subplots(figsize =(12, 6)) \n",
    "  \n",
    "# Horizontal Bar Plot \n",
    "ax.barh(y_axis, x_axis) \n",
    "  \n",
    "# Remove axes splines \n",
    "for s in ['top', 'bottom', 'left', 'right']: \n",
    "    ax.spines[s].set_visible(False) \n",
    "\n",
    "# Remove y ticks\n",
    "ax.yaxis.set_ticks_position('none') \n",
    "  \n",
    "# Add padding between axes and labels \n",
    "ax.xaxis.set_tick_params(pad = 5) \n",
    "ax.yaxis.set_tick_params(pad = 10) \n",
    "  \n",
    "# Add x, y gridlines \n",
    "ax.grid(b = True, color ='grey', linestyle ='-.', linewidth = 0.5, alpha = 0.2) \n",
    "  \n",
    "# Show at middle\n",
    "ax.invert_yaxis() \n",
    "  \n",
    "# Add annotation to bars\n",
    "clr = 'black'\n",
    "difa = 'inicial'\n",
    "for i, j in zip(ax.patches, range(10)):\n",
    "    if j > 0 :\n",
    "        if diff[j-1] < 0:\n",
    "            clr = 'green'\n",
    "            difa = str(diff[j-1]) + ' cases'\n",
    "        elif diff[j-1] > 0:\n",
    "            clr = 'red'\n",
    "            difa = '+' + str(diff[j-1]) + ' cases'\n",
    "        else:\n",
    "            clr = 'black'\n",
    "    plt.text(i.get_width()+5, i.get_y()+0.5,  \n",
    "             str(i.get_width()) + f' ({difa})', \n",
    "             fontsize = 14, fontweight ='normal', \n",
    "             color = clr) \n",
    "    \n",
    "# Add Plot Title \n",
    "ax.set_title('# of new cases per day', loc ='center') \n",
    "ax.set_xlabel('# of cases')\n",
    "ax.set_ylabel('Date')"
   ]
  },
  {
   "cell_type": "markdown",
   "metadata": {},
   "source": [
    "#### 2.2.4 Plot the number of recovered cases per day (on the last 10 days)."
   ]
  },
  {
   "cell_type": "code",
   "execution_count": 634,
   "metadata": {},
   "outputs": [],
   "source": [
    "rec_per_day = clean_df.drop(columns=['_idade', '_sexo', '_bairro', '_classificacao', '_tipo_teste'])"
   ]
  },
  {
   "cell_type": "code",
   "execution_count": 635,
   "metadata": {},
   "outputs": [
    {
     "data": {
      "text/html": [
       "<div>\n",
       "<style scoped>\n",
       "    .dataframe tbody tr th:only-of-type {\n",
       "        vertical-align: middle;\n",
       "    }\n",
       "\n",
       "    .dataframe tbody tr th {\n",
       "        vertical-align: top;\n",
       "    }\n",
       "\n",
       "    .dataframe thead th {\n",
       "        text-align: right;\n",
       "    }\n",
       "</style>\n",
       "<table border=\"1\" class=\"dataframe\">\n",
       "  <thead>\n",
       "    <tr style=\"text-align: right;\">\n",
       "      <th></th>\n",
       "      <th>_conclusao</th>\n",
       "      <th>_dt_notificacao</th>\n",
       "    </tr>\n",
       "  </thead>\n",
       "  <tbody>\n",
       "    <tr>\n",
       "      <th>1</th>\n",
       "      <td>Recuperado</td>\n",
       "      <td>01/05/2020</td>\n",
       "    </tr>\n",
       "    <tr>\n",
       "      <th>10</th>\n",
       "      <td>Recuperado</td>\n",
       "      <td>03/05/2020</td>\n",
       "    </tr>\n",
       "    <tr>\n",
       "      <th>14</th>\n",
       "      <td>Recuperado</td>\n",
       "      <td>03/05/2020</td>\n",
       "    </tr>\n",
       "    <tr>\n",
       "      <th>36</th>\n",
       "      <td>Recuperado</td>\n",
       "      <td>03/05/2020</td>\n",
       "    </tr>\n",
       "    <tr>\n",
       "      <th>67</th>\n",
       "      <td>Recuperado</td>\n",
       "      <td>03/05/2020</td>\n",
       "    </tr>\n",
       "    <tr>\n",
       "      <th>...</th>\n",
       "      <td>...</td>\n",
       "      <td>...</td>\n",
       "    </tr>\n",
       "    <tr>\n",
       "      <th>108341</th>\n",
       "      <td>Recuperado</td>\n",
       "      <td>25/06/2020</td>\n",
       "    </tr>\n",
       "    <tr>\n",
       "      <th>108344</th>\n",
       "      <td>Óbito</td>\n",
       "      <td>09/05/2020</td>\n",
       "    </tr>\n",
       "    <tr>\n",
       "      <th>108346</th>\n",
       "      <td>Recuperado</td>\n",
       "      <td>01/06/2020</td>\n",
       "    </tr>\n",
       "    <tr>\n",
       "      <th>108349</th>\n",
       "      <td>Recuperado</td>\n",
       "      <td>05/06/2020</td>\n",
       "    </tr>\n",
       "    <tr>\n",
       "      <th>108350</th>\n",
       "      <td>Recuperado</td>\n",
       "      <td>03/04/2020</td>\n",
       "    </tr>\n",
       "  </tbody>\n",
       "</table>\n",
       "<p>33925 rows × 2 columns</p>\n",
       "</div>"
      ],
      "text/plain": [
       "        _conclusao _dt_notificacao\n",
       "1       Recuperado      01/05/2020\n",
       "10      Recuperado      03/05/2020\n",
       "14      Recuperado      03/05/2020\n",
       "36      Recuperado      03/05/2020\n",
       "67      Recuperado      03/05/2020\n",
       "...            ...             ...\n",
       "108341  Recuperado      25/06/2020\n",
       "108344       Óbito      09/05/2020\n",
       "108346  Recuperado      01/06/2020\n",
       "108349  Recuperado      05/06/2020\n",
       "108350  Recuperado      03/04/2020\n",
       "\n",
       "[33925 rows x 2 columns]"
      ]
     },
     "execution_count": 635,
     "metadata": {},
     "output_type": "execute_result"
    }
   ],
   "source": [
    "rec_per_day"
   ]
  },
  {
   "cell_type": "code",
   "execution_count": 636,
   "metadata": {},
   "outputs": [],
   "source": [
    "rec_per_day['_dt_notificacao'] = pd.to_datetime(rec_per_day['_dt_notificacao'], dayfirst=True)"
   ]
  },
  {
   "cell_type": "code",
   "execution_count": 637,
   "metadata": {},
   "outputs": [
    {
     "data": {
      "text/html": [
       "<div>\n",
       "<style scoped>\n",
       "    .dataframe tbody tr th:only-of-type {\n",
       "        vertical-align: middle;\n",
       "    }\n",
       "\n",
       "    .dataframe tbody tr th {\n",
       "        vertical-align: top;\n",
       "    }\n",
       "\n",
       "    .dataframe thead th {\n",
       "        text-align: right;\n",
       "    }\n",
       "</style>\n",
       "<table border=\"1\" class=\"dataframe\">\n",
       "  <thead>\n",
       "    <tr style=\"text-align: right;\">\n",
       "      <th></th>\n",
       "      <th>_conclusao</th>\n",
       "      <th>_dt_notificacao</th>\n",
       "    </tr>\n",
       "  </thead>\n",
       "  <tbody>\n",
       "    <tr>\n",
       "      <th>1</th>\n",
       "      <td>Recuperado</td>\n",
       "      <td>2020-05-01</td>\n",
       "    </tr>\n",
       "    <tr>\n",
       "      <th>10</th>\n",
       "      <td>Recuperado</td>\n",
       "      <td>2020-05-03</td>\n",
       "    </tr>\n",
       "    <tr>\n",
       "      <th>14</th>\n",
       "      <td>Recuperado</td>\n",
       "      <td>2020-05-03</td>\n",
       "    </tr>\n",
       "    <tr>\n",
       "      <th>36</th>\n",
       "      <td>Recuperado</td>\n",
       "      <td>2020-05-03</td>\n",
       "    </tr>\n",
       "    <tr>\n",
       "      <th>67</th>\n",
       "      <td>Recuperado</td>\n",
       "      <td>2020-05-03</td>\n",
       "    </tr>\n",
       "    <tr>\n",
       "      <th>...</th>\n",
       "      <td>...</td>\n",
       "      <td>...</td>\n",
       "    </tr>\n",
       "    <tr>\n",
       "      <th>108341</th>\n",
       "      <td>Recuperado</td>\n",
       "      <td>2020-06-25</td>\n",
       "    </tr>\n",
       "    <tr>\n",
       "      <th>108344</th>\n",
       "      <td>Óbito</td>\n",
       "      <td>2020-05-09</td>\n",
       "    </tr>\n",
       "    <tr>\n",
       "      <th>108346</th>\n",
       "      <td>Recuperado</td>\n",
       "      <td>2020-06-01</td>\n",
       "    </tr>\n",
       "    <tr>\n",
       "      <th>108349</th>\n",
       "      <td>Recuperado</td>\n",
       "      <td>2020-06-05</td>\n",
       "    </tr>\n",
       "    <tr>\n",
       "      <th>108350</th>\n",
       "      <td>Recuperado</td>\n",
       "      <td>2020-04-03</td>\n",
       "    </tr>\n",
       "  </tbody>\n",
       "</table>\n",
       "<p>33925 rows × 2 columns</p>\n",
       "</div>"
      ],
      "text/plain": [
       "        _conclusao _dt_notificacao\n",
       "1       Recuperado      2020-05-01\n",
       "10      Recuperado      2020-05-03\n",
       "14      Recuperado      2020-05-03\n",
       "36      Recuperado      2020-05-03\n",
       "67      Recuperado      2020-05-03\n",
       "...            ...             ...\n",
       "108341  Recuperado      2020-06-25\n",
       "108344       Óbito      2020-05-09\n",
       "108346  Recuperado      2020-06-01\n",
       "108349  Recuperado      2020-06-05\n",
       "108350  Recuperado      2020-04-03\n",
       "\n",
       "[33925 rows x 2 columns]"
      ]
     },
     "execution_count": 637,
     "metadata": {},
     "output_type": "execute_result"
    }
   ],
   "source": [
    "rec_per_day"
   ]
  },
  {
   "cell_type": "code",
   "execution_count": 638,
   "metadata": {},
   "outputs": [],
   "source": [
    "rec_per_day_sorted = rec_per_day.sort_values(by='_dt_notificacao')"
   ]
  },
  {
   "cell_type": "code",
   "execution_count": 639,
   "metadata": {},
   "outputs": [
    {
     "data": {
      "text/html": [
       "<div>\n",
       "<style scoped>\n",
       "    .dataframe tbody tr th:only-of-type {\n",
       "        vertical-align: middle;\n",
       "    }\n",
       "\n",
       "    .dataframe tbody tr th {\n",
       "        vertical-align: top;\n",
       "    }\n",
       "\n",
       "    .dataframe thead th {\n",
       "        text-align: right;\n",
       "    }\n",
       "</style>\n",
       "<table border=\"1\" class=\"dataframe\">\n",
       "  <thead>\n",
       "    <tr style=\"text-align: right;\">\n",
       "      <th></th>\n",
       "      <th>_conclusao</th>\n",
       "      <th>_dt_notificacao</th>\n",
       "    </tr>\n",
       "  </thead>\n",
       "  <tbody>\n",
       "    <tr>\n",
       "      <th>107318</th>\n",
       "      <td>Recuperado</td>\n",
       "      <td>2020-01-30</td>\n",
       "    </tr>\n",
       "    <tr>\n",
       "      <th>107538</th>\n",
       "      <td>Recuperado</td>\n",
       "      <td>2020-02-04</td>\n",
       "    </tr>\n",
       "    <tr>\n",
       "      <th>77211</th>\n",
       "      <td>Recuperado</td>\n",
       "      <td>2020-02-16</td>\n",
       "    </tr>\n",
       "    <tr>\n",
       "      <th>107435</th>\n",
       "      <td>Recuperado</td>\n",
       "      <td>2020-02-28</td>\n",
       "    </tr>\n",
       "    <tr>\n",
       "      <th>34841</th>\n",
       "      <td>Recuperado</td>\n",
       "      <td>2020-02-28</td>\n",
       "    </tr>\n",
       "    <tr>\n",
       "      <th>...</th>\n",
       "      <td>...</td>\n",
       "      <td>...</td>\n",
       "    </tr>\n",
       "    <tr>\n",
       "      <th>108023</th>\n",
       "      <td>Óbito</td>\n",
       "      <td>2020-07-21</td>\n",
       "    </tr>\n",
       "    <tr>\n",
       "      <th>107433</th>\n",
       "      <td>Óbito</td>\n",
       "      <td>2020-07-24</td>\n",
       "    </tr>\n",
       "    <tr>\n",
       "      <th>108123</th>\n",
       "      <td>Óbito</td>\n",
       "      <td>2020-07-24</td>\n",
       "    </tr>\n",
       "    <tr>\n",
       "      <th>107461</th>\n",
       "      <td>Óbito</td>\n",
       "      <td>2020-07-30</td>\n",
       "    </tr>\n",
       "    <tr>\n",
       "      <th>107995</th>\n",
       "      <td>Óbito</td>\n",
       "      <td>2020-07-31</td>\n",
       "    </tr>\n",
       "  </tbody>\n",
       "</table>\n",
       "<p>33925 rows × 2 columns</p>\n",
       "</div>"
      ],
      "text/plain": [
       "        _conclusao _dt_notificacao\n",
       "107318  Recuperado      2020-01-30\n",
       "107538  Recuperado      2020-02-04\n",
       "77211   Recuperado      2020-02-16\n",
       "107435  Recuperado      2020-02-28\n",
       "34841   Recuperado      2020-02-28\n",
       "...            ...             ...\n",
       "108023       Óbito      2020-07-21\n",
       "107433       Óbito      2020-07-24\n",
       "108123       Óbito      2020-07-24\n",
       "107461       Óbito      2020-07-30\n",
       "107995       Óbito      2020-07-31\n",
       "\n",
       "[33925 rows x 2 columns]"
      ]
     },
     "execution_count": 639,
     "metadata": {},
     "output_type": "execute_result"
    }
   ],
   "source": [
    "rec_per_day_sorted"
   ]
  },
  {
   "cell_type": "code",
   "execution_count": 646,
   "metadata": {},
   "outputs": [],
   "source": [
    "ora_porra = rec_per_day_sorted[rec_per_day_sorted._conclusao == 'Recuperado'].groupby('_dt_notificacao').count()"
   ]
  },
  {
   "cell_type": "code",
   "execution_count": 648,
   "metadata": {},
   "outputs": [
    {
     "data": {
      "text/html": [
       "<div>\n",
       "<style scoped>\n",
       "    .dataframe tbody tr th:only-of-type {\n",
       "        vertical-align: middle;\n",
       "    }\n",
       "\n",
       "    .dataframe tbody tr th {\n",
       "        vertical-align: top;\n",
       "    }\n",
       "\n",
       "    .dataframe thead th {\n",
       "        text-align: right;\n",
       "    }\n",
       "</style>\n",
       "<table border=\"1\" class=\"dataframe\">\n",
       "  <thead>\n",
       "    <tr style=\"text-align: right;\">\n",
       "      <th></th>\n",
       "      <th>_conclusao</th>\n",
       "    </tr>\n",
       "    <tr>\n",
       "      <th>_dt_notificacao</th>\n",
       "      <th></th>\n",
       "    </tr>\n",
       "  </thead>\n",
       "  <tbody>\n",
       "    <tr>\n",
       "      <th>2020-06-27</th>\n",
       "      <td>260</td>\n",
       "    </tr>\n",
       "    <tr>\n",
       "      <th>2020-06-28</th>\n",
       "      <td>41</td>\n",
       "    </tr>\n",
       "    <tr>\n",
       "      <th>2020-06-29</th>\n",
       "      <td>628</td>\n",
       "    </tr>\n",
       "    <tr>\n",
       "      <th>2020-06-30</th>\n",
       "      <td>598</td>\n",
       "    </tr>\n",
       "    <tr>\n",
       "      <th>2020-07-01</th>\n",
       "      <td>373</td>\n",
       "    </tr>\n",
       "    <tr>\n",
       "      <th>2020-07-02</th>\n",
       "      <td>488</td>\n",
       "    </tr>\n",
       "    <tr>\n",
       "      <th>2020-07-03</th>\n",
       "      <td>555</td>\n",
       "    </tr>\n",
       "    <tr>\n",
       "      <th>2020-07-04</th>\n",
       "      <td>136</td>\n",
       "    </tr>\n",
       "    <tr>\n",
       "      <th>2020-07-05</th>\n",
       "      <td>36</td>\n",
       "    </tr>\n",
       "    <tr>\n",
       "      <th>2020-07-06</th>\n",
       "      <td>494</td>\n",
       "    </tr>\n",
       "  </tbody>\n",
       "</table>\n",
       "</div>"
      ],
      "text/plain": [
       "                 _conclusao\n",
       "_dt_notificacao            \n",
       "2020-06-27              260\n",
       "2020-06-28               41\n",
       "2020-06-29              628\n",
       "2020-06-30              598\n",
       "2020-07-01              373\n",
       "2020-07-02              488\n",
       "2020-07-03              555\n",
       "2020-07-04              136\n",
       "2020-07-05               36\n",
       "2020-07-06              494"
      ]
     },
     "execution_count": 648,
     "metadata": {},
     "output_type": "execute_result"
    }
   ],
   "source": [
    "ora_porra.tail(10)"
   ]
  },
  {
   "cell_type": "code",
   "execution_count": 658,
   "metadata": {},
   "outputs": [],
   "source": [
    "aux = list(ora_porra.tail(10).values.flatten())"
   ]
  },
  {
   "cell_type": "code",
   "execution_count": 661,
   "metadata": {},
   "outputs": [
    {
     "name": "stdout",
     "output_type": "stream",
     "text": [
      "[0, 1, 0, 0, 0, 0, 0, 0, 0, 0]\n"
     ]
    }
   ],
   "source": [
    "diff2 = [bar_days[i] - aux[i] for i in range(10)]\n",
    "print(diff2)"
   ]
  },
  {
   "cell_type": "code",
   "execution_count": 669,
   "metadata": {},
   "outputs": [
    {
     "data": {
      "text/plain": [
       "Text(0, 0.5, 'Date')"
      ]
     },
     "execution_count": 669,
     "metadata": {},
     "output_type": "execute_result"
    },
    {
     "data": {
      "image/png": "[encoded data removed]",
      "text/plain": [
       "<Figure size 864x432 with 1 Axes>"
      ]
     },
     "metadata": {
      "needs_background": "light"
     },
     "output_type": "display_data"
    }
   ],
   "source": [
    "y_axis = days \n",
    "x_axis = aux\n",
    "  \n",
    "# Figure Size \n",
    "fig, ax = plt.subplots(figsize =(12, 6)) \n",
    "  \n",
    "# Horizontal Bar Plot \n",
    "ax.barh(y_axis, x_axis) \n",
    "  \n",
    "# Remove axes splines \n",
    "for s in ['top', 'bottom', 'left', 'right']: \n",
    "    ax.spines[s].set_visible(False) \n",
    "\n",
    "# Remove y ticks\n",
    "ax.yaxis.set_ticks_position('none') \n",
    "  \n",
    "# Add padding between axes and labels \n",
    "ax.xaxis.set_tick_params(pad = 5) \n",
    "ax.yaxis.set_tick_params(pad = 10) \n",
    "  \n",
    "# Add x, y gridlines \n",
    "ax.grid(b = True, color ='grey', linestyle ='-.', linewidth = 0.5, alpha = 0.2) \n",
    "  \n",
    "# Show at middle\n",
    "ax.invert_yaxis() \n",
    "  \n",
    "# Add annotation to bars\n",
    "clr = 'black'\n",
    "difa = 'inicial'\n",
    "for i, j in zip(ax.patches, range(10)):\n",
    "    if j > 0:    \n",
    "        if diff2[j] > 0:\n",
    "            clr = 'red'\n",
    "            difa = str(diff2[j]) + ' deaths'\n",
    "        elif diff2[j] <= 0:\n",
    "            clr = 'green'\n",
    "            difa = str(diff2[j]) + ' deaths'\n",
    "        else:\n",
    "            clr = 'black'\n",
    "    plt.text(i.get_width()+5, i.get_y()+0.5,  \n",
    "             str(i.get_width()) + f' ({difa})', \n",
    "             fontsize = 14, fontweight ='normal', \n",
    "             color = clr) \n",
    "    \n",
    "# Add Plot Title \n",
    "ax.set_title('# of recovered cases per day', loc ='center') \n",
    "ax.set_xlabel('# of cases')\n",
    "ax.set_ylabel('Date')"
   ]
  },
  {
   "cell_type": "code",
   "execution_count": 656,
   "metadata": {},
   "outputs": [],
   "source": []
  }
 ],
 "metadata": {
  "kernelspec": {
   "display_name": "Python 3",
   "language": "python",
   "name": "python3"
  },
  "language_info": {
   "codemirror_mode": {
    "name": "ipython",
    "version": 3
   },
   "file_extension": ".py",
   "mimetype": "text/x-python",
   "name": "python",
   "nbconvert_exporter": "python",
   "pygments_lexer": "ipython3",
   "version": "3.7.7"
  }
 },
 "nbformat": 4,
 "nbformat_minor": 4
}

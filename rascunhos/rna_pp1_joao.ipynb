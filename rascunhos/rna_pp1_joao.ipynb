{
 "cells": [
  {
   "cell_type": "code",
   "execution_count": 1,
   "metadata": {},
   "outputs": [],
   "source": [
    "import pandas as pd\n",
    "import seaborn as sbn\n",
    "import numpy as np\n",
    "from matplotlib import pyplot as plt"
   ]
  },
  {
   "cell_type": "markdown",
   "metadata": {},
   "source": [
    "#### Reading dataset"
   ]
  },
  {
   "cell_type": "code",
   "execution_count": 4,
   "metadata": {},
   "outputs": [],
   "source": [
    "df = pd.read_csv(\"dataset_covid_manaus.csv\", delimiter = ';', encoding = 'ISO-8859-1')"
   ]
  },
  {
   "cell_type": "code",
   "execution_count": 20,
   "metadata": {},
   "outputs": [
    {
     "data": {
      "text/html": [
       "<div>\n",
       "<style scoped>\n",
       "    .dataframe tbody tr th:only-of-type {\n",
       "        vertical-align: middle;\n",
       "    }\n",
       "\n",
       "    .dataframe tbody tr th {\n",
       "        vertical-align: top;\n",
       "    }\n",
       "\n",
       "    .dataframe thead th {\n",
       "        text-align: right;\n",
       "    }\n",
       "</style>\n",
       "<table border=\"1\" class=\"dataframe\">\n",
       "  <thead>\n",
       "    <tr style=\"text-align: right;\">\n",
       "      <th></th>\n",
       "      <th>_idade</th>\n",
       "      <th>_faixa etária</th>\n",
       "      <th>_sexo</th>\n",
       "      <th>_bairro</th>\n",
       "      <th>_classificacao</th>\n",
       "      <th>_comorb_renal</th>\n",
       "      <th>_comorb_diabetes</th>\n",
       "      <th>_comorb_imuno</th>\n",
       "      <th>_comorb_cardio</th>\n",
       "      <th>_conclusao</th>\n",
       "      <th>...</th>\n",
       "      <th>_distrito</th>\n",
       "      <th>_bairro_mapa</th>\n",
       "      <th>_comorb_respiratoria</th>\n",
       "      <th>_comorb_cromossomica</th>\n",
       "      <th>_comorb_hepatica</th>\n",
       "      <th>_comorb_neurologica</th>\n",
       "      <th>_comorb_hemato</th>\n",
       "      <th>_comorb_obessidade</th>\n",
       "      <th>_origem</th>\n",
       "      <th>_evolução</th>\n",
       "    </tr>\n",
       "  </thead>\n",
       "  <tbody>\n",
       "    <tr>\n",
       "      <th>37451</th>\n",
       "      <td>46.0</td>\n",
       "      <td>40a - 49a</td>\n",
       "      <td>M</td>\n",
       "      <td>JAPIIM II</td>\n",
       "      <td>Confirmado</td>\n",
       "      <td>Não</td>\n",
       "      <td>Não</td>\n",
       "      <td>Não</td>\n",
       "      <td>Não</td>\n",
       "      <td>NaN</td>\n",
       "      <td>...</td>\n",
       "      <td>SUL</td>\n",
       "      <td>JAPIIM</td>\n",
       "      <td>Não</td>\n",
       "      <td>Não</td>\n",
       "      <td>NaN</td>\n",
       "      <td>NaN</td>\n",
       "      <td>NaN</td>\n",
       "      <td>NaN</td>\n",
       "      <td>eSUS VE,</td>\n",
       "      <td>NaN</td>\n",
       "    </tr>\n",
       "    <tr>\n",
       "      <th>57921</th>\n",
       "      <td>34.0</td>\n",
       "      <td>30a - 39a</td>\n",
       "      <td>F</td>\n",
       "      <td>SANTAREMZINHO</td>\n",
       "      <td>Confirmado</td>\n",
       "      <td>Não</td>\n",
       "      <td>Não</td>\n",
       "      <td>Não</td>\n",
       "      <td>Não</td>\n",
       "      <td>NaN</td>\n",
       "      <td>...</td>\n",
       "      <td>NaN</td>\n",
       "      <td>NaN</td>\n",
       "      <td>Não</td>\n",
       "      <td>Não</td>\n",
       "      <td>NaN</td>\n",
       "      <td>NaN</td>\n",
       "      <td>NaN</td>\n",
       "      <td>NaN</td>\n",
       "      <td>eSUS VE,</td>\n",
       "      <td>NaN</td>\n",
       "    </tr>\n",
       "    <tr>\n",
       "      <th>39</th>\n",
       "      <td>43.0</td>\n",
       "      <td>40a - 49a</td>\n",
       "      <td>M</td>\n",
       "      <td>NaN</td>\n",
       "      <td>Confirmado</td>\n",
       "      <td>Não</td>\n",
       "      <td>Não</td>\n",
       "      <td>Não</td>\n",
       "      <td>Não</td>\n",
       "      <td>NaN</td>\n",
       "      <td>...</td>\n",
       "      <td>NaN</td>\n",
       "      <td>NaN</td>\n",
       "      <td>Não</td>\n",
       "      <td>Não</td>\n",
       "      <td>NaN</td>\n",
       "      <td>NaN</td>\n",
       "      <td>NaN</td>\n",
       "      <td>NaN</td>\n",
       "      <td>eSUS VE,</td>\n",
       "      <td>NaN</td>\n",
       "    </tr>\n",
       "    <tr>\n",
       "      <th>93257</th>\n",
       "      <td>34.0</td>\n",
       "      <td>30a - 39a</td>\n",
       "      <td>F</td>\n",
       "      <td>JORGE TEIXEIRA</td>\n",
       "      <td>Confirmado</td>\n",
       "      <td>NaN</td>\n",
       "      <td>NaN</td>\n",
       "      <td>NaN</td>\n",
       "      <td>NaN</td>\n",
       "      <td>Recuperado</td>\n",
       "      <td>...</td>\n",
       "      <td>LESTE</td>\n",
       "      <td>JORGE TEIXEIRA</td>\n",
       "      <td>NaN</td>\n",
       "      <td>NaN</td>\n",
       "      <td>NaN</td>\n",
       "      <td>NaN</td>\n",
       "      <td>NaN</td>\n",
       "      <td>NaN</td>\n",
       "      <td>GAL</td>\n",
       "      <td>NaN</td>\n",
       "    </tr>\n",
       "    <tr>\n",
       "      <th>104596</th>\n",
       "      <td>69.0</td>\n",
       "      <td>60a - 69a</td>\n",
       "      <td>F</td>\n",
       "      <td>COMPENSA</td>\n",
       "      <td>Confirmado</td>\n",
       "      <td>NaN</td>\n",
       "      <td>NaN</td>\n",
       "      <td>NaN</td>\n",
       "      <td>NaN</td>\n",
       "      <td>Recuperado</td>\n",
       "      <td>...</td>\n",
       "      <td>OESTE</td>\n",
       "      <td>COMPENSA</td>\n",
       "      <td>NaN</td>\n",
       "      <td>NaN</td>\n",
       "      <td>NaN</td>\n",
       "      <td>NaN</td>\n",
       "      <td>NaN</td>\n",
       "      <td>NaN</td>\n",
       "      <td>SIVEP,</td>\n",
       "      <td>NaN</td>\n",
       "    </tr>\n",
       "    <tr>\n",
       "      <th>17470</th>\n",
       "      <td>44.0</td>\n",
       "      <td>40a - 49a</td>\n",
       "      <td>F</td>\n",
       "      <td>PETROPOLIS</td>\n",
       "      <td>Em análise</td>\n",
       "      <td>Não</td>\n",
       "      <td>Não</td>\n",
       "      <td>Não</td>\n",
       "      <td>Não</td>\n",
       "      <td>Recuperado</td>\n",
       "      <td>...</td>\n",
       "      <td>SUL</td>\n",
       "      <td>PETRÓPOLIS</td>\n",
       "      <td>Não</td>\n",
       "      <td>Não</td>\n",
       "      <td>NaN</td>\n",
       "      <td>NaN</td>\n",
       "      <td>NaN</td>\n",
       "      <td>NaN</td>\n",
       "      <td>eSUS VE,</td>\n",
       "      <td>NaN</td>\n",
       "    </tr>\n",
       "    <tr>\n",
       "      <th>106184</th>\n",
       "      <td>44.0</td>\n",
       "      <td>40a - 49a</td>\n",
       "      <td>M</td>\n",
       "      <td>PRACA 14 DE JANEIRO</td>\n",
       "      <td>Confirmado</td>\n",
       "      <td>NaN</td>\n",
       "      <td>NaN</td>\n",
       "      <td>NaN</td>\n",
       "      <td>NaN</td>\n",
       "      <td>NaN</td>\n",
       "      <td>...</td>\n",
       "      <td>SUL</td>\n",
       "      <td>PRAÇA 14 DE JANEIRO</td>\n",
       "      <td>NaN</td>\n",
       "      <td>NaN</td>\n",
       "      <td>NaN</td>\n",
       "      <td>NaN</td>\n",
       "      <td>NaN</td>\n",
       "      <td>NaN</td>\n",
       "      <td>SIVEP,</td>\n",
       "      <td>Internado</td>\n",
       "    </tr>\n",
       "    <tr>\n",
       "      <th>37277</th>\n",
       "      <td>24.0</td>\n",
       "      <td>20a - 29a</td>\n",
       "      <td>F</td>\n",
       "      <td>DOM PEDRO</td>\n",
       "      <td>Em análise</td>\n",
       "      <td>Não</td>\n",
       "      <td>Não</td>\n",
       "      <td>Não</td>\n",
       "      <td>Não</td>\n",
       "      <td>Recuperado</td>\n",
       "      <td>...</td>\n",
       "      <td>OESTE</td>\n",
       "      <td>DOM PEDRO</td>\n",
       "      <td>Não</td>\n",
       "      <td>Não</td>\n",
       "      <td>NaN</td>\n",
       "      <td>NaN</td>\n",
       "      <td>NaN</td>\n",
       "      <td>NaN</td>\n",
       "      <td>eSUS VE,</td>\n",
       "      <td>NaN</td>\n",
       "    </tr>\n",
       "    <tr>\n",
       "      <th>104679</th>\n",
       "      <td>88.0</td>\n",
       "      <td>80a ou +</td>\n",
       "      <td>F</td>\n",
       "      <td>NOSSA SENHORA DAS GRACAS</td>\n",
       "      <td>Em análise</td>\n",
       "      <td>NaN</td>\n",
       "      <td>NaN</td>\n",
       "      <td>NaN</td>\n",
       "      <td>NaN</td>\n",
       "      <td>Recuperado</td>\n",
       "      <td>...</td>\n",
       "      <td>SUL</td>\n",
       "      <td>NOSSA SENHORA DAS GRAÇAS</td>\n",
       "      <td>NaN</td>\n",
       "      <td>NaN</td>\n",
       "      <td>NaN</td>\n",
       "      <td>NaN</td>\n",
       "      <td>NaN</td>\n",
       "      <td>NaN</td>\n",
       "      <td>SIVEP,</td>\n",
       "      <td>Internado</td>\n",
       "    </tr>\n",
       "    <tr>\n",
       "      <th>79117</th>\n",
       "      <td>18.0</td>\n",
       "      <td>15a - 19a</td>\n",
       "      <td>F</td>\n",
       "      <td>JORGE TEIXEIRA</td>\n",
       "      <td>Descartado</td>\n",
       "      <td>Não</td>\n",
       "      <td>Não</td>\n",
       "      <td>Não</td>\n",
       "      <td>Não</td>\n",
       "      <td>NaN</td>\n",
       "      <td>...</td>\n",
       "      <td>LESTE</td>\n",
       "      <td>JORGE TEIXEIRA</td>\n",
       "      <td>Não</td>\n",
       "      <td>Não</td>\n",
       "      <td>NaN</td>\n",
       "      <td>NaN</td>\n",
       "      <td>NaN</td>\n",
       "      <td>NaN</td>\n",
       "      <td>eSUS VE,</td>\n",
       "      <td>NaN</td>\n",
       "    </tr>\n",
       "  </tbody>\n",
       "</table>\n",
       "<p>10 rows × 36 columns</p>\n",
       "</div>"
      ],
      "text/plain": [
       "        _idade _faixa etária _sexo                   _bairro _classificacao  \\\n",
       "37451     46.0     40a - 49a     M                 JAPIIM II     Confirmado   \n",
       "57921     34.0     30a - 39a     F             SANTAREMZINHO     Confirmado   \n",
       "39        43.0     40a - 49a     M                       NaN     Confirmado   \n",
       "93257     34.0     30a - 39a     F            JORGE TEIXEIRA     Confirmado   \n",
       "104596    69.0     60a - 69a     F                  COMPENSA     Confirmado   \n",
       "17470     44.0     40a - 49a     F                PETROPOLIS     Em análise   \n",
       "106184    44.0     40a - 49a     M       PRACA 14 DE JANEIRO     Confirmado   \n",
       "37277     24.0     20a - 29a     F                 DOM PEDRO     Em análise   \n",
       "104679    88.0      80a ou +     F  NOSSA SENHORA DAS GRACAS     Em análise   \n",
       "79117     18.0     15a - 19a     F            JORGE TEIXEIRA     Descartado   \n",
       "\n",
       "       _comorb_renal _comorb_diabetes _comorb_imuno _comorb_cardio  \\\n",
       "37451            Não              Não           Não            Não   \n",
       "57921            Não              Não           Não            Não   \n",
       "39               Não              Não           Não            Não   \n",
       "93257            NaN              NaN           NaN            NaN   \n",
       "104596           NaN              NaN           NaN            NaN   \n",
       "17470            Não              Não           Não            Não   \n",
       "106184           NaN              NaN           NaN            NaN   \n",
       "37277            Não              Não           Não            Não   \n",
       "104679           NaN              NaN           NaN            NaN   \n",
       "79117            Não              Não           Não            Não   \n",
       "\n",
       "        _conclusao  ... _distrito              _bairro_mapa  \\\n",
       "37451          NaN  ...       SUL                    JAPIIM   \n",
       "57921          NaN  ...       NaN                       NaN   \n",
       "39             NaN  ...       NaN                       NaN   \n",
       "93257   Recuperado  ...     LESTE            JORGE TEIXEIRA   \n",
       "104596  Recuperado  ...     OESTE                  COMPENSA   \n",
       "17470   Recuperado  ...       SUL                PETRÓPOLIS   \n",
       "106184         NaN  ...       SUL       PRAÇA 14 DE JANEIRO   \n",
       "37277   Recuperado  ...     OESTE                 DOM PEDRO   \n",
       "104679  Recuperado  ...       SUL  NOSSA SENHORA DAS GRAÇAS   \n",
       "79117          NaN  ...     LESTE            JORGE TEIXEIRA   \n",
       "\n",
       "       _comorb_respiratoria _comorb_cromossomica _comorb_hepatica  \\\n",
       "37451                   Não                  Não              NaN   \n",
       "57921                   Não                  Não              NaN   \n",
       "39                      Não                  Não              NaN   \n",
       "93257                   NaN                  NaN              NaN   \n",
       "104596                  NaN                  NaN              NaN   \n",
       "17470                   Não                  Não              NaN   \n",
       "106184                  NaN                  NaN              NaN   \n",
       "37277                   Não                  Não              NaN   \n",
       "104679                  NaN                  NaN              NaN   \n",
       "79117                   Não                  Não              NaN   \n",
       "\n",
       "       _comorb_neurologica _comorb_hemato _comorb_obessidade    _origem  \\\n",
       "37451                  NaN            NaN                NaN  eSUS VE,    \n",
       "57921                  NaN            NaN                NaN  eSUS VE,    \n",
       "39                     NaN            NaN                NaN  eSUS VE,    \n",
       "93257                  NaN            NaN                NaN        GAL   \n",
       "104596                 NaN            NaN                NaN    SIVEP,    \n",
       "17470                  NaN            NaN                NaN  eSUS VE,    \n",
       "106184                 NaN            NaN                NaN    SIVEP,    \n",
       "37277                  NaN            NaN                NaN  eSUS VE,    \n",
       "104679                 NaN            NaN                NaN    SIVEP,    \n",
       "79117                  NaN            NaN                NaN  eSUS VE,    \n",
       "\n",
       "        _evolução  \n",
       "37451         NaN  \n",
       "57921         NaN  \n",
       "39            NaN  \n",
       "93257         NaN  \n",
       "104596        NaN  \n",
       "17470         NaN  \n",
       "106184  Internado  \n",
       "37277         NaN  \n",
       "104679  Internado  \n",
       "79117         NaN  \n",
       "\n",
       "[10 rows x 36 columns]"
      ]
     },
     "execution_count": 20,
     "metadata": {},
     "output_type": "execute_result"
    }
   ],
   "source": [
    "df.sample(10)"
   ]
  },
  {
   "cell_type": "markdown",
   "metadata": {},
   "source": [
    "#### 2.1.1 How many attributes per row? Which are its names?"
   ]
  },
  {
   "cell_type": "code",
   "execution_count": 15,
   "metadata": {},
   "outputs": [
    {
     "data": {
      "text/plain": [
       "Index(['_idade', '_faixa etária', '_sexo', '_bairro', '_classificacao',\n",
       "       '_comorb_renal', '_comorb_diabetes', '_comorb_imuno', '_comorb_cardio',\n",
       "       '_conclusao', '_dt_notificacao', '_taxa', '_dt_evolucao', '_raca',\n",
       "       '_dt_sintomas', '_criterio', '_tipo_teste', '_sintoma_garganta',\n",
       "       '_sintoma_dispneia', '_sintoma_febre', '_sintoma_tosse',\n",
       "       '_sintoma_outros', '_etnia', '_profiss_saude', '_srag',\n",
       "       '_se_notificacao', '_distrito', '_bairro_mapa', '_comorb_respiratoria',\n",
       "       '_comorb_cromossomica', '_comorb_hepatica', '_comorb_neurologica',\n",
       "       '_comorb_hemato', '_comorb_obessidade', '_origem', '_evolução'],\n",
       "      dtype='object')"
      ]
     },
     "execution_count": 15,
     "metadata": {},
     "output_type": "execute_result"
    }
   ],
   "source": [
    "df.columns"
   ]
  },
  {
   "cell_type": "code",
   "execution_count": 16,
   "metadata": {},
   "outputs": [
    {
     "name": "stdout",
     "output_type": "stream",
     "text": [
      "36\n"
     ]
    }
   ],
   "source": [
    "print(len(df.columns))"
   ]
  },
  {
   "cell_type": "markdown",
   "metadata": {},
   "source": [
    "#### 2.1.2 How many confirmed cases are show in the table?"
   ]
  },
  {
   "cell_type": "code",
   "execution_count": 28,
   "metadata": {},
   "outputs": [
    {
     "data": {
      "text/plain": [
       "36947"
      ]
     },
     "execution_count": 28,
     "metadata": {},
     "output_type": "execute_result"
    }
   ],
   "source": [
    "df[df._classificacao == 'Confirmado'].shape[0]"
   ]
  },
  {
   "cell_type": "markdown",
   "metadata": {},
   "source": [
    "#### 2.1.3 What is the oldest case. And the newest?"
   ]
  },
  {
   "cell_type": "code",
   "execution_count": 32,
   "metadata": {},
   "outputs": [
    {
     "data": {
      "text/plain": [
       "0         04/05/2020\n",
       "1         01/05/2020\n",
       "2         04/05/2020\n",
       "3         04/05/2020\n",
       "4         04/05/2020\n",
       "             ...    \n",
       "108346    01/06/2020\n",
       "108347    25/05/2020\n",
       "108348    04/05/2020\n",
       "108349    05/06/2020\n",
       "108350    03/04/2020\n",
       "Name: _dt_notificacao, Length: 108351, dtype: object"
      ]
     },
     "execution_count": 32,
     "metadata": {},
     "output_type": "execute_result"
    }
   ],
   "source": [
    "df['_dt_notificacao']"
   ]
  },
  {
   "cell_type": "code",
   "execution_count": 47,
   "metadata": {},
   "outputs": [],
   "source": [
    "sorted_dates = np.array(df['_dt_notificacao'].sort_values(na_position='first'))"
   ]
  },
  {
   "cell_type": "code",
   "execution_count": 71,
   "metadata": {},
   "outputs": [],
   "source": [
    "sorted_dates_no_nan = np.array([e for e in sorted_dates if pd.isnull(e) is False])"
   ]
  },
  {
   "cell_type": "code",
   "execution_count": 73,
   "metadata": {},
   "outputs": [
    {
     "data": {
      "text/plain": [
       "'01/03/2020'"
      ]
     },
     "execution_count": 73,
     "metadata": {},
     "output_type": "execute_result"
    }
   ],
   "source": [
    "sorted_dates_no_nan[0]"
   ]
  },
  {
   "cell_type": "code",
   "execution_count": 74,
   "metadata": {},
   "outputs": [
    {
     "data": {
      "text/plain": [
       "'31/07/2020'"
      ]
     },
     "execution_count": 74,
     "metadata": {},
     "output_type": "execute_result"
    }
   ],
   "source": [
    "sorted_dates_no_nan[len(sorted_dates_no_nan)-1]"
   ]
  },
  {
   "cell_type": "markdown",
   "metadata": {},
   "source": [
    "#### Deleting rows and columns which are not useful for our purposes"
   ]
  },
  {
   "cell_type": "code",
   "execution_count": 86,
   "metadata": {},
   "outputs": [],
   "source": [
    "attributes_we_want = ['_idade', '_sexo', '_bairro', '_classificacao', '_dt_notificacao', '_tipo_teste', '_conclusao']"
   ]
  },
  {
   "cell_type": "code",
   "execution_count": 93,
   "metadata": {
    "scrolled": true
   },
   "outputs": [
    {
     "name": "stdout",
     "output_type": "stream",
     "text": [
      "['_faixa etária', '_comorb_renal', '_comorb_diabetes', '_comorb_imuno', '_comorb_cardio', '_taxa', '_dt_evolucao', '_raca', '_dt_sintomas', '_criterio', '_sintoma_garganta', '_sintoma_dispneia', '_sintoma_febre', '_sintoma_tosse', '_sintoma_outros', '_etnia', '_profiss_saude', '_srag', '_se_notificacao', '_distrito', '_bairro_mapa', '_comorb_respiratoria', '_comorb_cromossomica', '_comorb_hepatica', '_comorb_neurologica', '_comorb_hemato', '_comorb_obessidade', '_origem', '_evolução']\n"
     ]
    }
   ],
   "source": [
    "supp = []\n",
    "\n",
    "for a in list(df.columns):\n",
    "    if a in attributes_we_want:\n",
    "        continue\n",
    "    else:\n",
    "        supp.append(a)\n",
    "        \n",
    "print(supp)"
   ]
  },
  {
   "cell_type": "code",
   "execution_count": 107,
   "metadata": {},
   "outputs": [],
   "source": [
    "clean_df = df.drop(['_faixa etária', '_comorb_renal', '_comorb_diabetes', '_comorb_imuno', '_comorb_cardio', '_taxa', '_dt_evolucao', '_raca', '_dt_sintomas', '_criterio', '_sintoma_garganta', '_sintoma_dispneia', '_sintoma_febre', '_sintoma_tosse', '_sintoma_outros', '_etnia', '_profiss_saude', '_srag', '_se_notificacao', '_distrito', '_bairro_mapa', '_comorb_respiratoria', '_comorb_cromossomica', '_comorb_hepatica', '_comorb_neurologica', '_comorb_hemato', '_comorb_obessidade', '_origem', '_evolução'], axis=1)"
   ]
  },
  {
   "cell_type": "code",
   "execution_count": 110,
   "metadata": {},
   "outputs": [
    {
     "data": {
      "text/html": [
       "<div>\n",
       "<style scoped>\n",
       "    .dataframe tbody tr th:only-of-type {\n",
       "        vertical-align: middle;\n",
       "    }\n",
       "\n",
       "    .dataframe tbody tr th {\n",
       "        vertical-align: top;\n",
       "    }\n",
       "\n",
       "    .dataframe thead th {\n",
       "        text-align: right;\n",
       "    }\n",
       "</style>\n",
       "<table border=\"1\" class=\"dataframe\">\n",
       "  <thead>\n",
       "    <tr style=\"text-align: right;\">\n",
       "      <th></th>\n",
       "      <th>_idade</th>\n",
       "      <th>_sexo</th>\n",
       "      <th>_bairro</th>\n",
       "      <th>_classificacao</th>\n",
       "      <th>_conclusao</th>\n",
       "      <th>_dt_notificacao</th>\n",
       "      <th>_tipo_teste</th>\n",
       "    </tr>\n",
       "  </thead>\n",
       "  <tbody>\n",
       "    <tr>\n",
       "      <th>0</th>\n",
       "      <td>37.0</td>\n",
       "      <td>F</td>\n",
       "      <td>CONJ. CIDADAO 10</td>\n",
       "      <td>Confirmado</td>\n",
       "      <td>NaN</td>\n",
       "      <td>04/05/2020</td>\n",
       "      <td>TESTE RÁPIDO - ANTÍGENO</td>\n",
       "    </tr>\n",
       "    <tr>\n",
       "      <th>1</th>\n",
       "      <td>46.0</td>\n",
       "      <td>F</td>\n",
       "      <td>MORADA DO SOL</td>\n",
       "      <td>Descartado</td>\n",
       "      <td>Recuperado</td>\n",
       "      <td>01/05/2020</td>\n",
       "      <td>TESTE RÁPIDO - ANTÍGENO</td>\n",
       "    </tr>\n",
       "    <tr>\n",
       "      <th>2</th>\n",
       "      <td>51.0</td>\n",
       "      <td>F</td>\n",
       "      <td>NaN</td>\n",
       "      <td>Confirmado</td>\n",
       "      <td>NaN</td>\n",
       "      <td>04/05/2020</td>\n",
       "      <td>TESTE RÁPIDO - ANTICORPO</td>\n",
       "    </tr>\n",
       "    <tr>\n",
       "      <th>3</th>\n",
       "      <td>74.0</td>\n",
       "      <td>M</td>\n",
       "      <td>NaN</td>\n",
       "      <td>Confirmado</td>\n",
       "      <td>NaN</td>\n",
       "      <td>04/05/2020</td>\n",
       "      <td>TESTE RÁPIDO - ANTICORPO</td>\n",
       "    </tr>\n",
       "    <tr>\n",
       "      <th>4</th>\n",
       "      <td>51.0</td>\n",
       "      <td>F</td>\n",
       "      <td>ALEIXO</td>\n",
       "      <td>Confirmado</td>\n",
       "      <td>NaN</td>\n",
       "      <td>04/05/2020</td>\n",
       "      <td>TESTE RÁPIDO - ANTICORPO</td>\n",
       "    </tr>\n",
       "  </tbody>\n",
       "</table>\n",
       "</div>"
      ],
      "text/plain": [
       "   _idade _sexo           _bairro _classificacao  _conclusao _dt_notificacao  \\\n",
       "0    37.0     F  CONJ. CIDADAO 10     Confirmado         NaN      04/05/2020   \n",
       "1    46.0     F     MORADA DO SOL     Descartado  Recuperado      01/05/2020   \n",
       "2    51.0     F               NaN     Confirmado         NaN      04/05/2020   \n",
       "3    74.0     M               NaN     Confirmado         NaN      04/05/2020   \n",
       "4    51.0     F            ALEIXO     Confirmado         NaN      04/05/2020   \n",
       "\n",
       "                _tipo_teste  \n",
       "0   TESTE RÁPIDO - ANTÍGENO  \n",
       "1   TESTE RÁPIDO - ANTÍGENO  \n",
       "2  TESTE RÁPIDO - ANTICORPO  \n",
       "3  TESTE RÁPIDO - ANTICORPO  \n",
       "4  TESTE RÁPIDO - ANTICORPO  "
      ]
     },
     "execution_count": 110,
     "metadata": {},
     "output_type": "execute_result"
    }
   ],
   "source": [
    "clean_df.head()"
   ]
  },
  {
   "cell_type": "code",
   "execution_count": 122,
   "metadata": {},
   "outputs": [],
   "source": [
    "clean_df = clean_df.dropna()"
   ]
  },
  {
   "cell_type": "code",
   "execution_count": 113,
   "metadata": {},
   "outputs": [
    {
     "data": {
      "text/html": [
       "<div>\n",
       "<style scoped>\n",
       "    .dataframe tbody tr th:only-of-type {\n",
       "        vertical-align: middle;\n",
       "    }\n",
       "\n",
       "    .dataframe tbody tr th {\n",
       "        vertical-align: top;\n",
       "    }\n",
       "\n",
       "    .dataframe thead th {\n",
       "        text-align: right;\n",
       "    }\n",
       "</style>\n",
       "<table border=\"1\" class=\"dataframe\">\n",
       "  <thead>\n",
       "    <tr style=\"text-align: right;\">\n",
       "      <th></th>\n",
       "      <th>_idade</th>\n",
       "      <th>_sexo</th>\n",
       "      <th>_bairro</th>\n",
       "      <th>_classificacao</th>\n",
       "      <th>_conclusao</th>\n",
       "      <th>_dt_notificacao</th>\n",
       "      <th>_tipo_teste</th>\n",
       "    </tr>\n",
       "  </thead>\n",
       "  <tbody>\n",
       "    <tr>\n",
       "      <th>1</th>\n",
       "      <td>46.0</td>\n",
       "      <td>F</td>\n",
       "      <td>MORADA DO SOL</td>\n",
       "      <td>Descartado</td>\n",
       "      <td>Recuperado</td>\n",
       "      <td>01/05/2020</td>\n",
       "      <td>TESTE RÁPIDO - ANTÍGENO</td>\n",
       "    </tr>\n",
       "    <tr>\n",
       "      <th>10</th>\n",
       "      <td>40.0</td>\n",
       "      <td>F</td>\n",
       "      <td>BETHANIA</td>\n",
       "      <td>Descartado</td>\n",
       "      <td>Recuperado</td>\n",
       "      <td>03/05/2020</td>\n",
       "      <td>TESTE RÁPIDO - ANTICORPO</td>\n",
       "    </tr>\n",
       "    <tr>\n",
       "      <th>14</th>\n",
       "      <td>35.0</td>\n",
       "      <td>F</td>\n",
       "      <td>CACHOEIRINHA</td>\n",
       "      <td>Descartado</td>\n",
       "      <td>Recuperado</td>\n",
       "      <td>03/05/2020</td>\n",
       "      <td>TESTE RÁPIDO - ANTICORPO</td>\n",
       "    </tr>\n",
       "    <tr>\n",
       "      <th>36</th>\n",
       "      <td>43.0</td>\n",
       "      <td>M</td>\n",
       "      <td>CHAPADA</td>\n",
       "      <td>Descartado</td>\n",
       "      <td>Recuperado</td>\n",
       "      <td>03/05/2020</td>\n",
       "      <td>RT-PCR</td>\n",
       "    </tr>\n",
       "    <tr>\n",
       "      <th>67</th>\n",
       "      <td>44.0</td>\n",
       "      <td>M</td>\n",
       "      <td>CHAPADA</td>\n",
       "      <td>Descartado</td>\n",
       "      <td>Recuperado</td>\n",
       "      <td>03/05/2020</td>\n",
       "      <td>TESTE RÁPIDO - ANTICORPO</td>\n",
       "    </tr>\n",
       "    <tr>\n",
       "      <th>...</th>\n",
       "      <td>...</td>\n",
       "      <td>...</td>\n",
       "      <td>...</td>\n",
       "      <td>...</td>\n",
       "      <td>...</td>\n",
       "      <td>...</td>\n",
       "      <td>...</td>\n",
       "    </tr>\n",
       "    <tr>\n",
       "      <th>108341</th>\n",
       "      <td>14.0</td>\n",
       "      <td>F</td>\n",
       "      <td>DA PAZ</td>\n",
       "      <td>Confirmado</td>\n",
       "      <td>Recuperado</td>\n",
       "      <td>25/06/2020</td>\n",
       "      <td>TESTE RÁPIDO - ANTÍGENO</td>\n",
       "    </tr>\n",
       "    <tr>\n",
       "      <th>108344</th>\n",
       "      <td>81.0</td>\n",
       "      <td>M</td>\n",
       "      <td>SANTA LUZIA</td>\n",
       "      <td>Descartado</td>\n",
       "      <td>Óbito</td>\n",
       "      <td>09/05/2020</td>\n",
       "      <td>RT-PCR</td>\n",
       "    </tr>\n",
       "    <tr>\n",
       "      <th>108346</th>\n",
       "      <td>68.0</td>\n",
       "      <td>M</td>\n",
       "      <td>JORGE TEIXEIRA</td>\n",
       "      <td>Confirmado</td>\n",
       "      <td>Recuperado</td>\n",
       "      <td>01/06/2020</td>\n",
       "      <td>RT-PCR</td>\n",
       "    </tr>\n",
       "    <tr>\n",
       "      <th>108349</th>\n",
       "      <td>45.0</td>\n",
       "      <td>F</td>\n",
       "      <td>TARUMA</td>\n",
       "      <td>Confirmado</td>\n",
       "      <td>Recuperado</td>\n",
       "      <td>05/06/2020</td>\n",
       "      <td>TESTE RÁPIDO - ANTICORPO</td>\n",
       "    </tr>\n",
       "    <tr>\n",
       "      <th>108350</th>\n",
       "      <td>68.0</td>\n",
       "      <td>M</td>\n",
       "      <td>NOVA ESPERANCA</td>\n",
       "      <td>Descartado</td>\n",
       "      <td>Recuperado</td>\n",
       "      <td>03/04/2020</td>\n",
       "      <td>RT-PCR</td>\n",
       "    </tr>\n",
       "  </tbody>\n",
       "</table>\n",
       "<p>33925 rows × 7 columns</p>\n",
       "</div>"
      ],
      "text/plain": [
       "        _idade _sexo         _bairro _classificacao  _conclusao  \\\n",
       "1         46.0     F   MORADA DO SOL     Descartado  Recuperado   \n",
       "10        40.0     F        BETHANIA     Descartado  Recuperado   \n",
       "14        35.0     F    CACHOEIRINHA     Descartado  Recuperado   \n",
       "36        43.0     M         CHAPADA     Descartado  Recuperado   \n",
       "67        44.0     M         CHAPADA     Descartado  Recuperado   \n",
       "...        ...   ...             ...            ...         ...   \n",
       "108341    14.0     F          DA PAZ     Confirmado  Recuperado   \n",
       "108344    81.0     M     SANTA LUZIA     Descartado       Óbito   \n",
       "108346    68.0     M  JORGE TEIXEIRA     Confirmado  Recuperado   \n",
       "108349    45.0     F          TARUMA     Confirmado  Recuperado   \n",
       "108350    68.0     M  NOVA ESPERANCA     Descartado  Recuperado   \n",
       "\n",
       "       _dt_notificacao               _tipo_teste  \n",
       "1           01/05/2020   TESTE RÁPIDO - ANTÍGENO  \n",
       "10          03/05/2020  TESTE RÁPIDO - ANTICORPO  \n",
       "14          03/05/2020  TESTE RÁPIDO - ANTICORPO  \n",
       "36          03/05/2020                    RT-PCR  \n",
       "67          03/05/2020  TESTE RÁPIDO - ANTICORPO  \n",
       "...                ...                       ...  \n",
       "108341      25/06/2020   TESTE RÁPIDO - ANTÍGENO  \n",
       "108344      09/05/2020                    RT-PCR  \n",
       "108346      01/06/2020                    RT-PCR  \n",
       "108349      05/06/2020  TESTE RÁPIDO - ANTICORPO  \n",
       "108350      03/04/2020                    RT-PCR  \n",
       "\n",
       "[33925 rows x 7 columns]"
      ]
     },
     "execution_count": 113,
     "metadata": {},
     "output_type": "execute_result"
    }
   ],
   "source": [
    "clean_df"
   ]
  },
  {
   "cell_type": "markdown",
   "metadata": {},
   "source": [
    "#### 2.2.1 How many rows and columns last after cleaning?"
   ]
  },
  {
   "cell_type": "code",
   "execution_count": 114,
   "metadata": {},
   "outputs": [
    {
     "data": {
      "text/plain": [
       "(33925, 7)"
      ]
     },
     "execution_count": 114,
     "metadata": {},
     "output_type": "execute_result"
    }
   ],
   "source": [
    "clean_df.shape"
   ]
  },
  {
   "cell_type": "markdown",
   "metadata": {},
   "source": [
    "#### 2.2.2 How many recovered people in percentage?"
   ]
  },
  {
   "cell_type": "code",
   "execution_count": 125,
   "metadata": {},
   "outputs": [
    {
     "name": "stdout",
     "output_type": "stream",
     "text": [
      "99.94104642593958\n"
     ]
    }
   ],
   "source": [
    "rec_series = clean_df[clean_df._conclusao == 'Recuperado']\n",
    "rec = len(rec_series)\n",
    "total = 33925\n",
    "ans = rec/total * 100.0\n",
    "print(ans)"
   ]
  },
  {
   "cell_type": "markdown",
   "metadata": {},
   "source": [
    "#### 2.2.3 Which genre had most confirmed cases?"
   ]
  },
  {
   "cell_type": "code",
   "execution_count": 139,
   "metadata": {},
   "outputs": [
    {
     "name": "stdout",
     "output_type": "stream",
     "text": [
      "Female cases: 3645\n",
      "Male cases: 2777\n"
     ]
    }
   ],
   "source": [
    "conf_cases = clean_df[clean_df._classificacao == 'Confirmado']\n",
    "\n",
    "male = conf_cases[conf_cases._sexo == 'M']\n",
    "fale = conf_cases[conf_cases._sexo == 'F']\n",
    "\n",
    "print(f\"Female cases: {len(fale)}\")\n",
    "print(f\"Male cases: {len(male)}\")"
   ]
  },
  {
   "cell_type": "markdown",
   "metadata": {},
   "source": [
    "#### 2.2.4 What is the youngest and oldest person who had a confirmed case? What is the mean and standard deviation of all confirmed cases?"
   ]
  },
  {
   "cell_type": "code",
   "execution_count": 141,
   "metadata": {},
   "outputs": [
    {
     "name": "stdout",
     "output_type": "stream",
     "text": [
      "Yougest: 0.0\n",
      "Oldest: 99.0\n"
     ]
    }
   ],
   "source": [
    "ages = np.sort(conf_cases._idade)\n",
    "print(f\"Yougest: {ages[0]}\")\n",
    "print(f\"Oldest: {ages[len(ages)-1]}\")"
   ]
  },
  {
   "cell_type": "code",
   "execution_count": 143,
   "metadata": {},
   "outputs": [
    {
     "name": "stdout",
     "output_type": "stream",
     "text": [
      "Mean: 41.433821239489255\n"
     ]
    }
   ],
   "source": [
    "print(f\"Mean: {np.mean(ages)}\")"
   ]
  },
  {
   "cell_type": "code",
   "execution_count": 144,
   "metadata": {},
   "outputs": [
    {
     "name": "stdout",
     "output_type": "stream",
     "text": [
      "Std: 14.155360848072508\n"
     ]
    }
   ],
   "source": [
    "print(f\"Std: {np.std(ages)}\")"
   ]
  },
  {
   "cell_type": "markdown",
   "metadata": {},
   "source": [
    "#### 2.2.5 Which neighbourhood had more confirmed cases?"
   ]
  },
  {
   "cell_type": "code",
   "execution_count": 244,
   "metadata": {},
   "outputs": [],
   "source": [
    "neigh_cases = conf_cases.groupby('_bairro')['_classificacao'].count()"
   ]
  },
  {
   "cell_type": "code",
   "execution_count": 233,
   "metadata": {},
   "outputs": [
    {
     "data": {
      "text/plain": [
       "_bairro\n",
       "CIDADE NOVA            301\n",
       "FLORES                 266\n",
       "TARUMA                 225\n",
       "PETROPOLIS             193\n",
       "ALEIXO                 172\n",
       "                      ... \n",
       "PAQUE 10                 1\n",
       "PAR DAS LARANJEIRA       1\n",
       "PARQ. DEZ DE NOVEMB      1\n",
       "PARQ. LARANJEIRAS        1\n",
       "ADRIANOPOLES             1\n",
       "Name: _classificacao, Length: 506, dtype: int64"
      ]
     },
     "execution_count": 233,
     "metadata": {},
     "output_type": "execute_result"
    }
   ],
   "source": [
    "neigh_cases.sort_values(ascending=False)"
   ]
  },
  {
   "cell_type": "markdown",
   "metadata": {},
   "source": [
    "#### 2.2.6 Which are top 3 neibourhood that had more recovered cases?"
   ]
  },
  {
   "cell_type": "code",
   "execution_count": 235,
   "metadata": {},
   "outputs": [],
   "source": [
    "neigh_cases_rec = conf_cases.groupby(['_bairro', '_conclusao'])['_classificacao'].count()"
   ]
  },
  {
   "cell_type": "code",
   "execution_count": 239,
   "metadata": {},
   "outputs": [
    {
     "data": {
      "text/plain": [
       "_bairro              _conclusao\n",
       "CIDADE NOVA          Recuperado    301\n",
       "FLORES               Recuperado    266\n",
       "TARUMA               Recuperado    225\n",
       "PETROPOLIS           Recuperado    192\n",
       "ALEIXO               Recuperado    171\n",
       "                                  ... \n",
       "PAQUE 10             Recuperado      1\n",
       "PAR DAS LARANJEIRA   Recuperado      1\n",
       "PARQ. DEZ DE NOVEMB  Recuperado      1\n",
       "PARQ. LARANJEIRAS    Recuperado      1\n",
       "ADRIANOPOLES         Recuperado      1\n",
       "Name: _classificacao, Length: 516, dtype: int64"
      ]
     },
     "execution_count": 239,
     "metadata": {},
     "output_type": "execute_result"
    }
   ],
   "source": [
    "neigh_cases_rec.sort_values(ascending=False)"
   ]
  },
  {
   "cell_type": "markdown",
   "metadata": {},
   "source": [
    "#### 2.2.7 What is the test applied types by name? Display the absolute and percetage values."
   ]
  },
  {
   "cell_type": "code",
   "execution_count": 250,
   "metadata": {},
   "outputs": [],
   "source": [
    "test_types = clean_df.groupby('_tipo_teste')['_tipo_teste'].count()"
   ]
  },
  {
   "cell_type": "code",
   "execution_count": 262,
   "metadata": {},
   "outputs": [
    {
     "data": {
      "text/plain": [
       "_tipo_teste\n",
       "ECLIA IgG                      11\n",
       "ELISA IgM                      27\n",
       "RT-PCR                       4720\n",
       "TESTE RÁPIDO - ANTICORPO    24756\n",
       "TESTE RÁPIDO - ANTÍGENO      4411\n",
       "Name: _tipo_teste, dtype: int64"
      ]
     },
     "execution_count": 262,
     "metadata": {},
     "output_type": "execute_result"
    }
   ],
   "source": [
    "test_types"
   ]
  },
  {
   "cell_type": "code",
   "execution_count": 264,
   "metadata": {},
   "outputs": [],
   "source": [
    "total_tests = np.sum(test_types)\n",
    "test_name = ['ECLIA IgG', 'ELISA IgM', 'RT-PCR', 'TESTE RÁPIDO - ANTICORPO', 'TESTE RÁPIDO - ANTÍGENO']"
   ]
  },
  {
   "cell_type": "code",
   "execution_count": 265,
   "metadata": {},
   "outputs": [],
   "source": [
    "perc_test = [(t/total_tests * 100) for t in test_types]"
   ]
  },
  {
   "cell_type": "code",
   "execution_count": 289,
   "metadata": {},
   "outputs": [],
   "source": [
    "arrado = np.array([test_name, test_types, perc_test])\n",
    "arrado = arrado.transpose()"
   ]
  },
  {
   "cell_type": "code",
   "execution_count": 291,
   "metadata": {},
   "outputs": [
    {
     "data": {
      "text/html": [
       "<div>\n",
       "<style scoped>\n",
       "    .dataframe tbody tr th:only-of-type {\n",
       "        vertical-align: middle;\n",
       "    }\n",
       "\n",
       "    .dataframe tbody tr th {\n",
       "        vertical-align: top;\n",
       "    }\n",
       "\n",
       "    .dataframe thead th {\n",
       "        text-align: right;\n",
       "    }\n",
       "</style>\n",
       "<table border=\"1\" class=\"dataframe\">\n",
       "  <thead>\n",
       "    <tr style=\"text-align: right;\">\n",
       "      <th></th>\n",
       "      <th>test_name</th>\n",
       "      <th>abs values</th>\n",
       "      <th>perc (%) values</th>\n",
       "    </tr>\n",
       "  </thead>\n",
       "  <tbody>\n",
       "    <tr>\n",
       "      <th>0</th>\n",
       "      <td>ECLIA IgG</td>\n",
       "      <td>11</td>\n",
       "      <td>0.032424465733235076</td>\n",
       "    </tr>\n",
       "    <tr>\n",
       "      <th>1</th>\n",
       "      <td>ELISA IgM</td>\n",
       "      <td>27</td>\n",
       "      <td>0.079587324981577</td>\n",
       "    </tr>\n",
       "    <tr>\n",
       "      <th>2</th>\n",
       "      <td>RT-PCR</td>\n",
       "      <td>4720</td>\n",
       "      <td>13.91304347826087</td>\n",
       "    </tr>\n",
       "    <tr>\n",
       "      <th>3</th>\n",
       "      <td>TESTE RÁPIDO - ANTICORPO</td>\n",
       "      <td>24756</td>\n",
       "      <td>72.97273397199704</td>\n",
       "    </tr>\n",
       "    <tr>\n",
       "      <th>4</th>\n",
       "      <td>TESTE RÁPIDO - ANTÍGENO</td>\n",
       "      <td>4411</td>\n",
       "      <td>13.002210759027266</td>\n",
       "    </tr>\n",
       "  </tbody>\n",
       "</table>\n",
       "</div>"
      ],
      "text/plain": [
       "                  test_name abs values       perc (%) values\n",
       "0                 ECLIA IgG         11  0.032424465733235076\n",
       "1                 ELISA IgM         27     0.079587324981577\n",
       "2                    RT-PCR       4720     13.91304347826087\n",
       "3  TESTE RÁPIDO - ANTICORPO      24756     72.97273397199704\n",
       "4   TESTE RÁPIDO - ANTÍGENO       4411    13.002210759027266"
      ]
     },
     "execution_count": 291,
     "metadata": {},
     "output_type": "execute_result"
    }
   ],
   "source": [
    "pd.DataFrame(arrado, columns=['test_name', 'abs values', 'perc (%) values'])"
   ]
  },
  {
   "cell_type": "code",
   "execution_count": null,
   "metadata": {},
   "outputs": [],
   "source": []
  }
 ],
 "metadata": {
  "kernelspec": {
   "display_name": "Python 3",
   "language": "python",
   "name": "python3"
  },
  "language_info": {
   "codemirror_mode": {
    "name": "ipython",
    "version": 3
   },
   "file_extension": ".py",
   "mimetype": "text/x-python",
   "name": "python",
   "nbconvert_exporter": "python",
   "pygments_lexer": "ipython3",
   "version": "3.7.7"
  }
 },
 "nbformat": 4,
 "nbformat_minor": 4
}

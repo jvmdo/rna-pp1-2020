{
 "cells": [
  {
   "cell_type": "code",
   "execution_count": 1,
   "metadata": {},
   "outputs": [],
   "source": [
    "import pandas as pd\n",
    "import seaborn as sbn\n",
    "import numpy as np\n",
    "from matplotlib import pyplot as plt"
   ]
  },
  {
   "cell_type": "markdown",
   "metadata": {},
   "source": [
    "#### Reading dataset"
   ]
  },
  {
   "cell_type": "code",
   "execution_count": 2,
   "metadata": {},
   "outputs": [],
   "source": [
    "df = pd.read_csv(\"dataset_covid_manaus.csv\", delimiter = ';', encoding = 'ISO-8859-1', low_memory=False)"
   ]
  },
  {
   "cell_type": "code",
   "execution_count": 3,
   "metadata": {},
   "outputs": [
    {
     "data": {
      "text/html": [
       "<div>\n",
       "<style scoped>\n",
       "    .dataframe tbody tr th:only-of-type {\n",
       "        vertical-align: middle;\n",
       "    }\n",
       "\n",
       "    .dataframe tbody tr th {\n",
       "        vertical-align: top;\n",
       "    }\n",
       "\n",
       "    .dataframe thead th {\n",
       "        text-align: right;\n",
       "    }\n",
       "</style>\n",
       "<table border=\"1\" class=\"dataframe\">\n",
       "  <thead>\n",
       "    <tr style=\"text-align: right;\">\n",
       "      <th></th>\n",
       "      <th>_idade</th>\n",
       "      <th>_faixa etária</th>\n",
       "      <th>_sexo</th>\n",
       "      <th>_bairro</th>\n",
       "      <th>_classificacao</th>\n",
       "      <th>_comorb_renal</th>\n",
       "      <th>_comorb_diabetes</th>\n",
       "      <th>_comorb_imuno</th>\n",
       "      <th>_comorb_cardio</th>\n",
       "      <th>_conclusao</th>\n",
       "      <th>...</th>\n",
       "      <th>_distrito</th>\n",
       "      <th>_bairro_mapa</th>\n",
       "      <th>_comorb_respiratoria</th>\n",
       "      <th>_comorb_cromossomica</th>\n",
       "      <th>_comorb_hepatica</th>\n",
       "      <th>_comorb_neurologica</th>\n",
       "      <th>_comorb_hemato</th>\n",
       "      <th>_comorb_obessidade</th>\n",
       "      <th>_origem</th>\n",
       "      <th>_evolução</th>\n",
       "    </tr>\n",
       "  </thead>\n",
       "  <tbody>\n",
       "    <tr>\n",
       "      <td>83058</td>\n",
       "      <td>75.0</td>\n",
       "      <td>70a - 79a</td>\n",
       "      <td>F</td>\n",
       "      <td>TARUMA</td>\n",
       "      <td>Em análise</td>\n",
       "      <td>Não</td>\n",
       "      <td>Não</td>\n",
       "      <td>Não</td>\n",
       "      <td>Não</td>\n",
       "      <td>Recuperado</td>\n",
       "      <td>...</td>\n",
       "      <td>OESTE</td>\n",
       "      <td>TARUMÃ</td>\n",
       "      <td>Não</td>\n",
       "      <td>Não</td>\n",
       "      <td>NaN</td>\n",
       "      <td>NaN</td>\n",
       "      <td>NaN</td>\n",
       "      <td>NaN</td>\n",
       "      <td>eSUS VE,</td>\n",
       "      <td>Em tratamento domiciliar</td>\n",
       "    </tr>\n",
       "    <tr>\n",
       "      <td>75606</td>\n",
       "      <td>40.0</td>\n",
       "      <td>40a - 49a</td>\n",
       "      <td>F</td>\n",
       "      <td>PONTA NEGRA</td>\n",
       "      <td>Descartado</td>\n",
       "      <td>Não</td>\n",
       "      <td>Não</td>\n",
       "      <td>Não</td>\n",
       "      <td>Não</td>\n",
       "      <td>Recuperado</td>\n",
       "      <td>...</td>\n",
       "      <td>OESTE</td>\n",
       "      <td>PONTA NEGRA</td>\n",
       "      <td>Não</td>\n",
       "      <td>Não</td>\n",
       "      <td>NaN</td>\n",
       "      <td>NaN</td>\n",
       "      <td>NaN</td>\n",
       "      <td>NaN</td>\n",
       "      <td>eSUS VE,</td>\n",
       "      <td>NaN</td>\n",
       "    </tr>\n",
       "    <tr>\n",
       "      <td>48254</td>\n",
       "      <td>63.0</td>\n",
       "      <td>60a - 69a</td>\n",
       "      <td>M</td>\n",
       "      <td>CIDADE NOVA</td>\n",
       "      <td>Descartado</td>\n",
       "      <td>Não</td>\n",
       "      <td>Não</td>\n",
       "      <td>Não</td>\n",
       "      <td>Não</td>\n",
       "      <td>NaN</td>\n",
       "      <td>...</td>\n",
       "      <td>NORTE</td>\n",
       "      <td>CIDADE NOVA</td>\n",
       "      <td>Não</td>\n",
       "      <td>Não</td>\n",
       "      <td>NaN</td>\n",
       "      <td>NaN</td>\n",
       "      <td>NaN</td>\n",
       "      <td>NaN</td>\n",
       "      <td>eSUS VE,</td>\n",
       "      <td>NaN</td>\n",
       "    </tr>\n",
       "    <tr>\n",
       "      <td>56874</td>\n",
       "      <td>38.0</td>\n",
       "      <td>30a - 39a</td>\n",
       "      <td>M</td>\n",
       "      <td>NOVA CIDADE</td>\n",
       "      <td>Descartado</td>\n",
       "      <td>Não</td>\n",
       "      <td>Não</td>\n",
       "      <td>Não</td>\n",
       "      <td>Não</td>\n",
       "      <td>NaN</td>\n",
       "      <td>...</td>\n",
       "      <td>NORTE</td>\n",
       "      <td>NOVA CIDADE</td>\n",
       "      <td>Não</td>\n",
       "      <td>Não</td>\n",
       "      <td>NaN</td>\n",
       "      <td>NaN</td>\n",
       "      <td>NaN</td>\n",
       "      <td>NaN</td>\n",
       "      <td>eSUS VE,</td>\n",
       "      <td>NaN</td>\n",
       "    </tr>\n",
       "    <tr>\n",
       "      <td>84438</td>\n",
       "      <td>20.0</td>\n",
       "      <td>20a - 29a</td>\n",
       "      <td>M</td>\n",
       "      <td>REDENCAO</td>\n",
       "      <td>Em análise</td>\n",
       "      <td>Não</td>\n",
       "      <td>Não</td>\n",
       "      <td>Não</td>\n",
       "      <td>Não</td>\n",
       "      <td>NaN</td>\n",
       "      <td>...</td>\n",
       "      <td>OESTE</td>\n",
       "      <td>REDENÇÃO</td>\n",
       "      <td>Não</td>\n",
       "      <td>Não</td>\n",
       "      <td>NaN</td>\n",
       "      <td>NaN</td>\n",
       "      <td>NaN</td>\n",
       "      <td>NaN</td>\n",
       "      <td>eSUS VE,</td>\n",
       "      <td>Em tratamento domiciliar</td>\n",
       "    </tr>\n",
       "    <tr>\n",
       "      <td>61678</td>\n",
       "      <td>65.0</td>\n",
       "      <td>60a - 69a</td>\n",
       "      <td>M</td>\n",
       "      <td>TANCREDO NEVES</td>\n",
       "      <td>Descartado</td>\n",
       "      <td>Não</td>\n",
       "      <td>Não</td>\n",
       "      <td>Não</td>\n",
       "      <td>Não</td>\n",
       "      <td>NaN</td>\n",
       "      <td>...</td>\n",
       "      <td>LESTE</td>\n",
       "      <td>TANCREDO NEVES</td>\n",
       "      <td>Não</td>\n",
       "      <td>Não</td>\n",
       "      <td>NaN</td>\n",
       "      <td>NaN</td>\n",
       "      <td>NaN</td>\n",
       "      <td>NaN</td>\n",
       "      <td>eSUS VE,</td>\n",
       "      <td>NaN</td>\n",
       "    </tr>\n",
       "    <tr>\n",
       "      <td>54916</td>\n",
       "      <td>41.0</td>\n",
       "      <td>40a - 49a</td>\n",
       "      <td>M</td>\n",
       "      <td>NOVO ALEIXO</td>\n",
       "      <td>Descartado</td>\n",
       "      <td>Não</td>\n",
       "      <td>Não</td>\n",
       "      <td>Não</td>\n",
       "      <td>Não</td>\n",
       "      <td>NaN</td>\n",
       "      <td>...</td>\n",
       "      <td>NORTE</td>\n",
       "      <td>NOVO ALEIXO</td>\n",
       "      <td>Não</td>\n",
       "      <td>Não</td>\n",
       "      <td>NaN</td>\n",
       "      <td>NaN</td>\n",
       "      <td>NaN</td>\n",
       "      <td>NaN</td>\n",
       "      <td>eSUS VE,</td>\n",
       "      <td>NaN</td>\n",
       "    </tr>\n",
       "    <tr>\n",
       "      <td>64306</td>\n",
       "      <td>48.0</td>\n",
       "      <td>40a - 49a</td>\n",
       "      <td>F</td>\n",
       "      <td>ZUMBI DOS PALMARES 2</td>\n",
       "      <td>Confirmado</td>\n",
       "      <td>Não</td>\n",
       "      <td>Sim</td>\n",
       "      <td>Não</td>\n",
       "      <td>Não</td>\n",
       "      <td>NaN</td>\n",
       "      <td>...</td>\n",
       "      <td>LESTE</td>\n",
       "      <td>ZUMBI DOS PALMARES</td>\n",
       "      <td>Não</td>\n",
       "      <td>Não</td>\n",
       "      <td>NaN</td>\n",
       "      <td>NaN</td>\n",
       "      <td>NaN</td>\n",
       "      <td>NaN</td>\n",
       "      <td>eSUS VE,</td>\n",
       "      <td>NaN</td>\n",
       "    </tr>\n",
       "    <tr>\n",
       "      <td>22906</td>\n",
       "      <td>46.0</td>\n",
       "      <td>40a - 49a</td>\n",
       "      <td>F</td>\n",
       "      <td>BEIJA FLOR 2</td>\n",
       "      <td>Em análise</td>\n",
       "      <td>Não</td>\n",
       "      <td>Não</td>\n",
       "      <td>Não</td>\n",
       "      <td>Não</td>\n",
       "      <td>Recuperado</td>\n",
       "      <td>...</td>\n",
       "      <td>SUL</td>\n",
       "      <td>FLORES</td>\n",
       "      <td>Não</td>\n",
       "      <td>Não</td>\n",
       "      <td>NaN</td>\n",
       "      <td>NaN</td>\n",
       "      <td>NaN</td>\n",
       "      <td>NaN</td>\n",
       "      <td>eSUS VE,</td>\n",
       "      <td>NaN</td>\n",
       "    </tr>\n",
       "    <tr>\n",
       "      <td>18822</td>\n",
       "      <td>29.0</td>\n",
       "      <td>20a - 29a</td>\n",
       "      <td>F</td>\n",
       "      <td>JAPIIM</td>\n",
       "      <td>Descartado</td>\n",
       "      <td>Não</td>\n",
       "      <td>Não</td>\n",
       "      <td>Não</td>\n",
       "      <td>Não</td>\n",
       "      <td>Recuperado</td>\n",
       "      <td>...</td>\n",
       "      <td>SUL</td>\n",
       "      <td>JAPIIM</td>\n",
       "      <td>Não</td>\n",
       "      <td>Não</td>\n",
       "      <td>NaN</td>\n",
       "      <td>NaN</td>\n",
       "      <td>NaN</td>\n",
       "      <td>NaN</td>\n",
       "      <td>eSUS VE,</td>\n",
       "      <td>NaN</td>\n",
       "    </tr>\n",
       "  </tbody>\n",
       "</table>\n",
       "<p>10 rows × 36 columns</p>\n",
       "</div>"
      ],
      "text/plain": [
       "       _idade _faixa etária _sexo               _bairro _classificacao  \\\n",
       "83058    75.0     70a - 79a     F                TARUMA     Em análise   \n",
       "75606    40.0     40a - 49a     F           PONTA NEGRA     Descartado   \n",
       "48254    63.0     60a - 69a     M           CIDADE NOVA     Descartado   \n",
       "56874    38.0     30a - 39a     M           NOVA CIDADE     Descartado   \n",
       "84438    20.0     20a - 29a     M              REDENCAO     Em análise   \n",
       "61678    65.0     60a - 69a     M        TANCREDO NEVES     Descartado   \n",
       "54916    41.0     40a - 49a     M           NOVO ALEIXO     Descartado   \n",
       "64306    48.0     40a - 49a     F  ZUMBI DOS PALMARES 2     Confirmado   \n",
       "22906    46.0     40a - 49a     F          BEIJA FLOR 2     Em análise   \n",
       "18822    29.0     20a - 29a     F                JAPIIM     Descartado   \n",
       "\n",
       "      _comorb_renal _comorb_diabetes _comorb_imuno _comorb_cardio  _conclusao  \\\n",
       "83058           Não              Não           Não            Não  Recuperado   \n",
       "75606           Não              Não           Não            Não  Recuperado   \n",
       "48254           Não              Não           Não            Não         NaN   \n",
       "56874           Não              Não           Não            Não         NaN   \n",
       "84438           Não              Não           Não            Não         NaN   \n",
       "61678           Não              Não           Não            Não         NaN   \n",
       "54916           Não              Não           Não            Não         NaN   \n",
       "64306           Não              Sim           Não            Não         NaN   \n",
       "22906           Não              Não           Não            Não  Recuperado   \n",
       "18822           Não              Não           Não            Não  Recuperado   \n",
       "\n",
       "       ... _distrito        _bairro_mapa _comorb_respiratoria  \\\n",
       "83058  ...     OESTE              TARUMÃ                  Não   \n",
       "75606  ...     OESTE         PONTA NEGRA                  Não   \n",
       "48254  ...     NORTE         CIDADE NOVA                  Não   \n",
       "56874  ...     NORTE         NOVA CIDADE                  Não   \n",
       "84438  ...     OESTE            REDENÇÃO                  Não   \n",
       "61678  ...     LESTE      TANCREDO NEVES                  Não   \n",
       "54916  ...     NORTE         NOVO ALEIXO                  Não   \n",
       "64306  ...     LESTE  ZUMBI DOS PALMARES                  Não   \n",
       "22906  ...       SUL              FLORES                  Não   \n",
       "18822  ...       SUL              JAPIIM                  Não   \n",
       "\n",
       "      _comorb_cromossomica _comorb_hepatica _comorb_neurologica  \\\n",
       "83058                  Não              NaN                 NaN   \n",
       "75606                  Não              NaN                 NaN   \n",
       "48254                  Não              NaN                 NaN   \n",
       "56874                  Não              NaN                 NaN   \n",
       "84438                  Não              NaN                 NaN   \n",
       "61678                  Não              NaN                 NaN   \n",
       "54916                  Não              NaN                 NaN   \n",
       "64306                  Não              NaN                 NaN   \n",
       "22906                  Não              NaN                 NaN   \n",
       "18822                  Não              NaN                 NaN   \n",
       "\n",
       "      _comorb_hemato _comorb_obessidade    _origem                 _evolução  \n",
       "83058            NaN                NaN  eSUS VE,   Em tratamento domiciliar  \n",
       "75606            NaN                NaN  eSUS VE,                        NaN  \n",
       "48254            NaN                NaN  eSUS VE,                        NaN  \n",
       "56874            NaN                NaN  eSUS VE,                        NaN  \n",
       "84438            NaN                NaN  eSUS VE,   Em tratamento domiciliar  \n",
       "61678            NaN                NaN  eSUS VE,                        NaN  \n",
       "54916            NaN                NaN  eSUS VE,                        NaN  \n",
       "64306            NaN                NaN  eSUS VE,                        NaN  \n",
       "22906            NaN                NaN  eSUS VE,                        NaN  \n",
       "18822            NaN                NaN  eSUS VE,                        NaN  \n",
       "\n",
       "[10 rows x 36 columns]"
      ]
     },
     "execution_count": 3,
     "metadata": {},
     "output_type": "execute_result"
    }
   ],
   "source": [
    "df.sample(10)"
   ]
  },
  {
   "cell_type": "markdown",
   "metadata": {},
   "source": [
    "#### 2.1.1 How many attributes per row? Which are its names?"
   ]
  },
  {
   "cell_type": "code",
   "execution_count": 4,
   "metadata": {},
   "outputs": [
    {
     "data": {
      "text/plain": [
       "Index(['_idade', '_faixa etária', '_sexo', '_bairro', '_classificacao',\n",
       "       '_comorb_renal', '_comorb_diabetes', '_comorb_imuno', '_comorb_cardio',\n",
       "       '_conclusao', '_dt_notificacao', '_taxa', '_dt_evolucao', '_raca',\n",
       "       '_dt_sintomas', '_criterio', '_tipo_teste', '_sintoma_garganta',\n",
       "       '_sintoma_dispneia', '_sintoma_febre', '_sintoma_tosse',\n",
       "       '_sintoma_outros', '_etnia', '_profiss_saude', '_srag',\n",
       "       '_se_notificacao', '_distrito', '_bairro_mapa', '_comorb_respiratoria',\n",
       "       '_comorb_cromossomica', '_comorb_hepatica', '_comorb_neurologica',\n",
       "       '_comorb_hemato', '_comorb_obessidade', '_origem', '_evolução'],\n",
       "      dtype='object')"
      ]
     },
     "execution_count": 4,
     "metadata": {},
     "output_type": "execute_result"
    }
   ],
   "source": [
    "df.columns"
   ]
  },
  {
   "cell_type": "code",
   "execution_count": 5,
   "metadata": {},
   "outputs": [
    {
     "name": "stdout",
     "output_type": "stream",
     "text": [
      "36\n"
     ]
    }
   ],
   "source": [
    "print(len(df.columns))"
   ]
  },
  {
   "cell_type": "markdown",
   "metadata": {},
   "source": [
    "#### 2.1.2 How many confirmed cases are show in the table?"
   ]
  },
  {
   "cell_type": "code",
   "execution_count": 6,
   "metadata": {},
   "outputs": [
    {
     "data": {
      "text/plain": [
       "36947"
      ]
     },
     "execution_count": 6,
     "metadata": {},
     "output_type": "execute_result"
    }
   ],
   "source": [
    "df[df._classificacao == 'Confirmado'].shape[0]"
   ]
  },
  {
   "cell_type": "markdown",
   "metadata": {},
   "source": [
    "#### 2.1.3 What is the oldest case. And the newest?"
   ]
  },
  {
   "cell_type": "code",
   "execution_count": 7,
   "metadata": {},
   "outputs": [
    {
     "data": {
      "text/plain": [
       "0         04/05/2020\n",
       "1         01/05/2020\n",
       "2         04/05/2020\n",
       "3         04/05/2020\n",
       "4         04/05/2020\n",
       "             ...    \n",
       "108346    01/06/2020\n",
       "108347    25/05/2020\n",
       "108348    04/05/2020\n",
       "108349    05/06/2020\n",
       "108350    03/04/2020\n",
       "Name: _dt_notificacao, Length: 108351, dtype: object"
      ]
     },
     "execution_count": 7,
     "metadata": {},
     "output_type": "execute_result"
    }
   ],
   "source": [
    "df['_dt_notificacao']"
   ]
  },
  {
   "cell_type": "code",
   "execution_count": 8,
   "metadata": {},
   "outputs": [],
   "source": [
    "sorted_dates = np.array(df['_dt_notificacao'].sort_values(na_position='first'))"
   ]
  },
  {
   "cell_type": "code",
   "execution_count": 9,
   "metadata": {},
   "outputs": [],
   "source": [
    "sorted_dates_no_nan = np.array([e for e in sorted_dates if pd.isnull(e) is False])"
   ]
  },
  {
   "cell_type": "code",
   "execution_count": 10,
   "metadata": {},
   "outputs": [
    {
     "data": {
      "text/plain": [
       "'01/03/2020'"
      ]
     },
     "execution_count": 10,
     "metadata": {},
     "output_type": "execute_result"
    }
   ],
   "source": [
    "sorted_dates_no_nan[0]"
   ]
  },
  {
   "cell_type": "code",
   "execution_count": 11,
   "metadata": {},
   "outputs": [
    {
     "data": {
      "text/plain": [
       "'31/07/2020'"
      ]
     },
     "execution_count": 11,
     "metadata": {},
     "output_type": "execute_result"
    }
   ],
   "source": [
    "sorted_dates_no_nan[len(sorted_dates_no_nan)-1]"
   ]
  },
  {
   "cell_type": "markdown",
   "metadata": {},
   "source": [
    "#### Deleting rows and columns which are not useful for our purposes"
   ]
  },
  {
   "cell_type": "code",
   "execution_count": 12,
   "metadata": {},
   "outputs": [],
   "source": [
    "attributes_we_want = ['_idade', '_sexo', '_bairro', '_classificacao', '_dt_notificacao', '_tipo_teste', '_conclusao']"
   ]
  },
  {
   "cell_type": "code",
   "execution_count": 13,
   "metadata": {
    "scrolled": true
   },
   "outputs": [
    {
     "name": "stdout",
     "output_type": "stream",
     "text": [
      "['_faixa etária', '_comorb_renal', '_comorb_diabetes', '_comorb_imuno', '_comorb_cardio', '_taxa', '_dt_evolucao', '_raca', '_dt_sintomas', '_criterio', '_sintoma_garganta', '_sintoma_dispneia', '_sintoma_febre', '_sintoma_tosse', '_sintoma_outros', '_etnia', '_profiss_saude', '_srag', '_se_notificacao', '_distrito', '_bairro_mapa', '_comorb_respiratoria', '_comorb_cromossomica', '_comorb_hepatica', '_comorb_neurologica', '_comorb_hemato', '_comorb_obessidade', '_origem', '_evolução']\n"
     ]
    }
   ],
   "source": [
    "supp = []\n",
    "\n",
    "for a in list(df.columns):\n",
    "    if a in attributes_we_want:\n",
    "        continue\n",
    "    else:\n",
    "        supp.append(a)\n",
    "        \n",
    "print(supp)"
   ]
  },
  {
   "cell_type": "code",
   "execution_count": 14,
   "metadata": {},
   "outputs": [],
   "source": [
    "clean_df = df.drop(supp, axis=1)"
   ]
  },
  {
   "cell_type": "code",
   "execution_count": 15,
   "metadata": {
    "scrolled": true
   },
   "outputs": [
    {
     "data": {
      "text/html": [
       "<div>\n",
       "<style scoped>\n",
       "    .dataframe tbody tr th:only-of-type {\n",
       "        vertical-align: middle;\n",
       "    }\n",
       "\n",
       "    .dataframe tbody tr th {\n",
       "        vertical-align: top;\n",
       "    }\n",
       "\n",
       "    .dataframe thead th {\n",
       "        text-align: right;\n",
       "    }\n",
       "</style>\n",
       "<table border=\"1\" class=\"dataframe\">\n",
       "  <thead>\n",
       "    <tr style=\"text-align: right;\">\n",
       "      <th></th>\n",
       "      <th>_idade</th>\n",
       "      <th>_sexo</th>\n",
       "      <th>_bairro</th>\n",
       "      <th>_classificacao</th>\n",
       "      <th>_conclusao</th>\n",
       "      <th>_dt_notificacao</th>\n",
       "      <th>_tipo_teste</th>\n",
       "    </tr>\n",
       "  </thead>\n",
       "  <tbody>\n",
       "    <tr>\n",
       "      <td>0</td>\n",
       "      <td>37.0</td>\n",
       "      <td>F</td>\n",
       "      <td>CONJ. CIDADAO 10</td>\n",
       "      <td>Confirmado</td>\n",
       "      <td>NaN</td>\n",
       "      <td>04/05/2020</td>\n",
       "      <td>TESTE RÁPIDO - ANTÍGENO</td>\n",
       "    </tr>\n",
       "    <tr>\n",
       "      <td>1</td>\n",
       "      <td>46.0</td>\n",
       "      <td>F</td>\n",
       "      <td>MORADA DO SOL</td>\n",
       "      <td>Descartado</td>\n",
       "      <td>Recuperado</td>\n",
       "      <td>01/05/2020</td>\n",
       "      <td>TESTE RÁPIDO - ANTÍGENO</td>\n",
       "    </tr>\n",
       "    <tr>\n",
       "      <td>2</td>\n",
       "      <td>51.0</td>\n",
       "      <td>F</td>\n",
       "      <td>NaN</td>\n",
       "      <td>Confirmado</td>\n",
       "      <td>NaN</td>\n",
       "      <td>04/05/2020</td>\n",
       "      <td>TESTE RÁPIDO - ANTICORPO</td>\n",
       "    </tr>\n",
       "    <tr>\n",
       "      <td>3</td>\n",
       "      <td>74.0</td>\n",
       "      <td>M</td>\n",
       "      <td>NaN</td>\n",
       "      <td>Confirmado</td>\n",
       "      <td>NaN</td>\n",
       "      <td>04/05/2020</td>\n",
       "      <td>TESTE RÁPIDO - ANTICORPO</td>\n",
       "    </tr>\n",
       "    <tr>\n",
       "      <td>4</td>\n",
       "      <td>51.0</td>\n",
       "      <td>F</td>\n",
       "      <td>ALEIXO</td>\n",
       "      <td>Confirmado</td>\n",
       "      <td>NaN</td>\n",
       "      <td>04/05/2020</td>\n",
       "      <td>TESTE RÁPIDO - ANTICORPO</td>\n",
       "    </tr>\n",
       "  </tbody>\n",
       "</table>\n",
       "</div>"
      ],
      "text/plain": [
       "   _idade _sexo           _bairro _classificacao  _conclusao _dt_notificacao  \\\n",
       "0    37.0     F  CONJ. CIDADAO 10     Confirmado         NaN      04/05/2020   \n",
       "1    46.0     F     MORADA DO SOL     Descartado  Recuperado      01/05/2020   \n",
       "2    51.0     F               NaN     Confirmado         NaN      04/05/2020   \n",
       "3    74.0     M               NaN     Confirmado         NaN      04/05/2020   \n",
       "4    51.0     F            ALEIXO     Confirmado         NaN      04/05/2020   \n",
       "\n",
       "                _tipo_teste  \n",
       "0   TESTE RÁPIDO - ANTÍGENO  \n",
       "1   TESTE RÁPIDO - ANTÍGENO  \n",
       "2  TESTE RÁPIDO - ANTICORPO  \n",
       "3  TESTE RÁPIDO - ANTICORPO  \n",
       "4  TESTE RÁPIDO - ANTICORPO  "
      ]
     },
     "execution_count": 15,
     "metadata": {},
     "output_type": "execute_result"
    }
   ],
   "source": [
    "clean_df.head()"
   ]
  },
  {
   "cell_type": "markdown",
   "metadata": {},
   "source": [
    "#### Before we drop NaN values, let's analyse this middle result dataframe"
   ]
  },
  {
   "cell_type": "code",
   "execution_count": 17,
   "metadata": {},
   "outputs": [
    {
     "data": {
      "text/plain": [
       "count    108230.000000\n",
       "mean         41.035267\n",
       "std          16.883549\n",
       "min           0.000000\n",
       "25%          30.000000\n",
       "50%          40.000000\n",
       "75%          51.000000\n",
       "max         388.000000\n",
       "Name: _idade, dtype: float64"
      ]
     },
     "execution_count": 17,
     "metadata": {},
     "output_type": "execute_result"
    }
   ],
   "source": [
    "clean_df['_idade'].describe()"
   ]
  },
  {
   "cell_type": "code",
   "execution_count": 18,
   "metadata": {},
   "outputs": [
    {
     "data": {
      "text/plain": [
       "count          64812\n",
       "unique             2\n",
       "top       Recuperado\n",
       "freq           61319\n",
       "Name: _conclusao, dtype: object"
      ]
     },
     "execution_count": 18,
     "metadata": {},
     "output_type": "execute_result"
    }
   ],
   "source": [
    "clean_df['_conclusao'].describe()"
   ]
  },
  {
   "cell_type": "code",
   "execution_count": 21,
   "metadata": {},
   "outputs": [
    {
     "data": {
      "text/plain": [
       "count          106223\n",
       "unique           3424\n",
       "top       CIDADE NOVA\n",
       "freq             5984\n",
       "Name: _bairro, dtype: object"
      ]
     },
     "execution_count": 21,
     "metadata": {},
     "output_type": "execute_result"
    }
   ],
   "source": [
    "clean_df['_bairro'].describe()"
   ]
  },
  {
   "cell_type": "code",
   "execution_count": 27,
   "metadata": {},
   "outputs": [
    {
     "name": "stdout",
     "output_type": "stream",
     "text": [
      "Counting NaN values of DF columns: {'_idade': 121, '_sexo': 800, '_bairro': 2128, '_classificacao': 0, '_dt_notificacao': 11, '_tipo_teste': 35851, '_conclusao': 43539}\n"
     ]
    }
   ],
   "source": [
    "list_nan = [0, 0, 0, 0, 0, 0, 0]\n",
    "dict_nan = dict(zip(attributes_we_want, list_nan))\n",
    "\n",
    "for a in attributes_we_want:\n",
    "    dict_nan[a] = clean_df[a].isnull().sum()\n",
    "\n",
    "print(f\"Counting NaN values of DF columns: {dict_nan}\")"
   ]
  },
  {
   "cell_type": "markdown",
   "metadata": {},
   "source": [
    "#### There are many many NaN values on both _tipo_teste_ and _conclusao_ columns. This would lead to a poor DF, so we need to work with them separately. Also, the instructions paper tell us to use only confirmed cases."
   ]
  },
  {
   "cell_type": "code",
   "execution_count": 43,
   "metadata": {},
   "outputs": [
    {
     "name": "stdout",
     "output_type": "stream",
     "text": [
      "<class 'pandas.core.frame.DataFrame'>\n",
      "Int64Index: 6422 entries, 680 to 108349\n",
      "Data columns (total 6 columns):\n",
      "_idade             6422 non-null float64\n",
      "_sexo              6422 non-null object\n",
      "_bairro            6422 non-null object\n",
      "_classificacao     6422 non-null object\n",
      "_conclusao         6422 non-null object\n",
      "_dt_notificacao    6422 non-null object\n",
      "dtypes: float64(1), object(5)\n",
      "memory usage: 351.2+ KB\n"
     ]
    }
   ],
   "source": [
    "df_no_tt = clean_df.drop(['_tipo_teste'], axis=1)\n",
    "df_no_tt = df_no_tt[df_no_tt._classificacao == 'Confirmado']\n",
    "df_no_tt = df_no_tt.dropna()\n",
    "df_no_tt.info()"
   ]
  },
  {
   "cell_type": "code",
   "execution_count": 44,
   "metadata": {},
   "outputs": [
    {
     "name": "stdout",
     "output_type": "stream",
     "text": [
      "<class 'pandas.core.frame.DataFrame'>\n",
      "Int64Index: 6422 entries, 680 to 108349\n",
      "Data columns (total 6 columns):\n",
      "_idade             6422 non-null float64\n",
      "_sexo              6422 non-null object\n",
      "_bairro            6422 non-null object\n",
      "_classificacao     6422 non-null object\n",
      "_dt_notificacao    6422 non-null object\n",
      "_tipo_teste        6422 non-null object\n",
      "dtypes: float64(1), object(5)\n",
      "memory usage: 351.2+ KB\n"
     ]
    }
   ],
   "source": [
    "df_no_cc = clean_df.drop(['_conclusao'], axis=1)\n",
    "df_no_cc = df_no_cc[df_no_cc._classificacao == 'Confirmado']\n",
    "df_no_cc = df_no_cc.dropna()\n",
    "df_no_cc.info()"
   ]
  },
  {
   "cell_type": "code",
   "execution_count": 45,
   "metadata": {},
   "outputs": [
    {
     "name": "stdout",
     "output_type": "stream",
     "text": [
      "<class 'pandas.core.frame.DataFrame'>\n",
      "Int64Index: 6422 entries, 680 to 108349\n",
      "Data columns (total 7 columns):\n",
      "_idade             6422 non-null float64\n",
      "_sexo              6422 non-null object\n",
      "_bairro            6422 non-null object\n",
      "_classificacao     6422 non-null object\n",
      "_conclusao         6422 non-null object\n",
      "_dt_notificacao    6422 non-null object\n",
      "_tipo_teste        6422 non-null object\n",
      "dtypes: float64(1), object(6)\n",
      "memory usage: 401.4+ KB\n"
     ]
    }
   ],
   "source": [
    "# dropping NaN with both _conclusao and _tipo_teste\n",
    "clean_df = clean_df[clean_df._classificacao == 'Confirmado']\n",
    "clean_df = clean_df.dropna()\n",
    "clean_df.info()"
   ]
  },
  {
   "cell_type": "markdown",
   "metadata": {},
   "source": [
    "#### 2.1.1 How many rows and columns last after cleaning?"
   ]
  },
  {
   "cell_type": "code",
   "execution_count": 46,
   "metadata": {},
   "outputs": [
    {
     "data": {
      "text/plain": [
       "(6422, 7)"
      ]
     },
     "execution_count": 46,
     "metadata": {},
     "output_type": "execute_result"
    }
   ],
   "source": [
    "clean_df.shape"
   ]
  },
  {
   "cell_type": "markdown",
   "metadata": {},
   "source": [
    "#### 2.1.2 How many recovered people in percentage?"
   ]
  },
  {
   "cell_type": "code",
   "execution_count": 47,
   "metadata": {},
   "outputs": [
    {
     "name": "stdout",
     "output_type": "stream",
     "text": [
      "99.79757085020243\n"
     ]
    }
   ],
   "source": [
    "rec_series = df_no_tt[df_no_tt._conclusao == 'Recuperado']\n",
    "rec = len(rec_series)\n",
    "total = df_no_tt.shape[0]\n",
    "ans = rec/total * 100.0\n",
    "print(ans)"
   ]
  },
  {
   "cell_type": "markdown",
   "metadata": {},
   "source": [
    "#### 2.1.3 Which genre had most confirmed cases?"
   ]
  },
  {
   "cell_type": "code",
   "execution_count": 48,
   "metadata": {},
   "outputs": [
    {
     "name": "stdout",
     "output_type": "stream",
     "text": [
      "Female cases: 3645\n",
      "Male cases: 2777\n"
     ]
    }
   ],
   "source": [
    "conf_cases = clean_df[clean_df._classificacao == 'Confirmado']\n",
    "\n",
    "male = conf_cases[conf_cases._sexo == 'M']\n",
    "fale = conf_cases[conf_cases._sexo == 'F']\n",
    "\n",
    "print(f\"Female cases: {len(fale)}\")\n",
    "print(f\"Male cases: {len(male)}\")"
   ]
  },
  {
   "cell_type": "markdown",
   "metadata": {},
   "source": [
    "#### 2.1.4 What is the youngest and oldest person who had a confirmed case? What is the mean and standard deviation of all confirmed cases?"
   ]
  },
  {
   "cell_type": "code",
   "execution_count": 49,
   "metadata": {},
   "outputs": [
    {
     "name": "stdout",
     "output_type": "stream",
     "text": [
      "Yougest: 0.0\n",
      "Oldest: 99.0\n"
     ]
    }
   ],
   "source": [
    "ages = np.sort(conf_cases._idade)\n",
    "print(f\"Yougest: {ages[0]}\")\n",
    "print(f\"Oldest: {ages[len(ages)-1]}\")"
   ]
  },
  {
   "cell_type": "code",
   "execution_count": 50,
   "metadata": {},
   "outputs": [
    {
     "name": "stdout",
     "output_type": "stream",
     "text": [
      "Mean: 41.433821239489255\n"
     ]
    }
   ],
   "source": [
    "print(f\"Mean: {np.mean(ages)}\")"
   ]
  },
  {
   "cell_type": "code",
   "execution_count": 51,
   "metadata": {},
   "outputs": [
    {
     "name": "stdout",
     "output_type": "stream",
     "text": [
      "Std: 14.155360848072508\n"
     ]
    }
   ],
   "source": [
    "print(f\"Std: {np.std(ages)}\")"
   ]
  },
  {
   "cell_type": "markdown",
   "metadata": {},
   "source": [
    "#### 2.1.5 Which neighbourhood had more confirmed cases?"
   ]
  },
  {
   "cell_type": "code",
   "execution_count": 52,
   "metadata": {},
   "outputs": [],
   "source": [
    "neigh_cases = conf_cases.groupby('_bairro')['_classificacao'].count()"
   ]
  },
  {
   "cell_type": "code",
   "execution_count": 53,
   "metadata": {},
   "outputs": [
    {
     "data": {
      "text/plain": [
       "_bairro\n",
       "CIDADE NOVA            301\n",
       "FLORES                 266\n",
       "TARUMA                 225\n",
       "PETROPOLIS             193\n",
       "ALEIXO                 172\n",
       "                      ... \n",
       "PAQUE 10                 1\n",
       "PAR DAS LARANJEIRA       1\n",
       "PARQ. DEZ DE NOVEMB      1\n",
       "PARQ. LARANJEIRAS        1\n",
       "ADRIANOPOLES             1\n",
       "Name: _classificacao, Length: 506, dtype: int64"
      ]
     },
     "execution_count": 53,
     "metadata": {},
     "output_type": "execute_result"
    }
   ],
   "source": [
    "neigh_cases.sort_values(ascending=False)"
   ]
  },
  {
   "cell_type": "markdown",
   "metadata": {},
   "source": [
    "#### 2.1.6 Which are top 3 neibourhood that had more recovered cases?"
   ]
  },
  {
   "cell_type": "code",
   "execution_count": 54,
   "metadata": {},
   "outputs": [],
   "source": [
    "neigh_cases_rec = conf_cases.groupby(['_bairro', '_conclusao'])['_classificacao'].count()"
   ]
  },
  {
   "cell_type": "code",
   "execution_count": 55,
   "metadata": {},
   "outputs": [
    {
     "data": {
      "text/plain": [
       "_bairro              _conclusao\n",
       "CIDADE NOVA          Recuperado    301\n",
       "FLORES               Recuperado    266\n",
       "TARUMA               Recuperado    225\n",
       "PETROPOLIS           Recuperado    192\n",
       "ALEIXO               Recuperado    171\n",
       "                                  ... \n",
       "PAQUE 10             Recuperado      1\n",
       "PAR DAS LARANJEIRA   Recuperado      1\n",
       "PARQ. DEZ DE NOVEMB  Recuperado      1\n",
       "PARQ. LARANJEIRAS    Recuperado      1\n",
       "ADRIANOPOLES         Recuperado      1\n",
       "Name: _classificacao, Length: 516, dtype: int64"
      ]
     },
     "execution_count": 55,
     "metadata": {},
     "output_type": "execute_result"
    }
   ],
   "source": [
    "neigh_cases_rec.sort_values(ascending=False)"
   ]
  },
  {
   "cell_type": "markdown",
   "metadata": {},
   "source": [
    "#### 2.1.7 What is the test applied types by name? Display the absolute and percetage values."
   ]
  },
  {
   "cell_type": "code",
   "execution_count": 56,
   "metadata": {},
   "outputs": [],
   "source": [
    "test_types = clean_df.groupby('_tipo_teste')['_tipo_teste'].count()"
   ]
  },
  {
   "cell_type": "code",
   "execution_count": 57,
   "metadata": {},
   "outputs": [
    {
     "data": {
      "text/plain": [
       "_tipo_teste\n",
       "ECLIA IgG                      4\n",
       "ELISA IgM                      6\n",
       "RT-PCR                      1537\n",
       "TESTE RÁPIDO - ANTICORPO    3736\n",
       "TESTE RÁPIDO - ANTÍGENO     1139\n",
       "Name: _tipo_teste, dtype: int64"
      ]
     },
     "execution_count": 57,
     "metadata": {},
     "output_type": "execute_result"
    }
   ],
   "source": [
    "test_types"
   ]
  },
  {
   "cell_type": "code",
   "execution_count": 58,
   "metadata": {},
   "outputs": [],
   "source": [
    "total_tests = np.sum(test_types)\n",
    "test_name = ['ECLIA IgG', 'ELISA IgM', 'RT-PCR', 'TESTE RÁPIDO - ANTICORPO', 'TESTE RÁPIDO - ANTÍGENO']"
   ]
  },
  {
   "cell_type": "code",
   "execution_count": 59,
   "metadata": {},
   "outputs": [],
   "source": [
    "perc_test = [(t/total_tests * 100) for t in test_types]"
   ]
  },
  {
   "cell_type": "code",
   "execution_count": 60,
   "metadata": {},
   "outputs": [],
   "source": [
    "arrado = np.array([test_name, test_types, perc_test])\n",
    "arrado = arrado.transpose()"
   ]
  },
  {
   "cell_type": "code",
   "execution_count": 61,
   "metadata": {},
   "outputs": [
    {
     "data": {
      "text/html": [
       "<div>\n",
       "<style scoped>\n",
       "    .dataframe tbody tr th:only-of-type {\n",
       "        vertical-align: middle;\n",
       "    }\n",
       "\n",
       "    .dataframe tbody tr th {\n",
       "        vertical-align: top;\n",
       "    }\n",
       "\n",
       "    .dataframe thead th {\n",
       "        text-align: right;\n",
       "    }\n",
       "</style>\n",
       "<table border=\"1\" class=\"dataframe\">\n",
       "  <thead>\n",
       "    <tr style=\"text-align: right;\">\n",
       "      <th></th>\n",
       "      <th>test_name</th>\n",
       "      <th>abs values</th>\n",
       "      <th>perc (%) values</th>\n",
       "    </tr>\n",
       "  </thead>\n",
       "  <tbody>\n",
       "    <tr>\n",
       "      <td>0</td>\n",
       "      <td>ECLIA IgG</td>\n",
       "      <td>4</td>\n",
       "      <td>0.06228589224540642</td>\n",
       "    </tr>\n",
       "    <tr>\n",
       "      <td>1</td>\n",
       "      <td>ELISA IgM</td>\n",
       "      <td>6</td>\n",
       "      <td>0.09342883836810963</td>\n",
       "    </tr>\n",
       "    <tr>\n",
       "      <td>2</td>\n",
       "      <td>RT-PCR</td>\n",
       "      <td>1537</td>\n",
       "      <td>23.933354095297414</td>\n",
       "    </tr>\n",
       "    <tr>\n",
       "      <td>3</td>\n",
       "      <td>TESTE RÁPIDO - ANTICORPO</td>\n",
       "      <td>3736</td>\n",
       "      <td>58.17502335720959</td>\n",
       "    </tr>\n",
       "    <tr>\n",
       "      <td>4</td>\n",
       "      <td>TESTE RÁPIDO - ANTÍGENO</td>\n",
       "      <td>1139</td>\n",
       "      <td>17.735907816879475</td>\n",
       "    </tr>\n",
       "  </tbody>\n",
       "</table>\n",
       "</div>"
      ],
      "text/plain": [
       "                  test_name abs values      perc (%) values\n",
       "0                 ECLIA IgG          4  0.06228589224540642\n",
       "1                 ELISA IgM          6  0.09342883836810963\n",
       "2                    RT-PCR       1537   23.933354095297414\n",
       "3  TESTE RÁPIDO - ANTICORPO       3736    58.17502335720959\n",
       "4   TESTE RÁPIDO - ANTÍGENO       1139   17.735907816879475"
      ]
     },
     "execution_count": 61,
     "metadata": {},
     "output_type": "execute_result"
    }
   ],
   "source": [
    "pd.DataFrame(arrado, columns=['test_name', 'abs values', 'perc (%) values'])"
   ]
  },
  {
   "cell_type": "markdown",
   "metadata": {},
   "source": [
    "#### 2.1.8 What is death rate?"
   ]
  },
  {
   "cell_type": "code",
   "execution_count": 62,
   "metadata": {},
   "outputs": [],
   "source": [
    "deaths = conf_cases[conf_cases._conclusao == 'Óbito'].count()\n",
    "total = conf_cases.count()"
   ]
  },
  {
   "cell_type": "code",
   "execution_count": 63,
   "metadata": {},
   "outputs": [
    {
     "data": {
      "text/plain": [
       "0.20242914979757085"
      ]
     },
     "execution_count": 63,
     "metadata": {},
     "output_type": "execute_result"
    }
   ],
   "source": [
    "deaths[0]/total[0] * 100.0"
   ]
  },
  {
   "cell_type": "markdown",
   "metadata": {},
   "source": [
    "#### 2.1.9 What is the Pearson correlation between age and number os cases?"
   ]
  },
  {
   "cell_type": "code",
   "execution_count": 64,
   "metadata": {},
   "outputs": [],
   "source": [
    "age_cases = conf_cases.groupby(['_idade']).count()"
   ]
  },
  {
   "cell_type": "code",
   "execution_count": 65,
   "metadata": {},
   "outputs": [
    {
     "data": {
      "text/html": [
       "<div>\n",
       "<style scoped>\n",
       "    .dataframe tbody tr th:only-of-type {\n",
       "        vertical-align: middle;\n",
       "    }\n",
       "\n",
       "    .dataframe tbody tr th {\n",
       "        vertical-align: top;\n",
       "    }\n",
       "\n",
       "    .dataframe thead th {\n",
       "        text-align: right;\n",
       "    }\n",
       "</style>\n",
       "<table border=\"1\" class=\"dataframe\">\n",
       "  <thead>\n",
       "    <tr style=\"text-align: right;\">\n",
       "      <th></th>\n",
       "      <th>_sexo</th>\n",
       "      <th>_bairro</th>\n",
       "      <th>_classificacao</th>\n",
       "      <th>_conclusao</th>\n",
       "      <th>_dt_notificacao</th>\n",
       "      <th>_tipo_teste</th>\n",
       "    </tr>\n",
       "    <tr>\n",
       "      <th>_idade</th>\n",
       "      <th></th>\n",
       "      <th></th>\n",
       "      <th></th>\n",
       "      <th></th>\n",
       "      <th></th>\n",
       "      <th></th>\n",
       "    </tr>\n",
       "  </thead>\n",
       "  <tbody>\n",
       "    <tr>\n",
       "      <td>0.0</td>\n",
       "      <td>48</td>\n",
       "      <td>48</td>\n",
       "      <td>48</td>\n",
       "      <td>48</td>\n",
       "      <td>48</td>\n",
       "      <td>48</td>\n",
       "    </tr>\n",
       "    <tr>\n",
       "      <td>1.0</td>\n",
       "      <td>19</td>\n",
       "      <td>19</td>\n",
       "      <td>19</td>\n",
       "      <td>19</td>\n",
       "      <td>19</td>\n",
       "      <td>19</td>\n",
       "    </tr>\n",
       "    <tr>\n",
       "      <td>2.0</td>\n",
       "      <td>11</td>\n",
       "      <td>11</td>\n",
       "      <td>11</td>\n",
       "      <td>11</td>\n",
       "      <td>11</td>\n",
       "      <td>11</td>\n",
       "    </tr>\n",
       "    <tr>\n",
       "      <td>3.0</td>\n",
       "      <td>14</td>\n",
       "      <td>14</td>\n",
       "      <td>14</td>\n",
       "      <td>14</td>\n",
       "      <td>14</td>\n",
       "      <td>14</td>\n",
       "    </tr>\n",
       "    <tr>\n",
       "      <td>4.0</td>\n",
       "      <td>10</td>\n",
       "      <td>10</td>\n",
       "      <td>10</td>\n",
       "      <td>10</td>\n",
       "      <td>10</td>\n",
       "      <td>10</td>\n",
       "    </tr>\n",
       "    <tr>\n",
       "      <td>5.0</td>\n",
       "      <td>11</td>\n",
       "      <td>11</td>\n",
       "      <td>11</td>\n",
       "      <td>11</td>\n",
       "      <td>11</td>\n",
       "      <td>11</td>\n",
       "    </tr>\n",
       "    <tr>\n",
       "      <td>6.0</td>\n",
       "      <td>6</td>\n",
       "      <td>6</td>\n",
       "      <td>6</td>\n",
       "      <td>6</td>\n",
       "      <td>6</td>\n",
       "      <td>6</td>\n",
       "    </tr>\n",
       "    <tr>\n",
       "      <td>7.0</td>\n",
       "      <td>11</td>\n",
       "      <td>11</td>\n",
       "      <td>11</td>\n",
       "      <td>11</td>\n",
       "      <td>11</td>\n",
       "      <td>11</td>\n",
       "    </tr>\n",
       "    <tr>\n",
       "      <td>8.0</td>\n",
       "      <td>5</td>\n",
       "      <td>5</td>\n",
       "      <td>5</td>\n",
       "      <td>5</td>\n",
       "      <td>5</td>\n",
       "      <td>5</td>\n",
       "    </tr>\n",
       "    <tr>\n",
       "      <td>9.0</td>\n",
       "      <td>6</td>\n",
       "      <td>6</td>\n",
       "      <td>6</td>\n",
       "      <td>6</td>\n",
       "      <td>6</td>\n",
       "      <td>6</td>\n",
       "    </tr>\n",
       "  </tbody>\n",
       "</table>\n",
       "</div>"
      ],
      "text/plain": [
       "        _sexo  _bairro  _classificacao  _conclusao  _dt_notificacao  \\\n",
       "_idade                                                                \n",
       "0.0        48       48              48          48               48   \n",
       "1.0        19       19              19          19               19   \n",
       "2.0        11       11              11          11               11   \n",
       "3.0        14       14              14          14               14   \n",
       "4.0        10       10              10          10               10   \n",
       "5.0        11       11              11          11               11   \n",
       "6.0         6        6               6           6                6   \n",
       "7.0        11       11              11          11               11   \n",
       "8.0         5        5               5           5                5   \n",
       "9.0         6        6               6           6                6   \n",
       "\n",
       "        _tipo_teste  \n",
       "_idade               \n",
       "0.0              48  \n",
       "1.0              19  \n",
       "2.0              11  \n",
       "3.0              14  \n",
       "4.0              10  \n",
       "5.0              11  \n",
       "6.0               6  \n",
       "7.0              11  \n",
       "8.0               5  \n",
       "9.0               6  "
      ]
     },
     "execution_count": 65,
     "metadata": {},
     "output_type": "execute_result"
    }
   ],
   "source": [
    "age_cases.head(10)"
   ]
  },
  {
   "cell_type": "code",
   "execution_count": 66,
   "metadata": {},
   "outputs": [
    {
     "data": {
      "text/plain": [
       "Float64Index([ 0.0,  1.0,  2.0,  3.0,  4.0,  5.0,  6.0,  7.0,  8.0,  9.0, 10.0,\n",
       "              11.0, 12.0, 13.0, 14.0, 15.0, 16.0, 17.0, 18.0, 19.0, 20.0, 21.0,\n",
       "              22.0, 23.0, 24.0, 25.0, 26.0, 27.0, 28.0, 29.0, 30.0, 31.0, 32.0,\n",
       "              33.0, 34.0, 35.0, 36.0, 37.0, 38.0, 39.0, 40.0, 41.0, 42.0, 43.0,\n",
       "              44.0, 45.0, 46.0, 47.0, 48.0, 49.0, 50.0, 51.0, 52.0, 53.0, 54.0,\n",
       "              55.0, 56.0, 57.0, 58.0, 59.0, 60.0, 61.0, 62.0, 63.0, 64.0, 65.0,\n",
       "              66.0, 67.0, 68.0, 69.0, 70.0, 71.0, 72.0, 73.0, 74.0, 75.0, 76.0,\n",
       "              77.0, 78.0, 79.0, 80.0, 81.0, 82.0, 83.0, 84.0, 85.0, 86.0, 87.0,\n",
       "              88.0, 89.0, 90.0, 92.0, 93.0, 94.0, 96.0, 97.0, 99.0],\n",
       "             dtype='float64', name='_idade')"
      ]
     },
     "execution_count": 66,
     "metadata": {},
     "output_type": "execute_result"
    }
   ],
   "source": [
    "age_cases.index"
   ]
  },
  {
   "cell_type": "code",
   "execution_count": 67,
   "metadata": {},
   "outputs": [
    {
     "data": {
      "text/plain": [
       "array([ 48,  19,  11,  14,  10,  11,   6,  11,   5,   6,   8,   5,   9,\n",
       "        12,  15,  14,  15,  27,  26,  16,  43,  50,  55,  70,  92, 112,\n",
       "        95, 114, 134, 126, 123, 145, 155, 149, 149, 170, 179, 185, 213,\n",
       "       213, 215, 205, 202, 198, 196, 192, 212, 170, 169, 141, 143, 119,\n",
       "       128, 135, 113, 108,  92,  92,  76,  68,  64,  49,  49,  50,  32,\n",
       "        43,  33,  31,  24,  22,  20,  19,  17,  14,   8,  12,  15,   7,\n",
       "        10,   6,   8,  10,   8,   2,   7,   5,   4,   4,   3,   4,   1,\n",
       "         2,   1,   1,   1,   1,   1], dtype=int64)"
      ]
     },
     "execution_count": 67,
     "metadata": {},
     "output_type": "execute_result"
    }
   ],
   "source": [
    "age_cases.values.transpose()[0]"
   ]
  },
  {
   "cell_type": "code",
   "execution_count": 68,
   "metadata": {},
   "outputs": [],
   "source": [
    "age_case_corr = pd.DataFrame(data=np.array([age_cases.index, age_cases.values.transpose()[0]]).transpose(), columns=['idade', 'casos'])"
   ]
  },
  {
   "cell_type": "code",
   "execution_count": 69,
   "metadata": {},
   "outputs": [
    {
     "data": {
      "text/plain": [
       "-0.2258984278924331"
      ]
     },
     "execution_count": 69,
     "metadata": {},
     "output_type": "execute_result"
    }
   ],
   "source": [
    "age_case_corr['idade'].corr(age_case_corr['casos'])"
   ]
  },
  {
   "cell_type": "code",
   "execution_count": 70,
   "metadata": {},
   "outputs": [],
   "source": [
    "# O resultado é um valor negativo próximo de zero.\n",
    "# Isso demonstra que as variáveis possuem uma leve relação inversamente proporcional."
   ]
  },
  {
   "cell_type": "markdown",
   "metadata": {},
   "source": [
    "#### 2.2.1 Plot a histogram of top 10 cases number by districts. The remaning districts must be in a bar denoted by \"others\". The information must be in percentages."
   ]
  },
  {
   "cell_type": "code",
   "execution_count": 71,
   "metadata": {},
   "outputs": [
    {
     "data": {
      "text/plain": [
       "_bairro\n",
       "CIDADE NOVA          301\n",
       "FLORES               266\n",
       "TARUMA               225\n",
       "PETROPOLIS           193\n",
       "ALEIXO               172\n",
       "NOVO ALEIXO          170\n",
       "JORGE TEIXEIRA       169\n",
       "SAO JOSE OPERARIO    169\n",
       "COROADO              168\n",
       "COMPENSA             166\n",
       "Name: _classificacao, dtype: int64"
      ]
     },
     "execution_count": 71,
     "metadata": {},
     "output_type": "execute_result"
    }
   ],
   "source": [
    "neigh_cases.sort_values(ascending=False).head(10)"
   ]
  },
  {
   "cell_type": "code",
   "execution_count": 72,
   "metadata": {},
   "outputs": [
    {
     "name": "stdout",
     "output_type": "stream",
     "text": [
      "[301, 266, 225, 193, 172, 170, 169, 169, 168, 166]\n"
     ]
    }
   ],
   "source": [
    "hist = list(neigh_cases.sort_values(ascending=False).head(10))\n",
    "print(hist)"
   ]
  },
  {
   "cell_type": "code",
   "execution_count": 73,
   "metadata": {},
   "outputs": [],
   "source": [
    "nbs = ['CN', 'FL', 'TA', 'PT', 'AL', 'NAL', 'JT', 'SJO', 'COR', 'COM', 'Others']"
   ]
  },
  {
   "cell_type": "code",
   "execution_count": 74,
   "metadata": {},
   "outputs": [
    {
     "name": "stdout",
     "output_type": "stream",
     "text": [
      "4423\n"
     ]
    }
   ],
   "source": [
    "others = np.sum(neigh_cases.sort_values(ascending=False).tail(496))\n",
    "print(others)"
   ]
  },
  {
   "cell_type": "code",
   "execution_count": 75,
   "metadata": {},
   "outputs": [
    {
     "name": "stdout",
     "output_type": "stream",
     "text": [
      "[301, 266, 225, 193, 172, 170, 169, 169, 168, 166, 4423]\n"
     ]
    }
   ],
   "source": [
    "hist.append(others)\n",
    "print(hist)"
   ]
  },
  {
   "cell_type": "code",
   "execution_count": 76,
   "metadata": {},
   "outputs": [
    {
     "name": "stdout",
     "output_type": "stream",
     "text": [
      "6422\n"
     ]
    }
   ],
   "source": [
    "total = sum(hist)\n",
    "print(total)"
   ]
  },
  {
   "cell_type": "code",
   "execution_count": 77,
   "metadata": {},
   "outputs": [
    {
     "data": {
      "text/plain": [
       "Text(0.5, 1.0, 'Distribution of confirmed cases per district')"
      ]
     },
     "execution_count": 77,
     "metadata": {},
     "output_type": "execute_result"
    },
    {
     "data": {
      "image/png": "[encoded data removed]",
      "text/plain": [
       "<Figure size 432x288 with 1 Axes>"
      ]
     },
     "metadata": {
      "needs_background": "light"
     },
     "output_type": "display_data"
    }
   ],
   "source": [
    "plt.bar(nbs, [x/total * 100 for x in hist])\n",
    "plt.xlabel(\"District\")\n",
    "plt.ylabel(\"% of Cases\")\n",
    "plt.title(\"Distribution of confirmed cases per district\")"
   ]
  },
  {
   "cell_type": "markdown",
   "metadata": {},
   "source": [
    "#### 2.2.2 Plot a boxplot of ages of confirmed cases per genre. Is there any outlier?"
   ]
  },
  {
   "cell_type": "code",
   "execution_count": 78,
   "metadata": {},
   "outputs": [],
   "source": [
    "male_age = conf_cases[conf_cases._sexo == 'M'][['_idade']]\n",
    "fale_age = conf_cases[conf_cases._sexo == 'F'][['_idade']]"
   ]
  },
  {
   "cell_type": "code",
   "execution_count": 79,
   "metadata": {},
   "outputs": [],
   "source": [
    "male_age = male_age.values.flatten()\n",
    "fale_age = fale_age.values.flatten()"
   ]
  },
  {
   "cell_type": "code",
   "execution_count": 80,
   "metadata": {},
   "outputs": [],
   "source": [
    "data = np.concatenate((male_age, fale_age))"
   ]
  },
  {
   "cell_type": "code",
   "execution_count": 81,
   "metadata": {},
   "outputs": [
    {
     "data": {
      "text/plain": [
       "{'whiskers': [<matplotlib.lines.Line2D at 0x1d9c39cfec8>,\n",
       "  <matplotlib.lines.Line2D at 0x1d9c39a7948>,\n",
       "  <matplotlib.lines.Line2D at 0x1d9c35d0bc8>,\n",
       "  <matplotlib.lines.Line2D at 0x1d9c35d0188>],\n",
       " 'caps': [<matplotlib.lines.Line2D at 0x1d9c39a7ac8>,\n",
       "  <matplotlib.lines.Line2D at 0x1d9c12b5e48>,\n",
       "  <matplotlib.lines.Line2D at 0x1d9c3d72908>,\n",
       "  <matplotlib.lines.Line2D at 0x1d9c3d72bc8>],\n",
       " 'boxes': [<matplotlib.lines.Line2D at 0x1d9c39cfc08>,\n",
       "  <matplotlib.lines.Line2D at 0x1d9c35d0f88>],\n",
       " 'medians': [<matplotlib.lines.Line2D at 0x1d9c12b52c8>,\n",
       "  <matplotlib.lines.Line2D at 0x1d9c3cfffc8>],\n",
       " 'fliers': [<matplotlib.lines.Line2D at 0x1d9c35d0888>,\n",
       "  <matplotlib.lines.Line2D at 0x1d9c3cffbc8>],\n",
       " 'means': []}"
      ]
     },
     "execution_count": 81,
     "metadata": {},
     "output_type": "execute_result"
    },
    {
     "data": {
      "image/png": "[encoded data removed]",
      "text/plain": [
       "<Figure size 432x288 with 1 Axes>"
      ]
     },
     "metadata": {
      "needs_background": "light"
     },
     "output_type": "display_data"
    }
   ],
   "source": [
    "plt.boxplot((male_age, fale_age), sym=\"o\", labels=[\"Male\", \"Female\"])"
   ]
  },
  {
   "cell_type": "markdown",
   "metadata": {},
   "source": [
    "#### 2.2.3 Plot the number of new cases per day (on the last 10 days)."
   ]
  },
  {
   "cell_type": "code",
   "execution_count": 82,
   "metadata": {},
   "outputs": [
    {
     "data": {
      "text/html": [
       "<div>\n",
       "<style scoped>\n",
       "    .dataframe tbody tr th:only-of-type {\n",
       "        vertical-align: middle;\n",
       "    }\n",
       "\n",
       "    .dataframe tbody tr th {\n",
       "        vertical-align: top;\n",
       "    }\n",
       "\n",
       "    .dataframe thead th {\n",
       "        text-align: right;\n",
       "    }\n",
       "</style>\n",
       "<table border=\"1\" class=\"dataframe\">\n",
       "  <thead>\n",
       "    <tr style=\"text-align: right;\">\n",
       "      <th></th>\n",
       "      <th>_idade</th>\n",
       "      <th>_sexo</th>\n",
       "      <th>_bairro</th>\n",
       "      <th>_classificacao</th>\n",
       "      <th>_conclusao</th>\n",
       "      <th>_dt_notificacao</th>\n",
       "      <th>_tipo_teste</th>\n",
       "    </tr>\n",
       "  </thead>\n",
       "  <tbody>\n",
       "    <tr>\n",
       "      <td>680</td>\n",
       "      <td>25.0</td>\n",
       "      <td>F</td>\n",
       "      <td>ADRIANOPOLIS</td>\n",
       "      <td>Confirmado</td>\n",
       "      <td>Recuperado</td>\n",
       "      <td>20/03/2020</td>\n",
       "      <td>RT-PCR</td>\n",
       "    </tr>\n",
       "    <tr>\n",
       "      <td>681</td>\n",
       "      <td>41.0</td>\n",
       "      <td>F</td>\n",
       "      <td>BETANIA</td>\n",
       "      <td>Confirmado</td>\n",
       "      <td>Recuperado</td>\n",
       "      <td>27/03/2020</td>\n",
       "      <td>RT-PCR</td>\n",
       "    </tr>\n",
       "    <tr>\n",
       "      <td>67519</td>\n",
       "      <td>40.0</td>\n",
       "      <td>F</td>\n",
       "      <td>DOM PEDRO</td>\n",
       "      <td>Confirmado</td>\n",
       "      <td>Recuperado</td>\n",
       "      <td>20/04/2020</td>\n",
       "      <td>TESTE RÁPIDO - ANTICORPO</td>\n",
       "    </tr>\n",
       "    <tr>\n",
       "      <td>67523</td>\n",
       "      <td>50.0</td>\n",
       "      <td>M</td>\n",
       "      <td>FLORES</td>\n",
       "      <td>Confirmado</td>\n",
       "      <td>Recuperado</td>\n",
       "      <td>24/04/2020</td>\n",
       "      <td>RT-PCR</td>\n",
       "    </tr>\n",
       "    <tr>\n",
       "      <td>67540</td>\n",
       "      <td>30.0</td>\n",
       "      <td>M</td>\n",
       "      <td>PRESIDENTE VARGAS</td>\n",
       "      <td>Confirmado</td>\n",
       "      <td>Recuperado</td>\n",
       "      <td>23/04/2020</td>\n",
       "      <td>TESTE RÁPIDO - ANTÍGENO</td>\n",
       "    </tr>\n",
       "    <tr>\n",
       "      <td>...</td>\n",
       "      <td>...</td>\n",
       "      <td>...</td>\n",
       "      <td>...</td>\n",
       "      <td>...</td>\n",
       "      <td>...</td>\n",
       "      <td>...</td>\n",
       "      <td>...</td>\n",
       "    </tr>\n",
       "    <tr>\n",
       "      <td>108310</td>\n",
       "      <td>70.0</td>\n",
       "      <td>F</td>\n",
       "      <td>DOM PEDRO I</td>\n",
       "      <td>Confirmado</td>\n",
       "      <td>Recuperado</td>\n",
       "      <td>02/06/2020</td>\n",
       "      <td>TESTE RÁPIDO - ANTÍGENO</td>\n",
       "    </tr>\n",
       "    <tr>\n",
       "      <td>108338</td>\n",
       "      <td>0.0</td>\n",
       "      <td>M</td>\n",
       "      <td>NOVO ALEIXO</td>\n",
       "      <td>Confirmado</td>\n",
       "      <td>Recuperado</td>\n",
       "      <td>28/06/2020</td>\n",
       "      <td>TESTE RÁPIDO - ANTICORPO</td>\n",
       "    </tr>\n",
       "    <tr>\n",
       "      <td>108341</td>\n",
       "      <td>14.0</td>\n",
       "      <td>F</td>\n",
       "      <td>DA PAZ</td>\n",
       "      <td>Confirmado</td>\n",
       "      <td>Recuperado</td>\n",
       "      <td>25/06/2020</td>\n",
       "      <td>TESTE RÁPIDO - ANTÍGENO</td>\n",
       "    </tr>\n",
       "    <tr>\n",
       "      <td>108346</td>\n",
       "      <td>68.0</td>\n",
       "      <td>M</td>\n",
       "      <td>JORGE TEIXEIRA</td>\n",
       "      <td>Confirmado</td>\n",
       "      <td>Recuperado</td>\n",
       "      <td>01/06/2020</td>\n",
       "      <td>RT-PCR</td>\n",
       "    </tr>\n",
       "    <tr>\n",
       "      <td>108349</td>\n",
       "      <td>45.0</td>\n",
       "      <td>F</td>\n",
       "      <td>TARUMA</td>\n",
       "      <td>Confirmado</td>\n",
       "      <td>Recuperado</td>\n",
       "      <td>05/06/2020</td>\n",
       "      <td>TESTE RÁPIDO - ANTICORPO</td>\n",
       "    </tr>\n",
       "  </tbody>\n",
       "</table>\n",
       "<p>6422 rows × 7 columns</p>\n",
       "</div>"
      ],
      "text/plain": [
       "        _idade _sexo            _bairro _classificacao  _conclusao  \\\n",
       "680       25.0     F       ADRIANOPOLIS     Confirmado  Recuperado   \n",
       "681       41.0     F            BETANIA     Confirmado  Recuperado   \n",
       "67519     40.0     F          DOM PEDRO     Confirmado  Recuperado   \n",
       "67523     50.0     M             FLORES     Confirmado  Recuperado   \n",
       "67540     30.0     M  PRESIDENTE VARGAS     Confirmado  Recuperado   \n",
       "...        ...   ...                ...            ...         ...   \n",
       "108310    70.0     F        DOM PEDRO I     Confirmado  Recuperado   \n",
       "108338     0.0     M        NOVO ALEIXO     Confirmado  Recuperado   \n",
       "108341    14.0     F             DA PAZ     Confirmado  Recuperado   \n",
       "108346    68.0     M     JORGE TEIXEIRA     Confirmado  Recuperado   \n",
       "108349    45.0     F             TARUMA     Confirmado  Recuperado   \n",
       "\n",
       "       _dt_notificacao               _tipo_teste  \n",
       "680         20/03/2020                    RT-PCR  \n",
       "681         27/03/2020                    RT-PCR  \n",
       "67519       20/04/2020  TESTE RÁPIDO - ANTICORPO  \n",
       "67523       24/04/2020                    RT-PCR  \n",
       "67540       23/04/2020   TESTE RÁPIDO - ANTÍGENO  \n",
       "...                ...                       ...  \n",
       "108310      02/06/2020   TESTE RÁPIDO - ANTÍGENO  \n",
       "108338      28/06/2020  TESTE RÁPIDO - ANTICORPO  \n",
       "108341      25/06/2020   TESTE RÁPIDO - ANTÍGENO  \n",
       "108346      01/06/2020                    RT-PCR  \n",
       "108349      05/06/2020  TESTE RÁPIDO - ANTICORPO  \n",
       "\n",
       "[6422 rows x 7 columns]"
      ]
     },
     "execution_count": 82,
     "metadata": {},
     "output_type": "execute_result"
    }
   ],
   "source": [
    "clean_df"
   ]
  },
  {
   "cell_type": "code",
   "execution_count": 83,
   "metadata": {},
   "outputs": [],
   "source": [
    "cases_per_day = clean_df.drop(columns=['_idade', '_sexo', '_bairro', '_conclusao', '_tipo_teste'])"
   ]
  },
  {
   "cell_type": "code",
   "execution_count": 84,
   "metadata": {},
   "outputs": [
    {
     "data": {
      "text/html": [
       "<div>\n",
       "<style scoped>\n",
       "    .dataframe tbody tr th:only-of-type {\n",
       "        vertical-align: middle;\n",
       "    }\n",
       "\n",
       "    .dataframe tbody tr th {\n",
       "        vertical-align: top;\n",
       "    }\n",
       "\n",
       "    .dataframe thead th {\n",
       "        text-align: right;\n",
       "    }\n",
       "</style>\n",
       "<table border=\"1\" class=\"dataframe\">\n",
       "  <thead>\n",
       "    <tr style=\"text-align: right;\">\n",
       "      <th></th>\n",
       "      <th>_classificacao</th>\n",
       "      <th>_dt_notificacao</th>\n",
       "    </tr>\n",
       "  </thead>\n",
       "  <tbody>\n",
       "    <tr>\n",
       "      <td>680</td>\n",
       "      <td>Confirmado</td>\n",
       "      <td>20/03/2020</td>\n",
       "    </tr>\n",
       "    <tr>\n",
       "      <td>681</td>\n",
       "      <td>Confirmado</td>\n",
       "      <td>27/03/2020</td>\n",
       "    </tr>\n",
       "    <tr>\n",
       "      <td>67519</td>\n",
       "      <td>Confirmado</td>\n",
       "      <td>20/04/2020</td>\n",
       "    </tr>\n",
       "    <tr>\n",
       "      <td>67523</td>\n",
       "      <td>Confirmado</td>\n",
       "      <td>24/04/2020</td>\n",
       "    </tr>\n",
       "    <tr>\n",
       "      <td>67540</td>\n",
       "      <td>Confirmado</td>\n",
       "      <td>23/04/2020</td>\n",
       "    </tr>\n",
       "    <tr>\n",
       "      <td>67545</td>\n",
       "      <td>Confirmado</td>\n",
       "      <td>21/04/2020</td>\n",
       "    </tr>\n",
       "    <tr>\n",
       "      <td>67550</td>\n",
       "      <td>Confirmado</td>\n",
       "      <td>11/04/2020</td>\n",
       "    </tr>\n",
       "    <tr>\n",
       "      <td>67551</td>\n",
       "      <td>Confirmado</td>\n",
       "      <td>24/04/2020</td>\n",
       "    </tr>\n",
       "    <tr>\n",
       "      <td>67554</td>\n",
       "      <td>Confirmado</td>\n",
       "      <td>24/04/2020</td>\n",
       "    </tr>\n",
       "    <tr>\n",
       "      <td>67555</td>\n",
       "      <td>Confirmado</td>\n",
       "      <td>24/04/2020</td>\n",
       "    </tr>\n",
       "    <tr>\n",
       "      <td>67561</td>\n",
       "      <td>Confirmado</td>\n",
       "      <td>24/04/2020</td>\n",
       "    </tr>\n",
       "    <tr>\n",
       "      <td>67562</td>\n",
       "      <td>Confirmado</td>\n",
       "      <td>22/04/2020</td>\n",
       "    </tr>\n",
       "    <tr>\n",
       "      <td>67564</td>\n",
       "      <td>Confirmado</td>\n",
       "      <td>23/04/2020</td>\n",
       "    </tr>\n",
       "    <tr>\n",
       "      <td>67569</td>\n",
       "      <td>Confirmado</td>\n",
       "      <td>23/04/2020</td>\n",
       "    </tr>\n",
       "    <tr>\n",
       "      <td>67592</td>\n",
       "      <td>Confirmado</td>\n",
       "      <td>20/04/2020</td>\n",
       "    </tr>\n",
       "    <tr>\n",
       "      <td>67593</td>\n",
       "      <td>Confirmado</td>\n",
       "      <td>20/04/2020</td>\n",
       "    </tr>\n",
       "    <tr>\n",
       "      <td>67611</td>\n",
       "      <td>Confirmado</td>\n",
       "      <td>19/05/2020</td>\n",
       "    </tr>\n",
       "    <tr>\n",
       "      <td>67615</td>\n",
       "      <td>Confirmado</td>\n",
       "      <td>10/05/2020</td>\n",
       "    </tr>\n",
       "    <tr>\n",
       "      <td>67628</td>\n",
       "      <td>Confirmado</td>\n",
       "      <td>16/04/2020</td>\n",
       "    </tr>\n",
       "    <tr>\n",
       "      <td>67636</td>\n",
       "      <td>Confirmado</td>\n",
       "      <td>17/04/2020</td>\n",
       "    </tr>\n",
       "  </tbody>\n",
       "</table>\n",
       "</div>"
      ],
      "text/plain": [
       "      _classificacao _dt_notificacao\n",
       "680       Confirmado      20/03/2020\n",
       "681       Confirmado      27/03/2020\n",
       "67519     Confirmado      20/04/2020\n",
       "67523     Confirmado      24/04/2020\n",
       "67540     Confirmado      23/04/2020\n",
       "67545     Confirmado      21/04/2020\n",
       "67550     Confirmado      11/04/2020\n",
       "67551     Confirmado      24/04/2020\n",
       "67554     Confirmado      24/04/2020\n",
       "67555     Confirmado      24/04/2020\n",
       "67561     Confirmado      24/04/2020\n",
       "67562     Confirmado      22/04/2020\n",
       "67564     Confirmado      23/04/2020\n",
       "67569     Confirmado      23/04/2020\n",
       "67592     Confirmado      20/04/2020\n",
       "67593     Confirmado      20/04/2020\n",
       "67611     Confirmado      19/05/2020\n",
       "67615     Confirmado      10/05/2020\n",
       "67628     Confirmado      16/04/2020\n",
       "67636     Confirmado      17/04/2020"
      ]
     },
     "execution_count": 84,
     "metadata": {},
     "output_type": "execute_result"
    }
   ],
   "source": [
    "cases_per_day.head(20)"
   ]
  },
  {
   "cell_type": "code",
   "execution_count": 85,
   "metadata": {},
   "outputs": [],
   "source": [
    "cases_per_day['_dt_notificacao'] = pd.to_datetime(cases_per_day['_dt_notificacao'], dayfirst=True)"
   ]
  },
  {
   "cell_type": "code",
   "execution_count": 86,
   "metadata": {},
   "outputs": [
    {
     "data": {
      "text/html": [
       "<div>\n",
       "<style scoped>\n",
       "    .dataframe tbody tr th:only-of-type {\n",
       "        vertical-align: middle;\n",
       "    }\n",
       "\n",
       "    .dataframe tbody tr th {\n",
       "        vertical-align: top;\n",
       "    }\n",
       "\n",
       "    .dataframe thead th {\n",
       "        text-align: right;\n",
       "    }\n",
       "</style>\n",
       "<table border=\"1\" class=\"dataframe\">\n",
       "  <thead>\n",
       "    <tr style=\"text-align: right;\">\n",
       "      <th></th>\n",
       "      <th>_classificacao</th>\n",
       "      <th>_dt_notificacao</th>\n",
       "    </tr>\n",
       "  </thead>\n",
       "  <tbody>\n",
       "    <tr>\n",
       "      <td>680</td>\n",
       "      <td>Confirmado</td>\n",
       "      <td>2020-03-20</td>\n",
       "    </tr>\n",
       "    <tr>\n",
       "      <td>681</td>\n",
       "      <td>Confirmado</td>\n",
       "      <td>2020-03-27</td>\n",
       "    </tr>\n",
       "    <tr>\n",
       "      <td>67519</td>\n",
       "      <td>Confirmado</td>\n",
       "      <td>2020-04-20</td>\n",
       "    </tr>\n",
       "    <tr>\n",
       "      <td>67523</td>\n",
       "      <td>Confirmado</td>\n",
       "      <td>2020-04-24</td>\n",
       "    </tr>\n",
       "    <tr>\n",
       "      <td>67540</td>\n",
       "      <td>Confirmado</td>\n",
       "      <td>2020-04-23</td>\n",
       "    </tr>\n",
       "    <tr>\n",
       "      <td>...</td>\n",
       "      <td>...</td>\n",
       "      <td>...</td>\n",
       "    </tr>\n",
       "    <tr>\n",
       "      <td>108310</td>\n",
       "      <td>Confirmado</td>\n",
       "      <td>2020-06-02</td>\n",
       "    </tr>\n",
       "    <tr>\n",
       "      <td>108338</td>\n",
       "      <td>Confirmado</td>\n",
       "      <td>2020-06-28</td>\n",
       "    </tr>\n",
       "    <tr>\n",
       "      <td>108341</td>\n",
       "      <td>Confirmado</td>\n",
       "      <td>2020-06-25</td>\n",
       "    </tr>\n",
       "    <tr>\n",
       "      <td>108346</td>\n",
       "      <td>Confirmado</td>\n",
       "      <td>2020-06-01</td>\n",
       "    </tr>\n",
       "    <tr>\n",
       "      <td>108349</td>\n",
       "      <td>Confirmado</td>\n",
       "      <td>2020-06-05</td>\n",
       "    </tr>\n",
       "  </tbody>\n",
       "</table>\n",
       "<p>6422 rows × 2 columns</p>\n",
       "</div>"
      ],
      "text/plain": [
       "       _classificacao _dt_notificacao\n",
       "680        Confirmado      2020-03-20\n",
       "681        Confirmado      2020-03-27\n",
       "67519      Confirmado      2020-04-20\n",
       "67523      Confirmado      2020-04-24\n",
       "67540      Confirmado      2020-04-23\n",
       "...               ...             ...\n",
       "108310     Confirmado      2020-06-02\n",
       "108338     Confirmado      2020-06-28\n",
       "108341     Confirmado      2020-06-25\n",
       "108346     Confirmado      2020-06-01\n",
       "108349     Confirmado      2020-06-05\n",
       "\n",
       "[6422 rows x 2 columns]"
      ]
     },
     "execution_count": 86,
     "metadata": {},
     "output_type": "execute_result"
    }
   ],
   "source": [
    "cases_per_day"
   ]
  },
  {
   "cell_type": "code",
   "execution_count": 87,
   "metadata": {},
   "outputs": [
    {
     "name": "stdout",
     "output_type": "stream",
     "text": [
      "1\n"
     ]
    }
   ],
   "source": [
    "porra = 0\n",
    "for i in cases_per_day._dt_notificacao.dt.month:\n",
    "    if i == 2:\n",
    "        porra += 1\n",
    "print(porra)"
   ]
  },
  {
   "cell_type": "code",
   "execution_count": 88,
   "metadata": {},
   "outputs": [
    {
     "data": {
      "text/html": [
       "<div>\n",
       "<style scoped>\n",
       "    .dataframe tbody tr th:only-of-type {\n",
       "        vertical-align: middle;\n",
       "    }\n",
       "\n",
       "    .dataframe tbody tr th {\n",
       "        vertical-align: top;\n",
       "    }\n",
       "\n",
       "    .dataframe thead th {\n",
       "        text-align: right;\n",
       "    }\n",
       "</style>\n",
       "<table border=\"1\" class=\"dataframe\">\n",
       "  <thead>\n",
       "    <tr style=\"text-align: right;\">\n",
       "      <th></th>\n",
       "      <th>_classificacao</th>\n",
       "      <th>_dt_notificacao</th>\n",
       "    </tr>\n",
       "  </thead>\n",
       "  <tbody>\n",
       "    <tr>\n",
       "      <td>680</td>\n",
       "      <td>Confirmado</td>\n",
       "      <td>2020-03-20</td>\n",
       "    </tr>\n",
       "    <tr>\n",
       "      <td>681</td>\n",
       "      <td>Confirmado</td>\n",
       "      <td>2020-03-27</td>\n",
       "    </tr>\n",
       "    <tr>\n",
       "      <td>67519</td>\n",
       "      <td>Confirmado</td>\n",
       "      <td>2020-04-20</td>\n",
       "    </tr>\n",
       "    <tr>\n",
       "      <td>67523</td>\n",
       "      <td>Confirmado</td>\n",
       "      <td>2020-04-24</td>\n",
       "    </tr>\n",
       "    <tr>\n",
       "      <td>67540</td>\n",
       "      <td>Confirmado</td>\n",
       "      <td>2020-04-23</td>\n",
       "    </tr>\n",
       "    <tr>\n",
       "      <td>...</td>\n",
       "      <td>...</td>\n",
       "      <td>...</td>\n",
       "    </tr>\n",
       "    <tr>\n",
       "      <td>108310</td>\n",
       "      <td>Confirmado</td>\n",
       "      <td>2020-06-02</td>\n",
       "    </tr>\n",
       "    <tr>\n",
       "      <td>108338</td>\n",
       "      <td>Confirmado</td>\n",
       "      <td>2020-06-28</td>\n",
       "    </tr>\n",
       "    <tr>\n",
       "      <td>108341</td>\n",
       "      <td>Confirmado</td>\n",
       "      <td>2020-06-25</td>\n",
       "    </tr>\n",
       "    <tr>\n",
       "      <td>108346</td>\n",
       "      <td>Confirmado</td>\n",
       "      <td>2020-06-01</td>\n",
       "    </tr>\n",
       "    <tr>\n",
       "      <td>108349</td>\n",
       "      <td>Confirmado</td>\n",
       "      <td>2020-06-05</td>\n",
       "    </tr>\n",
       "  </tbody>\n",
       "</table>\n",
       "<p>6422 rows × 2 columns</p>\n",
       "</div>"
      ],
      "text/plain": [
       "       _classificacao _dt_notificacao\n",
       "680        Confirmado      2020-03-20\n",
       "681        Confirmado      2020-03-27\n",
       "67519      Confirmado      2020-04-20\n",
       "67523      Confirmado      2020-04-24\n",
       "67540      Confirmado      2020-04-23\n",
       "...               ...             ...\n",
       "108310     Confirmado      2020-06-02\n",
       "108338     Confirmado      2020-06-28\n",
       "108341     Confirmado      2020-06-25\n",
       "108346     Confirmado      2020-06-01\n",
       "108349     Confirmado      2020-06-05\n",
       "\n",
       "[6422 rows x 2 columns]"
      ]
     },
     "execution_count": 88,
     "metadata": {},
     "output_type": "execute_result"
    }
   ],
   "source": [
    "cases_per_day"
   ]
  },
  {
   "cell_type": "code",
   "execution_count": 89,
   "metadata": {},
   "outputs": [],
   "source": [
    "caralhos = cases_per_day.sort_values(by='_dt_notificacao')"
   ]
  },
  {
   "cell_type": "code",
   "execution_count": 90,
   "metadata": {},
   "outputs": [
    {
     "data": {
      "text/html": [
       "<div>\n",
       "<style scoped>\n",
       "    .dataframe tbody tr th:only-of-type {\n",
       "        vertical-align: middle;\n",
       "    }\n",
       "\n",
       "    .dataframe tbody tr th {\n",
       "        vertical-align: top;\n",
       "    }\n",
       "\n",
       "    .dataframe thead th {\n",
       "        text-align: right;\n",
       "    }\n",
       "</style>\n",
       "<table border=\"1\" class=\"dataframe\">\n",
       "  <thead>\n",
       "    <tr style=\"text-align: right;\">\n",
       "      <th></th>\n",
       "      <th>_classificacao</th>\n",
       "      <th>_dt_notificacao</th>\n",
       "    </tr>\n",
       "  </thead>\n",
       "  <tbody>\n",
       "    <tr>\n",
       "      <td>107318</td>\n",
       "      <td>Confirmado</td>\n",
       "      <td>2020-01-30</td>\n",
       "    </tr>\n",
       "    <tr>\n",
       "      <td>77211</td>\n",
       "      <td>Confirmado</td>\n",
       "      <td>2020-02-16</td>\n",
       "    </tr>\n",
       "    <tr>\n",
       "      <td>89016</td>\n",
       "      <td>Confirmado</td>\n",
       "      <td>2020-03-09</td>\n",
       "    </tr>\n",
       "    <tr>\n",
       "      <td>68700</td>\n",
       "      <td>Confirmado</td>\n",
       "      <td>2020-03-13</td>\n",
       "    </tr>\n",
       "    <tr>\n",
       "      <td>75419</td>\n",
       "      <td>Confirmado</td>\n",
       "      <td>2020-03-14</td>\n",
       "    </tr>\n",
       "    <tr>\n",
       "      <td>...</td>\n",
       "      <td>...</td>\n",
       "      <td>...</td>\n",
       "    </tr>\n",
       "    <tr>\n",
       "      <td>108042</td>\n",
       "      <td>Confirmado</td>\n",
       "      <td>2020-07-20</td>\n",
       "    </tr>\n",
       "    <tr>\n",
       "      <td>107433</td>\n",
       "      <td>Confirmado</td>\n",
       "      <td>2020-07-24</td>\n",
       "    </tr>\n",
       "    <tr>\n",
       "      <td>108123</td>\n",
       "      <td>Confirmado</td>\n",
       "      <td>2020-07-24</td>\n",
       "    </tr>\n",
       "    <tr>\n",
       "      <td>107461</td>\n",
       "      <td>Confirmado</td>\n",
       "      <td>2020-07-30</td>\n",
       "    </tr>\n",
       "    <tr>\n",
       "      <td>107995</td>\n",
       "      <td>Confirmado</td>\n",
       "      <td>2020-07-31</td>\n",
       "    </tr>\n",
       "  </tbody>\n",
       "</table>\n",
       "<p>6422 rows × 2 columns</p>\n",
       "</div>"
      ],
      "text/plain": [
       "       _classificacao _dt_notificacao\n",
       "107318     Confirmado      2020-01-30\n",
       "77211      Confirmado      2020-02-16\n",
       "89016      Confirmado      2020-03-09\n",
       "68700      Confirmado      2020-03-13\n",
       "75419      Confirmado      2020-03-14\n",
       "...               ...             ...\n",
       "108042     Confirmado      2020-07-20\n",
       "107433     Confirmado      2020-07-24\n",
       "108123     Confirmado      2020-07-24\n",
       "107461     Confirmado      2020-07-30\n",
       "107995     Confirmado      2020-07-31\n",
       "\n",
       "[6422 rows x 2 columns]"
      ]
     },
     "execution_count": 90,
     "metadata": {},
     "output_type": "execute_result"
    }
   ],
   "source": [
    "caralhos"
   ]
  },
  {
   "cell_type": "code",
   "execution_count": 91,
   "metadata": {},
   "outputs": [],
   "source": [
    "days_group = caralhos.groupby('_dt_notificacao').count()"
   ]
  },
  {
   "cell_type": "code",
   "execution_count": 92,
   "metadata": {},
   "outputs": [
    {
     "data": {
      "text/html": [
       "<div>\n",
       "<style scoped>\n",
       "    .dataframe tbody tr th:only-of-type {\n",
       "        vertical-align: middle;\n",
       "    }\n",
       "\n",
       "    .dataframe tbody tr th {\n",
       "        vertical-align: top;\n",
       "    }\n",
       "\n",
       "    .dataframe thead th {\n",
       "        text-align: right;\n",
       "    }\n",
       "</style>\n",
       "<table border=\"1\" class=\"dataframe\">\n",
       "  <thead>\n",
       "    <tr style=\"text-align: right;\">\n",
       "      <th></th>\n",
       "      <th>_classificacao</th>\n",
       "    </tr>\n",
       "    <tr>\n",
       "      <th>_dt_notificacao</th>\n",
       "      <th></th>\n",
       "    </tr>\n",
       "  </thead>\n",
       "  <tbody>\n",
       "    <tr>\n",
       "      <td>2020-06-22</td>\n",
       "      <td>87</td>\n",
       "    </tr>\n",
       "    <tr>\n",
       "      <td>2020-06-23</td>\n",
       "      <td>45</td>\n",
       "    </tr>\n",
       "    <tr>\n",
       "      <td>2020-06-24</td>\n",
       "      <td>45</td>\n",
       "    </tr>\n",
       "    <tr>\n",
       "      <td>2020-06-25</td>\n",
       "      <td>71</td>\n",
       "    </tr>\n",
       "    <tr>\n",
       "      <td>2020-06-26</td>\n",
       "      <td>54</td>\n",
       "    </tr>\n",
       "    <tr>\n",
       "      <td>2020-06-27</td>\n",
       "      <td>4</td>\n",
       "    </tr>\n",
       "    <tr>\n",
       "      <td>2020-06-28</td>\n",
       "      <td>6</td>\n",
       "    </tr>\n",
       "    <tr>\n",
       "      <td>2020-06-29</td>\n",
       "      <td>83</td>\n",
       "    </tr>\n",
       "    <tr>\n",
       "      <td>2020-06-30</td>\n",
       "      <td>89</td>\n",
       "    </tr>\n",
       "    <tr>\n",
       "      <td>2020-07-01</td>\n",
       "      <td>45</td>\n",
       "    </tr>\n",
       "    <tr>\n",
       "      <td>2020-07-02</td>\n",
       "      <td>38</td>\n",
       "    </tr>\n",
       "    <tr>\n",
       "      <td>2020-07-03</td>\n",
       "      <td>29</td>\n",
       "    </tr>\n",
       "    <tr>\n",
       "      <td>2020-07-04</td>\n",
       "      <td>6</td>\n",
       "    </tr>\n",
       "    <tr>\n",
       "      <td>2020-07-05</td>\n",
       "      <td>9</td>\n",
       "    </tr>\n",
       "    <tr>\n",
       "      <td>2020-07-06</td>\n",
       "      <td>32</td>\n",
       "    </tr>\n",
       "    <tr>\n",
       "      <td>2020-07-16</td>\n",
       "      <td>1</td>\n",
       "    </tr>\n",
       "    <tr>\n",
       "      <td>2020-07-20</td>\n",
       "      <td>1</td>\n",
       "    </tr>\n",
       "    <tr>\n",
       "      <td>2020-07-24</td>\n",
       "      <td>2</td>\n",
       "    </tr>\n",
       "    <tr>\n",
       "      <td>2020-07-30</td>\n",
       "      <td>1</td>\n",
       "    </tr>\n",
       "    <tr>\n",
       "      <td>2020-07-31</td>\n",
       "      <td>1</td>\n",
       "    </tr>\n",
       "  </tbody>\n",
       "</table>\n",
       "</div>"
      ],
      "text/plain": [
       "                 _classificacao\n",
       "_dt_notificacao                \n",
       "2020-06-22                   87\n",
       "2020-06-23                   45\n",
       "2020-06-24                   45\n",
       "2020-06-25                   71\n",
       "2020-06-26                   54\n",
       "2020-06-27                    4\n",
       "2020-06-28                    6\n",
       "2020-06-29                   83\n",
       "2020-06-30                   89\n",
       "2020-07-01                   45\n",
       "2020-07-02                   38\n",
       "2020-07-03                   29\n",
       "2020-07-04                    6\n",
       "2020-07-05                    9\n",
       "2020-07-06                   32\n",
       "2020-07-16                    1\n",
       "2020-07-20                    1\n",
       "2020-07-24                    2\n",
       "2020-07-30                    1\n",
       "2020-07-31                    1"
      ]
     },
     "execution_count": 92,
     "metadata": {},
     "output_type": "execute_result"
    }
   ],
   "source": [
    "days_group.tail(20)"
   ]
  },
  {
   "cell_type": "code",
   "execution_count": 93,
   "metadata": {},
   "outputs": [],
   "source": [
    "bar_days = days_group.tail(17).values"
   ]
  },
  {
   "cell_type": "code",
   "execution_count": 94,
   "metadata": {},
   "outputs": [],
   "source": [
    "bar_days = bar_days.flatten()"
   ]
  },
  {
   "cell_type": "code",
   "execution_count": 95,
   "metadata": {},
   "outputs": [
    {
     "data": {
      "text/plain": [
       "array([71, 54,  4,  6, 83, 89, 45, 38, 29,  6,  9, 32,  1,  1,  2,  1,  1],\n",
       "      dtype=int64)"
      ]
     },
     "execution_count": 95,
     "metadata": {},
     "output_type": "execute_result"
    }
   ],
   "source": [
    "bar_days"
   ]
  },
  {
   "cell_type": "code",
   "execution_count": 96,
   "metadata": {},
   "outputs": [],
   "source": [
    "bar_days = np.delete(bar_days, [i for i in range(10,17)])"
   ]
  },
  {
   "cell_type": "code",
   "execution_count": 97,
   "metadata": {},
   "outputs": [],
   "source": [
    "days = ['2020-06-27', '2020-06-28', '2020-06-29', '2020-06-30', '2020-07-01', '2020-07-02', '2020-07-03', '2020-07-04', '2020-07-05', '2020-07-06']"
   ]
  },
  {
   "cell_type": "code",
   "execution_count": 98,
   "metadata": {},
   "outputs": [],
   "source": [
    "bar_days = list(bar_days)"
   ]
  },
  {
   "cell_type": "code",
   "execution_count": 99,
   "metadata": {},
   "outputs": [
    {
     "data": {
      "text/plain": [
       "[71, 54, 4, 6, 83, 89, 45, 38, 29, 6]"
      ]
     },
     "execution_count": 99,
     "metadata": {},
     "output_type": "execute_result"
    }
   ],
   "source": [
    "bar_days"
   ]
  },
  {
   "cell_type": "code",
   "execution_count": 100,
   "metadata": {},
   "outputs": [
    {
     "name": "stdout",
     "output_type": "stream",
     "text": [
      "[-17, -50, 2, 77, 6, -44, -7, -9, -23]\n"
     ]
    }
   ],
   "source": [
    "diff = []\n",
    "\n",
    "for i in range(1, len(bar_days)):\n",
    "    diff.append(bar_days[i] - bar_days[i-1])\n",
    "    \n",
    "print(diff)"
   ]
  },
  {
   "cell_type": "code",
   "execution_count": 101,
   "metadata": {},
   "outputs": [
    {
     "data": {
      "text/plain": [
       "Text(0, 0.5, 'Date')"
      ]
     },
     "execution_count": 101,
     "metadata": {},
     "output_type": "execute_result"
    },
    {
     "data": {
      "image/png": "[encoded data removed]",
      "text/plain": [
       "<Figure size 864x432 with 1 Axes>"
      ]
     },
     "metadata": {
      "needs_background": "light"
     },
     "output_type": "display_data"
    }
   ],
   "source": [
    "y_axis = days \n",
    "x_axis = bar_days\n",
    "  \n",
    "# Figure Size \n",
    "fig, ax = plt.subplots(figsize =(12, 6)) \n",
    "  \n",
    "# Horizontal Bar Plot \n",
    "ax.barh(y_axis, x_axis) \n",
    "  \n",
    "# Remove axes splines \n",
    "for s in ['top', 'bottom', 'left', 'right']: \n",
    "    ax.spines[s].set_visible(False) \n",
    "\n",
    "# Remove y ticks\n",
    "ax.yaxis.set_ticks_position('none') \n",
    "  \n",
    "# Add padding between axes and labels \n",
    "ax.xaxis.set_tick_params(pad = 5) \n",
    "ax.yaxis.set_tick_params(pad = 10) \n",
    "  \n",
    "# Add x, y gridlines \n",
    "ax.grid(b = True, color ='grey', linestyle ='-.', linewidth = 0.5, alpha = 0.2) \n",
    "  \n",
    "# Show at middle\n",
    "ax.invert_yaxis() \n",
    "  \n",
    "# Add annotation to bars\n",
    "clr = 'black'\n",
    "difa = 'inicial'\n",
    "for i, j in zip(ax.patches, range(10)):\n",
    "    if j > 0 :\n",
    "        if diff[j-1] < 0:\n",
    "            clr = 'green'\n",
    "            difa = str(diff[j-1]) + ' cases'\n",
    "        elif diff[j-1] > 0:\n",
    "            clr = 'red'\n",
    "            difa = '+' + str(diff[j-1]) + ' cases'\n",
    "        else:\n",
    "            clr = 'black'\n",
    "    plt.text(i.get_width()+5, i.get_y()+0.5,  \n",
    "             str(i.get_width()) + f' ({difa})', \n",
    "             fontsize = 14, fontweight ='normal', \n",
    "             color = clr) \n",
    "    \n",
    "# Add Plot Title \n",
    "ax.set_title('# of new cases per day', loc ='center') \n",
    "ax.set_xlabel('# of cases')\n",
    "ax.set_ylabel('Date')"
   ]
  },
  {
   "cell_type": "markdown",
   "metadata": {},
   "source": [
    "#### 2.2.4 Plot the number of recovered cases per day (on the last 10 days)."
   ]
  },
  {
   "cell_type": "code",
   "execution_count": 102,
   "metadata": {},
   "outputs": [],
   "source": [
    "rec_per_day = clean_df.drop(columns=['_idade', '_sexo', '_bairro', '_classificacao', '_tipo_teste'])"
   ]
  },
  {
   "cell_type": "code",
   "execution_count": 103,
   "metadata": {},
   "outputs": [
    {
     "data": {
      "text/html": [
       "<div>\n",
       "<style scoped>\n",
       "    .dataframe tbody tr th:only-of-type {\n",
       "        vertical-align: middle;\n",
       "    }\n",
       "\n",
       "    .dataframe tbody tr th {\n",
       "        vertical-align: top;\n",
       "    }\n",
       "\n",
       "    .dataframe thead th {\n",
       "        text-align: right;\n",
       "    }\n",
       "</style>\n",
       "<table border=\"1\" class=\"dataframe\">\n",
       "  <thead>\n",
       "    <tr style=\"text-align: right;\">\n",
       "      <th></th>\n",
       "      <th>_conclusao</th>\n",
       "      <th>_dt_notificacao</th>\n",
       "    </tr>\n",
       "  </thead>\n",
       "  <tbody>\n",
       "    <tr>\n",
       "      <td>680</td>\n",
       "      <td>Recuperado</td>\n",
       "      <td>20/03/2020</td>\n",
       "    </tr>\n",
       "    <tr>\n",
       "      <td>681</td>\n",
       "      <td>Recuperado</td>\n",
       "      <td>27/03/2020</td>\n",
       "    </tr>\n",
       "    <tr>\n",
       "      <td>67519</td>\n",
       "      <td>Recuperado</td>\n",
       "      <td>20/04/2020</td>\n",
       "    </tr>\n",
       "    <tr>\n",
       "      <td>67523</td>\n",
       "      <td>Recuperado</td>\n",
       "      <td>24/04/2020</td>\n",
       "    </tr>\n",
       "    <tr>\n",
       "      <td>67540</td>\n",
       "      <td>Recuperado</td>\n",
       "      <td>23/04/2020</td>\n",
       "    </tr>\n",
       "    <tr>\n",
       "      <td>...</td>\n",
       "      <td>...</td>\n",
       "      <td>...</td>\n",
       "    </tr>\n",
       "    <tr>\n",
       "      <td>108310</td>\n",
       "      <td>Recuperado</td>\n",
       "      <td>02/06/2020</td>\n",
       "    </tr>\n",
       "    <tr>\n",
       "      <td>108338</td>\n",
       "      <td>Recuperado</td>\n",
       "      <td>28/06/2020</td>\n",
       "    </tr>\n",
       "    <tr>\n",
       "      <td>108341</td>\n",
       "      <td>Recuperado</td>\n",
       "      <td>25/06/2020</td>\n",
       "    </tr>\n",
       "    <tr>\n",
       "      <td>108346</td>\n",
       "      <td>Recuperado</td>\n",
       "      <td>01/06/2020</td>\n",
       "    </tr>\n",
       "    <tr>\n",
       "      <td>108349</td>\n",
       "      <td>Recuperado</td>\n",
       "      <td>05/06/2020</td>\n",
       "    </tr>\n",
       "  </tbody>\n",
       "</table>\n",
       "<p>6422 rows × 2 columns</p>\n",
       "</div>"
      ],
      "text/plain": [
       "        _conclusao _dt_notificacao\n",
       "680     Recuperado      20/03/2020\n",
       "681     Recuperado      27/03/2020\n",
       "67519   Recuperado      20/04/2020\n",
       "67523   Recuperado      24/04/2020\n",
       "67540   Recuperado      23/04/2020\n",
       "...            ...             ...\n",
       "108310  Recuperado      02/06/2020\n",
       "108338  Recuperado      28/06/2020\n",
       "108341  Recuperado      25/06/2020\n",
       "108346  Recuperado      01/06/2020\n",
       "108349  Recuperado      05/06/2020\n",
       "\n",
       "[6422 rows x 2 columns]"
      ]
     },
     "execution_count": 103,
     "metadata": {},
     "output_type": "execute_result"
    }
   ],
   "source": [
    "rec_per_day"
   ]
  },
  {
   "cell_type": "code",
   "execution_count": 104,
   "metadata": {},
   "outputs": [],
   "source": [
    "rec_per_day['_dt_notificacao'] = pd.to_datetime(rec_per_day['_dt_notificacao'], dayfirst=True)"
   ]
  },
  {
   "cell_type": "code",
   "execution_count": 105,
   "metadata": {},
   "outputs": [
    {
     "data": {
      "text/html": [
       "<div>\n",
       "<style scoped>\n",
       "    .dataframe tbody tr th:only-of-type {\n",
       "        vertical-align: middle;\n",
       "    }\n",
       "\n",
       "    .dataframe tbody tr th {\n",
       "        vertical-align: top;\n",
       "    }\n",
       "\n",
       "    .dataframe thead th {\n",
       "        text-align: right;\n",
       "    }\n",
       "</style>\n",
       "<table border=\"1\" class=\"dataframe\">\n",
       "  <thead>\n",
       "    <tr style=\"text-align: right;\">\n",
       "      <th></th>\n",
       "      <th>_conclusao</th>\n",
       "      <th>_dt_notificacao</th>\n",
       "    </tr>\n",
       "  </thead>\n",
       "  <tbody>\n",
       "    <tr>\n",
       "      <td>680</td>\n",
       "      <td>Recuperado</td>\n",
       "      <td>2020-03-20</td>\n",
       "    </tr>\n",
       "    <tr>\n",
       "      <td>681</td>\n",
       "      <td>Recuperado</td>\n",
       "      <td>2020-03-27</td>\n",
       "    </tr>\n",
       "    <tr>\n",
       "      <td>67519</td>\n",
       "      <td>Recuperado</td>\n",
       "      <td>2020-04-20</td>\n",
       "    </tr>\n",
       "    <tr>\n",
       "      <td>67523</td>\n",
       "      <td>Recuperado</td>\n",
       "      <td>2020-04-24</td>\n",
       "    </tr>\n",
       "    <tr>\n",
       "      <td>67540</td>\n",
       "      <td>Recuperado</td>\n",
       "      <td>2020-04-23</td>\n",
       "    </tr>\n",
       "    <tr>\n",
       "      <td>...</td>\n",
       "      <td>...</td>\n",
       "      <td>...</td>\n",
       "    </tr>\n",
       "    <tr>\n",
       "      <td>108310</td>\n",
       "      <td>Recuperado</td>\n",
       "      <td>2020-06-02</td>\n",
       "    </tr>\n",
       "    <tr>\n",
       "      <td>108338</td>\n",
       "      <td>Recuperado</td>\n",
       "      <td>2020-06-28</td>\n",
       "    </tr>\n",
       "    <tr>\n",
       "      <td>108341</td>\n",
       "      <td>Recuperado</td>\n",
       "      <td>2020-06-25</td>\n",
       "    </tr>\n",
       "    <tr>\n",
       "      <td>108346</td>\n",
       "      <td>Recuperado</td>\n",
       "      <td>2020-06-01</td>\n",
       "    </tr>\n",
       "    <tr>\n",
       "      <td>108349</td>\n",
       "      <td>Recuperado</td>\n",
       "      <td>2020-06-05</td>\n",
       "    </tr>\n",
       "  </tbody>\n",
       "</table>\n",
       "<p>6422 rows × 2 columns</p>\n",
       "</div>"
      ],
      "text/plain": [
       "        _conclusao _dt_notificacao\n",
       "680     Recuperado      2020-03-20\n",
       "681     Recuperado      2020-03-27\n",
       "67519   Recuperado      2020-04-20\n",
       "67523   Recuperado      2020-04-24\n",
       "67540   Recuperado      2020-04-23\n",
       "...            ...             ...\n",
       "108310  Recuperado      2020-06-02\n",
       "108338  Recuperado      2020-06-28\n",
       "108341  Recuperado      2020-06-25\n",
       "108346  Recuperado      2020-06-01\n",
       "108349  Recuperado      2020-06-05\n",
       "\n",
       "[6422 rows x 2 columns]"
      ]
     },
     "execution_count": 105,
     "metadata": {},
     "output_type": "execute_result"
    }
   ],
   "source": [
    "rec_per_day"
   ]
  },
  {
   "cell_type": "code",
   "execution_count": 106,
   "metadata": {},
   "outputs": [],
   "source": [
    "rec_per_day_sorted = rec_per_day.sort_values(by='_dt_notificacao')"
   ]
  },
  {
   "cell_type": "code",
   "execution_count": 107,
   "metadata": {},
   "outputs": [
    {
     "data": {
      "text/html": [
       "<div>\n",
       "<style scoped>\n",
       "    .dataframe tbody tr th:only-of-type {\n",
       "        vertical-align: middle;\n",
       "    }\n",
       "\n",
       "    .dataframe tbody tr th {\n",
       "        vertical-align: top;\n",
       "    }\n",
       "\n",
       "    .dataframe thead th {\n",
       "        text-align: right;\n",
       "    }\n",
       "</style>\n",
       "<table border=\"1\" class=\"dataframe\">\n",
       "  <thead>\n",
       "    <tr style=\"text-align: right;\">\n",
       "      <th></th>\n",
       "      <th>_conclusao</th>\n",
       "      <th>_dt_notificacao</th>\n",
       "    </tr>\n",
       "  </thead>\n",
       "  <tbody>\n",
       "    <tr>\n",
       "      <td>107318</td>\n",
       "      <td>Recuperado</td>\n",
       "      <td>2020-01-30</td>\n",
       "    </tr>\n",
       "    <tr>\n",
       "      <td>77211</td>\n",
       "      <td>Recuperado</td>\n",
       "      <td>2020-02-16</td>\n",
       "    </tr>\n",
       "    <tr>\n",
       "      <td>89016</td>\n",
       "      <td>Recuperado</td>\n",
       "      <td>2020-03-09</td>\n",
       "    </tr>\n",
       "    <tr>\n",
       "      <td>68700</td>\n",
       "      <td>Recuperado</td>\n",
       "      <td>2020-03-13</td>\n",
       "    </tr>\n",
       "    <tr>\n",
       "      <td>75419</td>\n",
       "      <td>Recuperado</td>\n",
       "      <td>2020-03-14</td>\n",
       "    </tr>\n",
       "    <tr>\n",
       "      <td>...</td>\n",
       "      <td>...</td>\n",
       "      <td>...</td>\n",
       "    </tr>\n",
       "    <tr>\n",
       "      <td>108042</td>\n",
       "      <td>Óbito</td>\n",
       "      <td>2020-07-20</td>\n",
       "    </tr>\n",
       "    <tr>\n",
       "      <td>107433</td>\n",
       "      <td>Óbito</td>\n",
       "      <td>2020-07-24</td>\n",
       "    </tr>\n",
       "    <tr>\n",
       "      <td>108123</td>\n",
       "      <td>Óbito</td>\n",
       "      <td>2020-07-24</td>\n",
       "    </tr>\n",
       "    <tr>\n",
       "      <td>107461</td>\n",
       "      <td>Óbito</td>\n",
       "      <td>2020-07-30</td>\n",
       "    </tr>\n",
       "    <tr>\n",
       "      <td>107995</td>\n",
       "      <td>Óbito</td>\n",
       "      <td>2020-07-31</td>\n",
       "    </tr>\n",
       "  </tbody>\n",
       "</table>\n",
       "<p>6422 rows × 2 columns</p>\n",
       "</div>"
      ],
      "text/plain": [
       "        _conclusao _dt_notificacao\n",
       "107318  Recuperado      2020-01-30\n",
       "77211   Recuperado      2020-02-16\n",
       "89016   Recuperado      2020-03-09\n",
       "68700   Recuperado      2020-03-13\n",
       "75419   Recuperado      2020-03-14\n",
       "...            ...             ...\n",
       "108042       Óbito      2020-07-20\n",
       "107433       Óbito      2020-07-24\n",
       "108123       Óbito      2020-07-24\n",
       "107461       Óbito      2020-07-30\n",
       "107995       Óbito      2020-07-31\n",
       "\n",
       "[6422 rows x 2 columns]"
      ]
     },
     "execution_count": 107,
     "metadata": {},
     "output_type": "execute_result"
    }
   ],
   "source": [
    "rec_per_day_sorted"
   ]
  },
  {
   "cell_type": "code",
   "execution_count": 108,
   "metadata": {},
   "outputs": [],
   "source": [
    "ora_porra = rec_per_day_sorted[rec_per_day_sorted._conclusao == 'Recuperado'].groupby('_dt_notificacao').count()"
   ]
  },
  {
   "cell_type": "code",
   "execution_count": 109,
   "metadata": {},
   "outputs": [
    {
     "data": {
      "text/html": [
       "<div>\n",
       "<style scoped>\n",
       "    .dataframe tbody tr th:only-of-type {\n",
       "        vertical-align: middle;\n",
       "    }\n",
       "\n",
       "    .dataframe tbody tr th {\n",
       "        vertical-align: top;\n",
       "    }\n",
       "\n",
       "    .dataframe thead th {\n",
       "        text-align: right;\n",
       "    }\n",
       "</style>\n",
       "<table border=\"1\" class=\"dataframe\">\n",
       "  <thead>\n",
       "    <tr style=\"text-align: right;\">\n",
       "      <th></th>\n",
       "      <th>_conclusao</th>\n",
       "    </tr>\n",
       "    <tr>\n",
       "      <th>_dt_notificacao</th>\n",
       "      <th></th>\n",
       "    </tr>\n",
       "  </thead>\n",
       "  <tbody>\n",
       "    <tr>\n",
       "      <td>2020-06-27</td>\n",
       "      <td>4</td>\n",
       "    </tr>\n",
       "    <tr>\n",
       "      <td>2020-06-28</td>\n",
       "      <td>6</td>\n",
       "    </tr>\n",
       "    <tr>\n",
       "      <td>2020-06-29</td>\n",
       "      <td>83</td>\n",
       "    </tr>\n",
       "    <tr>\n",
       "      <td>2020-06-30</td>\n",
       "      <td>89</td>\n",
       "    </tr>\n",
       "    <tr>\n",
       "      <td>2020-07-01</td>\n",
       "      <td>45</td>\n",
       "    </tr>\n",
       "    <tr>\n",
       "      <td>2020-07-02</td>\n",
       "      <td>38</td>\n",
       "    </tr>\n",
       "    <tr>\n",
       "      <td>2020-07-03</td>\n",
       "      <td>29</td>\n",
       "    </tr>\n",
       "    <tr>\n",
       "      <td>2020-07-04</td>\n",
       "      <td>6</td>\n",
       "    </tr>\n",
       "    <tr>\n",
       "      <td>2020-07-05</td>\n",
       "      <td>9</td>\n",
       "    </tr>\n",
       "    <tr>\n",
       "      <td>2020-07-06</td>\n",
       "      <td>32</td>\n",
       "    </tr>\n",
       "  </tbody>\n",
       "</table>\n",
       "</div>"
      ],
      "text/plain": [
       "                 _conclusao\n",
       "_dt_notificacao            \n",
       "2020-06-27                4\n",
       "2020-06-28                6\n",
       "2020-06-29               83\n",
       "2020-06-30               89\n",
       "2020-07-01               45\n",
       "2020-07-02               38\n",
       "2020-07-03               29\n",
       "2020-07-04                6\n",
       "2020-07-05                9\n",
       "2020-07-06               32"
      ]
     },
     "execution_count": 109,
     "metadata": {},
     "output_type": "execute_result"
    }
   ],
   "source": [
    "ora_porra.tail(10)"
   ]
  },
  {
   "cell_type": "code",
   "execution_count": 110,
   "metadata": {},
   "outputs": [],
   "source": [
    "aux = list(ora_porra.tail(10).values.flatten())"
   ]
  },
  {
   "cell_type": "code",
   "execution_count": 111,
   "metadata": {},
   "outputs": [
    {
     "name": "stdout",
     "output_type": "stream",
     "text": [
      "[67, 48, -79, -83, 38, 51, 16, 32, 20, -26]\n"
     ]
    }
   ],
   "source": [
    "diff2 = [bar_days[i] - aux[i] for i in range(10)]\n",
    "print(diff2)"
   ]
  },
  {
   "cell_type": "code",
   "execution_count": 112,
   "metadata": {},
   "outputs": [
    {
     "data": {
      "text/plain": [
       "Text(0, 0.5, 'Date')"
      ]
     },
     "execution_count": 112,
     "metadata": {},
     "output_type": "execute_result"
    },
    {
     "data": {
      "image/png": "[encoded data removed]",
      "text/plain": [
       "<Figure size 864x432 with 1 Axes>"
      ]
     },
     "metadata": {
      "needs_background": "light"
     },
     "output_type": "display_data"
    }
   ],
   "source": [
    "y_axis = days \n",
    "x_axis = aux\n",
    "  \n",
    "# Figure Size \n",
    "fig, ax = plt.subplots(figsize =(12, 6)) \n",
    "  \n",
    "# Horizontal Bar Plot \n",
    "ax.barh(y_axis, x_axis) \n",
    "  \n",
    "# Remove axes splines \n",
    "for s in ['top', 'bottom', 'left', 'right']: \n",
    "    ax.spines[s].set_visible(False) \n",
    "\n",
    "# Remove y ticks\n",
    "ax.yaxis.set_ticks_position('none') \n",
    "  \n",
    "# Add padding between axes and labels \n",
    "ax.xaxis.set_tick_params(pad = 5) \n",
    "ax.yaxis.set_tick_params(pad = 10) \n",
    "  \n",
    "# Add x, y gridlines \n",
    "ax.grid(b = True, color ='grey', linestyle ='-.', linewidth = 0.5, alpha = 0.2) \n",
    "  \n",
    "# Show at middle\n",
    "ax.invert_yaxis() \n",
    "  \n",
    "# Add annotation to bars\n",
    "clr = 'black'\n",
    "difa = 'inicial'\n",
    "for i, j in zip(ax.patches, range(10)):\n",
    "    if j > 0:    \n",
    "        if diff2[j] > 0:\n",
    "            clr = 'red'\n",
    "            difa = str(diff2[j]) + ' deaths'\n",
    "        elif diff2[j] <= 0:\n",
    "            clr = 'green'\n",
    "            difa = str(diff2[j]) + ' deaths'\n",
    "        else:\n",
    "            clr = 'black'\n",
    "    plt.text(i.get_width()+5, i.get_y()+0.5,  \n",
    "             str(i.get_width()) + f' ({difa})', \n",
    "             fontsize = 14, fontweight ='normal', \n",
    "             color = clr) \n",
    "    \n",
    "# Add Plot Title \n",
    "ax.set_title('# of recovered cases per day', loc ='center') \n",
    "ax.set_xlabel('# of cases')\n",
    "ax.set_ylabel('Date')"
   ]
  },
  {
   "cell_type": "markdown",
   "metadata": {},
   "source": [
    "#### 2.2.5 Plot a histogram that shows the number of cases by age range (0-10 yo, 11-20 yo, ...)."
   ]
  },
  {
   "cell_type": "code",
   "execution_count": 113,
   "metadata": {},
   "outputs": [],
   "source": [
    "cases_by_age = clean_df.drop(columns=['_bairro', '_dt_notificacao', '_tipo_teste'])"
   ]
  },
  {
   "cell_type": "code",
   "execution_count": 114,
   "metadata": {},
   "outputs": [
    {
     "data": {
      "text/html": [
       "<div>\n",
       "<style scoped>\n",
       "    .dataframe tbody tr th:only-of-type {\n",
       "        vertical-align: middle;\n",
       "    }\n",
       "\n",
       "    .dataframe tbody tr th {\n",
       "        vertical-align: top;\n",
       "    }\n",
       "\n",
       "    .dataframe thead th {\n",
       "        text-align: right;\n",
       "    }\n",
       "</style>\n",
       "<table border=\"1\" class=\"dataframe\">\n",
       "  <thead>\n",
       "    <tr style=\"text-align: right;\">\n",
       "      <th></th>\n",
       "      <th>_idade</th>\n",
       "      <th>_sexo</th>\n",
       "      <th>_classificacao</th>\n",
       "      <th>_conclusao</th>\n",
       "    </tr>\n",
       "  </thead>\n",
       "  <tbody>\n",
       "    <tr>\n",
       "      <td>680</td>\n",
       "      <td>25.0</td>\n",
       "      <td>F</td>\n",
       "      <td>Confirmado</td>\n",
       "      <td>Recuperado</td>\n",
       "    </tr>\n",
       "    <tr>\n",
       "      <td>681</td>\n",
       "      <td>41.0</td>\n",
       "      <td>F</td>\n",
       "      <td>Confirmado</td>\n",
       "      <td>Recuperado</td>\n",
       "    </tr>\n",
       "    <tr>\n",
       "      <td>67519</td>\n",
       "      <td>40.0</td>\n",
       "      <td>F</td>\n",
       "      <td>Confirmado</td>\n",
       "      <td>Recuperado</td>\n",
       "    </tr>\n",
       "    <tr>\n",
       "      <td>67523</td>\n",
       "      <td>50.0</td>\n",
       "      <td>M</td>\n",
       "      <td>Confirmado</td>\n",
       "      <td>Recuperado</td>\n",
       "    </tr>\n",
       "    <tr>\n",
       "      <td>67540</td>\n",
       "      <td>30.0</td>\n",
       "      <td>M</td>\n",
       "      <td>Confirmado</td>\n",
       "      <td>Recuperado</td>\n",
       "    </tr>\n",
       "    <tr>\n",
       "      <td>...</td>\n",
       "      <td>...</td>\n",
       "      <td>...</td>\n",
       "      <td>...</td>\n",
       "      <td>...</td>\n",
       "    </tr>\n",
       "    <tr>\n",
       "      <td>108310</td>\n",
       "      <td>70.0</td>\n",
       "      <td>F</td>\n",
       "      <td>Confirmado</td>\n",
       "      <td>Recuperado</td>\n",
       "    </tr>\n",
       "    <tr>\n",
       "      <td>108338</td>\n",
       "      <td>0.0</td>\n",
       "      <td>M</td>\n",
       "      <td>Confirmado</td>\n",
       "      <td>Recuperado</td>\n",
       "    </tr>\n",
       "    <tr>\n",
       "      <td>108341</td>\n",
       "      <td>14.0</td>\n",
       "      <td>F</td>\n",
       "      <td>Confirmado</td>\n",
       "      <td>Recuperado</td>\n",
       "    </tr>\n",
       "    <tr>\n",
       "      <td>108346</td>\n",
       "      <td>68.0</td>\n",
       "      <td>M</td>\n",
       "      <td>Confirmado</td>\n",
       "      <td>Recuperado</td>\n",
       "    </tr>\n",
       "    <tr>\n",
       "      <td>108349</td>\n",
       "      <td>45.0</td>\n",
       "      <td>F</td>\n",
       "      <td>Confirmado</td>\n",
       "      <td>Recuperado</td>\n",
       "    </tr>\n",
       "  </tbody>\n",
       "</table>\n",
       "<p>6422 rows × 4 columns</p>\n",
       "</div>"
      ],
      "text/plain": [
       "        _idade _sexo _classificacao  _conclusao\n",
       "680       25.0     F     Confirmado  Recuperado\n",
       "681       41.0     F     Confirmado  Recuperado\n",
       "67519     40.0     F     Confirmado  Recuperado\n",
       "67523     50.0     M     Confirmado  Recuperado\n",
       "67540     30.0     M     Confirmado  Recuperado\n",
       "...        ...   ...            ...         ...\n",
       "108310    70.0     F     Confirmado  Recuperado\n",
       "108338     0.0     M     Confirmado  Recuperado\n",
       "108341    14.0     F     Confirmado  Recuperado\n",
       "108346    68.0     M     Confirmado  Recuperado\n",
       "108349    45.0     F     Confirmado  Recuperado\n",
       "\n",
       "[6422 rows x 4 columns]"
      ]
     },
     "execution_count": 114,
     "metadata": {},
     "output_type": "execute_result"
    }
   ],
   "source": [
    "cases_by_age"
   ]
  },
  {
   "cell_type": "code",
   "execution_count": 115,
   "metadata": {},
   "outputs": [
    {
     "name": "stdout",
     "output_type": "stream",
     "text": [
      "[141, 147, 891, 1681, 1900, 1074, 397, 128, 55, 8, 0]\n"
     ]
    }
   ],
   "source": [
    "counter = [0, 0, 0, 0, 0, 0, 0, 0, 0, 0, 0]\n",
    "\n",
    "for x in cases_by_age['_idade'].values:\n",
    "    if x in range(0, 10): counter[0] += 1\n",
    "    if x in range(10, 20): counter[1] += 1\n",
    "    if x in range(20, 30): counter[2] += 1\n",
    "    if x in range(30, 40): counter[3] += 1\n",
    "    if x in range(40, 50): counter[4] += 1\n",
    "    if x in range(50, 60): counter[5] += 1\n",
    "    if x in range(60, 70): counter[6] += 1\n",
    "    if x in range(70, 80): counter[7] += 1\n",
    "    if x in range(80, 90): counter[8] += 1\n",
    "    if x in range(90, 100): counter[9] += 1\n",
    "    if x in range(100, 200): counter[10] += 1\n",
    "        \n",
    "print(counter)"
   ]
  },
  {
   "cell_type": "code",
   "execution_count": 116,
   "metadata": {},
   "outputs": [
    {
     "name": "stdout",
     "output_type": "stream",
     "text": [
      "[0.4156226971260133, 0.4333087693441415, 2.6263817243920413, 4.955047899778924, 5.600589535740604, 3.1658069270449523, 1.170228445099484, 0.37730287398673545, 0.16212232866617537, 0.023581429624170966, 0.0]\n"
     ]
    }
   ],
   "source": [
    "perc_by_age = [0, 0, 0, 0, 0, 0, 0, 0, 0, 0, 0]\n",
    "\n",
    "for i in range(len(perc_by_age)):\n",
    "    perc_by_age[i] = counter[i]/33925.0 * 100.0\n",
    "    \n",
    "print(perc_by_age)"
   ]
  },
  {
   "cell_type": "code",
   "execution_count": 118,
   "metadata": {
    "scrolled": true
   },
   "outputs": [
    {
     "data": {
      "text/plain": [
       "Text(0, 0.5, '% of cases')"
      ]
     },
     "execution_count": 118,
     "metadata": {},
     "output_type": "execute_result"
    },
    {
     "data": {
      "image/png": "[encoded data removed]",
      "text/plain": [
       "<Figure size 864x432 with 1 Axes>"
      ]
     },
     "metadata": {
      "needs_background": "light"
     },
     "output_type": "display_data"
    }
   ],
   "source": [
    "y_axis = perc_by_age\n",
    "x_axis = ['[0, 10)', '[10, 20)', '[20, 30)', '[30, 40)', '[40, 50)', '[50, 60)', \n",
    "          '[60, 70)', '[70, 80)', '[80, 90)', '[90, 100)', '[100, 200)']\n",
    "  \n",
    "# Figure Size \n",
    "fig, ax = plt.subplots(figsize =(12, 6)) \n",
    "  \n",
    "# Vertical Bar Plot \n",
    "ax.bar(x_axis, y_axis) \n",
    "  \n",
    "# Remove axes splines \n",
    "for s in ['top', 'bottom', 'left', 'right']: \n",
    "    ax.spines[s].set_visible(False) \n",
    "    \n",
    "# Add padding between axes and labels \n",
    "ax.xaxis.set_tick_params(pad = 5) \n",
    "ax.yaxis.set_tick_params(pad = 5) \n",
    "  \n",
    "# Add x, y gridlines \n",
    "ax.grid(b = True, color ='grey', linestyle ='-.', linewidth = 0.5, alpha = 0.2) \n",
    "  \n",
    "# Add annotation to bars\n",
    "for i in ax.patches:\n",
    "    plt.text(i.get_x()+0.15, i.get_height()+0.5,\n",
    "             str(round((i.get_height()), 2)), \n",
    "             fontsize = 12, fontweight ='normal', \n",
    "             color = 'black') \n",
    "    \n",
    "# Add Plot Title \n",
    "ax.set_title('% of cases by age range', loc='center') \n",
    "ax.set_xlabel('Ages Range')\n",
    "ax.set_ylabel('% of cases')"
   ]
  },
  {
   "cell_type": "markdown",
   "metadata": {},
   "source": [
    "#### 2.2.6 Plot a graph that shows the cumulative cases alongside time."
   ]
  },
  {
   "cell_type": "code",
   "execution_count": 119,
   "metadata": {},
   "outputs": [],
   "source": [
    "alongside = days_group.values.flatten()"
   ]
  },
  {
   "cell_type": "code",
   "execution_count": 120,
   "metadata": {},
   "outputs": [
    {
     "data": {
      "text/plain": [
       "array([  1,   1,   1,   1,   2,   2,   4,   6,   1,   5,   3,   3,  13,\n",
       "         8,  17,  14,  11,  23,  40,  40,  41,  14,  24,  17,  27,  25,\n",
       "        37,  24,  23,  27,  14,  43,  24,  30,  31,  29,   7,  19,  38,\n",
       "        13,  28,  27,  40,  10,  12,  66,  61,  45,  44,  21,  23,  39,\n",
       "        88, 135, 130, 101, 118,  70,  31,  93, 247, 141, 172, 123,  31,\n",
       "        22, 132, 176, 190, 208, 205,  53,  36, 152,  85, 210, 185, 138,\n",
       "        24,  16, 119, 105,  50, 126, 110,  27,  14, 172, 123,  77,  10,\n",
       "        15,  14,  13,  43,  95,  88,  57,  47,  18,  19,  87,  45,  45,\n",
       "        71,  54,   4,   6,  83,  89,  45,  38,  29,   6,   9,  32,   1,\n",
       "         1,   2,   1,   1], dtype=int64)"
      ]
     },
     "execution_count": 120,
     "metadata": {},
     "output_type": "execute_result"
    }
   ],
   "source": [
    "alongside"
   ]
  },
  {
   "cell_type": "code",
   "execution_count": 121,
   "metadata": {},
   "outputs": [
    {
     "data": {
      "text/plain": [
       "[<matplotlib.lines.Line2D at 0x1d9c3536048>]"
      ]
     },
     "execution_count": 121,
     "metadata": {},
     "output_type": "execute_result"
    },
    {
     "data": {
      "image/png": "[encoded data removed]",
      "text/plain": [
       "<Figure size 432x288 with 1 Axes>"
      ]
     },
     "metadata": {
      "needs_background": "light"
     },
     "output_type": "display_data"
    }
   ],
   "source": [
    "plt.plot(alongside)"
   ]
  },
  {
   "cell_type": "code",
   "execution_count": 122,
   "metadata": {},
   "outputs": [
    {
     "name": "stdout",
     "output_type": "stream",
     "text": [
      "[1, 2, 3, 4, 6, 8, 12, 18, 19, 24, 27, 30, 43, 51, 68, 82, 93, 116, 156, 196, 237, 251, 275, 292, 319, 344, 381, 405, 428, 455, 469, 512, 536, 566, 597, 626, 633, 652, 690, 703, 731, 758, 798, 808, 820, 886, 947, 992, 1036, 1057, 1080, 1119, 1207, 1342, 1472, 1573, 1691, 1761, 1792, 1885, 2132, 2273, 2445, 2568, 2599, 2621, 2753, 2929, 3119, 3327, 3532, 3585, 3621, 3773, 3858, 4068, 4253, 4391, 4415, 4431, 4550, 4655, 4705, 4831, 4941, 4968, 4982, 5154, 5277, 5354, 5364, 5379, 5393, 5406, 5449, 5544, 5632, 5689, 5736, 5754, 5773, 5860, 5905, 5950, 6021, 6075, 6079, 6085, 6168, 6257, 6302, 6340, 6369, 6375, 6384, 6416, 6417, 6418, 6420, 6421, 6422]\n"
     ]
    }
   ],
   "source": [
    "x = list(alongside)\n",
    "y = [x[0]]\n",
    "\n",
    "for i in range(1,len(x)):\n",
    "    y.append(x[i] + y[i-1])\n",
    "        \n",
    "print(y)"
   ]
  },
  {
   "cell_type": "code",
   "execution_count": 123,
   "metadata": {},
   "outputs": [
    {
     "data": {
      "text/plain": [
       "Text(0.5, 1.0, 'Cumulative cases per day')"
      ]
     },
     "execution_count": 123,
     "metadata": {},
     "output_type": "execute_result"
    },
    {
     "data": {
      "image/png": "[encoded data removed]",
      "text/plain": [
       "<Figure size 432x288 with 1 Axes>"
      ]
     },
     "metadata": {
      "needs_background": "light"
     },
     "output_type": "display_data"
    }
   ],
   "source": [
    "plt.plot(y)\n",
    "plt.xlabel(\"Days\")\n",
    "plt.ylabel(\"# of cases\")\n",
    "plt.title(\"Cumulative cases per day\")"
   ]
  },
  {
   "cell_type": "markdown",
   "metadata": {},
   "source": [
    "#### 2.2.7 Plot a scatterplot that shows the age versus total number of cases. There exist any tendency?"
   ]
  },
  {
   "cell_type": "code",
   "execution_count": 124,
   "metadata": {},
   "outputs": [
    {
     "data": {
      "text/plain": [
       "Float64Index([ 0.0,  1.0,  2.0,  3.0,  4.0,  5.0,  6.0,  7.0,  8.0,  9.0, 10.0,\n",
       "              11.0, 12.0, 13.0, 14.0, 15.0, 16.0, 17.0, 18.0, 19.0, 20.0, 21.0,\n",
       "              22.0, 23.0, 24.0, 25.0, 26.0, 27.0, 28.0, 29.0, 30.0, 31.0, 32.0,\n",
       "              33.0, 34.0, 35.0, 36.0, 37.0, 38.0, 39.0, 40.0, 41.0, 42.0, 43.0,\n",
       "              44.0, 45.0, 46.0, 47.0, 48.0, 49.0, 50.0, 51.0, 52.0, 53.0, 54.0,\n",
       "              55.0, 56.0, 57.0, 58.0, 59.0, 60.0, 61.0, 62.0, 63.0, 64.0, 65.0,\n",
       "              66.0, 67.0, 68.0, 69.0, 70.0, 71.0, 72.0, 73.0, 74.0, 75.0, 76.0,\n",
       "              77.0, 78.0, 79.0, 80.0, 81.0, 82.0, 83.0, 84.0, 85.0, 86.0, 87.0,\n",
       "              88.0, 89.0, 90.0, 92.0, 93.0, 94.0, 96.0, 97.0, 99.0],\n",
       "             dtype='float64', name='_idade')"
      ]
     },
     "execution_count": 124,
     "metadata": {},
     "output_type": "execute_result"
    }
   ],
   "source": [
    "age_cases.index"
   ]
  },
  {
   "cell_type": "code",
   "execution_count": 125,
   "metadata": {},
   "outputs": [
    {
     "data": {
      "text/plain": [
       "array([ 48,  19,  11,  14,  10,  11,   6,  11,   5,   6,   8,   5,   9,\n",
       "        12,  15,  14,  15,  27,  26,  16,  43,  50,  55,  70,  92, 112,\n",
       "        95, 114, 134, 126, 123, 145, 155, 149, 149, 170, 179, 185, 213,\n",
       "       213, 215, 205, 202, 198, 196, 192, 212, 170, 169, 141, 143, 119,\n",
       "       128, 135, 113, 108,  92,  92,  76,  68,  64,  49,  49,  50,  32,\n",
       "        43,  33,  31,  24,  22,  20,  19,  17,  14,   8,  12,  15,   7,\n",
       "        10,   6,   8,  10,   8,   2,   7,   5,   4,   4,   3,   4,   1,\n",
       "         2,   1,   1,   1,   1,   1], dtype=int64)"
      ]
     },
     "execution_count": 125,
     "metadata": {},
     "output_type": "execute_result"
    }
   ],
   "source": [
    "age_cases.values.transpose()[0]"
   ]
  },
  {
   "cell_type": "code",
   "execution_count": 126,
   "metadata": {},
   "outputs": [
    {
     "data": {
      "text/plain": [
       "Text(0, 0.5, '# of confirmed cases')"
      ]
     },
     "execution_count": 126,
     "metadata": {},
     "output_type": "execute_result"
    },
    {
     "data": {
      "image/png": "[encoded data removed]",
      "text/plain": [
       "<Figure size 432x288 with 1 Axes>"
      ]
     },
     "metadata": {
      "needs_background": "light"
     },
     "output_type": "display_data"
    }
   ],
   "source": [
    "plt.scatter(age_cases.index, age_cases.values.transpose()[0])\n",
    "plt.title(\"Age vs Confirmed cases\")\n",
    "plt.xlabel(\"Age\")\n",
    "plt.ylabel(\"# of confirmed cases\")"
   ]
  },
  {
   "cell_type": "code",
   "execution_count": null,
   "metadata": {},
   "outputs": [],
   "source": []
  }
 ],
 "metadata": {
  "kernelspec": {
   "display_name": "Python 3",
   "language": "python",
   "name": "python3"
  },
  "language_info": {
   "codemirror_mode": {
    "name": "ipython",
    "version": 3
   },
   "file_extension": ".py",
   "mimetype": "text/x-python",
   "name": "python",
   "nbconvert_exporter": "python",
   "pygments_lexer": "ipython3",
   "version": "3.7.4"
  }
 },
 "nbformat": 4,
 "nbformat_minor": 4
}

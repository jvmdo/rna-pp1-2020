{
 "cells": [
  {
   "cell_type": "markdown",
   "metadata": {},
   "source": [
    "# Projeto Prático 1\n",
    "\n",
    "## Redes Neurais - 2020"
   ]
  },
  {
   "cell_type": "markdown",
   "metadata": {},
   "source": [
    "#### Elaborado por: Carlos Diego Ferreira, João Victor de Oliveira e Luiz Carlos Silva"
   ]
  },
  {
   "cell_type": "markdown",
   "metadata": {},
   "source": [
    "## Análise exploratória e Visualização de Dados"
   ]
  },
  {
   "cell_type": "code",
   "execution_count": 1,
   "metadata": {},
   "outputs": [],
   "source": [
    "import warnings\n",
    "warnings.filterwarnings('ignore')\n",
    "\n",
    "import numpy as np\n",
    "from matplotlib import pyplot as plt\n",
    "import seaborn as sns\n",
    "import pandas as pd"
   ]
  },
  {
   "cell_type": "markdown",
   "metadata": {},
   "source": [
    "### Uma breve contextualização do dataset"
   ]
  },
  {
   "cell_type": "raw",
   "metadata": {},
   "source": [
    "Dataset contendo informações acerca da pandemia de SARS-CoV-2 dentro da cidade Manaus, no estado do Amazonas, Brasil.\n",
    "As fontes de dados são originadas dos seguintes sistemas: e-SUS notifica (VE), SIVEP-Gripe e GAL\n",
    "Dataset retirado de https://covid19.manaus.am.gov.br/wp-content/uploads/Manaus.csv\n",
    "\n",
    "Capacidade atual de testagem diária do município: 384 pessoas/dia"
   ]
  },
  {
   "cell_type": "markdown",
   "metadata": {},
   "source": [
    "## Abrir dataset em formato csv usando pandas"
   ]
  },
  {
   "cell_type": "code",
   "execution_count": 2,
   "metadata": {
    "scrolled": true
   },
   "outputs": [
    {
     "data": {
      "text/html": [
       "<div>\n",
       "<style scoped>\n",
       "    .dataframe tbody tr th:only-of-type {\n",
       "        vertical-align: middle;\n",
       "    }\n",
       "\n",
       "    .dataframe tbody tr th {\n",
       "        vertical-align: top;\n",
       "    }\n",
       "\n",
       "    .dataframe thead th {\n",
       "        text-align: right;\n",
       "    }\n",
       "</style>\n",
       "<table border=\"1\" class=\"dataframe\">\n",
       "  <thead>\n",
       "    <tr style=\"text-align: right;\">\n",
       "      <th></th>\n",
       "      <th>_idade</th>\n",
       "      <th>_faixa etária</th>\n",
       "      <th>_sexo</th>\n",
       "      <th>_bairro</th>\n",
       "      <th>_classificacao</th>\n",
       "      <th>_comorb_renal</th>\n",
       "      <th>_comorb_diabetes</th>\n",
       "      <th>_comorb_imuno</th>\n",
       "      <th>_comorb_cardio</th>\n",
       "      <th>_conclusao</th>\n",
       "      <th>...</th>\n",
       "      <th>_distrito</th>\n",
       "      <th>_bairro_mapa</th>\n",
       "      <th>_comorb_respiratoria</th>\n",
       "      <th>_comorb_cromossomica</th>\n",
       "      <th>_comorb_hepatica</th>\n",
       "      <th>_comorb_neurologica</th>\n",
       "      <th>_comorb_hemato</th>\n",
       "      <th>_comorb_obessidade</th>\n",
       "      <th>_origem</th>\n",
       "      <th>_evolução</th>\n",
       "    </tr>\n",
       "  </thead>\n",
       "  <tbody>\n",
       "    <tr>\n",
       "      <th>0</th>\n",
       "      <td>37.0</td>\n",
       "      <td>30a - 39a</td>\n",
       "      <td>F</td>\n",
       "      <td>CONJ. CIDADAO 10</td>\n",
       "      <td>Confirmado</td>\n",
       "      <td>Não</td>\n",
       "      <td>Não</td>\n",
       "      <td>Não</td>\n",
       "      <td>Não</td>\n",
       "      <td>NaN</td>\n",
       "      <td>...</td>\n",
       "      <td>OESTE</td>\n",
       "      <td>TARUMÃ</td>\n",
       "      <td>Não</td>\n",
       "      <td>Não</td>\n",
       "      <td>NaN</td>\n",
       "      <td>NaN</td>\n",
       "      <td>NaN</td>\n",
       "      <td>NaN</td>\n",
       "      <td>eSUS VE,</td>\n",
       "      <td>NaN</td>\n",
       "    </tr>\n",
       "    <tr>\n",
       "      <th>1</th>\n",
       "      <td>46.0</td>\n",
       "      <td>40a - 49a</td>\n",
       "      <td>F</td>\n",
       "      <td>MORADA DO SOL</td>\n",
       "      <td>Descartado</td>\n",
       "      <td>Não</td>\n",
       "      <td>Não</td>\n",
       "      <td>Não</td>\n",
       "      <td>Não</td>\n",
       "      <td>Recuperado</td>\n",
       "      <td>...</td>\n",
       "      <td>SUL</td>\n",
       "      <td>ALEIXO</td>\n",
       "      <td>Não</td>\n",
       "      <td>Não</td>\n",
       "      <td>NaN</td>\n",
       "      <td>NaN</td>\n",
       "      <td>NaN</td>\n",
       "      <td>NaN</td>\n",
       "      <td>eSUS VE,</td>\n",
       "      <td>NaN</td>\n",
       "    </tr>\n",
       "    <tr>\n",
       "      <th>2</th>\n",
       "      <td>51.0</td>\n",
       "      <td>50a - 59a</td>\n",
       "      <td>F</td>\n",
       "      <td>NaN</td>\n",
       "      <td>Confirmado</td>\n",
       "      <td>Não</td>\n",
       "      <td>Não</td>\n",
       "      <td>Não</td>\n",
       "      <td>Não</td>\n",
       "      <td>NaN</td>\n",
       "      <td>...</td>\n",
       "      <td>NaN</td>\n",
       "      <td>NaN</td>\n",
       "      <td>Não</td>\n",
       "      <td>Não</td>\n",
       "      <td>NaN</td>\n",
       "      <td>NaN</td>\n",
       "      <td>NaN</td>\n",
       "      <td>NaN</td>\n",
       "      <td>eSUS VE,</td>\n",
       "      <td>NaN</td>\n",
       "    </tr>\n",
       "    <tr>\n",
       "      <th>3</th>\n",
       "      <td>74.0</td>\n",
       "      <td>70a - 79a</td>\n",
       "      <td>M</td>\n",
       "      <td>NaN</td>\n",
       "      <td>Confirmado</td>\n",
       "      <td>Não</td>\n",
       "      <td>Não</td>\n",
       "      <td>Não</td>\n",
       "      <td>Não</td>\n",
       "      <td>NaN</td>\n",
       "      <td>...</td>\n",
       "      <td>NaN</td>\n",
       "      <td>NaN</td>\n",
       "      <td>Não</td>\n",
       "      <td>Não</td>\n",
       "      <td>NaN</td>\n",
       "      <td>NaN</td>\n",
       "      <td>NaN</td>\n",
       "      <td>NaN</td>\n",
       "      <td>eSUS VE,</td>\n",
       "      <td>NaN</td>\n",
       "    </tr>\n",
       "    <tr>\n",
       "      <th>4</th>\n",
       "      <td>51.0</td>\n",
       "      <td>50a - 59a</td>\n",
       "      <td>F</td>\n",
       "      <td>ALEIXO</td>\n",
       "      <td>Confirmado</td>\n",
       "      <td>Não</td>\n",
       "      <td>Não</td>\n",
       "      <td>Não</td>\n",
       "      <td>Não</td>\n",
       "      <td>NaN</td>\n",
       "      <td>...</td>\n",
       "      <td>SUL</td>\n",
       "      <td>ALEIXO</td>\n",
       "      <td>Não</td>\n",
       "      <td>Não</td>\n",
       "      <td>NaN</td>\n",
       "      <td>NaN</td>\n",
       "      <td>NaN</td>\n",
       "      <td>NaN</td>\n",
       "      <td>eSUS VE,</td>\n",
       "      <td>NaN</td>\n",
       "    </tr>\n",
       "  </tbody>\n",
       "</table>\n",
       "<p>5 rows × 36 columns</p>\n",
       "</div>"
      ],
      "text/plain": [
       "   _idade _faixa etária _sexo           _bairro _classificacao _comorb_renal  \\\n",
       "0    37.0     30a - 39a     F  CONJ. CIDADAO 10     Confirmado           Não   \n",
       "1    46.0     40a - 49a     F     MORADA DO SOL     Descartado           Não   \n",
       "2    51.0     50a - 59a     F               NaN     Confirmado           Não   \n",
       "3    74.0     70a - 79a     M               NaN     Confirmado           Não   \n",
       "4    51.0     50a - 59a     F            ALEIXO     Confirmado           Não   \n",
       "\n",
       "  _comorb_diabetes _comorb_imuno _comorb_cardio  _conclusao  ... _distrito  \\\n",
       "0              Não           Não            Não         NaN  ...     OESTE   \n",
       "1              Não           Não            Não  Recuperado  ...       SUL   \n",
       "2              Não           Não            Não         NaN  ...       NaN   \n",
       "3              Não           Não            Não         NaN  ...       NaN   \n",
       "4              Não           Não            Não         NaN  ...       SUL   \n",
       "\n",
       "  _bairro_mapa _comorb_respiratoria _comorb_cromossomica _comorb_hepatica  \\\n",
       "0       TARUMÃ                  Não                  Não              NaN   \n",
       "1       ALEIXO                  Não                  Não              NaN   \n",
       "2          NaN                  Não                  Não              NaN   \n",
       "3          NaN                  Não                  Não              NaN   \n",
       "4       ALEIXO                  Não                  Não              NaN   \n",
       "\n",
       "  _comorb_neurologica _comorb_hemato _comorb_obessidade    _origem _evolução  \n",
       "0                 NaN            NaN                NaN  eSUS VE,        NaN  \n",
       "1                 NaN            NaN                NaN  eSUS VE,        NaN  \n",
       "2                 NaN            NaN                NaN  eSUS VE,        NaN  \n",
       "3                 NaN            NaN                NaN  eSUS VE,        NaN  \n",
       "4                 NaN            NaN                NaN  eSUS VE,        NaN  \n",
       "\n",
       "[5 rows x 36 columns]"
      ]
     },
     "execution_count": 2,
     "metadata": {},
     "output_type": "execute_result"
    }
   ],
   "source": [
    "df = pd.read_csv('../config/dataset_covid_manaus.csv', sep = ';', encoding='latin-1') \n",
    "df.head()"
   ]
  },
  {
   "cell_type": "markdown",
   "metadata": {},
   "source": [
    "## De acordo com o indicado na descrição do projeto, serão mantidos apenas os casos confirmados"
   ]
  },
  {
   "cell_type": "code",
   "execution_count": 3,
   "metadata": {},
   "outputs": [
    {
     "data": {
      "text/html": [
       "<div>\n",
       "<style scoped>\n",
       "    .dataframe tbody tr th:only-of-type {\n",
       "        vertical-align: middle;\n",
       "    }\n",
       "\n",
       "    .dataframe tbody tr th {\n",
       "        vertical-align: top;\n",
       "    }\n",
       "\n",
       "    .dataframe thead th {\n",
       "        text-align: right;\n",
       "    }\n",
       "</style>\n",
       "<table border=\"1\" class=\"dataframe\">\n",
       "  <thead>\n",
       "    <tr style=\"text-align: right;\">\n",
       "      <th></th>\n",
       "      <th>_idade</th>\n",
       "      <th>_faixa etária</th>\n",
       "      <th>_sexo</th>\n",
       "      <th>_bairro</th>\n",
       "      <th>_classificacao</th>\n",
       "      <th>_comorb_renal</th>\n",
       "      <th>_comorb_diabetes</th>\n",
       "      <th>_comorb_imuno</th>\n",
       "      <th>_comorb_cardio</th>\n",
       "      <th>_conclusao</th>\n",
       "      <th>...</th>\n",
       "      <th>_distrito</th>\n",
       "      <th>_bairro_mapa</th>\n",
       "      <th>_comorb_respiratoria</th>\n",
       "      <th>_comorb_cromossomica</th>\n",
       "      <th>_comorb_hepatica</th>\n",
       "      <th>_comorb_neurologica</th>\n",
       "      <th>_comorb_hemato</th>\n",
       "      <th>_comorb_obessidade</th>\n",
       "      <th>_origem</th>\n",
       "      <th>_evolução</th>\n",
       "    </tr>\n",
       "  </thead>\n",
       "  <tbody>\n",
       "    <tr>\n",
       "      <th>0</th>\n",
       "      <td>37.0</td>\n",
       "      <td>30a - 39a</td>\n",
       "      <td>F</td>\n",
       "      <td>CONJ. CIDADAO 10</td>\n",
       "      <td>Confirmado</td>\n",
       "      <td>Não</td>\n",
       "      <td>Não</td>\n",
       "      <td>Não</td>\n",
       "      <td>Não</td>\n",
       "      <td>NaN</td>\n",
       "      <td>...</td>\n",
       "      <td>OESTE</td>\n",
       "      <td>TARUMÃ</td>\n",
       "      <td>Não</td>\n",
       "      <td>Não</td>\n",
       "      <td>NaN</td>\n",
       "      <td>NaN</td>\n",
       "      <td>NaN</td>\n",
       "      <td>NaN</td>\n",
       "      <td>eSUS VE,</td>\n",
       "      <td>NaN</td>\n",
       "    </tr>\n",
       "    <tr>\n",
       "      <th>1</th>\n",
       "      <td>51.0</td>\n",
       "      <td>50a - 59a</td>\n",
       "      <td>F</td>\n",
       "      <td>NaN</td>\n",
       "      <td>Confirmado</td>\n",
       "      <td>Não</td>\n",
       "      <td>Não</td>\n",
       "      <td>Não</td>\n",
       "      <td>Não</td>\n",
       "      <td>NaN</td>\n",
       "      <td>...</td>\n",
       "      <td>NaN</td>\n",
       "      <td>NaN</td>\n",
       "      <td>Não</td>\n",
       "      <td>Não</td>\n",
       "      <td>NaN</td>\n",
       "      <td>NaN</td>\n",
       "      <td>NaN</td>\n",
       "      <td>NaN</td>\n",
       "      <td>eSUS VE,</td>\n",
       "      <td>NaN</td>\n",
       "    </tr>\n",
       "    <tr>\n",
       "      <th>2</th>\n",
       "      <td>74.0</td>\n",
       "      <td>70a - 79a</td>\n",
       "      <td>M</td>\n",
       "      <td>NaN</td>\n",
       "      <td>Confirmado</td>\n",
       "      <td>Não</td>\n",
       "      <td>Não</td>\n",
       "      <td>Não</td>\n",
       "      <td>Não</td>\n",
       "      <td>NaN</td>\n",
       "      <td>...</td>\n",
       "      <td>NaN</td>\n",
       "      <td>NaN</td>\n",
       "      <td>Não</td>\n",
       "      <td>Não</td>\n",
       "      <td>NaN</td>\n",
       "      <td>NaN</td>\n",
       "      <td>NaN</td>\n",
       "      <td>NaN</td>\n",
       "      <td>eSUS VE,</td>\n",
       "      <td>NaN</td>\n",
       "    </tr>\n",
       "    <tr>\n",
       "      <th>3</th>\n",
       "      <td>51.0</td>\n",
       "      <td>50a - 59a</td>\n",
       "      <td>F</td>\n",
       "      <td>ALEIXO</td>\n",
       "      <td>Confirmado</td>\n",
       "      <td>Não</td>\n",
       "      <td>Não</td>\n",
       "      <td>Não</td>\n",
       "      <td>Não</td>\n",
       "      <td>NaN</td>\n",
       "      <td>...</td>\n",
       "      <td>SUL</td>\n",
       "      <td>ALEIXO</td>\n",
       "      <td>Não</td>\n",
       "      <td>Não</td>\n",
       "      <td>NaN</td>\n",
       "      <td>NaN</td>\n",
       "      <td>NaN</td>\n",
       "      <td>NaN</td>\n",
       "      <td>eSUS VE,</td>\n",
       "      <td>NaN</td>\n",
       "    </tr>\n",
       "    <tr>\n",
       "      <th>4</th>\n",
       "      <td>53.0</td>\n",
       "      <td>50a - 59a</td>\n",
       "      <td>M</td>\n",
       "      <td>PARQUE10</td>\n",
       "      <td>Confirmado</td>\n",
       "      <td>Não</td>\n",
       "      <td>Não</td>\n",
       "      <td>Não</td>\n",
       "      <td>Não</td>\n",
       "      <td>NaN</td>\n",
       "      <td>...</td>\n",
       "      <td>SUL</td>\n",
       "      <td>PARQUE 10 DE NOVEMBRO</td>\n",
       "      <td>Não</td>\n",
       "      <td>Não</td>\n",
       "      <td>NaN</td>\n",
       "      <td>NaN</td>\n",
       "      <td>NaN</td>\n",
       "      <td>NaN</td>\n",
       "      <td>eSUS VE,</td>\n",
       "      <td>NaN</td>\n",
       "    </tr>\n",
       "  </tbody>\n",
       "</table>\n",
       "<p>5 rows × 36 columns</p>\n",
       "</div>"
      ],
      "text/plain": [
       "   _idade _faixa etária _sexo           _bairro _classificacao _comorb_renal  \\\n",
       "0    37.0     30a - 39a     F  CONJ. CIDADAO 10     Confirmado           Não   \n",
       "1    51.0     50a - 59a     F               NaN     Confirmado           Não   \n",
       "2    74.0     70a - 79a     M               NaN     Confirmado           Não   \n",
       "3    51.0     50a - 59a     F            ALEIXO     Confirmado           Não   \n",
       "4    53.0     50a - 59a     M          PARQUE10     Confirmado           Não   \n",
       "\n",
       "  _comorb_diabetes _comorb_imuno _comorb_cardio _conclusao  ... _distrito  \\\n",
       "0              Não           Não            Não        NaN  ...     OESTE   \n",
       "1              Não           Não            Não        NaN  ...       NaN   \n",
       "2              Não           Não            Não        NaN  ...       NaN   \n",
       "3              Não           Não            Não        NaN  ...       SUL   \n",
       "4              Não           Não            Não        NaN  ...       SUL   \n",
       "\n",
       "            _bairro_mapa _comorb_respiratoria _comorb_cromossomica  \\\n",
       "0                 TARUMÃ                  Não                  Não   \n",
       "1                    NaN                  Não                  Não   \n",
       "2                    NaN                  Não                  Não   \n",
       "3                 ALEIXO                  Não                  Não   \n",
       "4  PARQUE 10 DE NOVEMBRO                  Não                  Não   \n",
       "\n",
       "  _comorb_hepatica _comorb_neurologica _comorb_hemato _comorb_obessidade  \\\n",
       "0              NaN                 NaN            NaN                NaN   \n",
       "1              NaN                 NaN            NaN                NaN   \n",
       "2              NaN                 NaN            NaN                NaN   \n",
       "3              NaN                 NaN            NaN                NaN   \n",
       "4              NaN                 NaN            NaN                NaN   \n",
       "\n",
       "     _origem _evolução  \n",
       "0  eSUS VE,        NaN  \n",
       "1  eSUS VE,        NaN  \n",
       "2  eSUS VE,        NaN  \n",
       "3  eSUS VE,        NaN  \n",
       "4  eSUS VE,        NaN  \n",
       "\n",
       "[5 rows x 36 columns]"
      ]
     },
     "execution_count": 3,
     "metadata": {},
     "output_type": "execute_result"
    }
   ],
   "source": [
    "df = df[df['_classificacao'] == 'Confirmado'].reset_index(drop=True) #nesse caso foram descartados os casos 'Descartado' e 'Em análise'\n",
    "df.head()"
   ]
  },
  {
   "cell_type": "markdown",
   "metadata": {},
   "source": [
    "## Descrição do conteúdo do dataset"
   ]
  },
  {
   "cell_type": "markdown",
   "metadata": {},
   "source": [
    "#### 1 - Quantos e quais atributos descrevem cada elemento do dataset?"
   ]
  },
  {
   "cell_type": "code",
   "execution_count": 4,
   "metadata": {
    "scrolled": true
   },
   "outputs": [
    {
     "name": "stdout",
     "output_type": "stream",
     "text": [
      "Quantidade de atributos preditores: 36\n",
      "São eles:\n",
      "_idade\n",
      "_faixa etária\n",
      "_sexo\n",
      "_bairro\n",
      "_classificacao\n",
      "_comorb_renal\n",
      "_comorb_diabetes\n",
      "_comorb_imuno\n",
      "_comorb_cardio\n",
      "_conclusao\n",
      "_dt_notificacao\n",
      "_taxa\n",
      "_dt_evolucao\n",
      "_raca\n",
      "_dt_sintomas\n",
      "_criterio\n",
      "_tipo_teste\n",
      "_sintoma_garganta\n",
      "_sintoma_dispneia\n",
      "_sintoma_febre\n",
      "_sintoma_tosse\n",
      "_sintoma_outros\n",
      "_etnia\n",
      "_profiss_saude\n",
      "_srag\n",
      "_se_notificacao\n",
      "_distrito\n",
      "_bairro_mapa\n",
      "_comorb_respiratoria\n",
      "_comorb_cromossomica\n",
      "_comorb_hepatica\n",
      "_comorb_neurologica\n",
      "_comorb_hemato\n",
      "_comorb_obessidade\n",
      "_origem\n",
      "_evolução\n"
     ]
    }
   ],
   "source": [
    "print('Quantidade de atributos preditores: '+str(len(df.columns)))\n",
    "print('São eles:')\n",
    "for c in df.columns:\n",
    "#     print(c[1:]) #para melhor visualização, retirei o '_' presente na primeira posição de todos os atributos\n",
    "    print(c) #para visualizá-los com seus nomes originais"
   ]
  },
  {
   "cell_type": "markdown",
   "metadata": {},
   "source": [
    "#### 2 - Quantos casos confirmados há em Manaus?"
   ]
  },
  {
   "cell_type": "code",
   "execution_count": 5,
   "metadata": {},
   "outputs": [
    {
     "data": {
      "text/plain": [
       "36947"
      ]
     },
     "execution_count": 5,
     "metadata": {},
     "output_type": "execute_result"
    }
   ],
   "source": [
    "#Considerando que apenas os casos confirmados encontram-se no dataset, trata-se apenas do tamanho deste, no entanto, \n",
    "#caso fosse uma requisição de outro aributo que tivesse mais de uma opção, seria da seguinte forma:\n",
    "df['_classificacao'].value_counts()['Confirmado']"
   ]
  },
  {
   "cell_type": "markdown",
   "metadata": {},
   "source": [
    "#### 3 - Qual o período de tempo do dataset (baseando-se na data de notificação)?"
   ]
  },
  {
   "cell_type": "raw",
   "metadata": {},
   "source": [
    "Obs: dentre os 36947 casos, 4 não possuiam data de notificação."
   ]
  },
  {
   "cell_type": "code",
   "execution_count": 6,
   "metadata": {},
   "outputs": [],
   "source": [
    "df['_dt_notificacao'] = pd.to_datetime(df['_dt_notificacao'].dropna().astype(str), format='%d/%m/%Y')\n",
    "datetime_dates = df['_dt_notificacao']\n",
    "first = np.min(datetime_dates)\n",
    "latest = np.max(datetime_dates)"
   ]
  },
  {
   "cell_type": "code",
   "execution_count": 7,
   "metadata": {},
   "outputs": [
    {
     "name": "stdout",
     "output_type": "stream",
     "text": [
      "Primeira notificação foi em: 30/01/2020\n",
      "Notificação mais recente(retirado no dia 06/08/2020) foi em: 06/08/2020\n"
     ]
    }
   ],
   "source": [
    "print('Primeira notificação foi em: %s/%s/%4d' %(first.strftime('%d'), first.strftime('%m'), first.year))\n",
    "print('Notificação mais recente(retirado no dia 06/08/2020) foi em: %s/%s/%4d' %(latest.strftime('%d'), latest.strftime('%m'), latest.year))"
   ]
  },
  {
   "cell_type": "markdown",
   "metadata": {},
   "source": [
    "### Conforme especificado no pdf do projeto:\n",
    "\"Para fins da análise considerada no escopo deste projeto, vamos excluir todos os atributos relativos\n",
    "às comorbidades, sintomas, etnia, profissão, outras datas que não a de notificação, origem e outros\n",
    "que não estiverem envolvidos no contexto do trabalho solicitado. Estes atributos serão considerados\n",
    "irrelevantes para fins de simplificação.\""
   ]
  },
  {
   "cell_type": "markdown",
   "metadata": {},
   "source": [
    "### E ainda:\n",
    "\"Exclua todas as linhas em que houver dados faltantes para os\n",
    "atributos remanescentes.\""
   ]
  },
  {
   "cell_type": "code",
   "execution_count": 8,
   "metadata": {},
   "outputs": [],
   "source": [
    "#removendo os atributos especificados:\n",
    "df = df.drop(['_comorb_renal', '_comorb_diabetes', '_comorb_imuno', '_comorb_cardio', '_taxa', '_dt_evolucao', '_raca',\n",
    "       '_dt_sintomas', '_sintoma_garganta', '_classificacao',\n",
    "       '_sintoma_dispneia', '_sintoma_febre', '_sintoma_tosse',\n",
    "       '_sintoma_outros', '_etnia', '_profiss_saude', '_srag', '_criterio', \n",
    "       '_se_notificacao', '_distrito', '_bairro_mapa', '_comorb_respiratoria',\n",
    "       '_comorb_cromossomica', '_comorb_hepatica', '_comorb_neurologica',\n",
    "       '_comorb_hemato', '_comorb_obessidade', '_origem', '_evolução'], axis=1).dropna()"
   ]
  },
  {
   "cell_type": "markdown",
   "metadata": {},
   "source": [
    "## Análise dos Dados"
   ]
  },
  {
   "cell_type": "markdown",
   "metadata": {},
   "source": [
    "#### 1 - Quantos exemplos e atributos há na base de dados após a limpeza e organização?"
   ]
  },
  {
   "cell_type": "code",
   "execution_count": 9,
   "metadata": {},
   "outputs": [
    {
     "name": "stdout",
     "output_type": "stream",
     "text": [
      "Quantidade de exemplos: 6422\n",
      "Quantidade de atributos preditores após limpeza e organização: 7\n",
      "São eles:\n",
      "_idade\n",
      "_faixa etária\n",
      "_sexo\n",
      "_bairro\n",
      "_conclusao\n",
      "_dt_notificacao\n",
      "_tipo_teste\n"
     ]
    }
   ],
   "source": [
    "print('Quantidade de exemplos: ' + str(len(df)))\n",
    "print('Quantidade de atributos preditores após limpeza e organização: ' + str(len(df.columns)))\n",
    "print('São eles:')\n",
    "for i in df.columns:\n",
    "    print(i)"
   ]
  },
  {
   "cell_type": "markdown",
   "metadata": {},
   "source": [
    "#### 2 - Qual a porcentagem de indivíduos recuperados em relação ao todo?"
   ]
  },
  {
   "cell_type": "code",
   "execution_count": 10,
   "metadata": {},
   "outputs": [
    {
     "name": "stdout",
     "output_type": "stream",
     "text": [
      "Porcentagem de recuperados em relação ao todo: 99.80 %\n",
      "\n"
     ]
    }
   ],
   "source": [
    "recovered_percentage = (df['_conclusao'].value_counts()['Recuperado'] / len(df))*100\n",
    "print('Porcentagem de recuperados em relação ao todo: %.2f ' % recovered_percentage + '%\\n')"
   ]
  },
  {
   "cell_type": "markdown",
   "metadata": {},
   "source": [
    "#### 3 - Os casos acometeram mais indivíduos do sexo masculino ou feminino?"
   ]
  },
  {
   "cell_type": "code",
   "execution_count": 11,
   "metadata": {},
   "outputs": [
    {
     "name": "stdout",
     "output_type": "stream",
     "text": [
      "Quantidade de casos em relação ao sexo do paciente:\n",
      "F    3645\n",
      "M    2777\n",
      "Name: _sexo, dtype: int64\n",
      "\n",
      "Os casos acometeram mais indivíduos do sexo feminino\n"
     ]
    }
   ],
   "source": [
    "print('Quantidade de casos em relação ao sexo do paciente:')\n",
    "print(df['_sexo'].value_counts())\n",
    "print('\\nOs casos acometeram mais indivíduos do sexo feminino')"
   ]
  },
  {
   "cell_type": "markdown",
   "metadata": {},
   "source": [
    "#### 3.1 - Divisão de sexo em porcentagem"
   ]
  },
  {
   "cell_type": "code",
   "execution_count": 12,
   "metadata": {},
   "outputs": [
    {
     "data": {
      "text/plain": [
       "F    56.758019\n",
       "M    43.241981\n",
       "Name: _sexo, dtype: float64"
      ]
     },
     "execution_count": 12,
     "metadata": {},
     "output_type": "execute_result"
    }
   ],
   "source": [
    "df['_sexo'].value_counts(normalize=True)*100"
   ]
  },
  {
   "cell_type": "markdown",
   "metadata": {},
   "source": [
    "#### 4 - Qual a média e desvio padrão de idade dos indivíduos que contraíram COVID-19? Qual o indivíduo mais jovem e o mais idoso a contraírem tal enfermidade?"
   ]
  },
  {
   "cell_type": "code",
   "execution_count": 13,
   "metadata": {},
   "outputs": [
    {
     "name": "stdout",
     "output_type": "stream",
     "text": [
      "Idade média dos indivíduos que contraíram COVID-19 : 41 anos\n",
      "\n",
      "Desvio padrão: 14.155\n",
      "\n",
      "Indivíduo mais jovem possui: 0.0\n",
      "Indivíduo mais velho possui: 99.0\n",
      "\n",
      "\n"
     ]
    }
   ],
   "source": [
    "average_age = df['_idade'].sum() / len(df)\n",
    "print('Idade média dos indivíduos que contraíram COVID-19 : ' + str(int(average_age)) + ' anos\\n')\n",
    "\n",
    "temp = 0\n",
    "for age in df.iloc[:,0].values:\n",
    "    temp += (age - average_age)**2\n",
    "    \n",
    "std_deviation = (temp/len(df))**(1/2)\n",
    "\n",
    "print('Desvio padrão: %.3f' % std_deviation + '\\n')\n",
    "print('Indivíduo mais jovem possui: ' + str(np.min(df.iloc[:,0].values)))\n",
    "print('Indivíduo mais velho possui: ' + str(np.max(df.iloc[:,0].values)))\n",
    "print('\\n')"
   ]
  },
  {
   "cell_type": "markdown",
   "metadata": {},
   "source": [
    "#### 5 - Qual bairro com mais incidência de casos?"
   ]
  },
  {
   "cell_type": "code",
   "execution_count": 14,
   "metadata": {},
   "outputs": [
    {
     "name": "stdout",
     "output_type": "stream",
     "text": [
      "Cidade nova é o bairro com a maior incidência de COVID-19, com 301 casos.\n",
      "\n"
     ]
    }
   ],
   "source": [
    "dts = df['_bairro'].value_counts(sort = True).index.tolist()\n",
    "dts_cases = df['_bairro'].value_counts(sort = True).values\n",
    "print((dts[0]).capitalize() + ' é o bairro com a maior incidência de COVID-19, com ' + str(dts_cases[0]) + ' casos.\\n')"
   ]
  },
  {
   "cell_type": "markdown",
   "metadata": {},
   "source": [
    "#### 6 - Quais os três bairros com maior incidência de casos recuperados?"
   ]
  },
  {
   "cell_type": "code",
   "execution_count": 15,
   "metadata": {},
   "outputs": [
    {
     "name": "stdout",
     "output_type": "stream",
     "text": [
      "Os 3 bairros com a maior incidência de casos recuperados:\n",
      "1º CIDADE NOVA, 301 recuperados.\n",
      "2º FLORES, 266 recuperados.\n",
      "3º TARUMA, 225 recuperados.\n",
      "\n",
      "\n"
     ]
    }
   ],
   "source": [
    "print(\"Os 3 bairros com a maior incidência de casos recuperados:\")\n",
    "df_recovereds = df[df['_conclusao'] == 'Recuperado']\n",
    "dts_recovereds = df_recovereds['_bairro'].value_counts(sort = True).index.tolist()\n",
    "dts_recoverds_cases = df_recovereds['_bairro'].value_counts(sort = True).values\n",
    "\n",
    "for i in range(3):\n",
    "    print(str(i+1) + 'º '+ dts_recovereds[i] + ', ' + str(dts_recoverds_cases[i]) + ' recuperados.')\n",
    "print('\\n')"
   ]
  },
  {
   "cell_type": "markdown",
   "metadata": {},
   "source": [
    "#### 7 - Quais os tipos de testes efetuados, segundo os dados? Indique os dados de maneira quantitativa e percentual."
   ]
  },
  {
   "cell_type": "code",
   "execution_count": 16,
   "metadata": {},
   "outputs": [
    {
     "data": {
      "text/html": [
       "<div>\n",
       "<style scoped>\n",
       "    .dataframe tbody tr th:only-of-type {\n",
       "        vertical-align: middle;\n",
       "    }\n",
       "\n",
       "    .dataframe tbody tr th {\n",
       "        vertical-align: top;\n",
       "    }\n",
       "\n",
       "    .dataframe thead th {\n",
       "        text-align: right;\n",
       "    }\n",
       "</style>\n",
       "<table border=\"1\" class=\"dataframe\">\n",
       "  <thead>\n",
       "    <tr style=\"text-align: right;\">\n",
       "      <th></th>\n",
       "      <th>Tipo</th>\n",
       "      <th>Testes realizados</th>\n",
       "      <th>Percentual em relação ao total (%)</th>\n",
       "    </tr>\n",
       "  </thead>\n",
       "  <tbody>\n",
       "    <tr>\n",
       "      <th>0</th>\n",
       "      <td>TESTE RÁPIDO - ANTICORPO</td>\n",
       "      <td>3736</td>\n",
       "      <td>58.175023</td>\n",
       "    </tr>\n",
       "    <tr>\n",
       "      <th>1</th>\n",
       "      <td>RT-PCR</td>\n",
       "      <td>1537</td>\n",
       "      <td>23.933354</td>\n",
       "    </tr>\n",
       "    <tr>\n",
       "      <th>2</th>\n",
       "      <td>TESTE RÁPIDO - ANTÍGENO</td>\n",
       "      <td>1139</td>\n",
       "      <td>17.735908</td>\n",
       "    </tr>\n",
       "    <tr>\n",
       "      <th>3</th>\n",
       "      <td>ELISA IgM</td>\n",
       "      <td>6</td>\n",
       "      <td>0.093429</td>\n",
       "    </tr>\n",
       "    <tr>\n",
       "      <th>4</th>\n",
       "      <td>ECLIA IgG</td>\n",
       "      <td>4</td>\n",
       "      <td>0.062286</td>\n",
       "    </tr>\n",
       "  </tbody>\n",
       "</table>\n",
       "</div>"
      ],
      "text/plain": [
       "                       Tipo  Testes realizados  \\\n",
       "0  TESTE RÁPIDO - ANTICORPO               3736   \n",
       "1                    RT-PCR               1537   \n",
       "2   TESTE RÁPIDO - ANTÍGENO               1139   \n",
       "3                 ELISA IgM                  6   \n",
       "4                 ECLIA IgG                  4   \n",
       "\n",
       "   Percentual em relação ao total (%)  \n",
       "0                           58.175023  \n",
       "1                           23.933354  \n",
       "2                           17.735908  \n",
       "3                            0.093429  \n",
       "4                            0.062286  "
      ]
     },
     "execution_count": 16,
     "metadata": {},
     "output_type": "execute_result"
    }
   ],
   "source": [
    "test_types = df['_tipo_teste'].value_counts(sort = True).index.tolist()\n",
    "tests_qtd = df['_tipo_teste'].value_counts(sort = True).values\n",
    "\n",
    "tests_percentage = []\n",
    "for value in tests_qtd:\n",
    "    tests_percentage.append(((value / len(df))*100))\n",
    "\n",
    "tests_table = {'Tipo': test_types, 'Testes realizados': tests_qtd, 'Percentual em relação ao total (%)': tests_percentage}\n",
    "pd.DataFrame(tests_table)"
   ]
  },
  {
   "cell_type": "markdown",
   "metadata": {},
   "source": [
    "#### 8 - Qual a taxa de letalidade pode ser calculada a partir do conjunto de dados?"
   ]
  },
  {
   "cell_type": "code",
   "execution_count": 17,
   "metadata": {},
   "outputs": [
    {
     "name": "stdout",
     "output_type": "stream",
     "text": [
      "Quantidade total de infectados: 13\n",
      "Quantidade total de mortos: 6422\n",
      " Taxa de letalidade: 0.20%\n"
     ]
    }
   ],
   "source": [
    "qtd_mortos = df['_conclusao'].value_counts()['Óbito']\n",
    "total_infc = len(df)\n",
    "\n",
    "print(f'Quantidade total de infectados: {qtd_mortos}\\n'\n",
    "      f'Quantidade total de mortos: {total_infc}\\n',\n",
    "       'Taxa de letalidade: %.2f%%' %(qtd_mortos/total_infc * 100))"
   ]
  },
  {
   "cell_type": "markdown",
   "metadata": {},
   "source": [
    "#### 9 - Qual o tipo de relação, mediante o coeficiente de correlação de Pearson, entre a idade e o número de casos?"
   ]
  },
  {
   "cell_type": "code",
   "execution_count": 18,
   "metadata": {},
   "outputs": [],
   "source": [
    "age_cases = df.groupby(['_idade']).count()"
   ]
  },
  {
   "cell_type": "code",
   "execution_count": 19,
   "metadata": {},
   "outputs": [],
   "source": [
    "age_case_corr = pd.DataFrame(data=np.array([age_cases.index, age_cases.values.transpose()[0]]).transpose(), columns=['idade', 'casos'])"
   ]
  },
  {
   "cell_type": "code",
   "execution_count": 20,
   "metadata": {},
   "outputs": [
    {
     "data": {
      "text/plain": [
       "-0.2258984278924331"
      ]
     },
     "execution_count": 20,
     "metadata": {},
     "output_type": "execute_result"
    }
   ],
   "source": [
    "age_case_corr['idade'].corr(age_case_corr['casos'])"
   ]
  },
  {
   "cell_type": "code",
   "execution_count": 21,
   "metadata": {},
   "outputs": [],
   "source": [
    "# O resultado é um valor negativo próximo de zero.\n",
    "# Isso demonstra que as variáveis possuem uma leve relação inversamente proporcional."
   ]
  },
  {
   "cell_type": "markdown",
   "metadata": {},
   "source": [
    "# Visualização de Dados"
   ]
  },
  {
   "cell_type": "markdown",
   "metadata": {},
   "source": [
    "#### 1 - Construa um histograma denotando a quantidade de casos nos 10 bairros em que houve mais casos registrados."
   ]
  },
  {
   "cell_type": "code",
   "execution_count": 22,
   "metadata": {},
   "outputs": [
    {
     "data": {
      "text/plain": [
       "_bairro\n",
       "CIDADE NOVA          301\n",
       "FLORES               266\n",
       "TARUMA               225\n",
       "PETROPOLIS           193\n",
       "ALEIXO               172\n",
       "NOVO ALEIXO          170\n",
       "JORGE TEIXEIRA       169\n",
       "SAO JOSE OPERARIO    169\n",
       "COROADO              168\n",
       "COMPENSA             166\n",
       "Name: top10_casos_bairro, dtype: int64"
      ]
     },
     "execution_count": 22,
     "metadata": {},
     "output_type": "execute_result"
    }
   ],
   "source": [
    "neigh_cases = pd.Series(df.groupby('_bairro').count()['_idade'], name='top10_casos_bairro')\n",
    "neigh_cases.sort_values(ascending=False).head(10)"
   ]
  },
  {
   "cell_type": "code",
   "execution_count": 23,
   "metadata": {},
   "outputs": [
    {
     "name": "stdout",
     "output_type": "stream",
     "text": [
      "[301, 266, 225, 193, 172, 170, 169, 169, 168, 166]\n"
     ]
    }
   ],
   "source": [
    "top10_casos_bairro = list(neigh_cases.sort_values(ascending=False).head(10))\n",
    "print(top10_casos_bairro)"
   ]
  },
  {
   "cell_type": "code",
   "execution_count": 24,
   "metadata": {},
   "outputs": [],
   "source": [
    "sigla_bairros = ['Cidade Nova', 'Flores', 'Tarumã', 'Petropolis', 'Aleixo', 'Novo Aleixo', 'Jorge \\nTeixeira', 'São Jorge \\nOperário', 'Coroado', 'Compensa', 'Outros']"
   ]
  },
  {
   "cell_type": "code",
   "execution_count": 25,
   "metadata": {},
   "outputs": [
    {
     "name": "stdout",
     "output_type": "stream",
     "text": [
      "4423\n"
     ]
    }
   ],
   "source": [
    "others = np.sum(neigh_cases.sort_values(ascending=False).tail(496))\n",
    "print(others)"
   ]
  },
  {
   "cell_type": "code",
   "execution_count": 26,
   "metadata": {},
   "outputs": [
    {
     "name": "stdout",
     "output_type": "stream",
     "text": [
      "[301, 266, 225, 193, 172, 170, 169, 169, 168, 166, 4423]\n"
     ]
    }
   ],
   "source": [
    "top10_casos_bairro.append(others)\n",
    "print(top10_casos_bairro)"
   ]
  },
  {
   "cell_type": "code",
   "execution_count": 27,
   "metadata": {},
   "outputs": [
    {
     "name": "stdout",
     "output_type": "stream",
     "text": [
      "6422\n"
     ]
    }
   ],
   "source": [
    "total = sum(top10_casos_bairro)\n",
    "print(total)"
   ]
  },
  {
   "cell_type": "code",
   "execution_count": 28,
   "metadata": {},
   "outputs": [
    {
     "data": {
      "text/plain": [
       "Text(0.5, 1.0, 'Distribuição de Casos Confirmados por Bairro')"
      ]
     },
     "execution_count": 28,
     "metadata": {},
     "output_type": "execute_result"
    },
    {
     "data": {
      "image/png": "[encoded data removed]",
      "text/plain": [
       "<Figure size 864x432 with 1 Axes>"
      ]
     },
     "metadata": {
      "needs_background": "light"
     },
     "output_type": "display_data"
    }
   ],
   "source": [
    "fig, ax = plt.subplots(figsize =(12, 6))\n",
    "font = {'fontname':'Corbel'}\n",
    "\n",
    "for s in ['top', 'bottom', 'left', 'right']: \n",
    "    ax.spines[s].set_visible(False) \n",
    "    \n",
    "# Add x, y gridlines \n",
    "ax.grid(b = True, color ='grey', linestyle ='-.', linewidth = 0.5, alpha = 0.2) \n",
    "\n",
    "ax.bar(sigla_bairros, [x/total * 100 for x in top10_casos_bairro], color='dimgray')\n",
    "ax.set_xlabel(\"Bairro\", fontsize=14, **font)\n",
    "ax.set_ylabel(\"% de Casos\", fontsize=14, **font)\n",
    "ax.set_title(\"Distribuição de Casos Confirmados por Bairro\", fontsize=14, **font)"
   ]
  },
  {
   "cell_type": "markdown",
   "metadata": {},
   "source": [
    "#### 2 - Denote, por sexo, o boxplot da idade dos casos confirmados. Há outliers?"
   ]
  },
  {
   "cell_type": "code",
   "execution_count": 29,
   "metadata": {},
   "outputs": [],
   "source": [
    "male_age = df[df._sexo == 'M'][['_idade']]\n",
    "fale_age = df[df._sexo == 'F'][['_idade']]"
   ]
  },
  {
   "cell_type": "code",
   "execution_count": 30,
   "metadata": {},
   "outputs": [],
   "source": [
    "male_age = male_age.values.flatten()\n",
    "fale_age = fale_age.values.flatten()"
   ]
  },
  {
   "cell_type": "code",
   "execution_count": 31,
   "metadata": {},
   "outputs": [],
   "source": [
    "data = np.concatenate((male_age, fale_age))"
   ]
  },
  {
   "cell_type": "code",
   "execution_count": 32,
   "metadata": {},
   "outputs": [
    {
     "data": {
      "text/plain": [
       "{'whiskers': [<matplotlib.lines.Line2D at 0x1e14e7d90c8>,\n",
       "  <matplotlib.lines.Line2D at 0x1e14e7e8d48>,\n",
       "  <matplotlib.lines.Line2D at 0x1e14e7fad08>,\n",
       "  <matplotlib.lines.Line2D at 0x1e14e7f39c8>],\n",
       " 'caps': [<matplotlib.lines.Line2D at 0x1e14e7c2c08>,\n",
       "  <matplotlib.lines.Line2D at 0x1e14e7c2d08>,\n",
       "  <matplotlib.lines.Line2D at 0x1e14e7fec48>,\n",
       "  <matplotlib.lines.Line2D at 0x1e14db34c88>],\n",
       " 'boxes': [<matplotlib.lines.Line2D at 0x1e14e7e1988>,\n",
       "  <matplotlib.lines.Line2D at 0x1e14e95c588>],\n",
       " 'medians': [<matplotlib.lines.Line2D at 0x1e14e7f3b88>,\n",
       "  <matplotlib.lines.Line2D at 0x1e14e804b88>],\n",
       " 'fliers': [<matplotlib.lines.Line2D at 0x1e14e7f3c88>,\n",
       "  <matplotlib.lines.Line2D at 0x1e14e80a988>],\n",
       " 'means': []}"
      ]
     },
     "execution_count": 32,
     "metadata": {},
     "output_type": "execute_result"
    },
    {
     "data": {
      "image/png": "[encoded data removed]",
      "text/plain": [
       "<Figure size 288x576 with 1 Axes>"
      ]
     },
     "metadata": {
      "needs_background": "light"
     },
     "output_type": "display_data"
    }
   ],
   "source": [
    "plt.figure(figsize=(4, 8))\n",
    "plt.boxplot((male_age, fale_age), sym=\"o\", labels=[\"Homens\", \"Mulheres\"])"
   ]
  },
  {
   "cell_type": "markdown",
   "metadata": {},
   "source": [
    "#### 3 - Denote em um gráfico de barras o número de novos casos por dia, considerando os 10 últimos dias existentes na base de dados."
   ]
  },
  {
   "cell_type": "code",
   "execution_count": 33,
   "metadata": {},
   "outputs": [],
   "source": [
    "cases_per_day = df.drop(columns=['_idade', '_sexo', '_bairro', '_conclusao', '_tipo_teste'])"
   ]
  },
  {
   "cell_type": "code",
   "execution_count": 34,
   "metadata": {},
   "outputs": [],
   "source": [
    "cases_per_day['_dt_notificacao'] = pd.to_datetime(cases_per_day['_dt_notificacao'], dayfirst=True)"
   ]
  },
  {
   "cell_type": "code",
   "execution_count": 35,
   "metadata": {},
   "outputs": [],
   "source": [
    "cases_per_day_sorted = cases_per_day.sort_values(by='_dt_notificacao')"
   ]
  },
  {
   "cell_type": "code",
   "execution_count": 36,
   "metadata": {},
   "outputs": [],
   "source": [
    "days_group = cases_per_day_sorted.groupby('_dt_notificacao').count()"
   ]
  },
  {
   "cell_type": "code",
   "execution_count": 37,
   "metadata": {
    "scrolled": true
   },
   "outputs": [
    {
     "data": {
      "text/html": [
       "<div>\n",
       "<style scoped>\n",
       "    .dataframe tbody tr th:only-of-type {\n",
       "        vertical-align: middle;\n",
       "    }\n",
       "\n",
       "    .dataframe tbody tr th {\n",
       "        vertical-align: top;\n",
       "    }\n",
       "\n",
       "    .dataframe thead th {\n",
       "        text-align: right;\n",
       "    }\n",
       "</style>\n",
       "<table border=\"1\" class=\"dataframe\">\n",
       "  <thead>\n",
       "    <tr style=\"text-align: right;\">\n",
       "      <th></th>\n",
       "      <th>_faixa etária</th>\n",
       "    </tr>\n",
       "    <tr>\n",
       "      <th>_dt_notificacao</th>\n",
       "      <th></th>\n",
       "    </tr>\n",
       "  </thead>\n",
       "  <tbody>\n",
       "    <tr>\n",
       "      <th>2020-06-22</th>\n",
       "      <td>87</td>\n",
       "    </tr>\n",
       "    <tr>\n",
       "      <th>2020-06-23</th>\n",
       "      <td>45</td>\n",
       "    </tr>\n",
       "    <tr>\n",
       "      <th>2020-06-24</th>\n",
       "      <td>45</td>\n",
       "    </tr>\n",
       "    <tr>\n",
       "      <th>2020-06-25</th>\n",
       "      <td>71</td>\n",
       "    </tr>\n",
       "    <tr>\n",
       "      <th>2020-06-26</th>\n",
       "      <td>54</td>\n",
       "    </tr>\n",
       "    <tr>\n",
       "      <th>2020-06-27</th>\n",
       "      <td>4</td>\n",
       "    </tr>\n",
       "    <tr>\n",
       "      <th>2020-06-28</th>\n",
       "      <td>6</td>\n",
       "    </tr>\n",
       "    <tr>\n",
       "      <th>2020-06-29</th>\n",
       "      <td>83</td>\n",
       "    </tr>\n",
       "    <tr>\n",
       "      <th>2020-06-30</th>\n",
       "      <td>89</td>\n",
       "    </tr>\n",
       "    <tr>\n",
       "      <th>2020-07-01</th>\n",
       "      <td>45</td>\n",
       "    </tr>\n",
       "    <tr>\n",
       "      <th>2020-07-02</th>\n",
       "      <td>38</td>\n",
       "    </tr>\n",
       "    <tr>\n",
       "      <th>2020-07-03</th>\n",
       "      <td>29</td>\n",
       "    </tr>\n",
       "    <tr>\n",
       "      <th>2020-07-04</th>\n",
       "      <td>6</td>\n",
       "    </tr>\n",
       "    <tr>\n",
       "      <th>2020-07-05</th>\n",
       "      <td>9</td>\n",
       "    </tr>\n",
       "    <tr>\n",
       "      <th>2020-07-06</th>\n",
       "      <td>32</td>\n",
       "    </tr>\n",
       "    <tr>\n",
       "      <th>2020-07-16</th>\n",
       "      <td>1</td>\n",
       "    </tr>\n",
       "    <tr>\n",
       "      <th>2020-07-20</th>\n",
       "      <td>1</td>\n",
       "    </tr>\n",
       "    <tr>\n",
       "      <th>2020-07-24</th>\n",
       "      <td>2</td>\n",
       "    </tr>\n",
       "    <tr>\n",
       "      <th>2020-07-30</th>\n",
       "      <td>1</td>\n",
       "    </tr>\n",
       "    <tr>\n",
       "      <th>2020-07-31</th>\n",
       "      <td>1</td>\n",
       "    </tr>\n",
       "  </tbody>\n",
       "</table>\n",
       "</div>"
      ],
      "text/plain": [
       "                 _faixa etária\n",
       "_dt_notificacao               \n",
       "2020-06-22                  87\n",
       "2020-06-23                  45\n",
       "2020-06-24                  45\n",
       "2020-06-25                  71\n",
       "2020-06-26                  54\n",
       "2020-06-27                   4\n",
       "2020-06-28                   6\n",
       "2020-06-29                  83\n",
       "2020-06-30                  89\n",
       "2020-07-01                  45\n",
       "2020-07-02                  38\n",
       "2020-07-03                  29\n",
       "2020-07-04                   6\n",
       "2020-07-05                   9\n",
       "2020-07-06                  32\n",
       "2020-07-16                   1\n",
       "2020-07-20                   1\n",
       "2020-07-24                   2\n",
       "2020-07-30                   1\n",
       "2020-07-31                   1"
      ]
     },
     "execution_count": 37,
     "metadata": {},
     "output_type": "execute_result"
    }
   ],
   "source": [
    "days_group.tail(20)"
   ]
  },
  {
   "cell_type": "code",
   "execution_count": 38,
   "metadata": {},
   "outputs": [
    {
     "name": "stdout",
     "output_type": "stream",
     "text": [
      "[4, 6, 83, 89, 45, 38, 29, 6, 9, 32]\n"
     ]
    }
   ],
   "source": [
    "bar_days = days_group.tail(15).values\n",
    "bar_days = bar_days.flatten()\n",
    "bar_days = np.delete(bar_days, [i for i in range(10,15)])\n",
    "bar_days = list(bar_days)\n",
    "print(bar_days)"
   ]
  },
  {
   "cell_type": "code",
   "execution_count": 39,
   "metadata": {},
   "outputs": [],
   "source": [
    "days = ['2020-06-27', '2020-06-28', '2020-06-29', '2020-06-30', '2020-07-01', '2020-07-02', '2020-07-03', '2020-07-04', '2020-07-05', '2020-07-06']"
   ]
  },
  {
   "cell_type": "code",
   "execution_count": 40,
   "metadata": {},
   "outputs": [
    {
     "data": {
      "text/plain": [
       "Text(0, 0.5, 'Data')"
      ]
     },
     "execution_count": 40,
     "metadata": {},
     "output_type": "execute_result"
    },
    {
     "data": {
      "image/png": "[encoded data removed]",
      "text/plain": [
       "<Figure size 864x432 with 1 Axes>"
      ]
     },
     "metadata": {
      "needs_background": "light"
     },
     "output_type": "display_data"
    }
   ],
   "source": [
    "y_axis = days \n",
    "x_axis = bar_days\n",
    "  \n",
    "# Figure Size \n",
    "fig, ax = plt.subplots(figsize =(12, 6)) \n",
    "  \n",
    "# Horizontal Bar Plot \n",
    "ax.barh(y_axis, x_axis, color='dimgray') \n",
    "  \n",
    "# Remove axes splines \n",
    "for s in ['top', 'bottom', 'left', 'right']: \n",
    "    ax.spines[s].set_visible(False) \n",
    "\n",
    "# Remove y ticks\n",
    "ax.yaxis.set_ticks_position('none') \n",
    "  \n",
    "# Add padding between axes and labels \n",
    "ax.xaxis.set_tick_params(pad = 5) \n",
    "ax.yaxis.set_tick_params(pad = 0) \n",
    "  \n",
    "# Add x, y gridlines \n",
    "ax.grid(b = True, color ='grey', linestyle ='-.', linewidth = 0.5, alpha = 0.2) \n",
    "  \n",
    "# Show at middle\n",
    "ax.invert_yaxis() \n",
    "  \n",
    "# Add annotation to bars\n",
    "for i in ax.patches:\n",
    "    plt.text(i.get_width()+1.5, i.get_y()+0.5,  \n",
    "             str(i.get_width()), \n",
    "             fontsize = 12, fontweight ='normal', \n",
    "             color = 'black') \n",
    "    \n",
    "# Add Plot Title \n",
    "font = {'fontname':'Corbel'}\n",
    "ax.set_title('Quantidade de novos casos por dia', fontsize=18, loc ='center', **font) \n",
    "ax.set_xlabel('qtd. de casos', fontsize=14, **font)\n",
    "ax.set_ylabel('Data', fontsize=15, **font)"
   ]
  },
  {
   "cell_type": "markdown",
   "metadata": {},
   "source": [
    "#### 4 - Repita o gráfico anterior considerando o número de casos recuperado."
   ]
  },
  {
   "cell_type": "code",
   "execution_count": 41,
   "metadata": {},
   "outputs": [],
   "source": [
    "rec_per_day = df.drop(columns=['_idade', '_sexo', '_bairro', '_tipo_teste', '_faixa etária'])"
   ]
  },
  {
   "cell_type": "code",
   "execution_count": 42,
   "metadata": {},
   "outputs": [],
   "source": [
    "rec_per_day['_dt_notificacao'] = pd.to_datetime(rec_per_day['_dt_notificacao'], dayfirst=True)"
   ]
  },
  {
   "cell_type": "code",
   "execution_count": 43,
   "metadata": {},
   "outputs": [],
   "source": [
    "rec_per_day_sorted = rec_per_day.sort_values(by='_dt_notificacao')"
   ]
  },
  {
   "cell_type": "code",
   "execution_count": 44,
   "metadata": {},
   "outputs": [],
   "source": [
    "day_rec_group = rec_per_day_sorted[rec_per_day_sorted._conclusao == 'Recuperado'].groupby('_dt_notificacao').count()"
   ]
  },
  {
   "cell_type": "code",
   "execution_count": 45,
   "metadata": {},
   "outputs": [],
   "source": [
    "aux = list(day_rec_group.tail(10).values.flatten())"
   ]
  },
  {
   "cell_type": "code",
   "execution_count": 46,
   "metadata": {},
   "outputs": [
    {
     "data": {
      "text/plain": [
       "Text(0, 0.5, 'Data')"
      ]
     },
     "execution_count": 46,
     "metadata": {},
     "output_type": "execute_result"
    },
    {
     "data": {
      "image/png": "[encoded data removed]",
      "text/plain": [
       "<Figure size 864x432 with 1 Axes>"
      ]
     },
     "metadata": {
      "needs_background": "light"
     },
     "output_type": "display_data"
    }
   ],
   "source": [
    "y_axis = days \n",
    "x_axis = aux\n",
    "  \n",
    "# Figure Size \n",
    "fig, ax = plt.subplots(figsize =(12, 6)) \n",
    "  \n",
    "# Horizontal Bar Plot \n",
    "ax.barh(y_axis, x_axis, color='dimgray') \n",
    "  \n",
    "# Remove axes splines \n",
    "for s in ['top', 'bottom', 'left', 'right']: \n",
    "    ax.spines[s].set_visible(False) \n",
    "\n",
    "# Remove y ticks\n",
    "ax.yaxis.set_ticks_position('none') \n",
    "  \n",
    "# Add padding between axes and labels \n",
    "ax.xaxis.set_tick_params(pad = 5) \n",
    "ax.yaxis.set_tick_params(pad = 10) \n",
    "  \n",
    "# Add x, y gridlines \n",
    "ax.grid(b = True, color ='grey', linestyle ='-.', linewidth = 0.5, alpha = 0.2) \n",
    "  \n",
    "# Show at middle\n",
    "ax.invert_yaxis() \n",
    "  \n",
    "# Add annotation to bars\n",
    "for i in ax.patches:\n",
    "    plt.text(i.get_width()+1.6, i.get_y()+0.5,  \n",
    "             str(i.get_width()), \n",
    "             fontsize = 12, fontweight ='normal', \n",
    "             color = 'black') \n",
    "    \n",
    "# Add Plot Title\n",
    "font = {'fontname':'Corbel'}\n",
    "ax.set_title('Quantidade de casos recuperados por dia', fontsize=18, loc ='center', **font) \n",
    "ax.set_xlabel('qtd. de casos', fontsize=14, **font)\n",
    "ax.set_ylabel('Data', fontsize=15, **font)"
   ]
  },
  {
   "cell_type": "markdown",
   "metadata": {},
   "source": [
    "#### 5 - Construa um histograma que denote a quantidade percentual de casos por grupo etário, considerando que cada grupo contempla uma década (0 a 10 anos, 11 a 20 anos, etc.)."
   ]
  },
  {
   "cell_type": "code",
   "execution_count": 47,
   "metadata": {},
   "outputs": [],
   "source": [
    "#primeiramente, separar os dados por faixa etária:\n",
    "def identify_age_range(elem):\n",
    "    age_group_i = -1\n",
    "    age_range = np.arange(1, np.max(df['_idade'])+10, 10)\n",
    "    age_range[0] = 0\n",
    "    aux = age_range - elem\n",
    "    for index, n in enumerate(aux):\n",
    "        if n > 0:\n",
    "            age_group_i = index - 1\n",
    "            break\n",
    "    return age_group_i\n",
    "str_age_range = ['0-10', '11-20', '21-30', '31-40', '41-50', '51-60', '61-70', '71-80', '81-90', '91-99']\n",
    "\n"
   ]
  },
  {
   "cell_type": "code",
   "execution_count": 48,
   "metadata": {},
   "outputs": [
    {
     "data": {
      "image/png": "[encoded data removed]",
      "text/plain": [
       "<Figure size 720x720 with 1 Axes>"
      ]
     },
     "metadata": {},
     "output_type": "display_data"
    }
   ],
   "source": [
    "#Em seguida elaborar o histograma\n",
    "sns.set(style=\"whitegrid\")\n",
    "fig_dims = (10, 10)\n",
    "fig, ax = plt.subplots(figsize=fig_dims)\n",
    "k = sns.distplot(df['_idade'].apply(identify_age_range).reset_index(drop=True), kde=False, ax=ax, norm_hist=True, bins = np.arange(11), axlabel='Grupo Etário', color='dimgray')\n",
    "k.set_xticks(np.arange(0, 11))\n",
    "_ = k.set_xticklabels(np.arange(0, 101, 10)) "
   ]
  },
  {
   "cell_type": "markdown",
   "metadata": {},
   "source": [
    "#### 6. Elabore um gráfico que mostra o cumulativo de casos notificados ao longo do tempo;"
   ]
  },
  {
   "cell_type": "code",
   "execution_count": 49,
   "metadata": {},
   "outputs": [
    {
     "data": {
      "text/plain": [
       "Text(0.5, 0, 'Data de Notificação')"
      ]
     },
     "execution_count": 49,
     "metadata": {},
     "output_type": "execute_result"
    },
    {
     "data": {
      "image/png": "[encoded data removed]",
      "text/plain": [
       "<Figure size 720x288 with 1 Axes>"
      ]
     },
     "metadata": {},
     "output_type": "display_data"
    }
   ],
   "source": [
    "#primeiramente, calular os casos acumulados a cada dia do dataset\n",
    "dt_notif_df = df['_dt_notificacao'].value_counts(sort=False).sort_index(ascending=True).reset_index()\n",
    "dt_notif_df.columns = ['Data_notificação', 'Casos Acumulados']\n",
    "dt_notif_df['Data_notificação'] = dt_notif_df['Data_notificação'].apply(lambda x: x.strftime('%Y-%m-%d'))\n",
    "pre_df = {}\n",
    "acum = dt_notif_df['Casos Acumulados'][0]\n",
    "pred_df = {dt_notif_df['Data_notificação'][0]: acum}\n",
    "for case in dt_notif_df[1:].iterrows():\n",
    "    acum += case[1]['Casos Acumulados']\n",
    "    pred_df[case[1]['Data_notificação']] = acum\n",
    "#em seguida plottar o gráfico\n",
    "pd.DataFrame(pred_df.values(), index = pred_df.keys()).plot(figsize=(10, 4), \n",
    "                                                            legend=False, \n",
    "                                                            color='dimgray',\n",
    "                                                            #title=\"Cumulativo de casos ao longo do tempo\"\n",
    "                                                           )\n",
    "_ = plt.xticks(rotation=45)\n",
    "plt.ylabel('Casos Acumulados')\n",
    "plt.xlabel('Data de Notificação')"
   ]
  },
  {
   "cell_type": "markdown",
   "metadata": {},
   "source": [
    "#### 6.1 Média móvel dos casos notificados ao longo do tempo"
   ]
  },
  {
   "cell_type": "code",
   "execution_count": 50,
   "metadata": {},
   "outputs": [
    {
     "data": {
      "text/plain": [
       "Text(0.5, 0, 'Data de Notificação')"
      ]
     },
     "execution_count": 50,
     "metadata": {},
     "output_type": "execute_result"
    },
    {
     "data": {
      "image/png": "[encoded data removed]",
      "text/plain": [
       "<Figure size 720x288 with 1 Axes>"
      ]
     },
     "metadata": {},
     "output_type": "display_data"
    }
   ],
   "source": [
    "df.groupby('_dt_notificacao').sum().rolling(5).mean().plot(figsize=(10, 4), \n",
    "                                                            legend=False, \n",
    "                                                            color='dimgray',\n",
    "                                                            #title=\"Média móvel de casos ao longo do tempo\"\n",
    "                                                          )\n",
    "_ = plt.xticks(rotation=45)\n",
    "plt.ylabel('Média Móvel')\n",
    "plt.xlabel('Data de Notificação')"
   ]
  },
  {
   "cell_type": "markdown",
   "metadata": {},
   "source": [
    "#### 7. Faça um gráfico do tipo scatterplot que denote a idade versus o número total de casos registrado para aquela idade. Aproveite o processamento efetuado para o cálculo da correlação. É possível observar alguma tendência?"
   ]
  },
  {
   "cell_type": "code",
   "execution_count": 51,
   "metadata": {},
   "outputs": [
    {
     "data": {
      "text/plain": [
       "<matplotlib.axes._subplots.AxesSubplot at 0x1e150d2b5c8>"
      ]
     },
     "execution_count": 51,
     "metadata": {},
     "output_type": "execute_result"
    },
    {
     "data": {
      "image/png": "[encoded data removed]",
      "text/plain": [
       "<Figure size 432x288 with 1 Axes>"
      ]
     },
     "metadata": {},
     "output_type": "display_data"
    }
   ],
   "source": [
    "scat_idade = df['_idade'].value_counts().reset_index()\n",
    "scat_idade.columns = ['Idade', 'Casos']\n",
    "sns.scatterplot(x=scat_idade['Casos'], y=scat_idade['Idade'], color='dimgray')"
   ]
  },
  {
   "cell_type": "code",
   "execution_count": 52,
   "metadata": {},
   "outputs": [
    {
     "data": {
      "text/plain": [
       "-0.225898427892433"
      ]
     },
     "execution_count": 52,
     "metadata": {},
     "output_type": "execute_result"
    }
   ],
   "source": [
    "scat_idade.corr()['Casos'][0]\n",
    "#negativa e fraca(próxima de 0)\n",
    "#a correlação negativa indica que quanto maior o número de casos, menor a idade, porém não é uma correlação perfeita,\n",
    "#mostrando um comportamento parabólico, ao invés de linear"
   ]
  },
  {
   "cell_type": "code",
   "execution_count": 53,
   "metadata": {},
   "outputs": [
    {
     "data": {
      "text/html": [
       "﻿<!DOCTYPE html PUBLIC \"-//W3C//DTD XHTML 1.0 Transitional//EN\" \"http://www.w3.org/TR/xhtml1/DTD/xhtml1-transitional.dtd\">\r\n",
       "<html xmlns=\"http://www.w3.org/1999/xhtml\">\r\n",
       "<head>\r\n",
       "    <meta http-equiv=\"Content-Type\" content=\"text/html; charset=utf-8\" />\r\n",
       "    <title>IBGE - Pirâmide Etária - Manaus (AM) - 2010</title>\r\n",
       "    <style type=\"text/css\">\r\n",
       "    \tbody\r\n",
       "\t\t{\r\n",
       "\t\t\tmargin: 0;\r\n",
       "\t\t\tpadding: 0;\r\n",
       "\t\t}\r\n",
       "    </style>\r\n",
       "\t<script language=\"javascript\" src=\"https://www.ibge.gov.br/home/js/inc_GA_portal.js\"></script>\r\n",
       "</head>\r\n",
       "\r\n",
       "<body marginheight=\"0\" marginwidth=\"0\" topmargin=\"0\" bottommargin=\"0\" leftmargin=\"0\" rightmargin=\"0\">\r\n",
       "\t<table style=\"font-family: Arial, Helvetica, sans; font-size: 10px;\" cellspacing=\"1\" cellpadding=\"1\">\r\n",
       "        <form name=\"form1\" action=\"frm_piramide.php\" method=\"get\" style=\"margin:0; padding:0;\">\r\n",
       "\t\t<tr>\r\n",
       "        \t<th colspan=\"5\" style=\"font-size: 15px; padding: 5px;\">\r\n",
       "            \tDistribuição da população por sexo, segundo os grupos de idade<br />\r\n",
       "\t\t\t\tManaus (AM) - \r\n",
       "                <select name=\"ano\" onChange=\"submit();\">\r\n",
       "                    <option value=\"2010\" selected=\"selected\">2010</option>\r\n",
       "                    <option value=\"2000\" >2000</option>\r\n",
       "                    <!--\r\n",
       "                    <option value=\"1991\" >1991</option>\r\n",
       "                    <option value=\"1980\" >1980</option>\r\n",
       "                    <option value=\"1970\" >1970</option>\r\n",
       "                    -->\r\n",
       "                </select>\r\n",
       "                <noscript>\r\n",
       "                    <input type=\"submit\" value=\"ok\" />\r\n",
       "                </noscript>\r\n",
       "            </th>\r\n",
       "        </tr>\r\n",
       "        <input type=\"hidden\" name=\"codigo\" value=\"130260\" />\r\n",
       "        <input type=\"hidden\" name=\"corhomem\" value=\"3d4590\" />\r\n",
       "        <input type=\"hidden\" name=\"cormulher\" value=\"9cdbfc\" />\r\n",
       "        <input type=\"hidden\" name=\"wmaxbarra\" value=\"180\" />\r\n",
       "        </form>\r\n",
       "\t\t<tr style=\"background-color: #EEEEEE;\"><th class=\"grupo\" align=\"right\" valign=\"middle\" width=\"100\">Mais de 100 anos</th><td class=\"vHomem\" align=\"right\" valign=\"middle\" width=\"60\">61</td><td class=\"barraHomem\" align=\"right\" valign=\"middle\" width=\"220\"><div style=\"background-color:#3d4590; height: 15px; width: 0px; float: right;\" title=\"Homens de Mais de 100 anos: 61 habitantes (0,0% do total)\" ></div><span style=\"margin-right: 3px;\">0,0%</span></td><td class=\"barraMulher\" align=\"left\" valign=\"middle\" width=\"220\"><div style=\"background-color:#9cdbfc; height: 15px; width: 0px; float: left;\" title=\"Mulheres de Mais de 100 anos: 111 habitantes (0,0% do total)\" ></div><span style=\"margin-left: 3px;\">0,0%</span></td><td class=\"vMulher\" align=\"right\" valign=\"middle\" width=\"60\">111</td></tr><tr style=\"background-color: #FFFFFF;\"><th class=\"grupo\" align=\"right\" valign=\"middle\" width=\"100\">95 a 99 anos</th><td class=\"vHomem\" align=\"right\" valign=\"middle\" width=\"60\">151</td><td class=\"barraHomem\" align=\"right\" valign=\"middle\" width=\"220\"><div style=\"background-color:#3d4590; height: 15px; width: 0px; float: right;\" title=\"Homens de 95 a 99 anos: 151 habitantes (0,0% do total)\" ></div><span style=\"margin-right: 3px;\">0,0%</span></td><td class=\"barraMulher\" align=\"left\" valign=\"middle\" width=\"220\"><div style=\"background-color:#9cdbfc; height: 15px; width: 1px; float: left;\" title=\"Mulheres de 95 a 99 anos: 400 habitantes (0,0% do total)\" ></div><span style=\"margin-left: 3px;\">0,0%</span></td><td class=\"vMulher\" align=\"right\" valign=\"middle\" width=\"60\">400</td></tr><tr style=\"background-color: #EEEEEE;\"><th class=\"grupo\" align=\"right\" valign=\"middle\" width=\"100\">90 a 94 anos</th><td class=\"vHomem\" align=\"right\" valign=\"middle\" width=\"60\">501</td><td class=\"barraHomem\" align=\"right\" valign=\"middle\" width=\"220\"><div style=\"background-color:#3d4590; height: 15px; width: 1px; float: right;\" title=\"Homens de 90 a 94 anos: 501 habitantes (0,0% do total)\" ></div><span style=\"margin-right: 3px;\">0,0%</span></td><td class=\"barraMulher\" align=\"left\" valign=\"middle\" width=\"220\"><div style=\"background-color:#9cdbfc; height: 15px; width: 2px; float: left;\" title=\"Mulheres de 90 a 94 anos: 1.056 habitantes (0,1% do total)\" ></div><span style=\"margin-left: 3px;\">0,1%</span></td><td class=\"vMulher\" align=\"right\" valign=\"middle\" width=\"60\">1.056</td></tr><tr style=\"background-color: #FFFFFF;\"><th class=\"grupo\" align=\"right\" valign=\"middle\" width=\"100\">85 a 89 anos</th><td class=\"vHomem\" align=\"right\" valign=\"middle\" width=\"60\">1.371</td><td class=\"barraHomem\" align=\"right\" valign=\"middle\" width=\"220\"><div style=\"background-color:#3d4590; height: 15px; width: 3px; float: right;\" title=\"Homens de 85 a 89 anos: 1.371 habitantes (0,1% do total)\" ></div><span style=\"margin-right: 3px;\">0,1%</span></td><td class=\"barraMulher\" align=\"left\" valign=\"middle\" width=\"220\"><div style=\"background-color:#9cdbfc; height: 15px; width: 5px; float: left;\" title=\"Mulheres de 85 a 89 anos: 2.502 habitantes (0,1% do total)\" ></div><span style=\"margin-left: 3px;\">0,1%</span></td><td class=\"vMulher\" align=\"right\" valign=\"middle\" width=\"60\">2.502</td></tr><tr style=\"background-color: #EEEEEE;\"><th class=\"grupo\" align=\"right\" valign=\"middle\" width=\"100\">80 a 84 anos</th><td class=\"vHomem\" align=\"right\" valign=\"middle\" width=\"60\">2.922</td><td class=\"barraHomem\" align=\"right\" valign=\"middle\" width=\"220\"><div style=\"background-color:#3d4590; height: 15px; width: 6px; float: right;\" title=\"Homens de 80 a 84 anos: 2.922 habitantes (0,2% do total)\" ></div><span style=\"margin-right: 3px;\">0,2%</span></td><td class=\"barraMulher\" align=\"left\" valign=\"middle\" width=\"220\"><div style=\"background-color:#9cdbfc; height: 15px; width: 9px; float: left;\" title=\"Mulheres de 80 a 84 anos: 4.716 habitantes (0,3% do total)\" ></div><span style=\"margin-left: 3px;\">0,3%</span></td><td class=\"vMulher\" align=\"right\" valign=\"middle\" width=\"60\">4.716</td></tr><tr style=\"background-color: #FFFFFF;\"><th class=\"grupo\" align=\"right\" valign=\"middle\" width=\"100\">75 a 79 anos</th><td class=\"vHomem\" align=\"right\" valign=\"middle\" width=\"60\">4.894</td><td class=\"barraHomem\" align=\"right\" valign=\"middle\" width=\"220\"><div style=\"background-color:#3d4590; height: 15px; width: 9px; float: right;\" title=\"Homens de 75 a 79 anos: 4.894 habitantes (0,3% do total)\" ></div><span style=\"margin-right: 3px;\">0,3%</span></td><td class=\"barraMulher\" align=\"left\" valign=\"middle\" width=\"220\"><div style=\"background-color:#9cdbfc; height: 15px; width: 14px; float: left;\" title=\"Mulheres de 75 a 79 anos: 7.254 habitantes (0,4% do total)\" ></div><span style=\"margin-left: 3px;\">0,4%</span></td><td class=\"vMulher\" align=\"right\" valign=\"middle\" width=\"60\">7.254</td></tr><tr style=\"background-color: #EEEEEE;\"><th class=\"grupo\" align=\"right\" valign=\"middle\" width=\"100\">70 a 74 anos</th><td class=\"vHomem\" align=\"right\" valign=\"middle\" width=\"60\">7.964</td><td class=\"barraHomem\" align=\"right\" valign=\"middle\" width=\"220\"><div style=\"background-color:#3d4590; height: 15px; width: 15px; float: right;\" title=\"Homens de 70 a 74 anos: 7.964 habitantes (0,4% do total)\" ></div><span style=\"margin-right: 3px;\">0,4%</span></td><td class=\"barraMulher\" align=\"left\" valign=\"middle\" width=\"220\"><div style=\"background-color:#9cdbfc; height: 15px; width: 20px; float: left;\" title=\"Mulheres de 70 a 74 anos: 10.483 habitantes (0,6% do total)\" ></div><span style=\"margin-left: 3px;\">0,6%</span></td><td class=\"vMulher\" align=\"right\" valign=\"middle\" width=\"60\">10.483</td></tr><tr style=\"background-color: #FFFFFF;\"><th class=\"grupo\" align=\"right\" valign=\"middle\" width=\"100\">65 a 69 anos</th><td class=\"vHomem\" align=\"right\" valign=\"middle\" width=\"60\">11.484</td><td class=\"barraHomem\" align=\"right\" valign=\"middle\" width=\"220\"><div style=\"background-color:#3d4590; height: 15px; width: 22px; float: right;\" title=\"Homens de 65 a 69 anos: 11.484 habitantes (0,6% do total)\" ></div><span style=\"margin-right: 3px;\">0,6%</span></td><td class=\"barraMulher\" align=\"left\" valign=\"middle\" width=\"220\"><div style=\"background-color:#9cdbfc; height: 15px; width: 27px; float: left;\" title=\"Mulheres de 65 a 69 anos: 14.158 habitantes (0,8% do total)\" ></div><span style=\"margin-left: 3px;\">0,8%</span></td><td class=\"vMulher\" align=\"right\" valign=\"middle\" width=\"60\">14.158</td></tr><tr style=\"background-color: #EEEEEE;\"><th class=\"grupo\" align=\"right\" valign=\"middle\" width=\"100\">60 a 64 anos</th><td class=\"vHomem\" align=\"right\" valign=\"middle\" width=\"60\">17.532</td><td class=\"barraHomem\" align=\"right\" valign=\"middle\" width=\"220\"><div style=\"background-color:#3d4590; height: 15px; width: 33px; float: right;\" title=\"Homens de 60 a 64 anos: 17.532 habitantes (1,0% do total)\" ></div><span style=\"margin-right: 3px;\">1,0%</span></td><td class=\"barraMulher\" align=\"left\" valign=\"middle\" width=\"220\"><div style=\"background-color:#9cdbfc; height: 15px; width: 39px; float: left;\" title=\"Mulheres de 60 a 64 anos: 20.521 habitantes (1,1% do total)\" ></div><span style=\"margin-left: 3px;\">1,1%</span></td><td class=\"vMulher\" align=\"right\" valign=\"middle\" width=\"60\">20.521</td></tr><tr style=\"background-color: #FFFFFF;\"><th class=\"grupo\" align=\"right\" valign=\"middle\" width=\"100\">55 a 59 anos</th><td class=\"vHomem\" align=\"right\" valign=\"middle\" width=\"60\">25.738</td><td class=\"barraHomem\" align=\"right\" valign=\"middle\" width=\"220\"><div style=\"background-color:#3d4590; height: 15px; width: 49px; float: right;\" title=\"Homens de 55 a 59 anos: 25.738 habitantes (1,4% do total)\" ></div><span style=\"margin-right: 3px;\">1,4%</span></td><td class=\"barraMulher\" align=\"left\" valign=\"middle\" width=\"220\"><div style=\"background-color:#9cdbfc; height: 15px; width: 54px; float: left;\" title=\"Mulheres de 55 a 59 anos: 28.589 habitantes (1,6% do total)\" ></div><span style=\"margin-left: 3px;\">1,6%</span></td><td class=\"vMulher\" align=\"right\" valign=\"middle\" width=\"60\">28.589</td></tr><tr style=\"background-color: #EEEEEE;\"><th class=\"grupo\" align=\"right\" valign=\"middle\" width=\"100\">50 a 54 anos</th><td class=\"vHomem\" align=\"right\" valign=\"middle\" width=\"60\">35.802</td><td class=\"barraHomem\" align=\"right\" valign=\"middle\" width=\"220\"><div style=\"background-color:#3d4590; height: 15px; width: 68px; float: right;\" title=\"Homens de 50 a 54 anos: 35.802 habitantes (2,0% do total)\" ></div><span style=\"margin-right: 3px;\">2,0%</span></td><td class=\"barraMulher\" align=\"left\" valign=\"middle\" width=\"220\"><div style=\"background-color:#9cdbfc; height: 15px; width: 74px; float: left;\" title=\"Mulheres de 50 a 54 anos: 38.942 habitantes (2,2% do total)\" ></div><span style=\"margin-left: 3px;\">2,2%</span></td><td class=\"vMulher\" align=\"right\" valign=\"middle\" width=\"60\">38.942</td></tr><tr style=\"background-color: #FFFFFF;\"><th class=\"grupo\" align=\"right\" valign=\"middle\" width=\"100\">45 a 49 anos</th><td class=\"vHomem\" align=\"right\" valign=\"middle\" width=\"60\">45.309</td><td class=\"barraHomem\" align=\"right\" valign=\"middle\" width=\"220\"><div style=\"background-color:#3d4590; height: 15px; width: 86px; float: right;\" title=\"Homens de 45 a 49 anos: 45.309 habitantes (2,5% do total)\" ></div><span style=\"margin-right: 3px;\">2,5%</span></td><td class=\"barraMulher\" align=\"left\" valign=\"middle\" width=\"220\"><div style=\"background-color:#9cdbfc; height: 15px; width: 90px; float: left;\" title=\"Mulheres de 45 a 49 anos: 47.683 habitantes (2,6% do total)\" ></div><span style=\"margin-left: 3px;\">2,6%</span></td><td class=\"vMulher\" align=\"right\" valign=\"middle\" width=\"60\">47.683</td></tr><tr style=\"background-color: #EEEEEE;\"><th class=\"grupo\" align=\"right\" valign=\"middle\" width=\"100\">40 a 44 anos</th><td class=\"vHomem\" align=\"right\" valign=\"middle\" width=\"60\">56.625</td><td class=\"barraHomem\" align=\"right\" valign=\"middle\" width=\"220\"><div style=\"background-color:#3d4590; height: 15px; width: 107px; float: right;\" title=\"Homens de 40 a 44 anos: 56.625 habitantes (3,1% do total)\" ></div><span style=\"margin-right: 3px;\">3,1%</span></td><td class=\"barraMulher\" align=\"left\" valign=\"middle\" width=\"220\"><div style=\"background-color:#9cdbfc; height: 15px; width: 110px; float: left;\" title=\"Mulheres de 40 a 44 anos: 58.283 habitantes (3,2% do total)\" ></div><span style=\"margin-left: 3px;\">3,2%</span></td><td class=\"vMulher\" align=\"right\" valign=\"middle\" width=\"60\">58.283</td></tr><tr style=\"background-color: #FFFFFF;\"><th class=\"grupo\" align=\"right\" valign=\"middle\" width=\"100\">35 a 39 anos</th><td class=\"vHomem\" align=\"right\" valign=\"middle\" width=\"60\">67.048</td><td class=\"barraHomem\" align=\"right\" valign=\"middle\" width=\"220\"><div style=\"background-color:#3d4590; height: 15px; width: 127px; float: right;\" title=\"Homens de 35 a 39 anos: 67.048 habitantes (3,7% do total)\" ></div><span style=\"margin-right: 3px;\">3,7%</span></td><td class=\"barraMulher\" align=\"left\" valign=\"middle\" width=\"220\"><div style=\"background-color:#9cdbfc; height: 15px; width: 136px; float: left;\" title=\"Mulheres de 35 a 39 anos: 71.694 habitantes (4,0% do total)\" ></div><span style=\"margin-left: 3px;\">4,0%</span></td><td class=\"vMulher\" align=\"right\" valign=\"middle\" width=\"60\">71.694</td></tr><tr style=\"background-color: #EEEEEE;\"><th class=\"grupo\" align=\"right\" valign=\"middle\" width=\"100\">30 a 34 anos</th><td class=\"vHomem\" align=\"right\" valign=\"middle\" width=\"60\">81.086</td><td class=\"barraHomem\" align=\"right\" valign=\"middle\" width=\"220\"><div style=\"background-color:#3d4590; height: 15px; width: 153px; float: right;\" title=\"Homens de 30 a 34 anos: 81.086 habitantes (4,5% do total)\" ></div><span style=\"margin-right: 3px;\">4,5%</span></td><td class=\"barraMulher\" align=\"left\" valign=\"middle\" width=\"220\"><div style=\"background-color:#9cdbfc; height: 15px; width: 164px; float: left;\" title=\"Mulheres de 30 a 34 anos: 86.810 habitantes (4,8% do total)\" ></div><span style=\"margin-left: 3px;\">4,8%</span></td><td class=\"vMulher\" align=\"right\" valign=\"middle\" width=\"60\">86.810</td></tr><tr style=\"background-color: #FFFFFF;\"><th class=\"grupo\" align=\"right\" valign=\"middle\" width=\"100\">25 a 29 anos</th><td class=\"vHomem\" align=\"right\" valign=\"middle\" width=\"60\">89.991</td><td class=\"barraHomem\" align=\"right\" valign=\"middle\" width=\"220\"><div style=\"background-color:#3d4590; height: 15px; width: 170px; float: right;\" title=\"Homens de 25 a 29 anos: 89.991 habitantes (5,0% do total)\" ></div><span style=\"margin-right: 3px;\">5,0%</span></td><td class=\"barraMulher\" align=\"left\" valign=\"middle\" width=\"220\"><div style=\"background-color:#9cdbfc; height: 15px; width: 180px; float: left;\" title=\"Mulheres de 25 a 29 anos: 95.173 habitantes (5,3% do total)\" ></div><span style=\"margin-left: 3px;\">5,3%</span></td><td class=\"vMulher\" align=\"right\" valign=\"middle\" width=\"60\">95.173</td></tr><tr style=\"background-color: #EEEEEE;\"><th class=\"grupo\" align=\"right\" valign=\"middle\" width=\"100\">20 a 24 anos</th><td class=\"vHomem\" align=\"right\" valign=\"middle\" width=\"60\">88.051</td><td class=\"barraHomem\" align=\"right\" valign=\"middle\" width=\"220\"><div style=\"background-color:#3d4590; height: 15px; width: 167px; float: right;\" title=\"Homens de 20 a 24 anos: 88.051 habitantes (4,9% do total)\" ></div><span style=\"margin-right: 3px;\">4,9%</span></td><td class=\"barraMulher\" align=\"left\" valign=\"middle\" width=\"220\"><div style=\"background-color:#9cdbfc; height: 15px; width: 175px; float: left;\" title=\"Mulheres de 20 a 24 anos: 92.632 habitantes (5,1% do total)\" ></div><span style=\"margin-left: 3px;\">5,1%</span></td><td class=\"vMulher\" align=\"right\" valign=\"middle\" width=\"60\">92.632</td></tr><tr style=\"background-color: #FFFFFF;\"><th class=\"grupo\" align=\"right\" valign=\"middle\" width=\"100\">15 a 19 anos</th><td class=\"vHomem\" align=\"right\" valign=\"middle\" width=\"60\">85.459</td><td class=\"barraHomem\" align=\"right\" valign=\"middle\" width=\"220\"><div style=\"background-color:#3d4590; height: 15px; width: 162px; float: right;\" title=\"Homens de 15 a 19 anos: 85.459 habitantes (4,7% do total)\" ></div><span style=\"margin-right: 3px;\">4,7%</span></td><td class=\"barraMulher\" align=\"left\" valign=\"middle\" width=\"220\"><div style=\"background-color:#9cdbfc; height: 15px; width: 170px; float: left;\" title=\"Mulheres de 15 a 19 anos: 90.056 habitantes (5,0% do total)\" ></div><span style=\"margin-left: 3px;\">5,0%</span></td><td class=\"vMulher\" align=\"right\" valign=\"middle\" width=\"60\">90.056</td></tr><tr style=\"background-color: #EEEEEE;\"><th class=\"grupo\" align=\"right\" valign=\"middle\" width=\"100\">10 a 14 anos</th><td class=\"vHomem\" align=\"right\" valign=\"middle\" width=\"60\">90.583</td><td class=\"barraHomem\" align=\"right\" valign=\"middle\" width=\"220\"><div style=\"background-color:#3d4590; height: 15px; width: 171px; float: right;\" title=\"Homens de 10 a 14 anos: 90.583 habitantes (5,0% do total)\" ></div><span style=\"margin-right: 3px;\">5,0%</span></td><td class=\"barraMulher\" align=\"left\" valign=\"middle\" width=\"220\"><div style=\"background-color:#9cdbfc; height: 15px; width: 170px; float: left;\" title=\"Mulheres de 10 a 14 anos: 89.948 habitantes (5,0% do total)\" ></div><span style=\"margin-left: 3px;\">5,0%</span></td><td class=\"vMulher\" align=\"right\" valign=\"middle\" width=\"60\">89.948</td></tr><tr style=\"background-color: #FFFFFF;\"><th class=\"grupo\" align=\"right\" valign=\"middle\" width=\"100\">5 a 9 anos</th><td class=\"vHomem\" align=\"right\" valign=\"middle\" width=\"60\">84.622</td><td class=\"barraHomem\" align=\"right\" valign=\"middle\" width=\"220\"><div style=\"background-color:#3d4590; height: 15px; width: 160px; float: right;\" title=\"Homens de 5 a 9 anos: 84.622 habitantes (4,7% do total)\" ></div><span style=\"margin-right: 3px;\">4,7%</span></td><td class=\"barraMulher\" align=\"left\" valign=\"middle\" width=\"220\"><div style=\"background-color:#9cdbfc; height: 15px; width: 154px; float: left;\" title=\"Mulheres de 5 a 9 anos: 81.289 habitantes (4,5% do total)\" ></div><span style=\"margin-left: 3px;\">4,5%</span></td><td class=\"vMulher\" align=\"right\" valign=\"middle\" width=\"60\">81.289</td></tr><tr style=\"background-color: #EEEEEE;\"><th class=\"grupo\" align=\"right\" valign=\"middle\" width=\"100\">0 a 4 anos</th><td class=\"vHomem\" align=\"right\" valign=\"middle\" width=\"60\">82.548</td><td class=\"barraHomem\" align=\"right\" valign=\"middle\" width=\"220\"><div style=\"background-color:#3d4590; height: 15px; width: 156px; float: right;\" title=\"Homens de 0 a 4 anos: 82.548 habitantes (4,6% do total)\" ></div><span style=\"margin-right: 3px;\">4,6%</span></td><td class=\"barraMulher\" align=\"left\" valign=\"middle\" width=\"220\"><div style=\"background-color:#9cdbfc; height: 15px; width: 151px; float: left;\" title=\"Mulheres de 0 a 4 anos: 79.972 habitantes (4,4% do total)\" ></div><span style=\"margin-left: 3px;\">4,4%</span></td><td class=\"vMulher\" align=\"right\" valign=\"middle\" width=\"60\">79.972</td></tr><tr>\r\n",
       "                <td colspan=\"2\"></td>\r\n",
       "                <td align=\"right\" valign=\"middle\"><div style=\"background-color:#3d4590; margin-right: 5px; height: 15px; width: 20px; float: right;\"></div><span style=\"margin-right: 5px;\">Homens</span></td>\r\n",
       "                <td align=\"left\" valign=\"middle\"><div style=\"background-color:#9cdbfc; margin-left: 5px; height: 15px; width: 20px; float:left;\"></div><span style=\"margin-left: 5px;\">Mulheres</span></td>\r\n",
       "                <td></td>\r\n",
       "              </tr></table></body>\r\n",
       "</html>\r\n",
       "\r\n"
      ],
      "text/plain": [
       "<IPython.core.display.HTML object>"
      ]
     },
     "execution_count": 53,
     "metadata": {},
     "output_type": "execute_result"
    }
   ],
   "source": [
    "import IPython\n",
    "IPython.display.HTML(url = 'https://censo2010.ibge.gov.br/sinopse/webservice/frm_piramide.php?codigo=130260&corhomem=3d4590&cormulher=9cdbfc')"
   ]
  },
  {
   "cell_type": "raw",
   "metadata": {},
   "source": [
    "Ao comparar a pirâmide etária de Manaus e o scatter plot, percebemos que as pessoas entre 20 e 60 anos correspondiam a aproximadamente 86% de todos os casos para este dataset, e representam 56% da população. Essa diferença pode representar que: O dataset não era grande o suficiente para abrangir uma quantidade maior de pessoas das outras faixas etárias, ou é possível criar a hipótese de que esse grupo de pessoas foram os mais expostos por conta de ser o corpo trabalhador da cidade e, como o isolamento social não foi de acordo com o recomendado (70%), chegando ao pico de 60% em 18 de abril, estes continuaram circulando pela cidade, sendo mais contaminados pelo vírus."
   ]
  },
  {
   "cell_type": "markdown",
   "metadata": {},
   "source": [
    "## Proposições"
   ]
  },
  {
   "cell_type": "markdown",
   "metadata": {},
   "source": [
    "#### 1 - Uma tarefa de classificação mediante Aprendizado Supervisionado que poderia ser feita com esta base de dados. Qual seria o atributo-alvo? Quais métricas de desempenho poderiam ser aplicadas? Que tipo de validação seria apropriado?"
   ]
  },
  {
   "cell_type": "code",
   "execution_count": 54,
   "metadata": {},
   "outputs": [
    {
     "data": {
      "text/html": [
       "<div>\n",
       "<style scoped>\n",
       "    .dataframe tbody tr th:only-of-type {\n",
       "        vertical-align: middle;\n",
       "    }\n",
       "\n",
       "    .dataframe tbody tr th {\n",
       "        vertical-align: top;\n",
       "    }\n",
       "\n",
       "    .dataframe thead th {\n",
       "        text-align: right;\n",
       "    }\n",
       "</style>\n",
       "<table border=\"1\" class=\"dataframe\">\n",
       "  <thead>\n",
       "    <tr style=\"text-align: right;\">\n",
       "      <th></th>\n",
       "      <th>_idade</th>\n",
       "      <th>_faixa etária</th>\n",
       "      <th>_sexo</th>\n",
       "      <th>_bairro</th>\n",
       "      <th>_classificacao</th>\n",
       "      <th>_comorb_renal</th>\n",
       "      <th>_comorb_diabetes</th>\n",
       "      <th>_comorb_imuno</th>\n",
       "      <th>_comorb_cardio</th>\n",
       "      <th>_conclusao</th>\n",
       "      <th>...</th>\n",
       "      <th>_distrito</th>\n",
       "      <th>_bairro_mapa</th>\n",
       "      <th>_comorb_respiratoria</th>\n",
       "      <th>_comorb_cromossomica</th>\n",
       "      <th>_comorb_hepatica</th>\n",
       "      <th>_comorb_neurologica</th>\n",
       "      <th>_comorb_hemato</th>\n",
       "      <th>_comorb_obessidade</th>\n",
       "      <th>_origem</th>\n",
       "      <th>_evolução</th>\n",
       "    </tr>\n",
       "  </thead>\n",
       "  <tbody>\n",
       "    <tr>\n",
       "      <th>0</th>\n",
       "      <td>37.0</td>\n",
       "      <td>30a - 39a</td>\n",
       "      <td>F</td>\n",
       "      <td>CONJ. CIDADAO 10</td>\n",
       "      <td>Confirmado</td>\n",
       "      <td>Não</td>\n",
       "      <td>Não</td>\n",
       "      <td>Não</td>\n",
       "      <td>Não</td>\n",
       "      <td>NaN</td>\n",
       "      <td>...</td>\n",
       "      <td>OESTE</td>\n",
       "      <td>TARUMÃ</td>\n",
       "      <td>Não</td>\n",
       "      <td>Não</td>\n",
       "      <td>NaN</td>\n",
       "      <td>NaN</td>\n",
       "      <td>NaN</td>\n",
       "      <td>NaN</td>\n",
       "      <td>eSUS VE,</td>\n",
       "      <td>NaN</td>\n",
       "    </tr>\n",
       "    <tr>\n",
       "      <th>2</th>\n",
       "      <td>51.0</td>\n",
       "      <td>50a - 59a</td>\n",
       "      <td>F</td>\n",
       "      <td>NaN</td>\n",
       "      <td>Confirmado</td>\n",
       "      <td>Não</td>\n",
       "      <td>Não</td>\n",
       "      <td>Não</td>\n",
       "      <td>Não</td>\n",
       "      <td>NaN</td>\n",
       "      <td>...</td>\n",
       "      <td>NaN</td>\n",
       "      <td>NaN</td>\n",
       "      <td>Não</td>\n",
       "      <td>Não</td>\n",
       "      <td>NaN</td>\n",
       "      <td>NaN</td>\n",
       "      <td>NaN</td>\n",
       "      <td>NaN</td>\n",
       "      <td>eSUS VE,</td>\n",
       "      <td>NaN</td>\n",
       "    </tr>\n",
       "    <tr>\n",
       "      <th>3</th>\n",
       "      <td>74.0</td>\n",
       "      <td>70a - 79a</td>\n",
       "      <td>M</td>\n",
       "      <td>NaN</td>\n",
       "      <td>Confirmado</td>\n",
       "      <td>Não</td>\n",
       "      <td>Não</td>\n",
       "      <td>Não</td>\n",
       "      <td>Não</td>\n",
       "      <td>NaN</td>\n",
       "      <td>...</td>\n",
       "      <td>NaN</td>\n",
       "      <td>NaN</td>\n",
       "      <td>Não</td>\n",
       "      <td>Não</td>\n",
       "      <td>NaN</td>\n",
       "      <td>NaN</td>\n",
       "      <td>NaN</td>\n",
       "      <td>NaN</td>\n",
       "      <td>eSUS VE,</td>\n",
       "      <td>NaN</td>\n",
       "    </tr>\n",
       "    <tr>\n",
       "      <th>4</th>\n",
       "      <td>51.0</td>\n",
       "      <td>50a - 59a</td>\n",
       "      <td>F</td>\n",
       "      <td>ALEIXO</td>\n",
       "      <td>Confirmado</td>\n",
       "      <td>Não</td>\n",
       "      <td>Não</td>\n",
       "      <td>Não</td>\n",
       "      <td>Não</td>\n",
       "      <td>NaN</td>\n",
       "      <td>...</td>\n",
       "      <td>SUL</td>\n",
       "      <td>ALEIXO</td>\n",
       "      <td>Não</td>\n",
       "      <td>Não</td>\n",
       "      <td>NaN</td>\n",
       "      <td>NaN</td>\n",
       "      <td>NaN</td>\n",
       "      <td>NaN</td>\n",
       "      <td>eSUS VE,</td>\n",
       "      <td>NaN</td>\n",
       "    </tr>\n",
       "    <tr>\n",
       "      <th>5</th>\n",
       "      <td>53.0</td>\n",
       "      <td>50a - 59a</td>\n",
       "      <td>M</td>\n",
       "      <td>PARQUE10</td>\n",
       "      <td>Confirmado</td>\n",
       "      <td>Não</td>\n",
       "      <td>Não</td>\n",
       "      <td>Não</td>\n",
       "      <td>Não</td>\n",
       "      <td>NaN</td>\n",
       "      <td>...</td>\n",
       "      <td>SUL</td>\n",
       "      <td>PARQUE 10 DE NOVEMBRO</td>\n",
       "      <td>Não</td>\n",
       "      <td>Não</td>\n",
       "      <td>NaN</td>\n",
       "      <td>NaN</td>\n",
       "      <td>NaN</td>\n",
       "      <td>NaN</td>\n",
       "      <td>eSUS VE,</td>\n",
       "      <td>NaN</td>\n",
       "    </tr>\n",
       "  </tbody>\n",
       "</table>\n",
       "<p>5 rows × 36 columns</p>\n",
       "</div>"
      ],
      "text/plain": [
       "   _idade _faixa etária _sexo           _bairro _classificacao _comorb_renal  \\\n",
       "0    37.0     30a - 39a     F  CONJ. CIDADAO 10     Confirmado           Não   \n",
       "2    51.0     50a - 59a     F               NaN     Confirmado           Não   \n",
       "3    74.0     70a - 79a     M               NaN     Confirmado           Não   \n",
       "4    51.0     50a - 59a     F            ALEIXO     Confirmado           Não   \n",
       "5    53.0     50a - 59a     M          PARQUE10     Confirmado           Não   \n",
       "\n",
       "  _comorb_diabetes _comorb_imuno _comorb_cardio _conclusao  ... _distrito  \\\n",
       "0              Não           Não            Não        NaN  ...     OESTE   \n",
       "2              Não           Não            Não        NaN  ...       NaN   \n",
       "3              Não           Não            Não        NaN  ...       NaN   \n",
       "4              Não           Não            Não        NaN  ...       SUL   \n",
       "5              Não           Não            Não        NaN  ...       SUL   \n",
       "\n",
       "            _bairro_mapa _comorb_respiratoria _comorb_cromossomica  \\\n",
       "0                 TARUMÃ                  Não                  Não   \n",
       "2                    NaN                  Não                  Não   \n",
       "3                    NaN                  Não                  Não   \n",
       "4                 ALEIXO                  Não                  Não   \n",
       "5  PARQUE 10 DE NOVEMBRO                  Não                  Não   \n",
       "\n",
       "  _comorb_hepatica _comorb_neurologica _comorb_hemato _comorb_obessidade  \\\n",
       "0              NaN                 NaN            NaN                NaN   \n",
       "2              NaN                 NaN            NaN                NaN   \n",
       "3              NaN                 NaN            NaN                NaN   \n",
       "4              NaN                 NaN            NaN                NaN   \n",
       "5              NaN                 NaN            NaN                NaN   \n",
       "\n",
       "     _origem _evolução  \n",
       "0  eSUS VE,        NaN  \n",
       "2  eSUS VE,        NaN  \n",
       "3  eSUS VE,        NaN  \n",
       "4  eSUS VE,        NaN  \n",
       "5  eSUS VE,        NaN  \n",
       "\n",
       "[5 rows x 36 columns]"
      ]
     },
     "execution_count": 54,
     "metadata": {},
     "output_type": "execute_result"
    }
   ],
   "source": [
    "#reanalisar o dataset de forma integral\n",
    "df = pd.read_csv('../config/dataset_covid_manaus.csv', sep = ';', encoding='latin-1') \n",
    "#Foi feita uma conversão das colunas com datas de strings para o objetos timestamps.\n",
    "df = df[df['_classificacao'] == 'Confirmado']\n",
    "df.head()"
   ]
  },
  {
   "cell_type": "code",
   "execution_count": 55,
   "metadata": {},
   "outputs": [
    {
     "data": {
      "text/html": [
       "<div>\n",
       "<style scoped>\n",
       "    .dataframe tbody tr th:only-of-type {\n",
       "        vertical-align: middle;\n",
       "    }\n",
       "\n",
       "    .dataframe tbody tr th {\n",
       "        vertical-align: top;\n",
       "    }\n",
       "\n",
       "    .dataframe thead th {\n",
       "        text-align: right;\n",
       "    }\n",
       "</style>\n",
       "<table border=\"1\" class=\"dataframe\">\n",
       "  <thead>\n",
       "    <tr style=\"text-align: right;\">\n",
       "      <th></th>\n",
       "      <th>_idade</th>\n",
       "      <th>_sintoma_garganta</th>\n",
       "      <th>_sintoma_dispneia</th>\n",
       "      <th>_sintoma_febre</th>\n",
       "      <th>_sintoma_tosse</th>\n",
       "      <th>_sintoma_outros</th>\n",
       "      <th>_evolução</th>\n",
       "    </tr>\n",
       "  </thead>\n",
       "  <tbody>\n",
       "    <tr>\n",
       "      <th>80245</th>\n",
       "      <td>46.0</td>\n",
       "      <td>Sim</td>\n",
       "      <td>Não</td>\n",
       "      <td>Sim</td>\n",
       "      <td>Sim</td>\n",
       "      <td>Sim</td>\n",
       "      <td>Em tratamento domiciliar</td>\n",
       "    </tr>\n",
       "    <tr>\n",
       "      <th>80263</th>\n",
       "      <td>1.0</td>\n",
       "      <td>Não</td>\n",
       "      <td>Não</td>\n",
       "      <td>Não</td>\n",
       "      <td>Não</td>\n",
       "      <td>Sim</td>\n",
       "      <td>Em tratamento domiciliar</td>\n",
       "    </tr>\n",
       "    <tr>\n",
       "      <th>80271</th>\n",
       "      <td>10.0</td>\n",
       "      <td>Não</td>\n",
       "      <td>Não</td>\n",
       "      <td>Não</td>\n",
       "      <td>Não</td>\n",
       "      <td>Sim</td>\n",
       "      <td>Em tratamento domiciliar</td>\n",
       "    </tr>\n",
       "    <tr>\n",
       "      <th>80272</th>\n",
       "      <td>0.0</td>\n",
       "      <td>Não</td>\n",
       "      <td>Não</td>\n",
       "      <td>Não</td>\n",
       "      <td>Não</td>\n",
       "      <td>Sim</td>\n",
       "      <td>Em tratamento domiciliar</td>\n",
       "    </tr>\n",
       "    <tr>\n",
       "      <th>80273</th>\n",
       "      <td>0.0</td>\n",
       "      <td>Não</td>\n",
       "      <td>Não</td>\n",
       "      <td>Não</td>\n",
       "      <td>Não</td>\n",
       "      <td>Sim</td>\n",
       "      <td>Em tratamento domiciliar</td>\n",
       "    </tr>\n",
       "  </tbody>\n",
       "</table>\n",
       "</div>"
      ],
      "text/plain": [
       "       _idade _sintoma_garganta _sintoma_dispneia _sintoma_febre  \\\n",
       "80245    46.0               Sim               Não            Sim   \n",
       "80263     1.0               Não               Não            Não   \n",
       "80271    10.0               Não               Não            Não   \n",
       "80272     0.0               Não               Não            Não   \n",
       "80273     0.0               Não               Não            Não   \n",
       "\n",
       "      _sintoma_tosse _sintoma_outros                 _evolução  \n",
       "80245            Sim             Sim  Em tratamento domiciliar  \n",
       "80263            Não             Sim  Em tratamento domiciliar  \n",
       "80271            Não             Sim  Em tratamento domiciliar  \n",
       "80272            Não             Sim  Em tratamento domiciliar  \n",
       "80273            Não             Sim  Em tratamento domiciliar  "
      ]
     },
     "execution_count": 55,
     "metadata": {},
     "output_type": "execute_result"
    }
   ],
   "source": [
    "df_class = df[['_idade', '_sintoma_garganta',\n",
    "       '_sintoma_dispneia', '_sintoma_febre', '_sintoma_tosse',\n",
    "       '_sintoma_outros', '_evolução']].dropna()\n",
    "df_class.head()"
   ]
  },
  {
   "cell_type": "raw",
   "metadata": {},
   "source": [
    "Atributos preditores: sintomas e idade\n",
    "Atributo alvo: '_evolução':('Internado', 'Internado em UTI', 'Em tratamento domiciliar')\n",
    "Por tratar-se de uma tarefa de classificação, acurácia, precisão, recall, f1-score seriam métricas apropriadas para análise de desempenho.\n",
    "K-fold cross-validation seria o ideal"
   ]
  },
  {
   "cell_type": "markdown",
   "metadata": {},
   "source": [
    "#### 2 - Uma tarefa de regressão mediante Aprendizado Supervisionado que poderia ser feita com esta base de dados. Qual seria o atributo-alvo? Quais atributos preditores a equipe considera relevantes para o cenário?"
   ]
  },
  {
   "cell_type": "raw",
   "metadata": {},
   "source": [
    "Uma previsão de série temporal seria possível para tentar prever a curva de casos ao longo do tempo na pademia.\n",
    "O atributo-alvo seria a quantidade de casos por dia.\n",
    "Seria necessário remodelar as datas de notificação para representarem dias após primeiro contágio e contabilizar a quantidade de novos casos por dia\n",
    "O único atributo preditor seria n dias após a primeira data de notificação."
   ]
  },
  {
   "cell_type": "markdown",
   "metadata": {},
   "source": [
    "#### 3 - Bônus: Qual tarefa de Aprendizado Não-Supervisionado poderia ser concebida neste contexto?"
   ]
  },
  {
   "cell_type": "raw",
   "metadata": {},
   "source": [
    "Separação entre grupo de risco e não a partir de idade e comorbidades.\n",
    "A ideia seria utilizar os casos de óbitos do dataset para treinar esse modelo"
   ]
  },
  {
   "cell_type": "code",
   "execution_count": 56,
   "metadata": {},
   "outputs": [],
   "source": [
    "df_unsup = df[['_idade', '_comorb_renal', '_comorb_diabetes', '_comorb_imuno', '_comorb_cardio','_comorb_respiratoria', '_conclusao']].dropna()"
   ]
  },
  {
   "cell_type": "code",
   "execution_count": 57,
   "metadata": {},
   "outputs": [],
   "source": [
    "X = df_unsup[['_idade', '_comorb_renal', '_comorb_diabetes', '_comorb_imuno', '_comorb_cardio','_comorb_respiratoria']]\n",
    "Y = df_unsup[['_conclusao']]\n",
    "X['_comorb_renal'] = pd.Series(np.where(X._comorb_renal.values == 'Sim', 1, 0),\n",
    "          X.index)\n",
    "X['_comorb_diabetes'] = pd.Series(np.where(X._comorb_diabetes.values == 'Sim', 1, 0),\n",
    "          X.index)\n",
    "X['_comorb_imuno'] = pd.Series(np.where(X._comorb_imuno.values == 'Sim', 1, 0),\n",
    "          X.index)\n",
    "X['_comorb_cardio'] = pd.Series(np.where(X._comorb_cardio.values == 'Sim', 1, 0),\n",
    "          X.index)\n",
    "X['_comorb_respiratoria'] = pd.Series(np.where(X._comorb_respiratoria.values == 'Sim', 1, 0),\n",
    "          X.index)\n",
    "Y['_conclusao'] = pd.Series(np.where(Y._conclusao.values == 'Recuperado', 1, 0),\n",
    "          X.index)"
   ]
  },
  {
   "cell_type": "code",
   "execution_count": 58,
   "metadata": {},
   "outputs": [
    {
     "data": {
      "text/html": [
       "<div>\n",
       "<style scoped>\n",
       "    .dataframe tbody tr th:only-of-type {\n",
       "        vertical-align: middle;\n",
       "    }\n",
       "\n",
       "    .dataframe tbody tr th {\n",
       "        vertical-align: top;\n",
       "    }\n",
       "\n",
       "    .dataframe thead th {\n",
       "        text-align: right;\n",
       "    }\n",
       "</style>\n",
       "<table border=\"1\" class=\"dataframe\">\n",
       "  <thead>\n",
       "    <tr style=\"text-align: right;\">\n",
       "      <th></th>\n",
       "      <th>_idade</th>\n",
       "      <th>_comorb_renal</th>\n",
       "      <th>_comorb_diabetes</th>\n",
       "      <th>_comorb_imuno</th>\n",
       "      <th>_comorb_cardio</th>\n",
       "      <th>_comorb_respiratoria</th>\n",
       "    </tr>\n",
       "  </thead>\n",
       "  <tbody>\n",
       "    <tr>\n",
       "      <th>680</th>\n",
       "      <td>25.0</td>\n",
       "      <td>0</td>\n",
       "      <td>0</td>\n",
       "      <td>0</td>\n",
       "      <td>0</td>\n",
       "      <td>0</td>\n",
       "    </tr>\n",
       "    <tr>\n",
       "      <th>681</th>\n",
       "      <td>41.0</td>\n",
       "      <td>0</td>\n",
       "      <td>0</td>\n",
       "      <td>0</td>\n",
       "      <td>0</td>\n",
       "      <td>0</td>\n",
       "    </tr>\n",
       "    <tr>\n",
       "      <th>67519</th>\n",
       "      <td>40.0</td>\n",
       "      <td>0</td>\n",
       "      <td>0</td>\n",
       "      <td>0</td>\n",
       "      <td>0</td>\n",
       "      <td>0</td>\n",
       "    </tr>\n",
       "    <tr>\n",
       "      <th>67523</th>\n",
       "      <td>50.0</td>\n",
       "      <td>0</td>\n",
       "      <td>0</td>\n",
       "      <td>0</td>\n",
       "      <td>0</td>\n",
       "      <td>0</td>\n",
       "    </tr>\n",
       "    <tr>\n",
       "      <th>67540</th>\n",
       "      <td>30.0</td>\n",
       "      <td>0</td>\n",
       "      <td>0</td>\n",
       "      <td>0</td>\n",
       "      <td>0</td>\n",
       "      <td>0</td>\n",
       "    </tr>\n",
       "  </tbody>\n",
       "</table>\n",
       "</div>"
      ],
      "text/plain": [
       "       _idade  _comorb_renal  _comorb_diabetes  _comorb_imuno  _comorb_cardio  \\\n",
       "680      25.0              0                 0              0               0   \n",
       "681      41.0              0                 0              0               0   \n",
       "67519    40.0              0                 0              0               0   \n",
       "67523    50.0              0                 0              0               0   \n",
       "67540    30.0              0                 0              0               0   \n",
       "\n",
       "       _comorb_respiratoria  \n",
       "680                       0  \n",
       "681                       0  \n",
       "67519                     0  \n",
       "67523                     0  \n",
       "67540                     0  "
      ]
     },
     "execution_count": 58,
     "metadata": {},
     "output_type": "execute_result"
    }
   ],
   "source": [
    "X.head()"
   ]
  },
  {
   "cell_type": "code",
   "execution_count": 59,
   "metadata": {},
   "outputs": [
    {
     "data": {
      "text/html": [
       "<div>\n",
       "<style scoped>\n",
       "    .dataframe tbody tr th:only-of-type {\n",
       "        vertical-align: middle;\n",
       "    }\n",
       "\n",
       "    .dataframe tbody tr th {\n",
       "        vertical-align: top;\n",
       "    }\n",
       "\n",
       "    .dataframe thead th {\n",
       "        text-align: right;\n",
       "    }\n",
       "</style>\n",
       "<table border=\"1\" class=\"dataframe\">\n",
       "  <thead>\n",
       "    <tr style=\"text-align: right;\">\n",
       "      <th></th>\n",
       "      <th>_conclusao</th>\n",
       "    </tr>\n",
       "  </thead>\n",
       "  <tbody>\n",
       "    <tr>\n",
       "      <th>680</th>\n",
       "      <td>1</td>\n",
       "    </tr>\n",
       "    <tr>\n",
       "      <th>681</th>\n",
       "      <td>1</td>\n",
       "    </tr>\n",
       "    <tr>\n",
       "      <th>67519</th>\n",
       "      <td>1</td>\n",
       "    </tr>\n",
       "    <tr>\n",
       "      <th>67523</th>\n",
       "      <td>1</td>\n",
       "    </tr>\n",
       "    <tr>\n",
       "      <th>67540</th>\n",
       "      <td>1</td>\n",
       "    </tr>\n",
       "  </tbody>\n",
       "</table>\n",
       "</div>"
      ],
      "text/plain": [
       "       _conclusao\n",
       "680             1\n",
       "681             1\n",
       "67519           1\n",
       "67523           1\n",
       "67540           1"
      ]
     },
     "execution_count": 59,
     "metadata": {},
     "output_type": "execute_result"
    }
   ],
   "source": [
    "Y.head()"
   ]
  }
 ],
 "metadata": {
  "kernelspec": {
   "display_name": "Python 3",
   "language": "python",
   "name": "python3"
  },
  "language_info": {
   "codemirror_mode": {
    "name": "ipython",
    "version": 3
   },
   "file_extension": ".py",
   "mimetype": "text/x-python",
   "name": "python",
   "nbconvert_exporter": "python",
   "pygments_lexer": "ipython3",
   "version": "3.7.4"
  }
 },
 "nbformat": 4,
 "nbformat_minor": 4
}
